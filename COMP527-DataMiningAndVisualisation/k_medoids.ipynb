{
  "nbformat": 4,
  "nbformat_minor": 5,
  "metadata": {
    "kernelspec": {
      "display_name": "Python 3",
      "language": "python",
      "name": "python3"
    },
    "language_info": {
      "codemirror_mode": {
        "name": "ipython",
        "version": 3
      },
      "file_extension": ".py",
      "mimetype": "text/x-python",
      "name": "python",
      "nbconvert_exporter": "python",
      "pygments_lexer": "ipython3",
      "version": "3.9.2"
    },
    "colab": {
      "name": "k-medoids.ipynb",
      "provenance": [],
      "include_colab_link": true
    }
  },
  "cells": [
    {
      "cell_type": "markdown",
      "metadata": {
        "id": "view-in-github",
        "colab_type": "text"
      },
      "source": [
        "<a href=\"https://colab.research.google.com/github/StephenTGibson/MScDataSci_21-22/blob/main/COMP527-DataMiningAndVisualisation/k_medoids.ipynb\" target=\"_parent\"><img src=\"https://colab.research.google.com/assets/colab-badge.svg\" alt=\"Open In Colab\"/></a>"
      ]
    },
    {
      "cell_type": "markdown",
      "metadata": {
        "id": "palestinian-embassy"
      },
      "source": [
        "# Clustering: k-Medoids"
      ],
      "id": "palestinian-embassy"
    },
    {
      "cell_type": "markdown",
      "metadata": {
        "tags": [],
        "id": "adjacent-irrigation"
      },
      "source": [
        "In this lab tasks we implement k-Medoids algorithm."
      ],
      "id": "adjacent-irrigation"
    },
    {
      "cell_type": "code",
      "metadata": {
        "id": "complimentary-sleeve"
      },
      "source": [
        "import numpy as np\n",
        "import matplotlib.pyplot as plt"
      ],
      "id": "complimentary-sleeve",
      "execution_count": null,
      "outputs": []
    },
    {
      "cell_type": "markdown",
      "metadata": {
        "id": "hungarian-protocol"
      },
      "source": [
        "We start with generating synthetic dataset consisting of four clusters."
      ],
      "id": "hungarian-protocol"
    },
    {
      "cell_type": "code",
      "metadata": {
        "tags": [],
        "id": "narrative-mustang"
      },
      "source": [
        "N = 100\n",
        "\n",
        "#Generate dataset\n",
        "np.random.seed(844)\n",
        "clust1 = np.random.normal(5, 2, (N,2))\n",
        "clust2 = np.random.normal(15, 2, (N,2))\n",
        "clust3 = np.random.multivariate_normal([17,3], [[1,0],[0,1]], N)\n",
        "clust4 = np.random.multivariate_normal([2,16], [[1,0],[0,1]], N)\n",
        "dataset = np.concatenate((clust1, clust2, clust3, clust4))\n",
        "\n",
        "#Create an array that stores cluster IDs of every object in our dataset\n",
        "#We will use the index of a medoid as a cluster ID\n",
        "clusters = np.zeros((len(dataset),1))"
      ],
      "id": "narrative-mustang",
      "execution_count": null,
      "outputs": []
    },
    {
      "cell_type": "code",
      "metadata": {
        "id": "included-penguin"
      },
      "source": [
        "def cluster_plots(dataset, medoidInd=[], colours = 'gray', title = 'Dataset'):\n",
        "    fig,ax = plt.subplots()\n",
        "    fig.set_size_inches(12, 12)\n",
        "    ax.set_title(title,fontsize=14)\n",
        "    ax.set_xlim(min(dataset[:,0]), max(dataset[:,0]))\n",
        "    ax.set_ylim(min(dataset[:,1]), max(dataset[:,1]))\n",
        "    ax.scatter(dataset[:, 0], dataset[:, 1],s=8,lw=1,c= colours)\n",
        "\n",
        "    #Plot medoids if they are given\n",
        "    if len(medoidInd) > 0:\n",
        "        ax.scatter(dataset[medoidInd, 0], dataset[medoidInd, 1],s=8,lw=6,c='red')\n",
        "    fig.tight_layout()\n",
        "    plt.show()"
      ],
      "id": "included-penguin",
      "execution_count": null,
      "outputs": []
    },
    {
      "cell_type": "markdown",
      "metadata": {
        "id": "tracked-calculation"
      },
      "source": [
        "Let's plot our dataset"
      ],
      "id": "tracked-calculation"
    },
    {
      "cell_type": "code",
      "metadata": {
        "id": "regulation-hollow"
      },
      "source": [
        "cluster_plots(dataset, colours=clusters, title='Unclustered data')"
      ],
      "id": "regulation-hollow",
      "execution_count": null,
      "outputs": []
    },
    {
      "cell_type": "markdown",
      "metadata": {
        "id": "trained-westminster"
      },
      "source": [
        "## Exercise 1"
      ],
      "id": "trained-westminster"
    },
    {
      "cell_type": "markdown",
      "metadata": {
        "id": "legitimate-forum"
      },
      "source": [
        "Implement k-medoids algorithm. Use the Euclidean distance as the dissimilarity measure."
      ],
      "id": "legitimate-forum"
    },
    {
      "cell_type": "code",
      "metadata": {
        "id": "simplified-triple"
      },
      "source": [
        ""
      ],
      "id": "simplified-triple",
      "execution_count": null,
      "outputs": []
    },
    {
      "cell_type": "markdown",
      "metadata": {
        "tags": [],
        "id": "welcome-vietnam"
      },
      "source": [
        "## Exercise 2"
      ],
      "id": "welcome-vietnam"
    },
    {
      "cell_type": "markdown",
      "metadata": {
        "tags": [],
        "id": "american-quilt"
      },
      "source": [
        "1. Apply the implemented k-medoids algorithm to the generated dataset with the parameter k=4.\n",
        "2. For every iteration of the algorithm  \n",
        "    - output the current value of the objective function\n",
        "    - output the indices of the current medoid objects\n",
        "    - plot the clustering together with medoids"
      ],
      "id": "american-quilt"
    },
    {
      "cell_type": "code",
      "metadata": {
        "id": "academic-provision"
      },
      "source": [
        ""
      ],
      "id": "academic-provision",
      "execution_count": null,
      "outputs": []
    }
  ]
}