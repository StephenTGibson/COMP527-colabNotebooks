{
  "nbformat": 4,
  "nbformat_minor": 5,
  "metadata": {
    "kernelspec": {
      "display_name": "Python 3",
      "language": "python",
      "name": "python3"
    },
    "language_info": {
      "codemirror_mode": {
        "name": "ipython",
        "version": 3
      },
      "file_extension": ".py",
      "mimetype": "text/x-python",
      "name": "python",
      "nbconvert_exporter": "python",
      "pygments_lexer": "ipython3",
      "version": "3.9.2"
    },
    "colab": {
      "name": "k-medoids.ipynb",
      "provenance": [],
      "include_colab_link": true
    }
  },
  "cells": [
    {
      "cell_type": "markdown",
      "metadata": {
        "id": "view-in-github",
        "colab_type": "text"
      },
      "source": [
        "<a href=\"https://colab.research.google.com/github/StephenTGibson/MScDataSci_21-22/blob/main/COMP527-DataMiningAndVisualisation/k_medoids.ipynb\" target=\"_parent\"><img src=\"https://colab.research.google.com/assets/colab-badge.svg\" alt=\"Open In Colab\"/></a>"
      ]
    },
    {
      "cell_type": "markdown",
      "metadata": {
        "id": "palestinian-embassy"
      },
      "source": [
        "# Clustering: k-Medoids"
      ],
      "id": "palestinian-embassy"
    },
    {
      "cell_type": "markdown",
      "metadata": {
        "tags": [],
        "id": "adjacent-irrigation"
      },
      "source": [
        "In this lab tasks we implement k-Medoids algorithm."
      ],
      "id": "adjacent-irrigation"
    },
    {
      "cell_type": "code",
      "metadata": {
        "id": "complimentary-sleeve"
      },
      "source": [
        "import numpy as np\n",
        "import matplotlib.pyplot as plt"
      ],
      "id": "complimentary-sleeve",
      "execution_count": 1,
      "outputs": []
    },
    {
      "cell_type": "markdown",
      "metadata": {
        "id": "hungarian-protocol"
      },
      "source": [
        "We start with generating synthetic dataset consisting of four clusters."
      ],
      "id": "hungarian-protocol"
    },
    {
      "cell_type": "code",
      "metadata": {
        "tags": [],
        "id": "narrative-mustang"
      },
      "source": [
        "N = 100\n",
        "\n",
        "#Generate dataset\n",
        "np.random.seed(844)\n",
        "clust1 = np.random.normal(5, 2, (N,2))\n",
        "clust2 = np.random.normal(15, 2, (N,2))\n",
        "clust3 = np.random.multivariate_normal([17,3], [[1,0],[0,1]], N)\n",
        "clust4 = np.random.multivariate_normal([2,16], [[1,0],[0,1]], N)\n",
        "dataset = np.concatenate((clust1, clust2, clust3, clust4))\n",
        "\n",
        "#Create an array that stores cluster IDs of every object in our dataset\n",
        "#We will use the index of a medoid as a cluster ID\n",
        "clusters = np.zeros((len(dataset)))"
      ],
      "id": "narrative-mustang",
      "execution_count": 53,
      "outputs": []
    },
    {
      "cell_type": "code",
      "source": [
        "dataset.shape"
      ],
      "metadata": {
        "id": "GxISW0kzXZU3",
        "outputId": "03cfb796-b28e-498e-cc75-04c9ce1aae32",
        "colab": {
          "base_uri": "https://localhost:8080/"
        }
      },
      "id": "GxISW0kzXZU3",
      "execution_count": 7,
      "outputs": [
        {
          "output_type": "execute_result",
          "data": {
            "text/plain": [
              "(400, 2)"
            ]
          },
          "metadata": {},
          "execution_count": 7
        }
      ]
    },
    {
      "cell_type": "code",
      "metadata": {
        "id": "included-penguin"
      },
      "source": [
        "def cluster_plots(dataset, medoidInd=[], colours = 'gray', title = 'Dataset'):\n",
        "    fig,ax = plt.subplots(figsize=(4,4))\n",
        "    #fig.set_size_inches(12, 12)\n",
        "    ax.set_title(title,fontsize=14)\n",
        "    ax.set_xlim(min(dataset[:,0]), max(dataset[:,0]))\n",
        "    ax.set_ylim(min(dataset[:,1]), max(dataset[:,1]))\n",
        "    ax.scatter(dataset[:, 0], dataset[:, 1],s=8,lw=1,c= colours)\n",
        "\n",
        "    #Plot medoids if they are given\n",
        "    if len(medoidInd) > 0:\n",
        "        ax.scatter(dataset[medoidInd, 0], dataset[medoidInd, 1],s=8,lw=6,c='red')\n",
        "    fig.tight_layout()\n",
        "    plt.show()"
      ],
      "id": "included-penguin",
      "execution_count": 54,
      "outputs": []
    },
    {
      "cell_type": "markdown",
      "metadata": {
        "id": "tracked-calculation"
      },
      "source": [
        "Let's plot our dataset"
      ],
      "id": "tracked-calculation"
    },
    {
      "cell_type": "code",
      "source": [
        "medoidTest = np.array([1,2,3])"
      ],
      "metadata": {
        "id": "6kYzwR2RZeMD"
      },
      "id": "6kYzwR2RZeMD",
      "execution_count": 21,
      "outputs": []
    },
    {
      "cell_type": "code",
      "metadata": {
        "id": "regulation-hollow",
        "colab": {
          "base_uri": "https://localhost:8080/",
          "height": 297
        },
        "outputId": "b91ae48d-1aab-4f67-ac84-082ddffd2197"
      },
      "source": [
        "cluster_plots(dataset, medoidInd=medoidTest, colours=clusters, title='Unclustered data')"
      ],
      "id": "regulation-hollow",
      "execution_count": 55,
      "outputs": [
        {
          "output_type": "display_data",
          "data": {
            "text/plain": [
              "<Figure size 288x288 with 1 Axes>"
            ],
            "image/png": "[encoded data removed]"
          },
          "metadata": {
            "needs_background": "light"
          }
        }
      ]
    },
    {
      "cell_type": "markdown",
      "metadata": {
        "id": "trained-westminster"
      },
      "source": [
        "## Exercise 1"
      ],
      "id": "trained-westminster"
    },
    {
      "cell_type": "markdown",
      "metadata": {
        "id": "legitimate-forum"
      },
      "source": [
        "Implement k-medoids algorithm. Use the Euclidean distance as the dissimilarity measure."
      ],
      "id": "legitimate-forum"
    },
    {
      "cell_type": "code",
      "source": [
        "# Assignment - all objects to closest medoid"
      ],
      "metadata": {
        "id": "ScVxL49Xcu-D"
      },
      "id": "ScVxL49Xcu-D",
      "execution_count": 25,
      "outputs": []
    },
    {
      "cell_type": "code",
      "source": [
        "def dissimilarityComputer(obj1, obj2): # Euclidean\n",
        "\n",
        "  return np.sqrt((obj1[0]-obj2[0])**2 + (obj1[1]-obj2[1])**2)"
      ],
      "metadata": {
        "id": "8zWBr2coc-8Q"
      },
      "id": "8zWBr2coc-8Q",
      "execution_count": 34,
      "outputs": []
    },
    {
      "cell_type": "code",
      "source": [
        "def clusterIdentifier(objectFeatures, medoids):\n",
        "\n",
        "  distances = []\n",
        "\n",
        "  for medoid in medoids:\n",
        "\n",
        "    distances.append(dissimilarityComputer(objectFeatures, dataset[medoid]))\n",
        "\n",
        "  return medoids[distances.index(min(distances))]"
      ],
      "metadata": {
        "id": "FVlxS7sCdLjX"
      },
      "id": "FVlxS7sCdLjX",
      "execution_count": 35,
      "outputs": []
    },
    {
      "cell_type": "code",
      "source": [
        "def objectClusterAssigner(dataset, clusters, medoids):\n",
        "\n",
        "  for objectIdx in range(dataset.shape[0]):\n",
        "\n",
        "    #if objectIdx not in medoids:\n",
        "\n",
        "    clusters[objectIdx] = clusterIdentifier(dataset[objectIdx], medoids)\n",
        "\n",
        "  return clusters.astype(int)"
      ],
      "metadata": {
        "id": "61Yosa8Rdxis"
      },
      "id": "61Yosa8Rdxis",
      "execution_count": 64,
      "outputs": []
    },
    {
      "cell_type": "code",
      "source": [
        "# Initialisation: choose k random objects\n",
        "k = 5\n",
        "medoids = np.random.choice(dataset.shape[0], k).astype(int)\n",
        "medoids\n",
        "\n",
        "# Assignment\n",
        "clusters = objectClusterAssigner(dataset, clusters, medoids)\n",
        "\n"
      ],
      "metadata": {
        "id": "hnu4JTeCiKmz"
      },
      "id": "hnu4JTeCiKmz",
      "execution_count": 60,
      "outputs": []
    },
    {
      "cell_type": "code",
      "source": [
        "clusters[:5]"
      ],
      "metadata": {
        "id": "t5ci5XYSpSk_",
        "outputId": "92747d4e-59ce-4b6f-8f69-8908a6db62f8",
        "colab": {
          "base_uri": "https://localhost:8080/"
        }
      },
      "id": "t5ci5XYSpSk_",
      "execution_count": 61,
      "outputs": [
        {
          "output_type": "execute_result",
          "data": {
            "text/plain": [
              "array([377, 224, 377, 377, 377])"
            ]
          },
          "metadata": {},
          "execution_count": 61
        }
      ]
    },
    {
      "cell_type": "code",
      "source": [
        "def objectiveScorer(dataset, clusters):\n",
        "\n",
        "  objectiveScore = 0\n",
        "\n",
        "  for objectIdx in range(dataset.shape[0]):\n",
        "    \n",
        "    objectiveScore += dissimilarityComputer(dataset[objectIdx], dataset[clusters[objectIdx]])\n",
        "\n",
        "  return objectiveScore"
      ],
      "metadata": {
        "id": "RmMY9ZOgnyCH"
      },
      "id": "RmMY9ZOgnyCH",
      "execution_count": 62,
      "outputs": []
    },
    {
      "cell_type": "code",
      "source": [
        "objectiveScorer(dataset, clusters)"
      ],
      "metadata": {
        "id": "giHRcxPxo4hY",
        "outputId": "9fe3ab84-1b44-49e6-90b6-9a82a0f10dc9",
        "colab": {
          "base_uri": "https://localhost:8080/"
        }
      },
      "id": "giHRcxPxo4hY",
      "execution_count": 63,
      "outputs": [
        {
          "output_type": "execute_result",
          "data": {
            "text/plain": [
              "1626.4675995345265"
            ]
          },
          "metadata": {},
          "execution_count": 63
        }
      ]
    },
    {
      "cell_type": "code",
      "source": [
        "# loop over medoids\n",
        "for medoidIdx in range(medoids.shape[0]):\n",
        "\n",
        "  scores = []\n",
        "  # loop over objects\n",
        "  for objectIdx in range(dataset.shape[0]):\n",
        "\n",
        "    medoidsTest = medoids.copy()\n",
        "    # replace update medoid to be current object\n",
        "    medoidsTest[medoidIdx] = objectIdx\n",
        "\n",
        "    # assign objects to clusters using new test medoid\n",
        "    clustersTest = objectClusterAssigner(dataset, clusters, medoidsTest)\n",
        "\n",
        "    # compute objective func\n",
        "    score = objectiveScorer(dataset, clustersTest)\n",
        "    # store\n",
        "    scores.append(score)\n",
        "\n",
        "  # get best objective func\n",
        "  best = min(scores)\n",
        "\n",
        "  # if best obj func better than current\n",
        "  if best < objectiveScorer(dataset, clusters):\n",
        "\n",
        "    # replace medoid with object giving best obj func\n",
        "    medoids[medoidIdx] = scores.index(best)"
      ],
      "metadata": {
        "id": "YE9jECxWmJNq"
      },
      "id": "YE9jECxWmJNq",
      "execution_count": null,
      "outputs": []
    },
    {
      "cell_type": "code",
      "source": [
        "# optimise\n",
        "def it"
      ],
      "metadata": {
        "id": "OzsCIODYmA4b"
      },
      "id": "OzsCIODYmA4b",
      "execution_count": null,
      "outputs": []
    },
    {
      "cell_type": "markdown",
      "source": [
        "k-MedoidsClustering (Number of clusters: , Dataset: ) \n",
        "1. Initialisation phase \n",
        "Choose  cluster representatives (medoids)  from the dataset randomly \n",
        "2. Assignment phase \n",
        "Assign all objects in the dataset to the closest representative. The resulting clusters:  \n",
        "3. Optimisation phase (hill-climbing step) \n",
        "1. Find a pair , where  and  such that \n",
        "2. Replacing  with  in the set of representatives leads to the greatest possible improvement in the objective function \n",
        "3. If improvement is positive then replace  with  and go to phase 2. Otherwise return current \n",
        "clusters "
      ],
      "metadata": {
        "id": "j__GvQ2iY5rU"
      },
      "id": "j__GvQ2iY5rU"
    },
    {
      "cell_type": "markdown",
      "metadata": {
        "tags": [],
        "id": "welcome-vietnam"
      },
      "source": [
        "## Exercise 2"
      ],
      "id": "welcome-vietnam"
    },
    {
      "cell_type": "markdown",
      "metadata": {
        "tags": [],
        "id": "american-quilt"
      },
      "source": [
        "1. Apply the implemented k-medoids algorithm to the generated dataset with the parameter k=4.\n",
        "2. For every iteration of the algorithm  \n",
        "    - output the current value of the objective function\n",
        "    - output the indices of the current medoid objects\n",
        "    - plot the clustering together with medoids"
      ],
      "id": "american-quilt"
    },
    {
      "cell_type": "code",
      "metadata": {
        "id": "academic-provision"
      },
      "source": [
        ""
      ],
      "id": "academic-provision",
      "execution_count": null,
      "outputs": []
    }
  ]
}