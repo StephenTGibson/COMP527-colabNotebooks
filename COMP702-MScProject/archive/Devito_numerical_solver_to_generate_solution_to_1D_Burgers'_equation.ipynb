{
  "cells": [
    {
      "cell_type": "markdown",
      "metadata": {
        "id": "view-in-github",
        "colab_type": "text"
      },
      "source": [
        "<a href=\"https://colab.research.google.com/github/StephenTGibson/MScDataSci_21-22/blob/main/COMP702-MScProject/Devito_numerical_solver_to_generate_solution_to_1D_Burgers'_equation.ipynb\" target=\"_parent\"><img src=\"https://colab.research.google.com/assets/colab-badge.svg\" alt=\"Open In Colab\"/></a>"
      ]
    },
    {
      "cell_type": "markdown",
      "source": [
        "https://www.devitoproject.org/devito/index.html"
      ],
      "metadata": {
        "id": "LG59ozhwnHBQ"
      }
    },
    {
      "cell_type": "code",
      "source": [
        "# install devito\n",
        "!pip install devito &> /dev/null"
      ],
      "metadata": {
        "id": "ek7yygkGgS_x"
      },
      "execution_count": 1,
      "outputs": []
    },
    {
      "cell_type": "code",
      "source": [
        "# import libraries and tools\n",
        "import numpy as np\n",
        "\n",
        "from time import perf_counter\n",
        "\n",
        "import matplotlib.pyplot as plt\n",
        "from matplotlib.gridspec import GridSpec\n",
        "\n",
        "from devito import Grid, TimeFunction, Operator, Constant, Eq, solve, first_derivative, left"
      ],
      "metadata": {
        "id": "CLnLAzyrg2LV"
      },
      "execution_count": 2,
      "outputs": []
    },
    {
      "cell_type": "code",
      "execution_count": 3,
      "metadata": {
        "id": "N0JR8AyhgMdt"
      },
      "outputs": [],
      "source": [
        "# define viscosity\n",
        "nu = 0.01/np.pi"
      ]
    },
    {
      "cell_type": "code",
      "source": [
        "# define discretisation\n",
        "\n",
        "# extent x direction\n",
        "X = 2.0\n",
        "# number of x grid points\n",
        "nx = 1001\n",
        "# x direction step size\n",
        "dx = X / (nx - 1)\n",
        "\n",
        "# time extent (total duration)\n",
        "T = 1 \n",
        "# time step\n",
        "dt = 1e-4\n",
        "# number of time points\n",
        "nt = int((T / dt) + 1)"
      ],
      "metadata": {
        "id": "dv7rI1UuoG4L"
      },
      "execution_count": 4,
      "outputs": []
    },
    {
      "cell_type": "code",
      "execution_count": 5,
      "metadata": {
        "id": "t2WYrar6gMd1"
      },
      "outputs": [],
      "source": [
        "# create 1D grid and assign dimension variable names\n",
        "grid = Grid(shape=(nx), extent=(X))\n",
        "\n",
        "x = grid.dimensions\n",
        "t = grid.stepping_dim"
      ]
    },
    {
      "cell_type": "code",
      "source": [
        "# create time function on grid\n",
        "# space order of 2 to enable 2nd derivative\n",
        "u = TimeFunction(name='u', grid=grid, space_order=2)"
      ],
      "metadata": {
        "id": "K4IxVnInhUNL"
      },
      "execution_count": 6,
      "outputs": []
    },
    {
      "cell_type": "code",
      "source": [
        "# create constant (viscosity)\n",
        "a = Constant(name='a')\n",
        "# define 1D Burgers' equation\n",
        "equation_u = Eq(u.dt + u*u.dxl, a*u.dx2)\n",
        "equation_u"
      ],
      "metadata": {
        "id": "cc-bazPyh19a",
        "colab": {
          "base_uri": "https://localhost:8080/",
          "height": 54
        },
        "outputId": "3f80259e-1e6e-4dec-efb2-9e8a02b9c7de"
      },
      "execution_count": 7,
      "outputs": [
        {
          "output_type": "execute_result",
          "data": {
            "text/plain": [
              "Eq(u(t, x)*Derivative(u(t, x), x) + Derivative(u(t, x), t), a*Derivative(u(t, x), (x, 2)))"
            ],
            "text/latex": "$\\displaystyle u{\\left(t,x \\right)} \\frac{\\partial}{\\partial x} u{\\left(t,x \\right)} + \\frac{\\partial}{\\partial t} u{\\left(t,x \\right)} = a \\frac{\\partial^{2}}{\\partial x^{2}} u{\\left(t,x \\right)}$"
          },
          "metadata": {},
          "execution_count": 7
        }
      ]
    },
    {
      "cell_type": "code",
      "source": [
        "# create stencil by solving for next time step\n",
        "stencil_u = solve(equation_u, u.forward)\n",
        "stencil_u"
      ],
      "metadata": {
        "id": "BVw5sKDYirVG",
        "colab": {
          "base_uri": "https://localhost:8080/",
          "height": 58
        },
        "outputId": "fbc5ee3c-19d2-43d8-afb9-70b53b31e281"
      },
      "execution_count": 8,
      "outputs": [
        {
          "output_type": "execute_result",
          "data": {
            "text/plain": [
              "dt*(a*Derivative(u(t, x), (x, 2)) - u(t, x)*Derivative(u(t, x), x) + u(t, x)/dt)"
            ],
            "text/latex": "$\\displaystyle dt \\left(a \\frac{\\partial^{2}}{\\partial x^{2}} u{\\left(t,x \\right)} - u{\\left(t,x \\right)} \\frac{\\partial}{\\partial x} u{\\left(t,x \\right)} + \\frac{u{\\left(t,x \\right)}}{dt}\\right)$"
          },
          "metadata": {},
          "execution_count": 8
        }
      ]
    },
    {
      "cell_type": "code",
      "source": [
        "# define equation for next time step\n",
        "update_u = Eq(u.forward, stencil_u)\n",
        "update_u"
      ],
      "metadata": {
        "id": "R9v7N_vdiyg9",
        "colab": {
          "base_uri": "https://localhost:8080/",
          "height": 58
        },
        "outputId": "9106db93-0a38-4c3e-baa7-4b29a780cada"
      },
      "execution_count": 9,
      "outputs": [
        {
          "output_type": "execute_result",
          "data": {
            "text/plain": [
              "Eq(u(t + dt, x), dt*(a*Derivative(u(t, x), (x, 2)) - u(t, x)*Derivative(u(t, x), x) + u(t, x)/dt))"
            ],
            "text/latex": "$\\displaystyle u{\\left(t + dt,x \\right)} = dt \\left(a \\frac{\\partial^{2}}{\\partial x^{2}} u{\\left(t,x \\right)} - u{\\left(t,x \\right)} \\frac{\\partial}{\\partial x} u{\\left(t,x \\right)} + \\frac{u{\\left(t,x \\right)}}{dt}\\right)$"
          },
          "metadata": {},
          "execution_count": 9
        }
      ]
    },
    {
      "cell_type": "code",
      "source": [
        "# define boundary conditions\n",
        "# u = 0 at min and max extent of x\n",
        "boundaryConditions = [Eq(u[t+1, 0], 0.)]\n",
        "boundaryConditions += [Eq(u[t+1, nx], 0.)]"
      ],
      "metadata": {
        "id": "PuAWtb-Li39x"
      },
      "execution_count": 10,
      "outputs": []
    },
    {
      "cell_type": "code",
      "source": [
        "# define operator based on equation and boundary conditions\n",
        "op = Operator([update_u] + boundaryConditions)"
      ],
      "metadata": {
        "id": "IGp3-XyijFb6"
      },
      "execution_count": 11,
      "outputs": []
    },
    {
      "cell_type": "code",
      "source": [
        "# set solution space to 0s\n",
        "u.data[:] = 0\n",
        "\n",
        "# create a dummy x array from -1 to +1\n",
        "dummyX = np.arange(-1, 1+dx, dx)\n",
        "\n",
        "# set initial conditions using dummy x array\n",
        "u.data[0] = -1 * np.sin(np.pi * dummyX)"
      ],
      "metadata": {
        "id": "p5ThMh_494sn"
      },
      "execution_count": 12,
      "outputs": []
    },
    {
      "cell_type": "code",
      "source": [
        "# define number of time steps to compute before storing result for plotting\n",
        "batchSize = 100\n",
        "\n",
        "# initialise empty array to store computed solution\n",
        "results = np.zeros((nx, int(nt / batchSize)))\n",
        "# store initial conditions in results array\n",
        "results[:,0] = u.data[0].copy()\n",
        "\n",
        "# log start time to measure performance\n",
        "startTime = perf_counter()\n",
        "\n",
        "# iterate over result steps\n",
        "# start from 1 not 0 as results at step 0 are the initial conditions\n",
        "for timeStep in range(1, int(nt / batchSize)):\n",
        "    # compute solution after batchSize time steps\n",
        "    summary = op.apply(time=batchSize, dt=dt, a=nu)\n",
        "    # store computed solution in results array\n",
        "    results[:,timeStep] = u.data[0].copy()\n",
        "\n",
        "# log end time to measure performance\n",
        "endTime = perf_counter()\n",
        "# print total training time\n",
        "print(f'Training duration: {(endTime-startTime):.2f}s')"
      ],
      "metadata": {
        "colab": {
          "base_uri": "https://localhost:8080/"
        },
        "collapsed": true,
        "id": "EFDWZYgcjIN_",
        "outputId": "5af57cd4-e3c2-4b17-8a1a-c2c355b28319"
      },
      "execution_count": 13,
      "outputs": [
        {
          "output_type": "stream",
          "name": "stderr",
          "text": [
            "Operator `Kernel` ran in 0.01 s\n",
            "Operator `Kernel` ran in 0.01 s\n",
            "Operator `Kernel` ran in 0.01 s\n",
            "Operator `Kernel` ran in 0.01 s\n",
            "Operator `Kernel` ran in 0.01 s\n",
            "Operator `Kernel` ran in 0.01 s\n",
            "Operator `Kernel` ran in 0.01 s\n",
            "Operator `Kernel` ran in 0.01 s\n",
            "Operator `Kernel` ran in 0.01 s\n",
            "Operator `Kernel` ran in 0.01 s\n",
            "Operator `Kernel` ran in 0.01 s\n",
            "Operator `Kernel` ran in 0.01 s\n",
            "Operator `Kernel` ran in 0.01 s\n",
            "Operator `Kernel` ran in 0.01 s\n",
            "Operator `Kernel` ran in 0.01 s\n",
            "Operator `Kernel` ran in 0.01 s\n",
            "Operator `Kernel` ran in 0.01 s\n",
            "Operator `Kernel` ran in 0.01 s\n",
            "Operator `Kernel` ran in 0.01 s\n",
            "Operator `Kernel` ran in 0.01 s\n",
            "Operator `Kernel` ran in 0.01 s\n",
            "Operator `Kernel` ran in 0.01 s\n",
            "Operator `Kernel` ran in 0.01 s\n",
            "Operator `Kernel` ran in 0.01 s\n",
            "Operator `Kernel` ran in 0.01 s\n",
            "Operator `Kernel` ran in 0.01 s\n",
            "Operator `Kernel` ran in 0.01 s\n",
            "Operator `Kernel` ran in 0.01 s\n",
            "Operator `Kernel` ran in 0.01 s\n",
            "Operator `Kernel` ran in 0.01 s\n",
            "Operator `Kernel` ran in 0.01 s\n",
            "Operator `Kernel` ran in 0.01 s\n",
            "Operator `Kernel` ran in 0.01 s\n",
            "Operator `Kernel` ran in 0.01 s\n",
            "Operator `Kernel` ran in 0.01 s\n",
            "Operator `Kernel` ran in 0.01 s\n",
            "Operator `Kernel` ran in 0.01 s\n",
            "Operator `Kernel` ran in 0.01 s\n",
            "Operator `Kernel` ran in 0.01 s\n",
            "Operator `Kernel` ran in 0.01 s\n",
            "Operator `Kernel` ran in 0.01 s\n",
            "Operator `Kernel` ran in 0.01 s\n",
            "Operator `Kernel` ran in 0.01 s\n",
            "Operator `Kernel` ran in 0.01 s\n",
            "Operator `Kernel` ran in 0.01 s\n",
            "Operator `Kernel` ran in 0.01 s\n",
            "Operator `Kernel` ran in 0.01 s\n",
            "Operator `Kernel` ran in 0.01 s\n",
            "Operator `Kernel` ran in 0.01 s\n",
            "Operator `Kernel` ran in 0.01 s\n",
            "Operator `Kernel` ran in 0.01 s\n",
            "Operator `Kernel` ran in 0.01 s\n",
            "Operator `Kernel` ran in 0.01 s\n",
            "Operator `Kernel` ran in 0.01 s\n",
            "Operator `Kernel` ran in 0.01 s\n",
            "Operator `Kernel` ran in 0.01 s\n",
            "Operator `Kernel` ran in 0.01 s\n",
            "Operator `Kernel` ran in 0.01 s\n",
            "Operator `Kernel` ran in 0.01 s\n",
            "Operator `Kernel` ran in 0.01 s\n",
            "Operator `Kernel` ran in 0.01 s\n",
            "Operator `Kernel` ran in 0.01 s\n",
            "Operator `Kernel` ran in 0.01 s\n",
            "Operator `Kernel` ran in 0.01 s\n",
            "Operator `Kernel` ran in 0.01 s\n",
            "Operator `Kernel` ran in 0.01 s\n",
            "Operator `Kernel` ran in 0.01 s\n",
            "Operator `Kernel` ran in 0.01 s\n",
            "Operator `Kernel` ran in 0.01 s\n",
            "Operator `Kernel` ran in 0.01 s\n",
            "Operator `Kernel` ran in 0.01 s\n",
            "Operator `Kernel` ran in 0.01 s\n",
            "Operator `Kernel` ran in 0.01 s\n",
            "Operator `Kernel` ran in 0.01 s\n",
            "Operator `Kernel` ran in 0.01 s\n",
            "Operator `Kernel` ran in 0.01 s\n",
            "Operator `Kernel` ran in 0.01 s\n",
            "Operator `Kernel` ran in 0.01 s\n",
            "Operator `Kernel` ran in 0.01 s\n",
            "Operator `Kernel` ran in 0.01 s\n",
            "Operator `Kernel` ran in 0.01 s\n",
            "Operator `Kernel` ran in 0.01 s\n",
            "Operator `Kernel` ran in 0.01 s\n",
            "Operator `Kernel` ran in 0.01 s\n",
            "Operator `Kernel` ran in 0.01 s\n",
            "Operator `Kernel` ran in 0.01 s\n",
            "Operator `Kernel` ran in 0.01 s\n",
            "Operator `Kernel` ran in 0.01 s\n",
            "Operator `Kernel` ran in 0.01 s\n",
            "Operator `Kernel` ran in 0.01 s\n",
            "Operator `Kernel` ran in 0.01 s\n",
            "Operator `Kernel` ran in 0.01 s\n",
            "Operator `Kernel` ran in 0.01 s\n",
            "Operator `Kernel` ran in 0.01 s\n",
            "Operator `Kernel` ran in 0.01 s\n",
            "Operator `Kernel` ran in 0.01 s\n",
            "Operator `Kernel` ran in 0.01 s\n",
            "Operator `Kernel` ran in 0.01 s\n",
            "Operator `Kernel` ran in 0.01 s\n"
          ]
        },
        {
          "output_type": "stream",
          "name": "stdout",
          "text": [
            "Training duration: 0.96s\n"
          ]
        }
      ]
    },
    {
      "cell_type": "code",
      "source": [
        "# define arrays for creating meshgrid for plotting solution results\n",
        "xPlot = np.arange(0, T, dt*batchSize)\n",
        "yPlot = np.arange(-1, 1+dx, dx)\n",
        "# create meshgrid from arrays\n",
        "X, Y = np.meshgrid(xPlot, yPlot)"
      ],
      "metadata": {
        "collapsed": true,
        "id": "WXykAaO7qIDW"
      },
      "execution_count": 14,
      "outputs": []
    },
    {
      "cell_type": "code",
      "source": [
        "# create figure using gridspec to structure subplots\n",
        "fig = plt.figure(\n",
        "    figsize=(12, 6),\n",
        "    constrained_layout=True\n",
        "    )\n",
        "gs = GridSpec(3, 20, figure=fig)\n",
        "\n",
        "# add main solution plot\n",
        "solutionAx = fig.add_subplot(gs[:2,5:15])\n",
        "solutionPlot = solutionAx.pcolormesh(X, Y, results, cmap='bwr')\n",
        "solutionAx.set_title('Solution')\n",
        "solutionAx.set_xlabel('Time, t (s)')\n",
        "solutionAx.set_ylabel('Space, x (m)')\n",
        "cbar = fig.colorbar(solutionPlot, use_gridspec=True)\n",
        "cbar.set_label('Solution, u (t, x) (m/s)')\n",
        "\n",
        "# iteratively create solution snapshot subplots\n",
        "for i in range(5):\n",
        "    tPlot = fig.add_subplot(gs[2, i*4:(i+1)*4])    \n",
        "    if i < 4:\n",
        "        tPlot.plot(Y[:, i*(Y.shape[1]//4)], results[:, i*(Y.shape[1]//4)])\n",
        "        tPlot.set_title('Time: ' + str(i*X[0, X[0].shape[0]//4]) + 's')\n",
        "        # add vertical lines to solution plot to indicate snapshots\n",
        "        solutionAx.vlines(x=i*X[0, X[0].shape[0]//4], ymin=Y[0,0], ymax=Y[-1,0], colors='black', ls='--', lw=0.5)\n",
        "    else:\n",
        "        tPlot.plot(Y[:, -1], results[:, -1])\n",
        "        tPlot.set_title('Time: ' + str(T) + 's')\n",
        "    \n",
        "    tPlot.set_ylim([-1, 1])\n",
        "    tPlot.set_xlabel('Space, x (m)')\n",
        "    if i == 0:\n",
        "        tPlot.set_ylabel('Solution, u (t, x) (m/s)')\n",
        "\n",
        "# figure title\n",
        "fig.suptitle(\"1D Burgers' equation solution generated using Devito\", fontsize=16)\n",
        "\n",
        "# fig.savefig(\"1D Burgers' - devito\", bbox_inches='tight')\n",
        "plt.show()"
      ],
      "metadata": {
        "colab": {
          "base_uri": "https://localhost:8080/",
          "height": 457
        },
        "id": "5YafILLVs1gD",
        "outputId": "1ab0d449-2487-4d1b-ed58-b08daae74a6e"
      },
      "execution_count": 15,
      "outputs": [
        {
          "output_type": "display_data",
          "data": {
            "text/plain": [
              "<Figure size 864x432 with 7 Axes>"
            ],
            "image/png": "[encoded data removed]"
          },
          "metadata": {
            "needs_background": "light"
          }
        }
      ]
    }
  ],
  "metadata": {
    "@webio": {
      "lastCommId": null,
      "lastKernelId": null
    },
    "hide_input": false,
    "kernelspec": {
      "display_name": "Python 3",
      "language": "python",
      "name": "python3"
    },
    "language_info": {
      "codemirror_mode": {
        "name": "ipython",
        "version": 3
      },
      "file_extension": ".py",
      "mimetype": "text/x-python",
      "name": "python",
      "nbconvert_exporter": "python",
      "pygments_lexer": "ipython3",
      "version": "3.8.3"
    },
    "latex_envs": {
      "LaTeX_envs_menu_present": true,
      "autoclose": false,
      "autocomplete": true,
      "bibliofile": "biblio.bib",
      "cite_by": "apalike",
      "current_citInitial": 1,
      "eqLabelWithNumbers": true,
      "eqNumInitial": 1,
      "hotkeys": {
        "equation": "Ctrl-E",
        "itemize": "Ctrl-I"
      },
      "labels_anchors": false,
      "latex_user_defs": false,
      "report_style_numbering": false,
      "user_envs_cfg": false
    },
    "varInspector": {
      "cols": {
        "lenName": 16,
        "lenType": 16,
        "lenVar": 40
      },
      "kernels_config": {
        "python": {
          "delete_cmd_postfix": "",
          "delete_cmd_prefix": "del ",
          "library": "var_list.py",
          "varRefreshCmd": "print(var_dic_list())"
        },
        "r": {
          "delete_cmd_postfix": ") ",
          "delete_cmd_prefix": "rm(",
          "library": "var_list.r",
          "varRefreshCmd": "cat(var_dic_list()) "
        }
      },
      "types_to_exclude": [
        "module",
        "function",
        "builtin_function_or_method",
        "instance",
        "_Feature"
      ],
      "window_display": false
    },
    "colab": {
      "name": "Devito numerical solver to generate solution to 1D Burgers' equation.ipynb",
      "provenance": [],
      "collapsed_sections": [],
      "include_colab_link": true
    }
  },
  "nbformat": 4,
  "nbformat_minor": 0
}