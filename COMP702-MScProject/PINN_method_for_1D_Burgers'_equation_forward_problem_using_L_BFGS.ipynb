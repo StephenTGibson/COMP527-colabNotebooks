{
  "nbformat": 4,
  "nbformat_minor": 0,
  "metadata": {
    "colab": {
      "name": "PINN_method_for_1D_Burgers'_equation_forward_problem_using_L-BFGS.ipynb",
      "provenance": [],
      "collapsed_sections": [
        "Dkj1rXXhXkgU"
      ],
      "authorship_tag": "ABX9TyMRiDQKXUPrURJLEkoYl+G8",
      "include_colab_link": true
    },
    "kernelspec": {
      "name": "python3",
      "display_name": "Python 3"
    },
    "language_info": {
      "name": "python"
    }
  },
  "cells": [
    {
      "cell_type": "markdown",
      "metadata": {
        "id": "view-in-github",
        "colab_type": "text"
      },
      "source": [
        "<a href=\"https://colab.research.google.com/github/StephenTGibson/MScDataSci_21-22/blob/main/COMP702-MScProject/PINN_method_for_1D_Burgers'_equation_forward_problem_using_L_BFGS.ipynb\" target=\"_parent\"><img src=\"https://colab.research.google.com/assets/colab-badge.svg\" alt=\"Open In Colab\"/></a>"
      ]
    },
    {
      "cell_type": "markdown",
      "source": [
        "Based on method presented in:  \n",
        "*Physics-informed neural networks: A deep learning framework for solving forward and inverse problems involving nonlinear partial differential equations*  \n",
        "https://www.sciencedirect.com/science/article/pii/S0021999118307125?casa_token=IF_2eTCwVfkAAAAA:-AYLqjAlpXcFYBHje4sO2kMjqH3k0pdFQ7Qdpw1MazWxIGPwacb3Cp0gCtFRbNDAVLSsjCWU0g"
      ],
      "metadata": {
        "id": "gDU50BNZKhK5"
      }
    },
    {
      "cell_type": "code",
      "source": [
        "# install devito\n",
        "!pip install devito &> /dev/null"
      ],
      "metadata": {
        "id": "RiXqbbFkXlfd"
      },
      "execution_count": 1,
      "outputs": []
    },
    {
      "cell_type": "code",
      "source": [
        "# import required libraries and tools\n",
        "import numpy as np\n",
        "from numpy.random import default_rng\n",
        "rng = default_rng()\n",
        "\n",
        "from time import perf_counter\n",
        "\n",
        "import matplotlib.pyplot as plt\n",
        "from matplotlib.gridspec import GridSpec\n",
        "import seaborn as sns\n",
        "\n",
        "import torch\n",
        "from torch import nn\n",
        "\n",
        "from devito import Grid, TimeFunction, Operator, Constant, Eq, solve, first_derivative, left"
      ],
      "metadata": {
        "id": "pA35KJXloiPF"
      },
      "execution_count": 2,
      "outputs": []
    },
    {
      "cell_type": "code",
      "source": [
        "# define constants\n",
        "c1 = 1.\n",
        "c2 = 0.01/np.pi"
      ],
      "metadata": {
        "id": "Z9MEaEP1ooaP"
      },
      "execution_count": 3,
      "outputs": []
    },
    {
      "cell_type": "code",
      "source": [
        "# define discretisation\n",
        "\n",
        "# extent x direction\n",
        "X = 2.0\n",
        "# number of x grid points\n",
        "nx = 1001\n",
        "# x direction step size\n",
        "dx = X / (nx - 1)\n",
        "\n",
        "# time extent (total duration)\n",
        "T = 1 \n",
        "# time step\n",
        "dt = 1e-4\n",
        "# number of time points\n",
        "nt = int((T / dt) + 1)"
      ],
      "metadata": {
        "id": "W1qFglgWXn9o"
      },
      "execution_count": 4,
      "outputs": []
    },
    {
      "cell_type": "code",
      "execution_count": 5,
      "metadata": {
        "id": "t2WYrar6gMd1"
      },
      "outputs": [],
      "source": [
        "# create 1D grid and assign dimension variable names\n",
        "grid = Grid(shape=(nx), extent=(X))\n",
        "\n",
        "x = grid.dimensions\n",
        "t = grid.stepping_dim"
      ]
    },
    {
      "cell_type": "code",
      "source": [
        "# create time function on grid\n",
        "# space order of 2 to enable 2nd derivative\n",
        "u = TimeFunction(name='u', grid=grid, space_order=2)"
      ],
      "metadata": {
        "id": "K4IxVnInhUNL"
      },
      "execution_count": 6,
      "outputs": []
    },
    {
      "cell_type": "code",
      "source": [
        "# create constant (viscosity)\n",
        "a = Constant(name='a')\n",
        "b = Constant(name='b')\n",
        "# define 1D Burgers' equation\n",
        "equation_u = Eq(u.dt + a*u*u.dxl, b*u.dx2)\n",
        "equation_u"
      ],
      "metadata": {
        "id": "cc-bazPyh19a",
        "colab": {
          "base_uri": "https://localhost:8080/",
          "height": 54
        },
        "outputId": "0be39937-e0db-4667-f2fb-6664801212be"
      },
      "execution_count": 7,
      "outputs": [
        {
          "output_type": "execute_result",
          "data": {
            "text/plain": [
              "Eq(a*u(t, x)*Derivative(u(t, x), x) + Derivative(u(t, x), t), b*Derivative(u(t, x), (x, 2)))"
            ],
            "text/latex": "$\\displaystyle a u{\\left(t,x \\right)} \\frac{\\partial}{\\partial x} u{\\left(t,x \\right)} + \\frac{\\partial}{\\partial t} u{\\left(t,x \\right)} = b \\frac{\\partial^{2}}{\\partial x^{2}} u{\\left(t,x \\right)}$"
          },
          "metadata": {},
          "execution_count": 7
        }
      ]
    },
    {
      "cell_type": "code",
      "source": [
        "# create stencil by solving for next time step\n",
        "stencil_u = solve(equation_u, u.forward)\n",
        "stencil_u"
      ],
      "metadata": {
        "id": "BVw5sKDYirVG",
        "colab": {
          "base_uri": "https://localhost:8080/",
          "height": 58
        },
        "outputId": "75743885-8057-4e6e-a1ea-bbf3da5c5d05"
      },
      "execution_count": 8,
      "outputs": [
        {
          "output_type": "execute_result",
          "data": {
            "text/plain": [
              "dt*(-a*u(t, x)*Derivative(u(t, x), x) + b*Derivative(u(t, x), (x, 2)) + u(t, x)/dt)"
            ],
            "text/latex": "$\\displaystyle dt \\left(- a u{\\left(t,x \\right)} \\frac{\\partial}{\\partial x} u{\\left(t,x \\right)} + b \\frac{\\partial^{2}}{\\partial x^{2}} u{\\left(t,x \\right)} + \\frac{u{\\left(t,x \\right)}}{dt}\\right)$"
          },
          "metadata": {},
          "execution_count": 8
        }
      ]
    },
    {
      "cell_type": "code",
      "source": [
        "# define equation for next time step\n",
        "update_u = Eq(u.forward, stencil_u)\n",
        "update_u"
      ],
      "metadata": {
        "id": "R9v7N_vdiyg9",
        "colab": {
          "base_uri": "https://localhost:8080/",
          "height": 58
        },
        "outputId": "2d518059-9d76-4b6c-e5be-df2dddd78f47"
      },
      "execution_count": 9,
      "outputs": [
        {
          "output_type": "execute_result",
          "data": {
            "text/plain": [
              "Eq(u(t + dt, x), dt*(-a*u(t, x)*Derivative(u(t, x), x) + b*Derivative(u(t, x), (x, 2)) + u(t, x)/dt))"
            ],
            "text/latex": "$\\displaystyle u{\\left(t + dt,x \\right)} = dt \\left(- a u{\\left(t,x \\right)} \\frac{\\partial}{\\partial x} u{\\left(t,x \\right)} + b \\frac{\\partial^{2}}{\\partial x^{2}} u{\\left(t,x \\right)} + \\frac{u{\\left(t,x \\right)}}{dt}\\right)$"
          },
          "metadata": {},
          "execution_count": 9
        }
      ]
    },
    {
      "cell_type": "code",
      "source": [
        "# define boundary conditions\n",
        "# u = 0 at min and max extent of x\n",
        "boundaryConditions = [Eq(u[t+1, 0], 0.)]\n",
        "boundaryConditions += [Eq(u[t+1, nx], 0.)]"
      ],
      "metadata": {
        "id": "PuAWtb-Li39x"
      },
      "execution_count": 10,
      "outputs": []
    },
    {
      "cell_type": "code",
      "source": [
        "# define operator based on equation and boundary conditions\n",
        "op = Operator([update_u] + boundaryConditions)"
      ],
      "metadata": {
        "id": "IGp3-XyijFb6"
      },
      "execution_count": 11,
      "outputs": []
    },
    {
      "cell_type": "code",
      "source": [
        "# set solution space to 0s\n",
        "u.data[:] = 0\n",
        "\n",
        "# create a dummy x array from -1 to +1\n",
        "dummyX = np.arange(-1, 1+dx, dx)\n",
        "\n",
        "# set initial conditions using dummy x array\n",
        "u.data[0] = -1 * np.sin(np.pi * dummyX)"
      ],
      "metadata": {
        "id": "p5ThMh_494sn"
      },
      "execution_count": 12,
      "outputs": []
    },
    {
      "cell_type": "code",
      "source": [
        "# define number of time steps to compute before storing result for plotting\n",
        "batchSize = 100\n",
        "\n",
        "# initialise empty array to store computed solution\n",
        "results = np.zeros((nx, int(nt / batchSize)))\n",
        "# store initial conditions in results array\n",
        "results[:,0] = u.data[0].copy()\n",
        "\n",
        "# log start time to measure performance\n",
        "startTime = perf_counter()\n",
        "\n",
        "# iterate over result steps\n",
        "# start from 1 not 0 as results at step 0 are the initial conditions\n",
        "for timeStep in range(1, int(nt / batchSize)):\n",
        "    # compute solution after batchSize time steps\n",
        "    summary = op.apply(time=batchSize, dt=dt, a=c1, b=c2)\n",
        "    # store computed solution in results array\n",
        "    results[:,timeStep] = u.data[0].copy()\n",
        "\n",
        "# log end time to measure performance\n",
        "endTime = perf_counter()\n",
        "# print total training time\n",
        "print(f'Training duration: {(endTime-startTime):.2f}s')"
      ],
      "metadata": {
        "collapsed": true,
        "id": "EFDWZYgcjIN_"
      },
      "execution_count": null,
      "outputs": []
    },
    {
      "cell_type": "markdown",
      "source": [
        "# Nu and Nf"
      ],
      "metadata": {
        "id": "QiVFIzcD6s71"
      }
    },
    {
      "cell_type": "code",
      "source": [
        "# define spatial and temporal domain extent\n",
        "xMin = -1\n",
        "xMax = 1\n",
        "tMin = 0\n",
        "tMax = 1"
      ],
      "metadata": {
        "id": "Iy1btlNR6u9F"
      },
      "execution_count": 14,
      "outputs": []
    },
    {
      "cell_type": "code",
      "source": [
        "# create dataset\n",
        "# number of points initial condition and boundary points\n",
        "Nu = 20\n",
        "\n",
        "# proportion of Nu which are initial condition points\n",
        "prop_ic = 0.8\n",
        "# number of initial condition points\n",
        "Nu_i = int(prop_ic * Nu)\n",
        "# number of boundary condition points\n",
        "Nu_bc = Nu - Nu_i\n",
        "\n",
        "# number of collocation points across input domain interior\n",
        "Ninterior = 2000\n",
        "\n",
        "# total number collocation points\n",
        "Nf = Ninterior + Nu"
      ],
      "metadata": {
        "id": "GYuGK2zd6yD3"
      },
      "execution_count": 41,
      "outputs": []
    },
    {
      "cell_type": "code",
      "source": [
        "# uniformly randomly select some points along the x axis to generate initial condition training points\n",
        "uniformRandomXArray = rng.uniform(low=xMin, high=xMax, size=Nu_i)\n",
        "\n",
        "# create array of initial condition defined training points\n",
        "# t = 0\n",
        "# x = uniformly random from x domain\n",
        "# u = -1*sin(pi*x)\n",
        "Nu_iArray= np.array([\n",
        "                   np.zeros(Nu_i),\n",
        "                   uniformRandomXArray,\n",
        "                   -1 * np.sin(np.pi * uniformRandomXArray)\n",
        "                    ]).T"
      ],
      "metadata": {
        "id": "nQ7Uu5bg63Yq"
      },
      "execution_count": 42,
      "outputs": []
    },
    {
      "cell_type": "code",
      "source": [
        "# uniformly randomly select some points along the time axis to generate boundary condition training points\n",
        "uniformRandomTArray = rng.uniform(low=tMin, high=tMax, size=Nu_bc)\n",
        "\n",
        "# create array of boundary condition defined training points\n",
        "# t = uniformly random from time domain\n",
        "# x = random choice of -1 or 1\n",
        "# u = 0\n",
        "Nu_bcArray = np.array([\n",
        "                        uniformRandomTArray,\n",
        "                        rng.choice(np.array([-1,1]), size=Nu_bc, replace=True),\n",
        "                        np.zeros(Nu_bc)\n",
        "                        ]).T"
      ],
      "metadata": {
        "id": "TSCCuNkk64qO"
      },
      "execution_count": 43,
      "outputs": []
    },
    {
      "cell_type": "code",
      "source": [
        "# define empty array to hold initial and boundary conditions training points\n",
        "NuArray = np.zeros((Nu, 3))\n",
        "# add initial condition points\n",
        "NuArray[:Nu_i,:] = Nu_iArray.copy()\n",
        "# add boundary condition points\n",
        "NuArray[Nu_i:,:] = Nu_bcArray.copy()"
      ],
      "metadata": {
        "id": "8vnBJpXS69HR"
      },
      "execution_count": 44,
      "outputs": []
    },
    {
      "cell_type": "code",
      "source": [
        "# # shuffle initial and boundary condition training points\n",
        "# rng.shuffle(NuTrainingSet)\n",
        "# # convert numpy array to pytorch tensor\n",
        "# NuSetTensor = torch.from_numpy(NuTrainingSet.astype(np.float32))\n",
        "# # split into input and outputs for training\n",
        "# # set input tensor to store calculated gradients\n",
        "# NuX = NuSetTensor[:,:2].requires_grad_()\n",
        "# Nuy = NuSetTensor[:,2]"
      ],
      "metadata": {
        "id": "P0scc7376-zm"
      },
      "execution_count": 45,
      "outputs": []
    },
    {
      "cell_type": "code",
      "source": [
        "# create collocation training points selected uniformly randomly across input domain\n",
        "NinteriorArray = np.array([\n",
        "               rng.uniform(tMin, tMax, Ninterior),\n",
        "               rng.uniform(xMin, xMax, Ninterior),\n",
        "               ]).T\n",
        "\n",
        "NfArray = np.zeros((Nf, 2))\n",
        "\n",
        "NfArray[:Ninterior] = NinteriorArray.copy()\n",
        "\n",
        "NfArray[Ninterior:] = NuArray[:, :-1]\n",
        "\n",
        "# convert numpy array to pytorch tensor and set to store calculated gradients\n",
        "# NfTensor = torch.from_numpy(NfSet.astype(np.float32)).requires_grad_()"
      ],
      "metadata": {
        "id": "iaOadUNy7A5i"
      },
      "execution_count": 46,
      "outputs": []
    },
    {
      "cell_type": "code",
      "source": [
        "NuArray.shape"
      ],
      "metadata": {
        "colab": {
          "base_uri": "https://localhost:8080/"
        },
        "id": "zk4d_8PE9DlP",
        "outputId": "1d31faa2-8f68-48a5-f385-fdeac7b03b8c"
      },
      "execution_count": 47,
      "outputs": [
        {
          "output_type": "execute_result",
          "data": {
            "text/plain": [
              "(20, 3)"
            ]
          },
          "metadata": {},
          "execution_count": 47
        }
      ]
    },
    {
      "cell_type": "markdown",
      "source": [
        "## PINN"
      ],
      "metadata": {
        "id": "fcYAsUtcXglf"
      }
    },
    {
      "cell_type": "code",
      "source": [
        "# plot training loss curve\n",
        "def trainingLossPlot(history):\n",
        "    fig, ax = plt.subplots(figsize=(6,4))\n",
        "\n",
        "    # plot losses\n",
        "    ax.plot(history[:,0], label='Total loss')\n",
        "    ax.plot(history[:,1], label='Solution loss')\n",
        "    ax.plot(history[:,2], label='Residual loss')\n",
        "    # add legend\n",
        "    ax.legend(loc=(1.01, 0.5))\n",
        "    # label axes\n",
        "    ax.set_xlabel('Training epoch')\n",
        "    ax.set_ylabel('Loss')\n",
        "    # add an insert ax in top right corner\n",
        "    axins = ax.inset_axes([0.5, 0.5, 0.46, 0.46])\n",
        "    # plot losses on insert ax\n",
        "    axins.plot(history[:,0])\n",
        "    axins.plot(history[:,1])\n",
        "    axins.plot(history[:,2])\n",
        "    # set limits of insert ax\n",
        "    axins.set_xlim(3*epochs//4, epochs)\n",
        "    # axins.set_ylim(0, 1)\n",
        "    # remove x axis labels\n",
        "    axins.set_xticklabels([])\n",
        "    # add insert locator lines\n",
        "    ax.indicate_inset_zoom(axins, edgecolor=\"black\")\n",
        "    # figure title\n",
        "    fig.suptitle(\"1D Burgers' equation PINN training loss\", fontsize=16)\n",
        "\n",
        "    plt.show()\n",
        "\n",
        "    # fig.savefig(\"1D Burgers' - PINN training loss\", bbox_inches='tight')"
      ],
      "metadata": {
        "id": "996zYj3-qiNl"
      },
      "execution_count": 48,
      "outputs": []
    },
    {
      "cell_type": "code",
      "source": [
        "# function to create arrays for plotting results\n",
        "# input: x and y dimensions of solution space to plot\n",
        "# output: \n",
        "# X and Y, 2D numpy arrays and size y*x to plot a matplotlib mesh\n",
        "# U, 2D numpy array containing PINN approximated solution for all points within mesh\n",
        "# R, 2D numpy array containing computed residual for all points within mesh\n",
        "def meshPlotData(xDim, yDim):\n",
        "    \n",
        "    # create np arrays based on input domain extent and dimensions of mesh for plotting\n",
        "    x = np.arange(tMin, tMax, (tMax-tMin)/xDim)\n",
        "    y = np.arange(xMin, xMax, (xMax-xMin)/yDim)\n",
        "    # create meshgrid arrays\n",
        "    X, Y = np.meshgrid(x, y)\n",
        "\n",
        "    # create empty array to contain all meshgrid points\n",
        "    flattenedCoords = np.zeros(((xDim)*(yDim), 2))\n",
        "    # add meshgrid points, X ~ t and Y ~ x\n",
        "    flattenedCoords[:,0] = X.flatten()\n",
        "    flattenedCoords[:,1] = Y.flatten()\n",
        "    # convert numpy array to pytorch tensor\n",
        "    flattenedCoords = torch.from_numpy(flattenedCoords.astype(np.float32))\n",
        "\n",
        "    # use PINN to approximate solution for all points\n",
        "    flattenedU = model(flattenedCoords[:,0], flattenedCoords[:,1])\n",
        "    # reshape solution array into meshgrid shape and convert to numpy\n",
        "    U = torch.reshape(flattenedU, (yDim, xDim)).detach().numpy()\n",
        "\n",
        "    # # set flattened points to retain gradients during computation\n",
        "    # flattenedCoords = flattenedCoords.requires_grad_()\n",
        "    # # compute residual at all points\n",
        "    # flattened_R = model.residual(flattenedCoords)\n",
        "    # # reshape residual array into meshgrid shape and convert to numpy\n",
        "    # R = torch.reshape(flattened_R, (yDim, xDim)).detach().numpy()\n",
        "\n",
        "    return X, Y, U#, R"
      ],
      "metadata": {
        "id": "kxjuk_1eNUbG"
      },
      "execution_count": 49,
      "outputs": []
    },
    {
      "cell_type": "code",
      "source": [
        "# define neural network architecture\n",
        "\n",
        "class NeuralNetwork(nn.Module):\n",
        "    def __init__(self):\n",
        "        super(NeuralNetwork, self).__init__()\n",
        "\n",
        "        # self.l1 = nn.Parameter(torch.tensor(1.))\n",
        "        # self.l2 = nn.Parameter(torch.tensor(0.003))\n",
        "\n",
        "\n",
        "\n",
        "        self.linear_stack = nn.Sequential(\n",
        "            nn.Linear(2, 20),\n",
        "            nn.Tanh(),            \n",
        "            nn.Linear(20, 20),\n",
        "            nn.Tanh(),\n",
        "            nn.Linear(20, 20),\n",
        "            nn.Tanh(),\n",
        "            nn.Linear(20, 20),\n",
        "            nn.Tanh(),            \n",
        "            nn.Linear(20, 20),\n",
        "            nn.Tanh(),            \n",
        "            nn.Linear(20, 20),         \n",
        "            nn.Tanh(),\n",
        "            nn.Linear(20, 20),\n",
        "            nn.Tanh(),            \n",
        "            nn.Linear(20, 1),\n",
        "        )            \n",
        "\n",
        "        self.optimiser = torch.optim.LBFGS(self.parameters(),\n",
        "                                           lr=1,\n",
        "                        history_size=10,\n",
        "                        max_iter=50,\n",
        "                        line_search_fn=\"strong_wolfe\"\n",
        "                        )\n",
        "\n",
        "        self.l1 = torch.tensor(1.)\n",
        "        self.l2 = torch.tensor(0.01/np.pi)\n",
        "\n",
        "    def forward(self, t, x):\n",
        "        return self.linear_stack(torch.stack((t, x)).T)\n",
        "\n",
        "    def residual(self, t, x):\n",
        "        # compute neural network solution approximations\n",
        "        u = self.forward(t, x).flatten()\n",
        "\n",
        "        # print(u.shape)\n",
        "\n",
        "        ut = torch.autograd.grad(u, t, torch.ones_like(u), create_graph=True)[0]\n",
        "        ux = torch.autograd.grad(u, x, torch.ones_like(u), create_graph=True)[0] \n",
        "        uxx = torch.autograd.grad(ux, x, torch.ones_like(ux), create_graph=True)[0]\n",
        "\n",
        "        # print(ut.shape)\n",
        "        # print(ux.shape)\n",
        "        # print(uxx.shape)\n",
        "\n",
        "        # compute and return residual using 1D burgers' equation\n",
        "        return ut + self.l1 * u * ux - self.l2 * uxx #.flatten()\n",
        "\n",
        "    def lossFunc(self, D, Y, R):\n",
        "        solutionLoss = torch.mean(torch.square(D - Y))\n",
        "        residualLoss = torch.mean(torch.square(R))        \n",
        "        return solutionLoss + residualLoss, solutionLoss, residualLoss\n",
        "\n",
        "    def trainingFunction(self, epochs, NuArray, NfArray):\n",
        "        self.train()\n",
        "        \n",
        "        # initialise empty lists to store loss during at each stage of training\n",
        "        lossHistory = []\n",
        "        solutionLossHistory = []\n",
        "        residualLossHistory = []\n",
        "\n",
        "        # l1History = []\n",
        "        # l2History = []\n",
        "        \n",
        "        # Nu\n",
        "        Nu_t = torch.from_numpy(NuArray[:,0].astype(np.float32)).requires_grad_()\n",
        "        Nu_x = torch.from_numpy(NuArray[:,1].astype(np.float32)).requires_grad_()\n",
        "        Nu_d = torch.from_numpy(NuArray[:,2].astype(np.float32).reshape(NuArray.shape[0],1))\n",
        "\n",
        "        # Nf\n",
        "        Nf_t = torch.from_numpy(NfArray[:,0].astype(np.float32)).requires_grad_()\n",
        "        Nf_x = torch.from_numpy(NfArray[:,1].astype(np.float32)).requires_grad_()\n",
        "\n",
        "        startTime = perf_counter()\n",
        "\n",
        "        for epoch in range(epochs):            \n",
        "            def closure():\n",
        "                self.optimiser.zero_grad()\n",
        "                Nu_u = self.forward(Nu_t, Nu_x)\n",
        "                Nf_r = self.residual(Nf_t, Nf_x)\n",
        "                lossValue = self.lossFunc(Nu_d, Nu_u, Nf_r)[0]                \n",
        "                lossValue.backward()\n",
        "                return lossValue\n",
        "            self.optimiser.step(closure)\n",
        "\n",
        "            lossComponents = self.lossFunc(Nu_d, self.forward(Nu_t, Nu_x), self.residual(Nf_t, Nf_x))\n",
        "            lossHistory.append(lossComponents[0].item())\n",
        "            solutionLossHistory.append(lossComponents[1].item())\n",
        "            residualLossHistory.append(lossComponents[2].item())                 \n",
        "\n",
        "        # l1History.append(self.l1.item())\n",
        "        # l2History.append(self.l2.item())\n",
        "\n",
        "            # print training progress update\n",
        "            if epoch > 0 and epoch % (epochs // 10) == 0:\n",
        "                # log end time to measure performance\n",
        "                endTime = perf_counter()\n",
        "                # print total training time\n",
        "                print(f'Epoch: {epoch} --- Elapsed time: {(endTime-startTime):.2f}s --- Loss: {lossHistory[-1]}')\n",
        "\n",
        "        return np.array([lossHistory, solutionLossHistory, residualLossHistory]).T#, l1History, l2History]).T"
      ],
      "metadata": {
        "id": "hMHolkEzLQVq"
      },
      "execution_count": 50,
      "outputs": []
    },
    {
      "cell_type": "code",
      "source": [
        "# create new network and print number of trainable parameters\n",
        "model = NeuralNetwork()\n",
        "print(f'Network parameters: {sum(p.numel() for p in model.parameters())}')\n",
        "\n",
        "# number of training iterations\n",
        "epochs = 100\n",
        "\n",
        "history = model.trainingFunction(epochs, NuArray, NfArray)\n",
        "\n",
        "trainingLossPlot(history)\n",
        "\n",
        "plt.show()"
      ],
      "metadata": {
        "colab": {
          "base_uri": "https://localhost:8080/",
          "height": 482
        },
        "id": "SXQynLjzTbXJ",
        "outputId": "305fc1b3-5aae-4aef-f4b3-40cf9254e326"
      },
      "execution_count": 53,
      "outputs": [
        {
          "output_type": "stream",
          "name": "stdout",
          "text": [
            "Network parameters: 2601\n",
            "Epoch: 10 --- Elapsed time: 23.81s --- Loss: 0.03497420251369476\n",
            "Epoch: 20 --- Elapsed time: 45.36s --- Loss: 0.01771886646747589\n",
            "Epoch: 30 --- Elapsed time: 65.10s --- Loss: 0.002704982878640294\n",
            "Epoch: 40 --- Elapsed time: 86.15s --- Loss: 0.0007762355962768197\n",
            "Epoch: 50 --- Elapsed time: 106.14s --- Loss: 0.0004083247040398419\n",
            "Epoch: 60 --- Elapsed time: 126.23s --- Loss: 0.00019013546989299357\n",
            "Epoch: 70 --- Elapsed time: 146.75s --- Loss: 0.00011964520672336221\n",
            "Epoch: 80 --- Elapsed time: 167.01s --- Loss: 8.999762940220535e-05\n",
            "Epoch: 90 --- Elapsed time: 187.39s --- Loss: 6.1266306147445e-05\n"
          ]
        },
        {
          "output_type": "display_data",
          "data": {
            "text/plain": [
              "<Figure size 432x288 with 1 Axes>"
            ],
            "image/png": "[encoded data removed]"
          },
          "metadata": {
            "needs_background": "light"
          }
        }
      ]
    },
    {
      "cell_type": "code",
      "source": [
        "# set model in evaluation mode\n",
        "model.eval()\n",
        "# compute meshgrid, solution and residual for plotting\n",
        "X, Y, U = meshPlotData(1000, 1000)\n",
        "\n",
        "fig = plt.figure(\n",
        "    figsize=(12, 6),\n",
        "    constrained_layout=True\n",
        "    )\n",
        "gs = GridSpec(3, 20, figure=fig)\n",
        "\n",
        "# add solution plot\n",
        "solutionAx = fig.add_subplot(gs[:2,:10])\n",
        "solutionPlot = solutionAx.pcolormesh(X, Y, U, cmap='bwr')#, vmin=-1, vmax=1)\n",
        "# solutionAx.set_xlim([0, 1])\n",
        "# solutionAx.set_ylim([-1, 1])\n",
        "\n",
        "solutionAx.set_title('Solution')\n",
        "solutionAx.set_xlabel('Time, t (s)')\n",
        "solutionAx.set_ylabel('Space, x (m)')\n",
        "cbar = fig.colorbar(solutionPlot, use_gridspec=True)\n",
        "cbar.set_label('Solution, u (t, x) (m/s)')"
      ],
      "metadata": {
        "colab": {
          "base_uri": "https://localhost:8080/",
          "height": 325
        },
        "id": "wguSgozbkRXO",
        "outputId": "0a1c4c6b-09a2-45ee-f925-3e8cedf1b3cb"
      },
      "execution_count": 55,
      "outputs": [
        {
          "output_type": "display_data",
          "data": {
            "text/plain": [
              "<Figure size 864x432 with 32 Axes>"
            ],
            "image/png": "[encoded data removed]"
          },
          "metadata": {
            "needs_background": "light"
          }
        }
      ]
    },
    {
      "cell_type": "code",
      "source": [
        "# print(f'lambda1: {model.state_dict()[\"l1\"]}')\n",
        "# print(f'lambda2: {model.state_dict()[\"l2\"]}')\n",
        "\n",
        "trainingLossPlot(history)\n",
        "\n",
        "# plt.plot(history[:,3], label='l1 ~1.0')\n",
        "# plt.plot(history[:,4], label='l2 ~0.0032')\n",
        "# plt.legend()"
      ],
      "metadata": {
        "colab": {
          "base_uri": "https://localhost:8080/",
          "height": 308
        },
        "id": "Mhz90GS6YS4L",
        "outputId": "c6622289-4c5e-40a8-d275-13e5e487ac70"
      },
      "execution_count": null,
      "outputs": [
        {
          "output_type": "display_data",
          "data": {
            "text/plain": [
              "<Figure size 432x288 with 1 Axes>"
            ],
            "image/png": "[encoded data removed]"
          },
          "metadata": {
            "needs_background": "light"
          }
        }
      ]
    },
    {
      "cell_type": "code",
      "source": [
        "    # set model in evaluation mode\n",
        "    model.eval()\n",
        "    # compute meshgrid, solution and residual for plotting\n",
        "    X, Y, U, R = meshPlotData(1000, 1000) "
      ],
      "metadata": {
        "id": "Tp__ywXGgueS"
      },
      "execution_count": null,
      "outputs": []
    },
    {
      "cell_type": "markdown",
      "source": [
        "### Training and results"
      ],
      "metadata": {
        "id": "Dkj1rXXhXkgU"
      }
    },
    {
      "cell_type": "code",
      "source": [
        "# create figure using gridspec to structure subplots\n",
        "fig = plt.figure(\n",
        "    figsize=(12, 6),\n",
        "    constrained_layout=True\n",
        "    )\n",
        "gs = GridSpec(3, 20, figure=fig)\n",
        "\n",
        "# add solution plot\n",
        "solutionAx = fig.add_subplot(gs[:2,:10])\n",
        "solutionPlot = solutionAx.pcolormesh(X, Y, U, cmap='bwr', vmin=-1, vmax=1)\n",
        "solutionAx.set_xlim([0, 1])\n",
        "solutionAx.set_ylim([-1, 1])\n",
        "\n",
        "solutionAx.set_title('Solution')\n",
        "solutionAx.set_xlabel('Time, t (s)')\n",
        "solutionAx.set_ylabel('Space, x (m)')\n",
        "cbar = fig.colorbar(solutionPlot, use_gridspec=True)\n",
        "cbar.set_label('Solution, u (t, x) (m/s)')\n",
        "\n",
        "# solutionAx.scatter(    \n",
        "#     trainingArray[:,0],\n",
        "#     NuArray[:,1],    \n",
        "#     s=100.,\n",
        "#     c='k',\n",
        "#     marker='x'\n",
        "# )\n",
        "\n",
        "solutionAx.scatter(    \n",
        "    trainingArray[:,0],\n",
        "    trainingArray[:,1],    \n",
        "    s=2.,\n",
        "    c='k',\n",
        "    marker='.'\n",
        ")\n",
        "\n",
        "# add residual plot\n",
        "residualAx = fig.add_subplot(gs[:2,10:])\n",
        "residualPlot = residualAx.pcolormesh(X, Y, R, cmap='bwr')\n",
        "residualAx.set_title('Residual')\n",
        "residualAx.set_xlabel('Time, t (s)')\n",
        "residualAx.set_ylabel('Space, x (m)')\n",
        "cbar = fig.colorbar(residualPlot, use_gridspec=True)\n",
        "cbar.set_label('Residual, u (t, x) (m/s)')\n",
        "\n",
        "# iteratively create solution snapshot subplots\n",
        "for i in range(5):\n",
        "    tPlot = fig.add_subplot(gs[2, i*4:(i+1)*4])    \n",
        "    if i < 4:\n",
        "        tPlot.plot(Y[:, i*(Y.shape[1]//4)], U[:, i*(Y.shape[1]//4)])\n",
        "        tPlot.set_title('Time: ' + str(i*X[0, X[0].shape[0]//4]) + 's')\n",
        "        # add vertical lines to solution plot to indicate snapshots\n",
        "        solutionAx.vlines(x=i*X[0, X[0].shape[0]//4], ymin=Y[0,0], ymax=Y[-1,0], colors='black', ls='--', lw=0.5)\n",
        "    else:\n",
        "        tPlot.plot(Y[:, -1], U[:, -1])\n",
        "        tPlot.set_title('Time: ' + str(tMax) + 's')\n",
        "    \n",
        "    tPlot.set_ylim([-1, 1])\n",
        "    tPlot.set_xlabel('Space, x (m)')\n",
        "    if i == 0:\n",
        "        tPlot.set_ylabel('Solution, u (t, x) (m/s)')\n",
        "\n",
        "# figure title\n",
        "fig.suptitle(\"1D Burgers' equation solution generated using PINN\", fontsize=16)\n",
        "\n",
        "# fig.savefig(\"1D Burgers' solution - PINN\", bbox_inches='tight')\n",
        "plt.show()"
      ],
      "metadata": {
        "colab": {
          "base_uri": "https://localhost:8080/",
          "height": 457
        },
        "id": "7LD2bixRkYGo",
        "outputId": "11f54801-c922-4d5b-df53-83aa47b102f3"
      },
      "execution_count": null,
      "outputs": [
        {
          "output_type": "display_data",
          "data": {
            "text/plain": [
              "<Figure size 864x432 with 9 Axes>"
            ],
            "image/png": "[encoded data removed]"
          },
          "metadata": {
            "needs_background": "light"
          }
        }
      ]
    },
    {
      "cell_type": "code",
      "source": [
        ""
      ],
      "metadata": {
        "colab": {
          "base_uri": "https://localhost:8080/"
        },
        "id": "20eMdwh5TAsc",
        "outputId": "4add2a70-3d0a-46a1-fbba-0baeaa88abe0"
      },
      "execution_count": null,
      "outputs": [
        {
          "output_type": "stream",
          "name": "stdout",
          "text": [
            "lambda1: 9.900162696838379\n",
            "lambda2: 9.900165557861328\n"
          ]
        }
      ]
    },
    {
      "cell_type": "markdown",
      "source": [
        "https://visualstudiomagazine.com/articles/2021/06/23/logistic-regression-pytorch.aspx"
      ],
      "metadata": {
        "id": "uTj2ECa3s8X-"
      }
    },
    {
      "cell_type": "code",
      "source": [
        ""
      ],
      "metadata": {
        "id": "xSg3yGTZSnKS",
        "colab": {
          "base_uri": "https://localhost:8080/",
          "height": 131
        },
        "outputId": "06da47ed-f52f-4031-e153-827fc6cff6e4"
      },
      "execution_count": null,
      "outputs": [
        {
          "output_type": "error",
          "ename": "SyntaxError",
          "evalue": "ignored",
          "traceback": [
            "\u001b[0;36m  File \u001b[0;32m\"<ipython-input-130-3c9790bd6b0c>\"\u001b[0;36m, line \u001b[0;32m1\u001b[0m\n\u001b[0;31m    https://visualstudiomagazine.com/articles/2021/06/23/logistic-regression-pytorch.aspx\u001b[0m\n\u001b[0m           ^\u001b[0m\n\u001b[0;31mSyntaxError\u001b[0m\u001b[0;31m:\u001b[0m invalid syntax\n"
          ]
        }
      ]
    },
    {
      "cell_type": "code",
      "source": [
        ""
      ],
      "metadata": {
        "id": "e7NY9Hh1s5YZ"
      },
      "execution_count": null,
      "outputs": []
    }
  ]
}