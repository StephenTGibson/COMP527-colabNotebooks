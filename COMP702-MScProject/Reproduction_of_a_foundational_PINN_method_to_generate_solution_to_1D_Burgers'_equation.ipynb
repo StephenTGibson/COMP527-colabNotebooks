{
  "nbformat": 4,
  "nbformat_minor": 0,
  "metadata": {
    "colab": {
      "name": "Reproduction of a foundational PINN method to generate solution to 1D-Burgers' equation.ipynb",
      "provenance": [],
      "collapsed_sections": [],
      "authorship_tag": "ABX9TyPCKp7qd1pr4MxGc7kHP297",
      "include_colab_link": true
    },
    "kernelspec": {
      "name": "python3",
      "display_name": "Python 3"
    },
    "language_info": {
      "name": "python"
    }
  },
  "cells": [
    {
      "cell_type": "markdown",
      "metadata": {
        "id": "view-in-github",
        "colab_type": "text"
      },
      "source": [
        "<a href=\"https://colab.research.google.com/github/StephenTGibson/MScDataSci_21-22/blob/main/COMP702-MScProject/Reproduction_of_a_foundational_PINN_method_to_generate_solution_to_1D_Burgers'_equation.ipynb\" target=\"_parent\"><img src=\"https://colab.research.google.com/assets/colab-badge.svg\" alt=\"Open In Colab\"/></a>"
      ]
    },
    {
      "cell_type": "markdown",
      "source": [
        "Based on method presented in:  \n",
        "*Physics-informed neural networks: A deep learning framework for solving forward and inverse problems involving nonlinear partial differential equations*  \n",
        "https://www.sciencedirect.com/science/article/pii/S0021999118307125?casa_token=IF_2eTCwVfkAAAAA:-AYLqjAlpXcFYBHje4sO2kMjqH3k0pdFQ7Qdpw1MazWxIGPwacb3Cp0gCtFRbNDAVLSsjCWU0g"
      ],
      "metadata": {
        "id": "gDU50BNZKhK5"
      }
    },
    {
      "cell_type": "code",
      "execution_count": 1,
      "metadata": {
        "id": "l6XWFdlBKAjA"
      },
      "outputs": [],
      "source": [
        "# import required libraries and tools\n",
        "import numpy as np\n",
        "from numpy.random import default_rng\n",
        "rng = default_rng()\n",
        "\n",
        "import matplotlib.pyplot as plt\n",
        "from matplotlib.gridspec import GridSpec\n",
        "\n",
        "import torch\n",
        "from torch import nn"
      ]
    },
    {
      "cell_type": "code",
      "source": [
        "# define spatial and temporal domain extent\n",
        "xMin = -1\n",
        "xMax = 1\n",
        "tMin = 0\n",
        "tMax = 1"
      ],
      "metadata": {
        "id": "TnT_MuTHSrN5"
      },
      "execution_count": 2,
      "outputs": []
    },
    {
      "cell_type": "code",
      "source": [
        "# create dataset\n",
        "# number of points initial condition and boundary points\n",
        "Nu = 20\n",
        "\n",
        "# proportion of Nu which are initial condition points\n",
        "prop_ic = 0.8\n",
        "# number of initial condition points\n",
        "Nu_i = int(prop_ic * Nu)\n",
        "# number of boundary condition points\n",
        "Nu_bc = Nu - Nu_i\n",
        "\n",
        "# number of collocation points across input domain interior\n",
        "Nf = 2000"
      ],
      "metadata": {
        "id": "968SZC70Rjnc"
      },
      "execution_count": 3,
      "outputs": []
    },
    {
      "cell_type": "code",
      "source": [
        "# uniformly randomly select some points along the x axis to generate initial condition training points\n",
        "uniformRandomXArray = rng.uniform(low=xMin, high=xMax, size=Nu_i)\n",
        "\n",
        "# create array of initial condition defined training points\n",
        "# t = 0\n",
        "# x = uniformly random from x domain\n",
        "# u = -1*sin(pi*x)\n",
        "Nu_iSet= np.array([\n",
        "                   np.zeros(Nu_i),\n",
        "                   uniformRandomXArray,\n",
        "                   -1 * np.sin(np.pi * uniformRandomXArray)\n",
        "                    ]).T"
      ],
      "metadata": {
        "id": "pmncbZUjSmLi"
      },
      "execution_count": 5,
      "outputs": []
    },
    {
      "cell_type": "code",
      "source": [
        "# uniformly randomly select some points along the time axis to generate boundary condition training points\n",
        "uniformRandomTArray = rng.uniform(low=tMin, high=tMax, size=Nu_bc)\n",
        "\n",
        "# create array of boundary condition defined training points\n",
        "# t = uniformly random from time domain\n",
        "# x = random choice of -1 or 1\n",
        "# u = 0\n",
        "Nu_bcSet = np.array([\n",
        "                        uniformRandomTArray,\n",
        "                        rng.choice(np.array([-1,1]), size=Nu_bc, replace=True),\n",
        "                        np.zeros(Nu_bc)\n",
        "                        ]).T"
      ],
      "metadata": {
        "id": "sRR2nxTUHqS9"
      },
      "execution_count": null,
      "outputs": []
    },
    {
      "cell_type": "code",
      "source": [
        "# define empty array to hold initial and boundary conditions training points\n",
        "NuTrainingSet = np.zeros((Nu, 3))\n",
        "# add initial condition points\n",
        "NuTrainingSet[:Nu_i,:] = Nu_iSet.copy()\n",
        "# add boundary condition points\n",
        "NuTrainingSet[Nu_i:,:] = Nu_bcSet.copy()"
      ],
      "metadata": {
        "id": "qlhoD19DXuCt"
      },
      "execution_count": 6,
      "outputs": []
    },
    {
      "cell_type": "code",
      "source": [
        "# shuffle initial and boundary condition training points\n",
        "rng.shuffle(NuTrainingSet)\n",
        "# convert numpy array to pytorch tensor\n",
        "NuSetTensor = torch.from_numpy(NuTrainingSet.astype(np.float32))\n",
        "# split into input and outputs for training\n",
        "# set input tensor to store calculated gradients\n",
        "NuX = NuSetTensor[:,:2].requires_grad_()\n",
        "Nuy = NuSetTensor[:,2]"
      ],
      "metadata": {
        "id": "0xKxVKVMWsQg"
      },
      "execution_count": 7,
      "outputs": []
    },
    {
      "cell_type": "code",
      "source": [
        "# create collocation training points selected uniformly randomly across input domain\n",
        "NfSet = np.array([\n",
        "               rng.uniform(tMin, tMax, Nf),\n",
        "               rng.uniform(xMin, xMax, Nf),\n",
        "               ]).T\n",
        "\n",
        "# convert numpy array to pytorch tensor and set to store calculated gradients\n",
        "NfTensor = torch.from_numpy(NfSet.astype(np.float32)).requires_grad_()"
      ],
      "metadata": {
        "id": "XIj62J9P3ufj"
      },
      "execution_count": 8,
      "outputs": []
    },
    {
      "cell_type": "code",
      "source": [
        "# define neural network architecture\n",
        "\n",
        "class NeuralNetwork(nn.Module):\n",
        "    def __init__(self):\n",
        "        super(NeuralNetwork, self).__init__()        \n",
        "        self.linear_stack = nn.Sequential(\n",
        "            nn.Linear(2, 20),\n",
        "            nn.Tanh(),            \n",
        "            nn.Linear(20, 20),\n",
        "            nn.Tanh(),\n",
        "            nn.Linear(20, 20),\n",
        "            nn.Tanh(),\n",
        "            nn.Linear(20, 20),\n",
        "            nn.Tanh(),\n",
        "            nn.Linear(20, 20),\n",
        "            nn.Tanh(),            \n",
        "            nn.Linear(20, 20),         \n",
        "            nn.Tanh(),\n",
        "            nn.Linear(20, 20),\n",
        "            nn.Tanh(),            \n",
        "            nn.Linear(20, 1),\n",
        "        )            \n",
        "\n",
        "    def forward(self, inputs):\n",
        "        u = self.linear_stack(inputs)\n",
        "        return u"
      ],
      "metadata": {
        "id": "hMHolkEzLQVq"
      },
      "execution_count": 20,
      "outputs": []
    },
    {
      "cell_type": "code",
      "source": [
        "model = NeuralNetwork()"
      ],
      "metadata": {
        "id": "sLrEVur3LfKR"
      },
      "execution_count": 23,
      "outputs": []
    },
    {
      "cell_type": "code",
      "source": [
        "NfTensor.shape"
      ],
      "metadata": {
        "colab": {
          "base_uri": "https://localhost:8080/"
        },
        "id": "m6y3JFEwLSy_",
        "outputId": "a1a75af5-bc2e-42e2-a0bf-125a44b73a0d"
      },
      "execution_count": 22,
      "outputs": [
        {
          "output_type": "execute_result",
          "data": {
            "text/plain": [
              "torch.Size([2000, 2])"
            ]
          },
          "metadata": {},
          "execution_count": 22
        }
      ]
    },
    {
      "cell_type": "code",
      "source": [
        "u = model(NfTensor)\n"
      ],
      "metadata": {
        "id": "PqjSEIqALPXR"
      },
      "execution_count": 24,
      "outputs": []
    },
    {
      "cell_type": "code",
      "source": [
        "# compute first derivatives of solution with respect to inputs (t, x)\n",
        "firstDerivatives = torch.autograd.grad(u, NfTensor, torch.ones_like(u), create_graph=True)[0]"
      ],
      "metadata": {
        "id": "MO9KTPu5LhtL"
      },
      "execution_count": 26,
      "outputs": []
    },
    {
      "cell_type": "code",
      "source": [
        "# firstDerivatives[:10,:]\n",
        "firstDerivatives.shape"
      ],
      "metadata": {
        "colab": {
          "base_uri": "https://localhost:8080/"
        },
        "id": "qmc4Hh0JLuY5",
        "outputId": "808bb9c7-a08c-427c-9152-38fd5baf7ccc"
      },
      "execution_count": 29,
      "outputs": [
        {
          "output_type": "execute_result",
          "data": {
            "text/plain": [
              "torch.Size([2000, 2])"
            ]
          },
          "metadata": {},
          "execution_count": 29
        }
      ]
    },
    {
      "cell_type": "code",
      "source": [
        "# compute second derivatives\n",
        "secondDerivatives = torch.autograd.grad(firstDerivatives, NfTensor,  retain_graph=True)[0] #torch.ones_like(firstDerivatives),"
      ],
      "metadata": {
        "colab": {
          "base_uri": "https://localhost:8080/",
          "height": 329
        },
        "id": "kjM2D_fwLjXh",
        "outputId": "4c920039-661d-46d8-f974-872b7b2f8da7"
      },
      "execution_count": 31,
      "outputs": [
        {
          "output_type": "error",
          "ename": "RuntimeError",
          "evalue": "ignored",
          "traceback": [
            "\u001b[0;31m---------------------------------------------------------------------------\u001b[0m",
            "\u001b[0;31mRuntimeError\u001b[0m                              Traceback (most recent call last)",
            "\u001b[0;32m<ipython-input-31-1b5625ef1ee0>\u001b[0m in \u001b[0;36m<module>\u001b[0;34m()\u001b[0m\n\u001b[1;32m      1\u001b[0m \u001b[0;31m# compute second derivatives\u001b[0m\u001b[0;34m\u001b[0m\u001b[0;34m\u001b[0m\u001b[0;34m\u001b[0m\u001b[0m\n\u001b[0;32m----> 2\u001b[0;31m \u001b[0msecondDerivatives\u001b[0m \u001b[0;34m=\u001b[0m \u001b[0mtorch\u001b[0m\u001b[0;34m.\u001b[0m\u001b[0mautograd\u001b[0m\u001b[0;34m.\u001b[0m\u001b[0mgrad\u001b[0m\u001b[0;34m(\u001b[0m\u001b[0mfirstDerivatives\u001b[0m\u001b[0;34m,\u001b[0m \u001b[0mNfTensor\u001b[0m\u001b[0;34m,\u001b[0m  \u001b[0mretain_graph\u001b[0m\u001b[0;34m=\u001b[0m\u001b[0;32mTrue\u001b[0m\u001b[0;34m)\u001b[0m\u001b[0;34m[\u001b[0m\u001b[0;36m0\u001b[0m\u001b[0;34m]\u001b[0m \u001b[0;31m#torch.ones_like(firstDerivatives),\u001b[0m\u001b[0;34m\u001b[0m\u001b[0;34m\u001b[0m\u001b[0m\n\u001b[0m",
            "\u001b[0;32m/usr/local/lib/python3.7/dist-packages/torch/autograd/__init__.py\u001b[0m in \u001b[0;36mgrad\u001b[0;34m(outputs, inputs, grad_outputs, retain_graph, create_graph, only_inputs, allow_unused, is_grads_batched)\u001b[0m\n\u001b[1;32m    258\u001b[0m \u001b[0;34m\u001b[0m\u001b[0m\n\u001b[1;32m    259\u001b[0m     \u001b[0mgrad_outputs_\u001b[0m \u001b[0;34m=\u001b[0m \u001b[0m_tensor_or_tensors_to_tuple\u001b[0m\u001b[0;34m(\u001b[0m\u001b[0mgrad_outputs\u001b[0m\u001b[0;34m,\u001b[0m \u001b[0mlen\u001b[0m\u001b[0;34m(\u001b[0m\u001b[0moutputs\u001b[0m\u001b[0;34m)\u001b[0m\u001b[0;34m)\u001b[0m\u001b[0;34m\u001b[0m\u001b[0;34m\u001b[0m\u001b[0m\n\u001b[0;32m--> 260\u001b[0;31m     \u001b[0mgrad_outputs_\u001b[0m \u001b[0;34m=\u001b[0m \u001b[0m_make_grads\u001b[0m\u001b[0;34m(\u001b[0m\u001b[0moutputs\u001b[0m\u001b[0;34m,\u001b[0m \u001b[0mgrad_outputs_\u001b[0m\u001b[0;34m,\u001b[0m \u001b[0mis_grads_batched\u001b[0m\u001b[0;34m=\u001b[0m\u001b[0mis_grads_batched\u001b[0m\u001b[0;34m)\u001b[0m\u001b[0;34m\u001b[0m\u001b[0;34m\u001b[0m\u001b[0m\n\u001b[0m\u001b[1;32m    261\u001b[0m \u001b[0;34m\u001b[0m\u001b[0m\n\u001b[1;32m    262\u001b[0m     \u001b[0;32mif\u001b[0m \u001b[0mretain_graph\u001b[0m \u001b[0;32mis\u001b[0m \u001b[0;32mNone\u001b[0m\u001b[0;34m:\u001b[0m\u001b[0;34m\u001b[0m\u001b[0;34m\u001b[0m\u001b[0m\n",
            "\u001b[0;32m/usr/local/lib/python3.7/dist-packages/torch/autograd/__init__.py\u001b[0m in \u001b[0;36m_make_grads\u001b[0;34m(outputs, grads, is_grads_batched)\u001b[0m\n\u001b[1;32m     65\u001b[0m             \u001b[0;32mif\u001b[0m \u001b[0mout\u001b[0m\u001b[0;34m.\u001b[0m\u001b[0mrequires_grad\u001b[0m\u001b[0;34m:\u001b[0m\u001b[0;34m\u001b[0m\u001b[0;34m\u001b[0m\u001b[0m\n\u001b[1;32m     66\u001b[0m                 \u001b[0;32mif\u001b[0m \u001b[0mout\u001b[0m\u001b[0;34m.\u001b[0m\u001b[0mnumel\u001b[0m\u001b[0;34m(\u001b[0m\u001b[0;34m)\u001b[0m \u001b[0;34m!=\u001b[0m \u001b[0;36m1\u001b[0m\u001b[0;34m:\u001b[0m\u001b[0;34m\u001b[0m\u001b[0;34m\u001b[0m\u001b[0m\n\u001b[0;32m---> 67\u001b[0;31m                     \u001b[0;32mraise\u001b[0m \u001b[0mRuntimeError\u001b[0m\u001b[0;34m(\u001b[0m\u001b[0;34m\"grad can be implicitly created only for scalar outputs\"\u001b[0m\u001b[0;34m)\u001b[0m\u001b[0;34m\u001b[0m\u001b[0;34m\u001b[0m\u001b[0m\n\u001b[0m\u001b[1;32m     68\u001b[0m                 \u001b[0mnew_grads\u001b[0m\u001b[0;34m.\u001b[0m\u001b[0mappend\u001b[0m\u001b[0;34m(\u001b[0m\u001b[0mtorch\u001b[0m\u001b[0;34m.\u001b[0m\u001b[0mones_like\u001b[0m\u001b[0;34m(\u001b[0m\u001b[0mout\u001b[0m\u001b[0;34m,\u001b[0m \u001b[0mmemory_format\u001b[0m\u001b[0;34m=\u001b[0m\u001b[0mtorch\u001b[0m\u001b[0;34m.\u001b[0m\u001b[0mpreserve_format\u001b[0m\u001b[0;34m)\u001b[0m\u001b[0;34m)\u001b[0m\u001b[0;34m\u001b[0m\u001b[0;34m\u001b[0m\u001b[0m\n\u001b[1;32m     69\u001b[0m             \u001b[0;32melse\u001b[0m\u001b[0;34m:\u001b[0m\u001b[0;34m\u001b[0m\u001b[0;34m\u001b[0m\u001b[0m\n",
            "\u001b[0;31mRuntimeError\u001b[0m: grad can be implicitly created only for scalar outputs"
          ]
        }
      ]
    },
    {
      "cell_type": "code",
      "source": [
        "secondDerivatives.shape"
      ],
      "metadata": {
        "colab": {
          "base_uri": "https://localhost:8080/"
        },
        "id": "vAE96ZPiL4s3",
        "outputId": "5acee058-198e-4043-d53c-2e33fcfad85e"
      },
      "execution_count": 30,
      "outputs": [
        {
          "output_type": "execute_result",
          "data": {
            "text/plain": [
              "torch.Size([2000, 2])"
            ]
          },
          "metadata": {},
          "execution_count": 30
        }
      ]
    },
    {
      "cell_type": "code",
      "source": [
        "# function to compute residual\n",
        "# input: d x 2 dimensional tensor containing d (t, x) value pairs from input domain\n",
        "# output: d x 1 dimensional tensor containing computed residual for 1D Burgers' equation\n",
        "def residual(pointsArray_tx, viscosity=(0.01/np.pi)):\n",
        "    # compute neural network solution approximations\n",
        "    u = model(pointsArray_tx)\n",
        "    # compute first derivatives of solution with respect to inputs (t, x)\n",
        "    firstDerivatives = torch.autograd.grad(u, pointsArray_tx, torch.ones_like(u), create_graph=True)[0]\n",
        "    # compute second derivatives\n",
        "    secondDerivatives = torch.autograd.grad(firstDerivatives, pointsArray_tx, torch.ones_like(firstDerivatives), retain_graph=True)[0]\n",
        "\n",
        "    if len(list(pointsArray_tx.size())) > 1:\n",
        "        ut = firstDerivatives[:,0] \n",
        "        ux = firstDerivatives[:,1]\n",
        "        uxx = secondDerivatives[:,1]\n",
        "    \n",
        "    else:\n",
        "        ut = firstDerivatives[0] \n",
        "        ux = firstDerivatives[1]\n",
        "        uxx = secondDerivatives[1]\n",
        "\n",
        "    return ut.flatten() + u.flatten() * ux.flatten() - viscosity * uxx.flatten()"
      ],
      "metadata": {
        "id": "x1YDbf1DR8-S"
      },
      "execution_count": 10,
      "outputs": []
    },
    {
      "cell_type": "code",
      "source": [
        "def meshPlot(xDim, yDim):\n",
        "\n",
        "    #NfTensor = torch.from_numpy(NfSet.astype(np.float32)).requires_grad_()\n",
        "\n",
        "    x = np.arange(tMin, tMax, (tMax-tMin)/xDim)\n",
        "    y = np.arange(xMin, xMax, (xMax-xMin)/yDim)\n",
        "    X,Y = np.meshgrid(x, y)\n",
        "\n",
        "    flattenedCoords = np.zeros((xDim*yDim, 2))\n",
        "    flattenedCoords[:,0] = X.flatten()\n",
        "    flattenedCoords[:,1] = Y.flatten()\n",
        "\n",
        "    flattenedCoords = torch.from_numpy(flattenedCoords.astype(np.float32))\n",
        "\n",
        "    \n",
        "\n",
        "    flattenedU = model(flattenedCoords)\n",
        "    U = torch.reshape(flattenedU, (yDim, xDim)).detach().numpy()\n",
        "\n",
        "    flattenedCoords = flattenedCoords.requires_grad_()\n",
        "\n",
        "    # print(flattenedCoords[-5:])\n",
        "    \n",
        "    flattenedResidual_err = residual(flattenedCoords)\n",
        "\n",
        "    # print('here')\n",
        "    residual_err = torch.reshape(flattenedResidual_err, (yDim, xDim)).detach().numpy()\n",
        "    \n",
        "    # surf1 = ax.plot_surface(X, Y, U, cmap=mycmap)\n",
        "    # fig.colorbar(surf1, ax=ax, shrink=0.5, aspect=5)\n",
        "\n",
        "    return X, Y, U, residual_err\n",
        "\n",
        "    "
      ],
      "metadata": {
        "id": "kxjuk_1eNUbG"
      },
      "execution_count": 11,
      "outputs": []
    },
    {
      "cell_type": "code",
      "source": [
        "model = NeuralNetwork()\n",
        "print(f'Parameters: {sum(p.numel() for p in model.parameters())}')\n",
        "# print(model)\n",
        "\n",
        "MSEfunc = nn.MSELoss()\n",
        "optimiser = torch.optim.Adam(model.parameters())\n",
        "# optimiser = torch.optim.LBFGS(model.parameters(), lr=1)\n",
        "\n",
        "epochs = 1000\n",
        "\n",
        "totalLoss = []\n",
        "uLoss = []\n",
        "fLoss = []\n",
        "\n",
        "uBatchSize = 1\n",
        "fBatchSize = 2000\n",
        "\n",
        "model.train()\n",
        "for epoch in range(epochs):\n",
        "\n",
        "\n",
        "    fLossEpoch = 0\n",
        "    \n",
        "    \n",
        "    for i in range(NfTensor.shape[0]//fBatchSize):\n",
        "        optimiser.zero_grad()\n",
        "        \n",
        "        MSEf = MSEfunc(residual(NfTensor[i*fBatchSize:(i+1)*fBatchSize]), torch.zeros(fBatchSize)) #  #torch.zeros(fBatchSize) #torch.tensor([0.])\n",
        "\n",
        "        fLossEpoch += MSEf.item()\n",
        "\n",
        "        MSEf.backward()\n",
        "        optimiser.step()\n",
        "    \n",
        "    \n",
        "    fLoss.append(fLossEpoch)\n",
        "\n",
        "    uLossEpoch = 0\n",
        "    \n",
        "    rng.shuffle(NuTrainingSet)\n",
        "    NuSetTensor = torch.from_numpy(NuTrainingSet.astype(np.float32))\n",
        "    NuX = NuSetTensor[:,:2].requires_grad_()\n",
        "    Nuy = NuSetTensor[:,2]\n",
        "\n",
        "    for i in range(NuX.shape[0]//uBatchSize):\n",
        "        optimiser.zero_grad()\n",
        "\n",
        "        MSEu = MSEfunc(model(NuX[i*uBatchSize:(i+1)*uBatchSize]), torch.reshape(Nuy[i*uBatchSize:(i+1)*uBatchSize], (uBatchSize,1)))\n",
        "\n",
        "        uLossEpoch += MSEu.item()\n",
        "        \n",
        "        MSEu.backward()\n",
        "\n",
        "        optimiser.step()\n",
        "    \n",
        "    uLoss.append(uLossEpoch)\n",
        "\n",
        "    \n",
        "\n",
        "    # loss = MSEu + MSEf \n",
        "    # totalLoss.append(loss.item()) \n",
        "    \n",
        "    # optimiser.step(closure)\n",
        "\n",
        "fig, axs = plt.subplots(1, 2, figsize=(10,4))\n",
        "\n",
        "axs[0].plot(totalLoss)\n",
        "axs[0].plot(uLoss)\n",
        "axs[0].plot(fLoss)\n",
        "\n",
        "axs[1].plot(totalLoss)\n",
        "axs[1].plot(uLoss)\n",
        "axs[1].plot(fLoss)\n",
        "axs[1].set_ylim([0, 1])\n",
        "\n",
        "# with torch.no_grad():\n",
        "model.eval()\n",
        "X, Y, U, res = meshPlot(1000, 1000) "
      ],
      "metadata": {
        "colab": {
          "base_uri": "https://localhost:8080/",
          "height": 286
        },
        "id": "FOHjRE4IWRBQ",
        "outputId": "a2bad76f-22c8-48e7-b39c-c071453bff38"
      },
      "execution_count": 12,
      "outputs": [
        {
          "output_type": "stream",
          "name": "stdout",
          "text": [
            "Parameters: 1761\n"
          ]
        },
        {
          "output_type": "display_data",
          "data": {
            "text/plain": [
              "<Figure size 720x288 with 2 Axes>"
            ],
            "image/png": "[encoded data removed]"
          },
          "metadata": {
            "needs_background": "light"
          }
        }
      ]
    },
    {
      "cell_type": "code",
      "source": [
        "# create figure using gridspec to structure subplots\n",
        "fig = plt.figure(\n",
        "    figsize=(12, 6),\n",
        "    constrained_layout=True\n",
        "    )\n",
        "gs = GridSpec(3, 20, figure=fig)\n",
        "\n",
        "# add solution plot\n",
        "solutionAx = fig.add_subplot(gs[:2,:10])\n",
        "solutionPlot = solutionAx.pcolormesh(X, Y, U, cmap='bwr')\n",
        "solutionAx.set_xlabel('Time, t (s)')\n",
        "solutionAx.set_ylabel('Space, x (m)')\n",
        "cbar = fig.colorbar(solutionPlot, use_gridspec=True)\n",
        "cbar.set_label('Solution, u (t, x) (m/s)')\n",
        "\n",
        "# add residual plot\n",
        "residualAx = fig.add_subplot(gs[:2,10:])\n",
        "residualPlot = residualAx.pcolormesh(X, Y, res, cmap='bwr')\n",
        "residualAx.set_xlabel('Time, t (s)')\n",
        "residualAx.set_ylabel('Space, x (m)')\n",
        "cbar = fig.colorbar(residualPlot, use_gridspec=True)\n",
        "cbar.set_label('Residual, u (t, x) (m/s)')\n",
        "\n",
        "# iteratively create solution snapshot subplots\n",
        "for i in range(5):\n",
        "    tPlot = fig.add_subplot(gs[2, i*4:(i+1)*4])    \n",
        "    if i < 4:\n",
        "        tPlot.plot(Y[:, i*(Y.shape[1]//4)], U[:, i*(Y.shape[1]//4)])\n",
        "        tPlot.set_title('Time: ' + str(i*X[0, X[0].shape[0]//4]) + 's')\n",
        "    else:\n",
        "        tPlot.plot(Y[:, -1], U[:, -1])\n",
        "        tPlot.set_title('Time: ' + str(tMax) + 's')\n",
        "    \n",
        "    tPlot.set_ylim([-1, 1])\n",
        "    tPlot.set_xlabel('Space, x (m)')\n",
        "    if i == 0:\n",
        "        tPlot.set_ylabel('Solution, u (t, x) (m/s)')\n",
        "\n",
        "# figure title\n",
        "fig.suptitle(\"1D Burgers' equation solution generated using PINN\", fontsize=16)\n",
        "\n",
        "# fig.savefig(\"1D Burgers' - PINN\", bbox_inches='tight')\n",
        "plt.show()"
      ],
      "metadata": {
        "colab": {
          "base_uri": "https://localhost:8080/",
          "height": 457
        },
        "id": "7LD2bixRkYGo",
        "outputId": "17264459-33a5-4a8b-9ab8-9b8569771cca"
      },
      "execution_count": 19,
      "outputs": [
        {
          "output_type": "display_data",
          "data": {
            "text/plain": [
              "<Figure size 864x432 with 9 Axes>"
            ],
            "image/png": "[encoded data removed]"
          },
          "metadata": {
            "needs_background": "light"
          }
        }
      ]
    },
    {
      "cell_type": "code",
      "source": [
        ""
      ],
      "metadata": {
        "id": "p3JGJ_uWeW8Y"
      },
      "execution_count": null,
      "outputs": []
    }
  ]
}