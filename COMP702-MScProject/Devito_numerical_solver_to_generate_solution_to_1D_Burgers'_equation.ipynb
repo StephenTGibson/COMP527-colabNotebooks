{
  "cells": [
    {
      "cell_type": "markdown",
      "metadata": {
        "id": "view-in-github",
        "colab_type": "text"
      },
      "source": [
        "<a href=\"https://colab.research.google.com/github/StephenTGibson/MScDataSci_21-22/blob/main/COMP702-MScProject/Devito_numerical_solver_to_generate_solution_to_1D_Burgers'_equation.ipynb\" target=\"_parent\"><img src=\"https://colab.research.google.com/assets/colab-badge.svg\" alt=\"Open In Colab\"/></a>"
      ]
    },
    {
      "cell_type": "code",
      "source": [
        "!pip install devito &> /dev/null"
      ],
      "metadata": {
        "id": "ek7yygkGgS_x"
      },
      "execution_count": null,
      "outputs": []
    },
    {
      "cell_type": "code",
      "source": [
        "import numpy as np\n",
        "import matplotlib.pyplot as plt\n",
        "\n",
        "from devito import Grid, TimeFunction, first_derivative, left\n",
        "from devito import Operator, Constant, Eq, solve"
      ],
      "metadata": {
        "id": "CLnLAzyrg2LV"
      },
      "execution_count": null,
      "outputs": []
    },
    {
      "cell_type": "code",
      "execution_count": null,
      "metadata": {
        "id": "N0JR8AyhgMdt",
        "colab": {
          "base_uri": "https://localhost:8080/"
        },
        "outputId": "72b4acdd-af80-4461-f52d-1845fbe41046"
      },
      "outputs": [
        {
          "output_type": "stream",
          "name": "stdout",
          "text": [
            "dx: 0.002\n",
            "dt: 0.0001\n",
            "T: 1.0\n"
          ]
        },
        {
          "output_type": "execute_result",
          "data": {
            "text/plain": [
              "10001"
            ]
          },
          "metadata": {},
          "execution_count": 699
        }
      ],
      "source": [
        "nu = 0.01/np.pi # viscosity constant\n",
        "\n",
        "nx = 1001 # no. x grid pts\n",
        "\n",
        "T = 1 # total duration\n",
        "\n",
        "# nt = 1001 # no. y (t) grid pts\n",
        "\n",
        "# dt = T / (nt-1) # time step\n",
        "\n",
        "dx = 2. / (nx-1) # distance step\n",
        "\n",
        "sigma = .00009\n",
        "\n",
        "# dt = sigma * dx / nu #* dy \n",
        "\n",
        "dt = 1e-4\n",
        "\n",
        "nt = int((T / dt) + 1)\n",
        "\n",
        "print(f'dx: {dx}\\ndt: {dt}\\nT: {dt*(nt-1)}')\n",
        "\n",
        "nt"
      ]
    },
    {
      "cell_type": "code",
      "execution_count": null,
      "metadata": {
        "id": "t2WYrar6gMd1"
      },
      "outputs": [],
      "source": [
        "grid = Grid(shape=(nx), extent=(2.))\n",
        "x = grid.dimensions\n",
        "t = grid.stepping_dim"
      ]
    },
    {
      "cell_type": "code",
      "source": [
        "u = TimeFunction(name='u', grid=grid, space_order=2)#, save=100)\n",
        "u.data.shape"
      ],
      "metadata": {
        "colab": {
          "base_uri": "https://localhost:8080/"
        },
        "id": "K4IxVnInhUNL",
        "outputId": "03a75172-12b8-4fae-9dd3-7b3a5d59d6a5"
      },
      "execution_count": null,
      "outputs": [
        {
          "output_type": "execute_result",
          "data": {
            "text/plain": [
              "(2, 1001)"
            ]
          },
          "metadata": {},
          "execution_count": 701
        }
      ]
    },
    {
      "cell_type": "code",
      "source": [
        "a = Constant(name='a')\n",
        "eq_u = Eq(u.dt + u*u.dxl, a*u.dx2)#, subdomain=grid.interior)\n",
        "# eq_u"
      ],
      "metadata": {
        "id": "cc-bazPyh19a"
      },
      "execution_count": null,
      "outputs": []
    },
    {
      "cell_type": "code",
      "source": [
        "stencil_u = solve(eq_u, u.forward)\n",
        "# stencil_u"
      ],
      "metadata": {
        "id": "BVw5sKDYirVG"
      },
      "execution_count": null,
      "outputs": []
    },
    {
      "cell_type": "code",
      "source": [
        "update_u = Eq(u.forward, stencil_u)\n",
        "# update_u"
      ],
      "metadata": {
        "id": "R9v7N_vdiyg9"
      },
      "execution_count": null,
      "outputs": []
    },
    {
      "cell_type": "code",
      "source": [
        "bc_u = [Eq(u[t+1, 0], 0.)]  # left\n",
        "bc_u += [Eq(u[t+1, nx-1], 0.)]  # right\n",
        "bc_u"
      ],
      "metadata": {
        "id": "PuAWtb-Li39x",
        "colab": {
          "base_uri": "https://localhost:8080/"
        },
        "outputId": "e85fd1ad-2e8f-41bb-ff93-44e78dfb0bc6"
      },
      "execution_count": null,
      "outputs": [
        {
          "output_type": "execute_result",
          "data": {
            "text/plain": [
              "[Eq(u[t + 1, 0], 0.0), Eq(u[t + 1, 1000], 0.0)]"
            ]
          },
          "metadata": {},
          "execution_count": 705
        }
      ]
    },
    {
      "cell_type": "code",
      "source": [
        "op = Operator([update_u] + bc_u)"
      ],
      "metadata": {
        "id": "IGp3-XyijFb6"
      },
      "execution_count": null,
      "outputs": []
    },
    {
      "cell_type": "code",
      "source": [
        "u.data[:] = 0\n",
        "# u.data[0,10:20] = 2\n",
        "dummyX = np.arange(-1, 1+dx, dx)\n",
        "u.data[0] = -1 * np.sin(np.pi * dummyX)"
      ],
      "metadata": {
        "id": "p5ThMh_494sn"
      },
      "execution_count": null,
      "outputs": []
    },
    {
      "cell_type": "code",
      "source": [
        "batchSize = 100\n",
        "\n",
        "results = np.zeros((nx, int(nt/batchSize)))\n",
        "results[:,0] = u.data[0].copy()\n",
        "results.shape\n",
        "\n",
        "for timeStep in range(1, int(nt/batchSize)):    \n",
        "    summary = op.apply(time=batchSize, dt=dt, a=nu)\n",
        "    results[:,timeStep] = u.data[0].copy()"
      ],
      "metadata": {
        "colab": {
          "base_uri": "https://localhost:8080/"
        },
        "collapsed": true,
        "id": "EFDWZYgcjIN_",
        "outputId": "13bb3939-8925-455d-e05d-27d1704b5c90"
      },
      "execution_count": null,
      "outputs": [
        {
          "output_type": "stream",
          "name": "stderr",
          "text": [
            "Operator `Kernel` ran in 0.01 s\n",
            "Operator `Kernel` ran in 0.01 s\n",
            "Operator `Kernel` ran in 0.01 s\n",
            "Operator `Kernel` ran in 0.01 s\n",
            "Operator `Kernel` ran in 0.01 s\n",
            "Operator `Kernel` ran in 0.01 s\n",
            "Operator `Kernel` ran in 0.01 s\n",
            "Operator `Kernel` ran in 0.01 s\n",
            "Operator `Kernel` ran in 0.01 s\n",
            "Operator `Kernel` ran in 0.01 s\n",
            "Operator `Kernel` ran in 0.01 s\n",
            "Operator `Kernel` ran in 0.01 s\n",
            "Operator `Kernel` ran in 0.01 s\n",
            "Operator `Kernel` ran in 0.01 s\n",
            "Operator `Kernel` ran in 0.01 s\n",
            "Operator `Kernel` ran in 0.01 s\n",
            "Operator `Kernel` ran in 0.01 s\n",
            "Operator `Kernel` ran in 0.01 s\n",
            "Operator `Kernel` ran in 0.01 s\n",
            "Operator `Kernel` ran in 0.01 s\n",
            "Operator `Kernel` ran in 0.01 s\n",
            "Operator `Kernel` ran in 0.01 s\n",
            "Operator `Kernel` ran in 0.01 s\n",
            "Operator `Kernel` ran in 0.01 s\n",
            "Operator `Kernel` ran in 0.01 s\n",
            "Operator `Kernel` ran in 0.01 s\n",
            "Operator `Kernel` ran in 0.01 s\n",
            "Operator `Kernel` ran in 0.01 s\n",
            "Operator `Kernel` ran in 0.01 s\n",
            "Operator `Kernel` ran in 0.01 s\n",
            "Operator `Kernel` ran in 0.01 s\n",
            "Operator `Kernel` ran in 0.01 s\n",
            "Operator `Kernel` ran in 0.01 s\n",
            "Operator `Kernel` ran in 0.01 s\n",
            "Operator `Kernel` ran in 0.01 s\n",
            "Operator `Kernel` ran in 0.01 s\n",
            "Operator `Kernel` ran in 0.01 s\n",
            "Operator `Kernel` ran in 0.01 s\n",
            "Operator `Kernel` ran in 0.01 s\n",
            "Operator `Kernel` ran in 0.01 s\n",
            "Operator `Kernel` ran in 0.01 s\n",
            "Operator `Kernel` ran in 0.01 s\n",
            "Operator `Kernel` ran in 0.01 s\n",
            "Operator `Kernel` ran in 0.01 s\n",
            "Operator `Kernel` ran in 0.01 s\n",
            "Operator `Kernel` ran in 0.01 s\n",
            "Operator `Kernel` ran in 0.01 s\n",
            "Operator `Kernel` ran in 0.01 s\n",
            "Operator `Kernel` ran in 0.01 s\n",
            "Operator `Kernel` ran in 0.01 s\n",
            "Operator `Kernel` ran in 0.01 s\n",
            "Operator `Kernel` ran in 0.01 s\n",
            "Operator `Kernel` ran in 0.01 s\n",
            "Operator `Kernel` ran in 0.01 s\n",
            "Operator `Kernel` ran in 0.01 s\n",
            "Operator `Kernel` ran in 0.01 s\n",
            "Operator `Kernel` ran in 0.01 s\n",
            "Operator `Kernel` ran in 0.02 s\n",
            "Operator `Kernel` ran in 0.01 s\n",
            "Operator `Kernel` ran in 0.01 s\n",
            "Operator `Kernel` ran in 0.01 s\n",
            "Operator `Kernel` ran in 0.01 s\n",
            "Operator `Kernel` ran in 0.01 s\n",
            "Operator `Kernel` ran in 0.01 s\n",
            "Operator `Kernel` ran in 0.01 s\n",
            "Operator `Kernel` ran in 0.01 s\n",
            "Operator `Kernel` ran in 0.01 s\n",
            "Operator `Kernel` ran in 0.01 s\n",
            "Operator `Kernel` ran in 0.01 s\n",
            "Operator `Kernel` ran in 0.01 s\n",
            "Operator `Kernel` ran in 0.01 s\n",
            "Operator `Kernel` ran in 0.01 s\n",
            "Operator `Kernel` ran in 0.01 s\n",
            "Operator `Kernel` ran in 0.01 s\n",
            "Operator `Kernel` ran in 0.01 s\n",
            "Operator `Kernel` ran in 0.01 s\n",
            "Operator `Kernel` ran in 0.01 s\n",
            "Operator `Kernel` ran in 0.01 s\n",
            "Operator `Kernel` ran in 0.01 s\n",
            "Operator `Kernel` ran in 0.01 s\n",
            "Operator `Kernel` ran in 0.01 s\n",
            "Operator `Kernel` ran in 0.01 s\n",
            "Operator `Kernel` ran in 0.01 s\n",
            "Operator `Kernel` ran in 0.01 s\n",
            "Operator `Kernel` ran in 0.01 s\n",
            "Operator `Kernel` ran in 0.01 s\n",
            "Operator `Kernel` ran in 0.01 s\n",
            "Operator `Kernel` ran in 0.01 s\n",
            "Operator `Kernel` ran in 0.01 s\n",
            "Operator `Kernel` ran in 0.01 s\n",
            "Operator `Kernel` ran in 0.01 s\n",
            "Operator `Kernel` ran in 0.01 s\n",
            "Operator `Kernel` ran in 0.01 s\n",
            "Operator `Kernel` ran in 0.01 s\n",
            "Operator `Kernel` ran in 0.01 s\n",
            "Operator `Kernel` ran in 0.01 s\n",
            "Operator `Kernel` ran in 0.01 s\n",
            "Operator `Kernel` ran in 0.01 s\n",
            "Operator `Kernel` ran in 0.01 s\n"
          ]
        }
      ]
    },
    {
      "cell_type": "code",
      "source": [
        "xPlot = np.array([i*dt*batchSize for i in range(int(nt/batchSize))])\n",
        "yPlot = np.array([i*dx for i in range(int(nx))])\n",
        "X, Y = np.meshgrid(xPlot,yPlot)\n",
        "print(X.shape)\n",
        "print(Y.shape)\n",
        "results.shape"
      ],
      "metadata": {
        "colab": {
          "base_uri": "https://localhost:8080/"
        },
        "collapsed": true,
        "id": "WXykAaO7qIDW",
        "outputId": "91baad2f-c012-4d86-b060-2bf4662764ea"
      },
      "execution_count": null,
      "outputs": [
        {
          "output_type": "stream",
          "name": "stdout",
          "text": [
            "(1001, 100)\n",
            "(1001, 100)\n"
          ]
        },
        {
          "output_type": "execute_result",
          "data": {
            "text/plain": [
              "(1001, 100)"
            ]
          },
          "metadata": {},
          "execution_count": 709
        }
      ]
    },
    {
      "cell_type": "code",
      "source": [
        "fig, ax = plt.subplots(\n",
        "    figsize=(8, 4),\n",
        "    constrained_layout=True\n",
        "    )\n",
        "# gs = GridSpec(3, 10, figure=fig)\n",
        "\n",
        "# solutionPlot = fig.add_subplot(gs[:2,:5])\n",
        "cf = ax.pcolormesh(X,Y,results, cmap='bwr')\n",
        "\n",
        "fig.colorbar(cf, ax=ax)"
      ],
      "metadata": {
        "colab": {
          "base_uri": "https://localhost:8080/",
          "height": 330
        },
        "id": "5YafILLVs1gD",
        "outputId": "0b563ab5-26c6-45b9-9ecc-935d7bd810fa"
      },
      "execution_count": null,
      "outputs": [
        {
          "output_type": "execute_result",
          "data": {
            "text/plain": [
              "<matplotlib.colorbar.Colorbar at 0x7f6c6af98410>"
            ]
          },
          "metadata": {},
          "execution_count": 710
        },
        {
          "output_type": "display_data",
          "data": {
            "text/plain": [
              "<Figure size 576x288 with 2 Axes>"
            ],
            "image/png": "[encoded data removed]"
          },
          "metadata": {
            "needs_background": "light"
          }
        }
      ]
    },
    {
      "cell_type": "code",
      "source": [
        ""
      ],
      "metadata": {
        "id": "M8Ns8_Z38AeL"
      },
      "execution_count": null,
      "outputs": []
    }
  ],
  "metadata": {
    "@webio": {
      "lastCommId": null,
      "lastKernelId": null
    },
    "hide_input": false,
    "kernelspec": {
      "display_name": "Python 3",
      "language": "python",
      "name": "python3"
    },
    "language_info": {
      "codemirror_mode": {
        "name": "ipython",
        "version": 3
      },
      "file_extension": ".py",
      "mimetype": "text/x-python",
      "name": "python",
      "nbconvert_exporter": "python",
      "pygments_lexer": "ipython3",
      "version": "3.8.3"
    },
    "latex_envs": {
      "LaTeX_envs_menu_present": true,
      "autoclose": false,
      "autocomplete": true,
      "bibliofile": "biblio.bib",
      "cite_by": "apalike",
      "current_citInitial": 1,
      "eqLabelWithNumbers": true,
      "eqNumInitial": 1,
      "hotkeys": {
        "equation": "Ctrl-E",
        "itemize": "Ctrl-I"
      },
      "labels_anchors": false,
      "latex_user_defs": false,
      "report_style_numbering": false,
      "user_envs_cfg": false
    },
    "varInspector": {
      "cols": {
        "lenName": 16,
        "lenType": 16,
        "lenVar": 40
      },
      "kernels_config": {
        "python": {
          "delete_cmd_postfix": "",
          "delete_cmd_prefix": "del ",
          "library": "var_list.py",
          "varRefreshCmd": "print(var_dic_list())"
        },
        "r": {
          "delete_cmd_postfix": ") ",
          "delete_cmd_prefix": "rm(",
          "library": "var_list.r",
          "varRefreshCmd": "cat(var_dic_list()) "
        }
      },
      "types_to_exclude": [
        "module",
        "function",
        "builtin_function_or_method",
        "instance",
        "_Feature"
      ],
      "window_display": false
    },
    "colab": {
      "name": "Devito numerical solver to generate solution to 1D Burgers' equation.ipynb",
      "provenance": [],
      "collapsed_sections": [],
      "include_colab_link": true
    }
  },
  "nbformat": 4,
  "nbformat_minor": 0
}