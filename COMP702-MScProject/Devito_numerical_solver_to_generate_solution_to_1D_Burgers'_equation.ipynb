{
  "cells": [
    {
      "cell_type": "markdown",
      "metadata": {
        "id": "view-in-github",
        "colab_type": "text"
      },
      "source": [
        "<a href=\"https://colab.research.google.com/github/StephenTGibson/MScDataSci_21-22/blob/main/COMP702-MScProject/Devito_numerical_solver_to_generate_solution_to_1D_Burgers'_equation.ipynb\" target=\"_parent\"><img src=\"https://colab.research.google.com/assets/colab-badge.svg\" alt=\"Open In Colab\"/></a>"
      ]
    },
    {
      "cell_type": "markdown",
      "source": [
        "https://www.devitoproject.org/devito/index.html"
      ],
      "metadata": {
        "id": "LG59ozhwnHBQ"
      }
    },
    {
      "cell_type": "code",
      "source": [
        "# install devito\n",
        "!pip install devito &> /dev/null"
      ],
      "metadata": {
        "id": "ek7yygkGgS_x"
      },
      "execution_count": 1,
      "outputs": []
    },
    {
      "cell_type": "code",
      "source": [
        "# import libraries and tools\n",
        "import numpy as np\n",
        "import matplotlib.pyplot as plt\n",
        "from devito import Grid, TimeFunction, Operator, Constant, Eq, solve, first_derivative, left"
      ],
      "metadata": {
        "id": "CLnLAzyrg2LV"
      },
      "execution_count": 108,
      "outputs": []
    },
    {
      "cell_type": "code",
      "execution_count": 109,
      "metadata": {
        "id": "N0JR8AyhgMdt"
      },
      "outputs": [],
      "source": [
        "# define viscosity\n",
        "nu = 0.01/np.pi"
      ]
    },
    {
      "cell_type": "code",
      "source": [
        "# define discretisation\n",
        "\n",
        "# extent x direction\n",
        "X = 2.0\n",
        "# number of x grid points\n",
        "nx = 1001\n",
        "# x direction step size\n",
        "dx = X / (nx - 1)\n",
        "\n",
        "# time extent (total duration)\n",
        "T = 1 \n",
        "# time step\n",
        "dt = 1e-4\n",
        "# number of time points\n",
        "nt = int((T / dt) + 1)"
      ],
      "metadata": {
        "id": "dv7rI1UuoG4L"
      },
      "execution_count": 110,
      "outputs": []
    },
    {
      "cell_type": "code",
      "execution_count": 111,
      "metadata": {
        "id": "t2WYrar6gMd1"
      },
      "outputs": [],
      "source": [
        "# create 1D grid and assign dimension variable names\n",
        "grid = Grid(shape=(nx), extent=(X))\n",
        "\n",
        "x = grid.dimensions\n",
        "t = grid.stepping_dim"
      ]
    },
    {
      "cell_type": "code",
      "source": [
        "# create time function on grid\n",
        "# space order of 2 to enable 2nd derivative\n",
        "u = TimeFunction(name='u', grid=grid, space_order=2)"
      ],
      "metadata": {
        "id": "K4IxVnInhUNL"
      },
      "execution_count": 112,
      "outputs": []
    },
    {
      "cell_type": "code",
      "source": [
        "# create constant (viscosity)\n",
        "a = Constant(name='a')\n",
        "# define 1D Burgers' equation\n",
        "equation_u = Eq(u.dt + u*u.dxl, a*u.dx2)\n",
        "equation_u"
      ],
      "metadata": {
        "id": "cc-bazPyh19a",
        "outputId": "2a01160f-fc28-4308-da03-6290bd0e283e",
        "colab": {
          "base_uri": "https://localhost:8080/",
          "height": 54
        }
      },
      "execution_count": 113,
      "outputs": [
        {
          "output_type": "execute_result",
          "data": {
            "text/plain": [
              "Eq(u(t, x)*Derivative(u(t, x), x) + Derivative(u(t, x), t), a*Derivative(u(t, x), (x, 2)))"
            ],
            "text/latex": "$\\displaystyle u{\\left(t,x \\right)} \\frac{\\partial}{\\partial x} u{\\left(t,x \\right)} + \\frac{\\partial}{\\partial t} u{\\left(t,x \\right)} = a \\frac{\\partial^{2}}{\\partial x^{2}} u{\\left(t,x \\right)}$"
          },
          "metadata": {},
          "execution_count": 113
        }
      ]
    },
    {
      "cell_type": "code",
      "source": [
        "# create stencil by solving for next time step\n",
        "stencil_u = solve(equation_u, u.forward)\n",
        "stencil_u"
      ],
      "metadata": {
        "id": "BVw5sKDYirVG",
        "outputId": "d0b92b2b-c7d4-4b27-fdcd-d38db92a3dce",
        "colab": {
          "base_uri": "https://localhost:8080/",
          "height": 58
        }
      },
      "execution_count": 114,
      "outputs": [
        {
          "output_type": "execute_result",
          "data": {
            "text/plain": [
              "dt*(a*Derivative(u(t, x), (x, 2)) - u(t, x)*Derivative(u(t, x), x) + u(t, x)/dt)"
            ],
            "text/latex": "$\\displaystyle dt \\left(a \\frac{\\partial^{2}}{\\partial x^{2}} u{\\left(t,x \\right)} - u{\\left(t,x \\right)} \\frac{\\partial}{\\partial x} u{\\left(t,x \\right)} + \\frac{u{\\left(t,x \\right)}}{dt}\\right)$"
          },
          "metadata": {},
          "execution_count": 114
        }
      ]
    },
    {
      "cell_type": "code",
      "source": [
        "# define equation for next time step\n",
        "update_u = Eq(u.forward, stencil_u)\n",
        "update_u"
      ],
      "metadata": {
        "id": "R9v7N_vdiyg9",
        "outputId": "67b88cb5-4c03-4f7d-87b5-52cb475b4699",
        "colab": {
          "base_uri": "https://localhost:8080/",
          "height": 58
        }
      },
      "execution_count": 115,
      "outputs": [
        {
          "output_type": "execute_result",
          "data": {
            "text/plain": [
              "Eq(u(t + dt, x), dt*(a*Derivative(u(t, x), (x, 2)) - u(t, x)*Derivative(u(t, x), x) + u(t, x)/dt))"
            ],
            "text/latex": "$\\displaystyle u{\\left(t + dt,x \\right)} = dt \\left(a \\frac{\\partial^{2}}{\\partial x^{2}} u{\\left(t,x \\right)} - u{\\left(t,x \\right)} \\frac{\\partial}{\\partial x} u{\\left(t,x \\right)} + \\frac{u{\\left(t,x \\right)}}{dt}\\right)$"
          },
          "metadata": {},
          "execution_count": 115
        }
      ]
    },
    {
      "cell_type": "code",
      "source": [
        "# define boundary conditions\n",
        "# u = 0 at min and max extent of x\n",
        "boundaryConditions = [Eq(u[t+1, 0], 0.)]\n",
        "boundaryConditions += [Eq(u[t+1, nx], 0.)]"
      ],
      "metadata": {
        "id": "PuAWtb-Li39x"
      },
      "execution_count": 116,
      "outputs": []
    },
    {
      "cell_type": "code",
      "source": [
        "# define operator based on equation and boundary conditions\n",
        "op = Operator([update_u] + boundaryConditions)"
      ],
      "metadata": {
        "id": "IGp3-XyijFb6"
      },
      "execution_count": 117,
      "outputs": []
    },
    {
      "cell_type": "code",
      "source": [
        "# set solution space to 0s\n",
        "u.data[:] = 0\n",
        "\n",
        "# create a dummy x array from -1 to +1\n",
        "dummyX = np.arange(-1, 1+dx, dx)\n",
        "\n",
        "# set initial conditions using dummy x array\n",
        "u.data[0] = -1 * np.sin(np.pi * dummyX)"
      ],
      "metadata": {
        "id": "p5ThMh_494sn"
      },
      "execution_count": 118,
      "outputs": []
    },
    {
      "cell_type": "code",
      "source": [
        "# define number of time steps to compute before storing result for plotting\n",
        "batchSize = 100\n",
        "\n",
        "# initialise empty array to store computed solution\n",
        "results = np.zeros((nx, int(nt / batchSize)))\n",
        "# store initial conditions in results array\n",
        "results[:,0] = u.data[0].copy()\n",
        "\n",
        "# iterate over result steps\n",
        "# start from 1 not 0 as results at step 0 are the initial conditions\n",
        "for timeStep in range(1, int(nt / batchSize)):\n",
        "    # compute solution after batchSize time steps\n",
        "    summary = op.apply(time=batchSize, dt=dt, a=nu)\n",
        "    # store computed solution in results array\n",
        "    results[:,timeStep] = u.data[0].copy()"
      ],
      "metadata": {
        "colab": {
          "base_uri": "https://localhost:8080/"
        },
        "collapsed": true,
        "id": "EFDWZYgcjIN_",
        "outputId": "7d2b6394-50b4-48f0-c20b-b377504564f7"
      },
      "execution_count": 119,
      "outputs": [
        {
          "output_type": "stream",
          "name": "stderr",
          "text": [
            "Operator `Kernel` ran in 0.01 s\n",
            "Operator `Kernel` ran in 0.01 s\n",
            "Operator `Kernel` ran in 0.01 s\n",
            "Operator `Kernel` ran in 0.01 s\n",
            "Operator `Kernel` ran in 0.01 s\n",
            "Operator `Kernel` ran in 0.01 s\n",
            "Operator `Kernel` ran in 0.01 s\n",
            "Operator `Kernel` ran in 0.01 s\n",
            "Operator `Kernel` ran in 0.01 s\n",
            "Operator `Kernel` ran in 0.01 s\n",
            "Operator `Kernel` ran in 0.01 s\n",
            "Operator `Kernel` ran in 0.01 s\n",
            "Operator `Kernel` ran in 0.01 s\n",
            "Operator `Kernel` ran in 0.01 s\n",
            "Operator `Kernel` ran in 0.01 s\n",
            "Operator `Kernel` ran in 0.01 s\n",
            "Operator `Kernel` ran in 0.01 s\n",
            "Operator `Kernel` ran in 0.01 s\n",
            "Operator `Kernel` ran in 0.01 s\n",
            "Operator `Kernel` ran in 0.01 s\n",
            "Operator `Kernel` ran in 0.01 s\n",
            "Operator `Kernel` ran in 0.01 s\n",
            "Operator `Kernel` ran in 0.01 s\n",
            "Operator `Kernel` ran in 0.01 s\n",
            "Operator `Kernel` ran in 0.01 s\n",
            "Operator `Kernel` ran in 0.01 s\n",
            "Operator `Kernel` ran in 0.01 s\n",
            "Operator `Kernel` ran in 0.01 s\n",
            "Operator `Kernel` ran in 0.01 s\n",
            "Operator `Kernel` ran in 0.01 s\n",
            "Operator `Kernel` ran in 0.01 s\n",
            "Operator `Kernel` ran in 0.01 s\n",
            "Operator `Kernel` ran in 0.01 s\n",
            "Operator `Kernel` ran in 0.01 s\n",
            "Operator `Kernel` ran in 0.01 s\n",
            "Operator `Kernel` ran in 0.01 s\n",
            "Operator `Kernel` ran in 0.01 s\n",
            "Operator `Kernel` ran in 0.01 s\n",
            "Operator `Kernel` ran in 0.01 s\n",
            "Operator `Kernel` ran in 0.01 s\n",
            "Operator `Kernel` ran in 0.01 s\n",
            "Operator `Kernel` ran in 0.01 s\n",
            "Operator `Kernel` ran in 0.01 s\n",
            "Operator `Kernel` ran in 0.01 s\n",
            "Operator `Kernel` ran in 0.01 s\n",
            "Operator `Kernel` ran in 0.01 s\n",
            "Operator `Kernel` ran in 0.01 s\n",
            "Operator `Kernel` ran in 0.01 s\n",
            "Operator `Kernel` ran in 0.01 s\n",
            "Operator `Kernel` ran in 0.01 s\n",
            "Operator `Kernel` ran in 0.01 s\n",
            "Operator `Kernel` ran in 0.01 s\n",
            "Operator `Kernel` ran in 0.01 s\n",
            "Operator `Kernel` ran in 0.01 s\n",
            "Operator `Kernel` ran in 0.01 s\n",
            "Operator `Kernel` ran in 0.01 s\n",
            "Operator `Kernel` ran in 0.01 s\n",
            "Operator `Kernel` ran in 0.01 s\n",
            "Operator `Kernel` ran in 0.01 s\n",
            "Operator `Kernel` ran in 0.01 s\n",
            "Operator `Kernel` ran in 0.01 s\n",
            "Operator `Kernel` ran in 0.01 s\n",
            "Operator `Kernel` ran in 0.01 s\n",
            "Operator `Kernel` ran in 0.01 s\n",
            "Operator `Kernel` ran in 0.01 s\n",
            "Operator `Kernel` ran in 0.01 s\n",
            "Operator `Kernel` ran in 0.01 s\n",
            "Operator `Kernel` ran in 0.01 s\n",
            "Operator `Kernel` ran in 0.01 s\n",
            "Operator `Kernel` ran in 0.01 s\n",
            "Operator `Kernel` ran in 0.01 s\n",
            "Operator `Kernel` ran in 0.01 s\n",
            "Operator `Kernel` ran in 0.01 s\n",
            "Operator `Kernel` ran in 0.01 s\n",
            "Operator `Kernel` ran in 0.01 s\n",
            "Operator `Kernel` ran in 0.01 s\n",
            "Operator `Kernel` ran in 0.01 s\n",
            "Operator `Kernel` ran in 0.01 s\n",
            "Operator `Kernel` ran in 0.01 s\n",
            "Operator `Kernel` ran in 0.01 s\n",
            "Operator `Kernel` ran in 0.01 s\n",
            "Operator `Kernel` ran in 0.01 s\n",
            "Operator `Kernel` ran in 0.01 s\n",
            "Operator `Kernel` ran in 0.01 s\n",
            "Operator `Kernel` ran in 0.01 s\n",
            "Operator `Kernel` ran in 0.01 s\n",
            "Operator `Kernel` ran in 0.01 s\n",
            "Operator `Kernel` ran in 0.01 s\n",
            "Operator `Kernel` ran in 0.01 s\n",
            "Operator `Kernel` ran in 0.01 s\n",
            "Operator `Kernel` ran in 0.01 s\n",
            "Operator `Kernel` ran in 0.01 s\n",
            "Operator `Kernel` ran in 0.01 s\n",
            "Operator `Kernel` ran in 0.01 s\n",
            "Operator `Kernel` ran in 0.01 s\n",
            "Operator `Kernel` ran in 0.01 s\n",
            "Operator `Kernel` ran in 0.01 s\n",
            "Operator `Kernel` ran in 0.01 s\n",
            "Operator `Kernel` ran in 0.01 s\n"
          ]
        }
      ]
    },
    {
      "cell_type": "code",
      "source": [
        "# define arrays for creating meshgrid for plotting solution results\n",
        "xPlot = np.arange(0, T, dt*batchSize)\n",
        "yPlot = np.arange(-1, 1+dx, dx)\n",
        "# create meshgrid from arrays\n",
        "X, Y = np.meshgrid(xPlot, yPlot)"
      ],
      "metadata": {
        "collapsed": true,
        "id": "WXykAaO7qIDW"
      },
      "execution_count": 120,
      "outputs": []
    },
    {
      "cell_type": "code",
      "source": [
        "\n",
        "fig, ax = plt.subplots(\n",
        "    figsize=(8, 4),\n",
        "    constrained_layout=True\n",
        "    )\n",
        "# gs = GridSpec(3, 10, figure=fig)\n",
        "\n",
        "# solutionPlot = fig.add_subplot(gs[:2,:5])\n",
        "cf = ax.pcolormesh(X,Y,results, cmap='bwr')\n",
        "\n",
        "fig.colorbar(cf, ax=ax)"
      ],
      "metadata": {
        "colab": {
          "base_uri": "https://localhost:8080/",
          "height": 330
        },
        "id": "5YafILLVs1gD",
        "outputId": "a9854f88-c67b-4f5c-efcf-805267a75f3e"
      },
      "execution_count": 121,
      "outputs": [
        {
          "output_type": "execute_result",
          "data": {
            "text/plain": [
              "<matplotlib.colorbar.Colorbar at 0x7f73e41edfd0>"
            ]
          },
          "metadata": {},
          "execution_count": 121
        },
        {
          "output_type": "display_data",
          "data": {
            "text/plain": [
              "<Figure size 576x288 with 2 Axes>"
            ],
            "image/png": "[encoded data removed]"
          },
          "metadata": {
            "needs_background": "light"
          }
        }
      ]
    },
    {
      "cell_type": "code",
      "source": [
        ""
      ],
      "metadata": {
        "id": "M8Ns8_Z38AeL"
      },
      "execution_count": null,
      "outputs": []
    }
  ],
  "metadata": {
    "@webio": {
      "lastCommId": null,
      "lastKernelId": null
    },
    "hide_input": false,
    "kernelspec": {
      "display_name": "Python 3",
      "language": "python",
      "name": "python3"
    },
    "language_info": {
      "codemirror_mode": {
        "name": "ipython",
        "version": 3
      },
      "file_extension": ".py",
      "mimetype": "text/x-python",
      "name": "python",
      "nbconvert_exporter": "python",
      "pygments_lexer": "ipython3",
      "version": "3.8.3"
    },
    "latex_envs": {
      "LaTeX_envs_menu_present": true,
      "autoclose": false,
      "autocomplete": true,
      "bibliofile": "biblio.bib",
      "cite_by": "apalike",
      "current_citInitial": 1,
      "eqLabelWithNumbers": true,
      "eqNumInitial": 1,
      "hotkeys": {
        "equation": "Ctrl-E",
        "itemize": "Ctrl-I"
      },
      "labels_anchors": false,
      "latex_user_defs": false,
      "report_style_numbering": false,
      "user_envs_cfg": false
    },
    "varInspector": {
      "cols": {
        "lenName": 16,
        "lenType": 16,
        "lenVar": 40
      },
      "kernels_config": {
        "python": {
          "delete_cmd_postfix": "",
          "delete_cmd_prefix": "del ",
          "library": "var_list.py",
          "varRefreshCmd": "print(var_dic_list())"
        },
        "r": {
          "delete_cmd_postfix": ") ",
          "delete_cmd_prefix": "rm(",
          "library": "var_list.r",
          "varRefreshCmd": "cat(var_dic_list()) "
        }
      },
      "types_to_exclude": [
        "module",
        "function",
        "builtin_function_or_method",
        "instance",
        "_Feature"
      ],
      "window_display": false
    },
    "colab": {
      "name": "Devito numerical solver to generate solution to 1D Burgers' equation.ipynb",
      "provenance": [],
      "collapsed_sections": [],
      "include_colab_link": true
    }
  },
  "nbformat": 4,
  "nbformat_minor": 0
}