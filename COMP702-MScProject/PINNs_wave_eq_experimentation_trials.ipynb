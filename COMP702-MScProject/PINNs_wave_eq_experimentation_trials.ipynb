{
  "cells": [
    {
      "cell_type": "markdown",
      "metadata": {
        "id": "view-in-github",
        "colab_type": "text"
      },
      "source": [
        "<a href=\"https://colab.research.google.com/github/StephenTGibson/MScDataSci_21-22/blob/main/COMP702-MScProject/PINNs_wave_eq_experimentation_trials.ipynb\" target=\"_parent\"><img src=\"https://colab.research.google.com/assets/colab-badge.svg\" alt=\"Open In Colab\"/></a>"
      ]
    },
    {
      "cell_type": "markdown",
      "source": [
        "https://www.devitoproject.org/devito/index.html"
      ],
      "metadata": {
        "id": "LG59ozhwnHBQ"
      }
    },
    {
      "cell_type": "code",
      "source": [
        "# install devito\n",
        "!pip install devito &> /dev/null"
      ],
      "metadata": {
        "id": "ek7yygkGgS_x"
      },
      "execution_count": 1,
      "outputs": []
    },
    {
      "cell_type": "code",
      "source": [
        "# import libraries and tools\n",
        "import numpy as np\n",
        "rng = np.random.default_rng()\n",
        "import pandas as pd\n",
        "\n",
        "from time import perf_counter\n",
        "\n",
        "import matplotlib\n",
        "import matplotlib.pyplot as plt\n",
        "from matplotlib.colors import TwoSlopeNorm\n",
        "# from matplotlib.gridspec import GridSpec\n",
        "import seaborn as sns\n",
        "\n",
        "from google.colab import drive\n",
        "drive.mount('/content/gdrive')\n",
        "\n",
        "import torch\n",
        "from torch import nn\n",
        "\n",
        "from devito import Grid, TimeFunction, Operator, Constant, Eq, solve, first_derivative, left\n",
        "\n",
        "from examples.seismic import Model, plot_velocity\n",
        "from examples.seismic import TimeAxis\n",
        "from examples.seismic import RickerSource\n",
        "from examples.seismic import Receiver\n",
        "\n",
        "import sys\n",
        "!git clone https://github.com/StephenTGibson/MScDataSci_21-22.git\n",
        "sys.path.append('/content/MScDataSci_21-22/COMP702-MScProject')\n",
        "import utilityFunctions\n",
        "\n",
        "device = torch.device('cuda:0' if torch.cuda.is_available() else 'cpu')\n",
        "device"
      ],
      "metadata": {
        "id": "CLnLAzyrg2LV",
        "colab": {
          "base_uri": "https://localhost:8080/"
        },
        "outputId": "f7acd2bc-edcd-475a-9b23-bf18642c775e"
      },
      "execution_count": 2,
      "outputs": [
        {
          "output_type": "stream",
          "name": "stdout",
          "text": [
            "Mounted at /content/gdrive\n",
            "Cloning into 'MScDataSci_21-22'...\n",
            "remote: Enumerating objects: 430, done.\u001b[K\n",
            "remote: Counting objects: 100% (242/242), done.\u001b[K\n",
            "remote: Compressing objects: 100% (114/114), done.\u001b[K\n",
            "remote: Total 430 (delta 144), reused 210 (delta 127), pack-reused 188\u001b[K\n",
            "Receiving objects: 100% (430/430), 14.72 MiB | 16.19 MiB/s, done.\n",
            "Resolving deltas: 100% (259/259), done.\n"
          ]
        },
        {
          "output_type": "execute_result",
          "data": {
            "text/plain": [
              "device(type='cuda', index=0)"
            ]
          },
          "metadata": {},
          "execution_count": 2
        }
      ]
    },
    {
      "cell_type": "markdown",
      "source": [
        "## General definition"
      ],
      "metadata": {
        "id": "UwvUNEqmXe8t"
      }
    },
    {
      "cell_type": "code",
      "source": [
        "xLimit_m = 1.e3 ### METRES ###\n",
        "zLimit_m = 1.e3 ### METRES ###\n",
        "tLimit_s = 0.5 ### SECONDS ###"
      ],
      "metadata": {
        "id": "4_opqhLmXeFv"
      },
      "execution_count": 3,
      "outputs": []
    },
    {
      "cell_type": "markdown",
      "source": [
        "## Devito"
      ],
      "metadata": {
        "id": "qsVZGqs6XfR_"
      }
    },
    {
      "cell_type": "code",
      "source": [
        "nx = 200 ### NODES ###\n",
        "nz = 200 ### NODES ###\n",
        "\n",
        "absorbingLayer = 10 ### NODES ###\n",
        "\n",
        "dx = xLimit_m / (nx-1) ### METRES ###\n",
        "dz = zLimit_m / (nz-1) ### METRES ###\n",
        "\n",
        "xRange = np.arange(0, nx*dx, dx)\n",
        "zRange = np.arange(0, nz*dz, dz)\n",
        "xGrid, zGrid = np.meshgrid(xRange, zRange)\n",
        "\n",
        "origin = (0., 0.)\n",
        "spacing = (dx, dz)\n",
        "shape = (nx, nz)\n",
        "\n",
        "v = np.empty(shape, dtype=np.float32)\n",
        "v[:] = 1. ### KM/S ###\n",
        "# v[:, int(nz*0.5):] = 1.5  ### KM/S ###\n",
        "\n",
        "devitoModel = Model(vp=v,\n",
        "                    origin=origin,\n",
        "                    shape=shape,\n",
        "                    spacing=spacing,\n",
        "                    space_order=2,\n",
        "                    nbl=absorbingLayer,\n",
        "                    bcs='damp',\n",
        "                    )\n",
        "\n",
        "dt = devitoModel.critical_dt\n",
        "tLimit_ms = tLimit_s * 1e3 ### MILLISECONDS ###\n",
        "nt = tLimit_ms / dt\n",
        "timeRange = TimeAxis(start=0, stop=tLimit_ms, step=dt)\n",
        "\n",
        "u = TimeFunction(name='u',\n",
        "                 grid=devitoModel.grid,\n",
        "                 time_order=2,\n",
        "                 space_order=2,\n",
        "                 save=int(nt)+2,\n",
        "                 )\n",
        "\n",
        "pde = devitoModel.m * u.dt2 - u.laplace + devitoModel.damp * u.dt\n",
        "stencil = Eq(u.forward, solve(pde, u.forward))\n",
        "\n",
        "f0 = 0.01 ### kHZ ###\n",
        "source = RickerSource(name='src',\n",
        "                      grid=devitoModel.grid,\n",
        "                      f0=f0,\n",
        "                      npoint=1,\n",
        "                      time_range=timeRange,\n",
        "                      )\n",
        "\n",
        "source.coordinates.data[0, 0] = int(xLimit_m*0.5) ### METRES ###\n",
        "source.coordinates.data[0, 1] = int(zLimit_m*0.5) ### METRES ###\n",
        "\n",
        "sourceTerm = source.inject(field=u.forward, expr=source * dt**2 / devitoModel.m)\n",
        "\n",
        "op = Operator([stencil] + sourceTerm, subs=devitoModel.spacing_map)"
      ],
      "metadata": {
        "id": "w668tLoSwMN3",
        "colab": {
          "base_uri": "https://localhost:8080/"
        },
        "outputId": "f7407230-0a6f-46f7-e65d-c139e859be17"
      },
      "execution_count": 4,
      "outputs": [
        {
          "output_type": "stream",
          "name": "stderr",
          "text": [
            "Operator `initdamp` ran in 0.01 s\n",
            "INFO:Devito:Operator `initdamp` ran in 0.01 s\n",
            "Operator `pad_vp` ran in 0.01 s\n",
            "INFO:Devito:Operator `pad_vp` ran in 0.01 s\n"
          ]
        }
      ]
    },
    {
      "cell_type": "markdown",
      "source": [
        "# Define medium"
      ],
      "metadata": {
        "id": "77uAe4aL7Ga8"
      }
    },
    {
      "cell_type": "code",
      "source": [
        "# log start time to measure performance\n",
        "startTime = perf_counter()\n",
        "\n",
        "# generate solution\n",
        "summary = op.apply(time=int(nt), dt=dt)\n",
        "\n",
        "# log end time to measure performance\n",
        "endTime = perf_counter()\n",
        "# print total training time\n",
        "print(f'Training duration: {(endTime-startTime):.2f}s')\n",
        "\n",
        "FD_solutionWithSrc = np.array(u.data[:,\n",
        "                              absorbingLayer:u.data.shape[1]-absorbingLayer,\n",
        "                              absorbingLayer:u.data.shape[2]-absorbingLayer\n",
        "                              ])\n",
        "FD_solutionWithSrc.shape"
      ],
      "metadata": {
        "colab": {
          "base_uri": "https://localhost:8080/"
        },
        "id": "KCr8PzAH83Bx",
        "outputId": "a1d02391-4a50-492b-b027-a88d5b3f1015"
      },
      "execution_count": 5,
      "outputs": [
        {
          "output_type": "stream",
          "name": "stderr",
          "text": [
            "Operator `Kernel` ran in 0.02 s\n",
            "INFO:Devito:Operator `Kernel` ran in 0.02 s\n"
          ]
        },
        {
          "output_type": "stream",
          "name": "stdout",
          "text": [
            "Training duration: 0.31s\n"
          ]
        },
        {
          "output_type": "execute_result",
          "data": {
            "text/plain": [
              "(164, 200, 200)"
            ]
          },
          "metadata": {},
          "execution_count": 5
        }
      ]
    },
    {
      "cell_type": "markdown",
      "source": [
        "# PINN\n",
        "\n",
        "PDE loss term is 20,000 points  \n",
        "while 3,600 points are set for each of the early-time snapshot data"
      ],
      "metadata": {
        "id": "uutFgcEjX8lV"
      }
    },
    {
      "cell_type": "markdown",
      "source": [
        "NsxArray consists of Nsx randomly sampled points from time sx (t, x, z, u)"
      ],
      "metadata": {
        "id": "HsN4IXKHllBq"
      }
    },
    {
      "cell_type": "code",
      "source": [
        "# define physics informed neural network for 1D Burgers' equation\n",
        "class PINN_2D_AcousticWave(torch.nn.Module):\n",
        "    def __init__(self,\n",
        "                 hiddenLayers,\n",
        "                 nodesPerLayer,\n",
        "                 activationFunction,\n",
        "                 uTrain,\n",
        "                 uTrainDeltas,\n",
        "                 maxArray,\n",
        "                 NuTotal,\n",
        "                 NfTotal,\n",
        "                 trainingResample,\n",
        "                 NuRange,\n",
        "                 maxIterations,\n",
        "                 maxEvaluations,\n",
        "                 l1,\n",
        "                 l2,\n",
        "                 verbose = True\n",
        "                 ):\n",
        "        super(PINN_2D_AcousticWave, self).__init__()\n",
        "        # network structure\n",
        "        self.layers = torch.nn.ModuleList()\n",
        "        self.activationFunction = activationFunction\n",
        "        # input layer\n",
        "        self.layers.append(torch.nn.Linear(3, nodesPerLayer))\n",
        "        # hidden layers\n",
        "        for _ in range(hiddenLayers):\n",
        "            self.layers.append(torch.nn.Linear(nodesPerLayer, nodesPerLayer))\n",
        "        # output layer\n",
        "        self.layers.append(torch.nn.Linear(nodesPerLayer, 1))\n",
        "\n",
        "        self.uTrain = uTrain\n",
        "        self.uTrainDeltas = uTrainDeltas\n",
        "\n",
        "        self.maxArray = maxArray\n",
        "\n",
        "        self.inputMax = max(maxArray[0]*1.e3, maxArray[1], maxArray[2])\n",
        "        # self.maxArray[-1] = uTrain.max()\n",
        "        self.uMax = uTrain.max()\n",
        "        self.uMin = uTrain.min()\n",
        "        \n",
        "        self.NuTotal = NuTotal\n",
        "        self.NfTotal = NfTotal\n",
        "\n",
        "        self.trainingResample = trainingResample\n",
        "        self.NuRange = NuRange\n",
        "\n",
        "        self.l1 = l1\n",
        "        self.l2 = l2\n",
        "\n",
        "        self.trainTime = 0.\n",
        "        self.history = np.empty((0,3), float)        \n",
        "\n",
        "        # boolean whether to print update during training\n",
        "        self.verbose = verbose\n",
        "\n",
        "        self.AdamOptimiser = torch.optim.Adam(\n",
        "            self.parameters(),\n",
        "            # lr=1.e-4, # default lr=0.001, \n",
        "            )\n",
        "\n",
        "        # define L-BFGS optimiser\n",
        "        self.LBFGS_optimiser = torch.optim.LBFGS(\n",
        "            self.parameters(),\n",
        "            max_iter=maxIterations,\n",
        "            max_eval=maxEvaluations,\n",
        "            # tolerance_grad=1e-8, # (default: 1e-5)\n",
        "            # tolerance_change=1e-11, # (default: 1e-9)\n",
        "            # history_size=1, # default: 100\n",
        "            # tolerance_change= 1.0 * np.finfo(float).eps,\n",
        "            line_search_fn='strong_wolfe',\n",
        "            )\n",
        "\n",
        "    def createNf(self, tLim):\n",
        "        # create collocation training points selected uniformly randomly across input domain: t - x - z\n",
        "        Nf = np.array([\n",
        "            rng.uniform(-1, 1, self.NfTotal),\n",
        "            rng.uniform(-1, 1, self.NfTotal),\n",
        "            rng.uniform(-1, 1, self.NfTotal),\n",
        "        ]).T\n",
        "\n",
        "        Nf[:,0] = Nf[:,0] * (self.maxArray[0]*1.e3 / self.inputMax)\n",
        "\n",
        "        # Nf[:,1] = Nf[:,1] * (self.maxArray[1] / self.inputMax)\n",
        "        # Nf[:,2] = Nf[:,2] * (self.maxArray[2] / self.inputMax)\n",
        "\n",
        "        return torch.from_numpy(Nf.astype(np.float32)).requires_grad_().to(device)\n",
        "\n",
        "    def createNu(self):\n",
        "        if self.NuRange:\n",
        "            Nu = np.array([\n",
        "                rng.choice(self.uTrain.shape[0], self.NuTotal, replace=True),\n",
        "                rng.choice(self.uTrain.shape[1], self.NuTotal, replace=True),\n",
        "                rng.choice(self.uTrain.shape[2], self.NuTotal, replace=True),\n",
        "                np.zeros(self.NuTotal)\n",
        "                ]).astype(float).T\n",
        "            Nu[:,3] = self.uTrain[\n",
        "                Nu[:,0].astype(int),\n",
        "                Nu[:,1].astype(int),\n",
        "                Nu[:,2].astype(int)]\n",
        "            Nu[:,:3] *= self.uTrainDeltas\n",
        "        else:\n",
        "            N = int(self.NuTotal*0.5)\n",
        "            Nu1 = np.array([\n",
        "                        np.zeros(N),\n",
        "                        rng.choice(self.uTrain.shape[1], N, replace=True),\n",
        "                        rng.choice(self.uTrain.shape[2], N, replace=True),\n",
        "                        np.zeros(N),\n",
        "                     ]).astype(float).T\n",
        "            Nu1[:,3] = self.uTrain[0][\n",
        "                            Nu1[:,1].astype(int),\n",
        "                            Nu1[:,2].astype(int)]\n",
        "            Nu1[:,:3] *= self.uTrainDeltas\n",
        "            Nu2 = np.array([\n",
        "                        np.ones(N) * (self.uTrain.shape[0] - 1),\n",
        "                        rng.choice(self.uTrain.shape[1], N, replace=True),\n",
        "                        rng.choice(self.uTrain.shape[2], N, replace=True),\n",
        "                        np.zeros(N),\n",
        "                     ]).astype(float).T\n",
        "            Nu2[:,3] = self.uTrain[-1][\n",
        "                                Nu2[:,1].astype(int),\n",
        "                                Nu2[:,2].astype(int)]\n",
        "            Nu2[:,:3] *= self.uTrainDeltas\n",
        "\n",
        "            Nu = np.concatenate([Nu1, Nu2])\n",
        "\n",
        "        # normalise\n",
        "        Nu[:,:-1] = 2 * Nu[:,:-1] / self.maxArray[:-1] - 1\n",
        "\n",
        "        Nu[:,0] = Nu[:,0] * (self.maxArray[0]*1.e3 / self.inputMax)\n",
        "\n",
        "        # Nu[:,1] = Nu[:,1] * (self.maxArray[1] / self.inputMax)\n",
        "        # Nu[:,2] = Nu[:,2] * (self.maxArray[2] / self.inputMax)\n",
        "\n",
        "        Nu[:,-1] = 2 * (Nu[:,-1] - self.uMin) / (self.uMax - self.uMin) - 1\n",
        "\n",
        "        return torch.from_numpy(Nu[:,:-1].astype(np.float32)).requires_grad_().to(device),\\\n",
        "                    torch.from_numpy(Nu[:,-1].astype(np.float32)).to(device)\n",
        "\n",
        "    # compute solution via forward pass\n",
        "    def forward(self, X):\n",
        "        input = X\n",
        "        for layer in self.layers[:-1]:\n",
        "            input = self.activationFunction(layer(input))\n",
        "        return self.layers[-1](input).flatten()\n",
        "\n",
        "    # compute PDE residual\n",
        "    def residual(self, X, m):\n",
        "        t = X[:,0]\n",
        "        x = X[:,1]\n",
        "        z = X[:,2]\n",
        "        X = torch.stack((t,x,z)).T\n",
        "        # compute solution\n",
        "        u = self.forward(X)\n",
        "        du_dNf = torch.autograd.grad(u, X, torch.ones_like(u), create_graph=True)[0]\n",
        "        d2u_dt2 = torch.autograd.grad(du_dNf[:,0], t, torch.ones_like(u), create_graph=True)[0]\n",
        "        d2u_dx2 = torch.autograd.grad(du_dNf[:,1], x, torch.ones_like(u), create_graph=True)[0]\n",
        "        d2u_dz2 = torch.autograd.grad(du_dNf[:,2], z, torch.ones_like(u), create_graph=True)[0]\n",
        "\n",
        "        # compute PDE residual\n",
        "        return d2u_dt2 - m**2 * (d2u_dx2 + d2u_dz2)\n",
        "\n",
        "    def medium(self, Nf):\n",
        "\n",
        "        m = torch.ones(Nf.shape[0]).to(device)# + (Nf[:,2] > 0) * 0.5\n",
        "\n",
        "        m = m / m.max()\n",
        "\n",
        "        return m\n",
        "\n",
        "    def lossFunc(self, Nu_pred, Nu_targ, Nf_r):\n",
        "        self.iterationCount += 1\n",
        "        # compute constituent loss components\n",
        "        NuLoss = torch.mean(torch.square(Nu_pred - Nu_targ))\n",
        "        # if Nf_r != None:\n",
        "        # print(Nf_r.shape)\n",
        "        NfLoss = torch.mean(torch.square(Nf_r))\n",
        "        # else:\n",
        "        #     NfLoss = torch.tensor([0.]).to(device)\n",
        "        totalLoss = self.l2*NuLoss + self.l1*NfLoss\n",
        "        # totalLoss = self.l2*NuLoss\n",
        "        # store losses\n",
        "        self.history = np.append(self.history,\n",
        "                                 np.array([\n",
        "                                           [totalLoss.item()],\n",
        "                                           [NuLoss.item()],\n",
        "                                           [NfLoss.item()],\n",
        "                                           ]).T,\n",
        "                                 axis=0)\n",
        "        # print training progress update (every (2**2)th epoch initially, then every 1000th)\n",
        "        if self.verbose and ((np.log2(self.iterationCount) % 1 == 0 and self.iterationCount < 1000) or self.iterationCount % 1000 == 0):\n",
        "            seconds = perf_counter() - self.startTime\n",
        "            print(f'Epoch: {self.iterationCount} --- Elapsed time: {int(seconds/60)}m{int(seconds%60)}s --- Loss: {self.history[-1,0]}')\n",
        "        return totalLoss\n",
        "\n",
        "    def Adam_trainer(self, epochs, epochsNuOnly):\n",
        "        self.train()\n",
        "        self.iterationCount = 0\n",
        "        self.startTime = perf_counter()\n",
        "\n",
        "        tLim = self.maxArray[0]\n",
        "\n",
        "        Nf = self.createNf(tLim)\n",
        "        Nu, Nu_targ = self.createNu()\n",
        "\n",
        "        m = self.medium(Nf)\n",
        "\n",
        "        for epoch in range(epochs):\n",
        "            self.AdamOptimiser.zero_grad()\n",
        "            Nu_pred = self.forward(Nu)\n",
        "\n",
        "            if epoch > epochsNuOnly:\n",
        "                Nf_r = self.residual(Nf, m)\n",
        "            else:\n",
        "                Nf_r = torch.tensor([0.]).to(device)\n",
        "            lossValue = self.lossFunc(Nu_pred, Nu_targ, Nf_r)\n",
        "            lossValue.backward()\n",
        "            self.AdamOptimiser.step()\n",
        "            if self.trainingResample:\n",
        "                Nf = self.createNf(tLim)\n",
        "                Nu, Nu_targ = self.createNu()\n",
        "        self.eval()\n",
        "        self.trainTime += (perf_counter() - self.startTime)\n",
        "    \n",
        "    def LBFGS_trainer(self):\n",
        "        # set to train mode\n",
        "        self.train()\n",
        "        # initialise variables to track progress\n",
        "        self.iterationCount = 0\n",
        "        self.startTime = perf_counter()\n",
        "        # Prepare training tensors\n",
        "        tLim = self.maxArray[0]\n",
        "\n",
        "        Nf = self.createNf(tLim)\n",
        "        Nu, Nu_targ = self.createNu()\n",
        "\n",
        "        m = self.medium(Nf)\n",
        "\n",
        "        # define closure function for L-BFGS optimiser\n",
        "        def closure():\n",
        "            self.LBFGS_optimiser.zero_grad()\n",
        "            Nu_pred = self.forward(Nu)\n",
        "            Nf_r = self.residual(Nf, m)\n",
        "            lossValue = self.lossFunc(Nu_pred, Nu_targ, Nf_r)\n",
        "            lossValue.backward()\n",
        "            return lossValue\n",
        "        # define closure function for L-BFGS optimiser\n",
        "        def closureResample():\n",
        "            Nf = self.createNf(tLim)\n",
        "            Nu, Nu_targ = self.createNu()\n",
        "            self.LBFGS_optimiser.zero_grad()\n",
        "            Nu_pred = self.forward(Nu)\n",
        "            Nf_r = self.residual(Nf, m)\n",
        "            lossValue = self.lossFunc(Nu_pred, Nu_targ, Nf_r)\n",
        "            lossValue.backward()\n",
        "            return lossValue\n",
        "\n",
        "        # run optimiser\n",
        "        if self.trainingResample:\n",
        "            self.LBFGS_optimiser.step(closureResample)\n",
        "        else:\n",
        "            self.LBFGS_optimiser.step(closure)\n",
        "        # training complete, set to evaluation mode\n",
        "        self.eval()\n",
        "        self.trainTime += (perf_counter() - self.startTime)\n",
        "\n",
        "    def generateOutput(self, FD_solution_nt):\n",
        "\n",
        "        t = np.arange(0, FD_solution_nt) * self.uTrainDeltas[0]\n",
        "        x = np.arange(0, self.maxArray[1] + self.uTrainDeltas[1], self.uTrainDeltas[1])\n",
        "        z = np.arange(0, self.maxArray[2] + self.uTrainDeltas[2], self.uTrainDeltas[2])\n",
        "\n",
        "        T, X, Z = np.meshgrid(t, x, z, indexing='ij')\n",
        "\n",
        "        N = np.stack((T.flatten(), X.flatten(), Z.flatten())).T\n",
        "\n",
        "        N = 2 * N / self.maxArray[:-1] - 1\n",
        "\n",
        "        N[:,0] = N[:,0] * self.maxArray[0]\n",
        "\n",
        "        U = self.forward(torch.from_numpy(N.astype(np.float32)).to(device)).cpu().detach().numpy()\n",
        "\n",
        "        U = (U + 1.) * 0.5 * (self.uMax - self.uMin) + self.uMin\n",
        "\n",
        "        return np.reshape(U, (t.shape[0], x.shape[0], z.shape[0]))"
      ],
      "metadata": {
        "id": "PwjakWe082Kc"
      },
      "execution_count": 6,
      "outputs": []
    },
    {
      "cell_type": "code",
      "source": [
        "hyperParas=pd.read_csv('/content/gdrive/My Drive/wavePINNs/testRecord.csv', index_col=0)\n",
        "testNumber = hyperParas.shape[0]+1\n",
        "testNumber"
      ],
      "metadata": {
        "id": "3oH0L6rQ1bKd",
        "colab": {
          "base_uri": "https://localhost:8080/"
        },
        "outputId": "045b9fdf-e20b-40d5-f46d-5e29f1c2b106"
      },
      "execution_count": 457,
      "outputs": [
        {
          "output_type": "execute_result",
          "data": {
            "text/plain": [
              "45"
            ]
          },
          "metadata": {},
          "execution_count": 457
        }
      ]
    },
    {
      "cell_type": "code",
      "source": [
        "# define network characteristics\n",
        "hiddenLayers = 4\n",
        "nodesPerLayer = 30\n",
        "activationFunction = nn.Tanh()\n",
        "actFuncDf = 'Tanh'\n",
        "\n",
        "uTrainSlices = 10\n",
        "sourceEndTime = 2/f0 ### MILLISECONDS ###\n",
        "fdSliceStart = int(sourceEndTime/dt) + 1\n",
        "FD_solution = FD_solutionWithSrc[fdSliceStart:]\n",
        "\n",
        "uTrain = FD_solution[:uTrainSlices]\n",
        "\n",
        "uTrainDeltas = np.array([\n",
        "    dt*1e-3,\n",
        "    dx,\n",
        "    dz,])\n",
        "maxArray = np.array([\n",
        "    FD_solution.shape[0] * dt * 1e-3,\n",
        "    xLimit_m,\n",
        "    zLimit_m,\n",
        "    0.,])\n",
        "\n",
        "NuTotal = 7200 \n",
        "NfTotal = 40000\n",
        "trainingResample = False\n",
        "NuRange = False\n",
        "maxIterations = 50000\n",
        "maxEvaluations = 50000\n",
        "l1 = 1. # residual (PDE)\n",
        "l2 = 1. # snapshots\n",
        "\n",
        "model = PINN_2D_AcousticWave(hiddenLayers, nodesPerLayer, activationFunction,\n",
        "                             uTrain, uTrainDeltas, maxArray,\n",
        "                             NuTotal, NfTotal,\n",
        "                             trainingResample, NuRange,\n",
        "                             maxIterations, maxEvaluations,\n",
        "                             l1, l2)\n",
        "\n",
        "parasDf = sum(p.numel() for p in model.parameters())\n",
        "print(f'Network parameters: {parasDf}')\n",
        "\n",
        "model = model.to(device)"
      ],
      "metadata": {
        "colab": {
          "base_uri": "https://localhost:8080/"
        },
        "id": "GImHpcyIDd9q",
        "outputId": "4560a668-da62-4d3a-8cb7-77866fbad446"
      },
      "execution_count": 462,
      "outputs": [
        {
          "output_type": "stream",
          "name": "stdout",
          "text": [
            "Network parameters: 3871\n"
          ]
        }
      ]
    },
    {
      "cell_type": "code",
      "source": [
        "model.LBFGS_trainer()\n",
        "optDf = 'LBFGS'\n",
        "\n",
        "# model.Adam_trainer(40000, 0)\n",
        "# optDf = 'Adam'"
      ],
      "metadata": {
        "colab": {
          "base_uri": "https://localhost:8080/"
        },
        "id": "hkWgWF9aLbnx",
        "outputId": "744c4e71-3eb9-41c4-e82f-13ee7ddfacd2"
      },
      "execution_count": null,
      "outputs": [
        {
          "output_type": "stream",
          "name": "stdout",
          "text": [
            "Epoch: 1 --- Elapsed time: 0m0s --- Loss: 0.08569713681936264\n",
            "Epoch: 2 --- Elapsed time: 0m0s --- Loss: 0.055984608829021454\n",
            "Epoch: 4 --- Elapsed time: 0m0s --- Loss: 0.03324129432439804\n",
            "Epoch: 8 --- Elapsed time: 0m0s --- Loss: 0.0323803536593914\n",
            "Epoch: 16 --- Elapsed time: 0m0s --- Loss: 0.03234991058707237\n",
            "Epoch: 32 --- Elapsed time: 0m1s --- Loss: 0.032327886670827866\n",
            "Epoch: 64 --- Elapsed time: 0m2s --- Loss: 0.03231509402394295\n",
            "Epoch: 128 --- Elapsed time: 0m5s --- Loss: 0.03230768442153931\n",
            "Epoch: 256 --- Elapsed time: 0m10s --- Loss: 0.03227628022432327\n",
            "Epoch: 512 --- Elapsed time: 0m21s --- Loss: 0.03171752393245697\n",
            "Epoch: 1000 --- Elapsed time: 0m43s --- Loss: 0.029984252527356148\n",
            "Epoch: 2000 --- Elapsed time: 1m27s --- Loss: 0.027970818802714348\n",
            "Epoch: 3000 --- Elapsed time: 2m13s --- Loss: 0.026668870821595192\n",
            "Epoch: 4000 --- Elapsed time: 3m4s --- Loss: 0.025169501081109047\n",
            "Epoch: 5000 --- Elapsed time: 3m52s --- Loss: 0.023644093424081802\n",
            "Epoch: 6000 --- Elapsed time: 4m36s --- Loss: 0.021979330107569695\n",
            "Epoch: 7000 --- Elapsed time: 5m19s --- Loss: 0.02051675319671631\n",
            "Epoch: 8000 --- Elapsed time: 6m3s --- Loss: 0.01922537200152874\n",
            "Epoch: 9000 --- Elapsed time: 6m48s --- Loss: 0.01811072789132595\n",
            "Epoch: 10000 --- Elapsed time: 7m34s --- Loss: 0.017089223489165306\n",
            "Epoch: 11000 --- Elapsed time: 8m19s --- Loss: 0.016209756955504417\n",
            "Epoch: 12000 --- Elapsed time: 9m4s --- Loss: 0.015459422022104263\n"
          ]
        }
      ]
    },
    {
      "cell_type": "code",
      "source": [
        "fig = utilityFunctions.trainingHistoryPlot(model.history,\n",
        "                                           ['Total loss', 'Nu loss', 'Nf loss'],\n",
        "                                           'Loss',\n",
        "                                           f'Test ref: {testNumber} - Training loss',\n",
        "                                           yLogAx=True,\n",
        "                                           )\n",
        "\n",
        "plt.savefig(f'/content/gdrive/My Drive/wavePINNs/TestRef:{testNumber}_loss_curve:_2d_wave_trials', bbox_inches='tight')"
      ],
      "metadata": {
        "id": "K7nDH76Idkzm"
      },
      "execution_count": null,
      "outputs": []
    },
    {
      "cell_type": "code",
      "source": [
        "torch.cuda.empty_cache()\n",
        "PINN_solution = model.generateOutput(FD_solution.shape[0])\n",
        "\n",
        "difference_solution = FD_solution-PINN_solution"
      ],
      "metadata": {
        "id": "KUzt0mhRYSPw"
      },
      "execution_count": null,
      "outputs": []
    },
    {
      "cell_type": "markdown",
      "source": [
        "## Plots\n",
        "Compute u from PINN for all t, x, z in same results form as Devito (np array: t-z-x)"
      ],
      "metadata": {
        "id": "glDr2dM9MxrZ"
      }
    },
    {
      "cell_type": "code",
      "source": [
        "numPlots = 5\n",
        "\n",
        "norm = matplotlib.colors.Normalize(min(FD_solution.min(), PINN_solution.min()), max(FD_solution.max(), PINN_solution.max()))\n",
        "cmap = matplotlib.cm.get_cmap('bwr')\n",
        "mapping = matplotlib.cm.ScalarMappable(norm=norm, cmap=cmap)\n",
        "fig, axs = plt.subplots(3, numPlots,\n",
        "                        figsize=(18, 10),\n",
        "                        constrained_layout=True,\n",
        "                        sharex=True,\n",
        "                        sharey=True,\n",
        "                        )\n",
        "axs[0,0].invert_yaxis()\n",
        "\n",
        "for idx, ax in enumerate(axs[0]):\n",
        "    plot = ax.pcolormesh(xGrid, zGrid, FD_solution[idx * int(FD_solution.shape[0]/numPlots)].T, norm=norm, cmap='bwr')\n",
        "    if idx == 0:\n",
        "        # ax.axhline(y=0.5e3, xmin=0., xmax=1.e3, linewidth=1, color = 'k', linestyle='--')\n",
        "        # ax.text(40, 400, '1km/s')\n",
        "        # ax.text(40, 900, '1.5km/s')\n",
        "        ax.set_ylabel('z (m)')\n",
        "    ax.set_title(f'Time: {(uTrainDeltas[0] * idx * int(FD_solution.shape[0]/numPlots)):.2f}s')\n",
        "for idx, ax in enumerate(axs[1]):    \n",
        "    plot = ax.pcolormesh(xGrid, zGrid, PINN_solution[idx * int(PINN_solution.shape[0]/numPlots)].T, cmap='bwr', norm=norm)\n",
        "    # ax.set_xlabel('x (m)')\n",
        "    if idx == 0:\n",
        "        ax.set_ylabel('z (m)')\n",
        "clb = fig.colorbar(mapping, ax=axs[:2].ravel(), aspect=60)\n",
        "clb.set_label('Wave potential')\n",
        "\n",
        "normErr = matplotlib.colors.Normalize(difference_solution.min(), difference_solution.max())\n",
        "# cmap = matplotlib.cm.get_cmap('bwr')\n",
        "mappingErr = matplotlib.cm.ScalarMappable(norm=normErr, cmap=cmap)\n",
        "for idx, ax in enumerate(axs[2]):    \n",
        "    plot = ax.pcolormesh(xGrid, zGrid, difference_solution[idx * int(difference_solution.shape[0]/numPlots)].T, cmap='bwr')\n",
        "    ax.set_xlabel('x (m)')\n",
        "    if idx == 0:\n",
        "        ax.set_ylabel('z (m)')\n",
        "clbErr = fig.colorbar(mappingErr, ax=axs[2].ravel(), aspect=30)\n",
        "clbErr.set_label('Error')\n",
        "\n",
        "fig.text(0., 1., f'Nu: [0.00, {(uTrainDeltas[0] * uTrainSlices):.2f}]s')\n",
        "\n",
        "fig.suptitle(f'Test ref: {testNumber} - Finite difference (upper) versus PINN (lower) 2D wave propagation', fontsize=20)\n",
        "plt.savefig(f'/content/gdrive/My Drive/wavePINNs/Test_ref:{testNumber}_2d_wave_prop', bbox_inches='tight')\n",
        "plt.show()"
      ],
      "metadata": {
        "id": "AjQMfe3uD4e1"
      },
      "execution_count": null,
      "outputs": []
    },
    {
      "cell_type": "code",
      "source": [
        "relativeL2error = np.linalg.norm(FD_solution-PINN_solution) / np.linalg.norm(FD_solution)\n",
        "relativeL2error"
      ],
      "metadata": {
        "id": "AN2xdqpkElyJ"
      },
      "execution_count": null,
      "outputs": []
    },
    {
      "cell_type": "code",
      "source": [
        "hyperParas = hyperParas.append({\n",
        "    'Test ref#': testNumber,\n",
        "    'Hidden layers': hiddenLayers,\n",
        "    'Nodes per hidden layer': nodesPerLayer,\n",
        "    'Learnable parameters': parasDf,\n",
        "    'Activation function': actFuncDf,\n",
        "    'Nu': NuTotal,\n",
        "    'Nf': NfTotal,\n",
        "    'Nu coefficient': l2,\n",
        "    'Nf coefficient': l1,\n",
        "    'Optimiser': optDf,\n",
        "    'Nu range size' : uTrainSlices,\n",
        "    'Nu range continuous': NuRange,\n",
        "    'Resampling': trainingResample,\n",
        "    'Terminating epoch': model.history.shape[0],\n",
        "    'Terminating loss': model.history[-1, 0],\n",
        "    'Training duration': model.trainTime,\n",
        "    'Relative L2 error': relativeL2error,\n",
        "    },\n",
        "    ignore_index=True)\n",
        "\n",
        "hyperParas.to_csv('/content/gdrive/My Drive/wavePINNs/testRecord.csv')"
      ],
      "metadata": {
        "id": "CcPR8HdBGFm9"
      },
      "execution_count": null,
      "outputs": []
    },
    {
      "cell_type": "code",
      "source": [
        "hyperParas[(hyperParas['Nodes per hidden layer']==30) & (hyperParas['Activation function']=='Tanh') & (hyperParas['Optimiser']=='LBFGS') & (hyperParas['Nu']==7200)]"
      ],
      "metadata": {
        "id": "QdQYwhwmI4Jo"
      },
      "execution_count": null,
      "outputs": []
    },
    {
      "cell_type": "code",
      "source": [
        "fig, axs = plt.subplots(1, 2,\n",
        "                        figsize=(16, 6),\n",
        "                        constrained_layout=True,\n",
        "                        # sharey=True,\n",
        "                        )\n",
        "\n",
        "sns.lineplot(\n",
        "    ax=axs[0],\n",
        "    data=hyperParas[(hyperParas['Nodes per hidden layer']==30) &\\\n",
        "                    (hyperParas['Activation function']=='Tanh') &\\\n",
        "                    (hyperParas['Optimiser']=='LBFGS') &\\\n",
        "                    (hyperParas['Nu']==7200) &\\\n",
        "                    ((hyperParas['Nf coefficient']==1.) | (hyperParas['Nf coefficient']==0.1) | (hyperParas['Nf coefficient']==0.01) | (hyperParas['Nf coefficient']==0.001) | (hyperParas['Nf coefficient']==0.0001))],\n",
        "    x='Nf',\n",
        "    y='Relative L2 error',\n",
        "    # size='Training duration',\n",
        "    hue='Nf coefficient',\n",
        "    palette='tab10',\n",
        "    # markers=True,\n",
        "    legend = False,\n",
        "    ci=None,\n",
        ")\n",
        "axs[0].set_xscale('log')\n",
        "axs[0].set_yscale('log')\n",
        "axs[1].set_title('Error')\n",
        "axs[1].set_xlabel('Number collocation points, Nf')\n",
        "axs[1].set_ylabel('Relative L2 error')\n",
        "\n",
        "# ax.set_xticks(np.arange(0, len(x)+1, 5))\n",
        "# ax.set_yticks(np.arange(0, max(y), 2))\n",
        "# ax2.set_xticks(np.arange(0, len(x)+1, 25))\n",
        "# ax2.set_yticks(np.arange(0, max(y), 25))\n",
        "\n",
        "sns.lineplot(\n",
        "    ax=axs[1],\n",
        "    data=hyperParas[(hyperParas['Nodes per hidden layer']==30) &\\\n",
        "                    (hyperParas['Activation function']=='Tanh') &\\\n",
        "                    (hyperParas['Optimiser']=='LBFGS') &\\\n",
        "                    (hyperParas['Nu']==7200) &\\\n",
        "                    ((hyperParas['Nf coefficient']==1.) | (hyperParas['Nf coefficient']==0.1) | (hyperParas['Nf coefficient']==0.01) | (hyperParas['Nf coefficient']==0.001) | (hyperParas['Nf coefficient']==0.0001))],\n",
        "    x='Nf',\n",
        "    y='Training duration',\n",
        "    # size='Training duration',\n",
        "    hue='Nf coefficient',\n",
        "    palette='tab10',\n",
        "    # markers=True,\n",
        "    # legend = False,\n",
        "    ci=None,\n",
        ")\n",
        "axs[1].set_xscale('log')\n",
        "axs[1].set_title('Training time')\n",
        "axs[1].set_xlabel('Number collocation points, Nf')\n",
        "axs[1].set_ylabel('Training duration (s)')\n",
        "\n",
        "fig.suptitle(\"Collocation points versus collocation loss coefficient - impact on 2D wave propagation forward problem\", fontsize=16)\n",
        "\n",
        "# fig.savefig(f\"/content/gdrive/My Drive/wavePINNs/2D wave: NfvsNfCoeff\", bbox_inches='tight')\n",
        "plt.show()"
      ],
      "metadata": {
        "id": "GfKXp0vmrCIt",
        "colab": {
          "base_uri": "https://localhost:8080/",
          "height": 457
        },
        "outputId": "3eaef833-8bc2-4a69-8c01-9ac0a434f2e6"
      },
      "execution_count": 456,
      "outputs": [
        {
          "output_type": "display_data",
          "data": {
            "text/plain": [
              "<Figure size 1152x432 with 2 Axes>"
            ],
            "image/png": "[encoded data removed]"
          },
          "metadata": {
            "needs_background": "light"
          }
        }
      ]
    },
    {
      "cell_type": "code",
      "source": [],
      "metadata": {
        "id": "AzpYYfFEIfW4"
      },
      "execution_count": null,
      "outputs": []
    }
  ],
  "metadata": {
    "@webio": {
      "lastCommId": null,
      "lastKernelId": null
    },
    "hide_input": false,
    "kernelspec": {
      "display_name": "Python 3",
      "language": "python",
      "name": "python3"
    },
    "language_info": {
      "codemirror_mode": {
        "name": "ipython",
        "version": 3
      },
      "file_extension": ".py",
      "mimetype": "text/x-python",
      "name": "python",
      "nbconvert_exporter": "python",
      "pygments_lexer": "ipython3",
      "version": "3.8.3"
    },
    "latex_envs": {
      "LaTeX_envs_menu_present": true,
      "autoclose": false,
      "autocomplete": true,
      "bibliofile": "biblio.bib",
      "cite_by": "apalike",
      "current_citInitial": 1,
      "eqLabelWithNumbers": true,
      "eqNumInitial": 1,
      "hotkeys": {
        "equation": "Ctrl-E",
        "itemize": "Ctrl-I"
      },
      "labels_anchors": false,
      "latex_user_defs": false,
      "report_style_numbering": false,
      "user_envs_cfg": false
    },
    "varInspector": {
      "cols": {
        "lenName": 16,
        "lenType": 16,
        "lenVar": 40
      },
      "kernels_config": {
        "python": {
          "delete_cmd_postfix": "",
          "delete_cmd_prefix": "del ",
          "library": "var_list.py",
          "varRefreshCmd": "print(var_dic_list())"
        },
        "r": {
          "delete_cmd_postfix": ") ",
          "delete_cmd_prefix": "rm(",
          "library": "var_list.r",
          "varRefreshCmd": "cat(var_dic_list()) "
        }
      },
      "types_to_exclude": [
        "module",
        "function",
        "builtin_function_or_method",
        "instance",
        "_Feature"
      ],
      "window_display": false
    },
    "colab": {
      "name": "PINNs wave eq: experimentation - trials.ipynb",
      "provenance": [],
      "collapsed_sections": [],
      "include_colab_link": true
    },
    "gpuClass": "standard",
    "accelerator": "GPU"
  },
  "nbformat": 4,
  "nbformat_minor": 0
}