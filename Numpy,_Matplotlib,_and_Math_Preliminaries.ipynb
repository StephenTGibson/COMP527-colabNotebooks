{
  "nbformat": 4,
  "nbformat_minor": 0,
  "metadata": {
    "kernelspec": {
      "display_name": "Python 3",
      "language": "python",
      "name": "python3"
    },
    "language_info": {
      "codemirror_mode": {
        "name": "ipython",
        "version": 3
      },
      "file_extension": ".py",
      "mimetype": "text/x-python",
      "name": "python",
      "nbconvert_exporter": "python",
      "pygments_lexer": "ipython3",
      "version": "3.9.0"
    },
    "colab": {
      "name": "Numpy, Matplotlib, and Math Preliminaries.ipynb",
      "provenance": [],
      "collapsed_sections": [],
      "include_colab_link": true
    }
  },
  "cells": [
    {
      "cell_type": "markdown",
      "metadata": {
        "id": "view-in-github",
        "colab_type": "text"
      },
      "source": [
        "<a href=\"https://colab.research.google.com/github/phtevegibson/COMP527-colabNotebooks/blob/main/Numpy%2C_Matplotlib%2C_and_Math_Preliminaries.ipynb\" target=\"_parent\"><img src=\"https://colab.research.google.com/assets/colab-badge.svg\" alt=\"Open In Colab\"/></a>"
      ]
    },
    {
      "cell_type": "markdown",
      "metadata": {
        "id": "RhLrhj6AqsyE"
      },
      "source": [
        "# Numpy, Matplotlib and Math preliminaries\n",
        "\n",
        "Numpy is a python library that provides data structures useful for data mining such as arrays, and various functions on those data structures. Follow [the official numpy tutorial](https://numpy.org/devdocs/user/quickstart.html) and familiarize yourself with numpy. Using only Numpy as an external library complete the following exercises.\n"
      ]
    },
    {
      "cell_type": "code",
      "metadata": {
        "id": "veuhBxFGqsyJ"
      },
      "source": [
        "import numpy as np"
      ],
      "execution_count": 2,
      "outputs": []
    },
    {
      "cell_type": "markdown",
      "metadata": {
        "id": "5flPfD80qsyJ"
      },
      "source": [
        "\n",
        "## Excercise 1\n",
        "Given $\\overline{X} = (1,2,3,4,5,6,7,8,9,10)^T$ and $\\overline{Y} = (10,9,8,7,6,5,4,3,2,1)^T$ find\n",
        "\n",
        "1. $\\overline{X} + \\overline{Y}$\n",
        "2. $\\overline{X}^T \\overline{Y}$\n",
        "2. $\\overline{X}\\overline{Y}^T$\n"
      ]
    },
    {
      "cell_type": "code",
      "metadata": {
        "id": "JWztdJoZqsyK"
      },
      "source": [
        "X = np.transpose(np.array([1,2,3,4,5,6,7,8,9,10]))\n",
        "Y = np.transpose(np.array([10,9,8,7,6,5,4,3,2,1]))"
      ],
      "execution_count": 4,
      "outputs": []
    },
    {
      "cell_type": "code",
      "source": [
        "# 1\n",
        "X + Y"
      ],
      "metadata": {
        "id": "I0nqgD8k16-r",
        "outputId": "22d36774-6f28-412b-a573-175b25c6f184",
        "colab": {
          "base_uri": "https://localhost:8080/"
        }
      },
      "execution_count": 5,
      "outputs": [
        {
          "output_type": "execute_result",
          "data": {
            "text/plain": [
              "array([11, 11, 11, 11, 11, 11, 11, 11, 11, 11])"
            ]
          },
          "metadata": {},
          "execution_count": 5
        }
      ]
    },
    {
      "cell_type": "code",
      "source": [
        "# 2\n",
        "np.transpose(X) @ Y"
      ],
      "metadata": {
        "id": "gc12biIt1_6N",
        "outputId": "ff8b0e8d-5753-4e00-9d11-67f63b6b61ba",
        "colab": {
          "base_uri": "https://localhost:8080/"
        }
      },
      "execution_count": 20,
      "outputs": [
        {
          "output_type": "execute_result",
          "data": {
            "text/plain": [
              "220"
            ]
          },
          "metadata": {},
          "execution_count": 20
        }
      ]
    },
    {
      "cell_type": "code",
      "source": [
        "# 3\n",
        "X @ np.transpose(Y)"
      ],
      "metadata": {
        "id": "GXbAf7qk4Fko",
        "outputId": "73513f63-6e66-4622-e216-e3d159926c7b",
        "colab": {
          "base_uri": "https://localhost:8080/"
        }
      },
      "execution_count": 19,
      "outputs": [
        {
          "output_type": "execute_result",
          "data": {
            "text/plain": [
              "220"
            ]
          },
          "metadata": {},
          "execution_count": 19
        }
      ]
    },
    {
      "cell_type": "markdown",
      "metadata": {
        "id": "z4KCglTwqsyK"
      },
      "source": [
        "---\n",
        "## Excercise 2\n",
        "Given two matrices \n",
        "$\\overline{A} = \\begin{pmatrix}1 & 2 & 3 & 4 & 5\\\\ 6 & 7 & 8 & 9 & 10\\\\ 11 & 12 & 13 & 14 & 15\\\\ 16 & 17 & 18 & 19 & 20\\\\ 21 & 22 & 23 & 24 & 25 \\end{pmatrix}$\n",
        "and \n",
        "$\\overline{B} = \\begin{pmatrix}0 & 1 & 0 & 1 & 0\\\\ 1 & 2 & 3 & 4 & 5\\\\ -1 & 0 & 1 & 0 & -1 \\\\ 5 & 4 & 3 & 2 & 5\\\\ -1 & 0 & 1 & 0 & -1 \\end{pmatrix}$\n",
        "\n",
        "1. Compute $\\overline{A} + \\overline{B}$\n",
        "2. Compute $\\overline{B} + \\overline{A}$. Is it equal to $\\overline{A} + \\overline{B}$? Is it always the case?\n",
        "3. Compute $\\overline{A} \\cdot \\overline{B}$\n",
        "4. Compute $\\overline{B} \\cdot \\overline{A}$. Is it equal to $\\overline{A} \\cdot \\overline{B}$?"
      ]
    },
    {
      "cell_type": "markdown",
      "source": [
        "the last axis is printed from left to right,\n",
        "\n",
        "the second-to-last is printed from top to bottom,\n",
        "\n",
        "the rest are also printed from top to bottom, with each slice separated from the next by an empty line."
      ],
      "metadata": {
        "id": "ic8SxcW55B5d"
      }
    },
    {
      "cell_type": "code",
      "metadata": {
        "id": "ZvmZdAiFqsyK",
        "outputId": "ed04dee8-0c59-4b57-8ab5-8ce96756b141",
        "colab": {
          "base_uri": "https://localhost:8080/"
        }
      },
      "source": [
        "A = np.array([[1,2,3,4,5],[6,7,8,9,10],[11,12,13,14,15],[16,17,18,19,20],[21,22,23,24,25]])\n",
        "B = np.array([[0,1,0,1,0],[1,2,3,4,5],[-1,0,1,0,-1],[5,4,3,2,5],[-1,0,1,0,-1]])\n",
        "print(f'A:\\n{A}\\n\\nB:\\n{B}')"
      ],
      "execution_count": 17,
      "outputs": [
        {
          "output_type": "stream",
          "name": "stdout",
          "text": [
            "A:\n",
            "[[ 1  2  3  4  5]\n",
            " [ 6  7  8  9 10]\n",
            " [11 12 13 14 15]\n",
            " [16 17 18 19 20]\n",
            " [21 22 23 24 25]]\n",
            "\n",
            "B:\n",
            "[[ 0  1  0  1  0]\n",
            " [ 1  2  3  4  5]\n",
            " [-1  0  1  0 -1]\n",
            " [ 5  4  3  2  5]\n",
            " [-1  0  1  0 -1]]\n"
          ]
        }
      ]
    },
    {
      "cell_type": "code",
      "source": [
        "# 1\n",
        "A + B"
      ],
      "metadata": {
        "id": "8Bv3y4PR5nST",
        "outputId": "be09bb0e-7061-439e-e461-ca40eccca9ce",
        "colab": {
          "base_uri": "https://localhost:8080/"
        }
      },
      "execution_count": 11,
      "outputs": [
        {
          "output_type": "execute_result",
          "data": {
            "text/plain": [
              "array([[ 1,  3,  3,  5,  5],\n",
              "       [ 7,  9, 11, 13, 15],\n",
              "       [10, 12, 14, 14, 14],\n",
              "       [21, 21, 21, 21, 25],\n",
              "       [20, 22, 24, 24, 24]])"
            ]
          },
          "metadata": {},
          "execution_count": 11
        }
      ]
    },
    {
      "cell_type": "code",
      "source": [
        "# 2\n",
        "B + A"
      ],
      "metadata": {
        "id": "j7CnOzKr5uCl",
        "outputId": "d29c546c-45f3-46c7-bdc0-9a4eb4df9386",
        "colab": {
          "base_uri": "https://localhost:8080/"
        }
      },
      "execution_count": 12,
      "outputs": [
        {
          "output_type": "execute_result",
          "data": {
            "text/plain": [
              "array([[ 1,  3,  3,  5,  5],\n",
              "       [ 7,  9, 11, 13, 15],\n",
              "       [10, 12, 14, 14, 14],\n",
              "       [21, 21, 21, 21, 25],\n",
              "       [20, 22, 24, 24, 24]])"
            ]
          },
          "metadata": {},
          "execution_count": 12
        }
      ]
    },
    {
      "cell_type": "code",
      "source": [
        "# 3\n",
        "# * does elementwise multiplication only\n",
        "# @ or dot method does matrix multiplication\n",
        "A @ B"
      ],
      "metadata": {
        "id": "4BYxWSX75z9V",
        "outputId": "c56f5dd1-95b8-4960-9d31-f3f7938bdfb0",
        "colab": {
          "base_uri": "https://localhost:8080/"
        }
      },
      "execution_count": 18,
      "outputs": [
        {
          "output_type": "execute_result",
          "data": {
            "text/plain": [
              "array([[ 14,  21,  26,  17,  22],\n",
              "       [ 34,  56,  66,  52,  62],\n",
              "       [ 54,  91, 106,  87, 102],\n",
              "       [ 74, 126, 146, 122, 142],\n",
              "       [ 94, 161, 186, 157, 182]])"
            ]
          },
          "metadata": {},
          "execution_count": 18
        }
      ]
    },
    {
      "cell_type": "code",
      "source": [
        "# 4\n",
        "B @ A"
      ],
      "metadata": {
        "id": "5AB2-L7y7JQm",
        "outputId": "920e7be1-00c2-4950-c670-53eaf2d3ce01",
        "colab": {
          "base_uri": "https://localhost:8080/"
        }
      },
      "execution_count": 21,
      "outputs": [
        {
          "output_type": "execute_result",
          "data": {
            "text/plain": [
              "array([[ 22,  24,  26,  28,  30],\n",
              "       [215, 230, 245, 260, 275],\n",
              "       [-11, -12, -13, -14, -15],\n",
              "       [199, 218, 237, 256, 275],\n",
              "       [-11, -12, -13, -14, -15]])"
            ]
          },
          "metadata": {},
          "execution_count": 21
        }
      ]
    },
    {
      "cell_type": "markdown",
      "metadata": {
        "id": "if6a9H0FqsyK"
      },
      "source": [
        "---\n",
        "## Excercise 3\n",
        "Compute the inverse of the following matrix\n",
        "$\\overline{A} = \\begin{pmatrix} 1 & 2 & 4\\\\ -2 & 1 & 5 \\\\1 & 2 & 3 \\end{pmatrix}$, if one exsits. Verify that the matrix product of $\\overline{A}$ and its inverse is the 3x3 identity matrix. "
      ]
    },
    {
      "cell_type": "code",
      "metadata": {
        "id": "LOJ3Ia7qqsyK"
      },
      "source": [
        ""
      ],
      "execution_count": null,
      "outputs": []
    },
    {
      "cell_type": "markdown",
      "metadata": {
        "id": "qAXDVEVkqsyL"
      },
      "source": [
        "---\n",
        "## Excercise 4\n",
        "Find the ranks of the following matrices\n",
        "$\\overline{A} = \\left(\\begin{matrix} 1 & 0 & 1 \\\\ 0 & 1 & 1\\\\ 0 & 0 & 0\\end{matrix}\\right)~$ and\n",
        "$~\\overline{B} = \\left(\\begin{matrix} 1 & 2 & 1 \\\\-2 & -3 & 1\\\\ 3 & 5 & 0\\end{matrix}\\right)$."
      ]
    },
    {
      "cell_type": "code",
      "metadata": {
        "id": "NlBiJLYiqsyL"
      },
      "source": [
        ""
      ],
      "execution_count": null,
      "outputs": []
    },
    {
      "cell_type": "markdown",
      "metadata": {
        "id": "6q5DrDRdqsyL"
      },
      "source": [
        "---\n",
        "## Excercise 5\n",
        "Find the eigenvalues of matrix\n",
        " $\\overline{A} = \\left(\\begin{matrix} 4 & 2\\\\ 1 & 3\\end{matrix}\\right)$"
      ]
    },
    {
      "cell_type": "code",
      "metadata": {
        "id": "cEXPYLlAqsyL"
      },
      "source": [
        ""
      ],
      "execution_count": null,
      "outputs": []
    },
    {
      "cell_type": "markdown",
      "metadata": {
        "id": "pA4EwMsoqsyL"
      },
      "source": [
        "---\n",
        "## Excercise 6\n",
        " \n",
        "For this excercise we will need [Matplotlib](https://matplotlib.org/index.html). Follow [the official Matplotlib tutorial](https://matplotlib.org/tutorials/introductory/pyplot.html#) and familiarize yourself with Matplotlib.\n",
        "\n",
        "Recall from the lecture the Gradient Descent method for finding local minimum of a function:\n",
        "\n",
        "1. Pick an initial point $\\overline{X}_0$\n",
        "2. Iterate according to $\\overline{X}_{i+1} = \\overline{X}_i - \\gamma \\cdot \\big((\\nabla_{\\overline{X}} f)(\\overline{X}_i) \\big)$\n",
        "\n",
        "\n",
        "Examine this method by trying to find the minimum of the function $f(x) = (x-3)^2$. More specifically, for every $\\gamma \\in \\{0.01, 0.1, 0.9, 1, 2\\}$:\n",
        "1. Plot the graph of $f(x) = (x-3)^2$\n",
        "2. Pick an intial point $x = -4$\n",
        "3. Run 20 interations of the methods \n",
        "4. In every iteration $i = 1, \\ldots, 20$, plot the point $(x_i, f(x_i))$ on the same plot as the graph of the function $f(x)$\n",
        "\n",
        "Interpret the results."
      ]
    },
    {
      "cell_type": "code",
      "metadata": {
        "id": "gjleihmpqsyL"
      },
      "source": [
        "import matplotlib.pyplot as plt"
      ],
      "execution_count": null,
      "outputs": []
    }
  ]
}