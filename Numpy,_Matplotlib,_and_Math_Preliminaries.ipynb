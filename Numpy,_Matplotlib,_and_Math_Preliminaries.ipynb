{
  "nbformat": 4,
  "nbformat_minor": 0,
  "metadata": {
    "kernelspec": {
      "display_name": "Python 3",
      "language": "python",
      "name": "python3"
    },
    "language_info": {
      "codemirror_mode": {
        "name": "ipython",
        "version": 3
      },
      "file_extension": ".py",
      "mimetype": "text/x-python",
      "name": "python",
      "nbconvert_exporter": "python",
      "pygments_lexer": "ipython3",
      "version": "3.9.0"
    },
    "colab": {
      "name": "Numpy, Matplotlib, and Math Preliminaries.ipynb",
      "provenance": [],
      "collapsed_sections": [],
      "include_colab_link": true
    }
  },
  "cells": [
    {
      "cell_type": "markdown",
      "metadata": {
        "id": "view-in-github",
        "colab_type": "text"
      },
      "source": [
        "<a href=\"https://colab.research.google.com/github/StephenTGibson/COMP527-colabNotebooks/blob/main/Numpy%2C_Matplotlib%2C_and_Math_Preliminaries.ipynb\" target=\"_parent\"><img src=\"https://colab.research.google.com/assets/colab-badge.svg\" alt=\"Open In Colab\"/></a>"
      ]
    },
    {
      "cell_type": "markdown",
      "metadata": {
        "id": "RhLrhj6AqsyE"
      },
      "source": [
        "# Numpy, Matplotlib and Math preliminaries\n",
        "\n",
        "Numpy is a python library that provides data structures useful for data mining such as arrays, and various functions on those data structures. Follow [the official numpy tutorial](https://numpy.org/devdocs/user/quickstart.html) and familiarize yourself with numpy. Using only Numpy as an external library complete the following exercises.\n"
      ]
    },
    {
      "cell_type": "code",
      "metadata": {
        "id": "veuhBxFGqsyJ"
      },
      "source": [
        "import numpy as np"
      ],
      "execution_count": 2,
      "outputs": []
    },
    {
      "cell_type": "markdown",
      "metadata": {
        "id": "5flPfD80qsyJ"
      },
      "source": [
        "\n",
        "## Excercise 1\n",
        "Given $\\overline{X} = (1,2,3,4,5,6,7,8,9,10)^T$ and $\\overline{Y} = (10,9,8,7,6,5,4,3,2,1)^T$ find\n",
        "\n",
        "1. $\\overline{X} + \\overline{Y}$\n",
        "2. $\\overline{X}^T \\overline{Y}$\n",
        "2. $\\overline{X}\\overline{Y}^T$\n"
      ]
    },
    {
      "cell_type": "code",
      "metadata": {
        "id": "JWztdJoZqsyK"
      },
      "source": [
        "X = np.transpose(np.array([1,2,3,4,5,6,7,8,9,10]))\n",
        "Y = np.transpose(np.array([10,9,8,7,6,5,4,3,2,1]))"
      ],
      "execution_count": 3,
      "outputs": []
    },
    {
      "cell_type": "code",
      "source": [
        "# 1\n",
        "X + Y"
      ],
      "metadata": {
        "id": "I0nqgD8k16-r",
        "outputId": "f4e1dc5a-2b3c-402d-cc88-6e51cae09ec5",
        "colab": {
          "base_uri": "https://localhost:8080/"
        }
      },
      "execution_count": 4,
      "outputs": [
        {
          "output_type": "execute_result",
          "data": {
            "text/plain": [
              "array([11, 11, 11, 11, 11, 11, 11, 11, 11, 11])"
            ]
          },
          "metadata": {},
          "execution_count": 4
        }
      ]
    },
    {
      "cell_type": "code",
      "source": [
        "# 2\n",
        "np.dot(np.transpose(X), Y)"
      ],
      "metadata": {
        "id": "gc12biIt1_6N",
        "outputId": "65d76cd2-cbfa-4675-961c-7d5b7f6343d4",
        "colab": {
          "base_uri": "https://localhost:8080/"
        }
      },
      "execution_count": 37,
      "outputs": [
        {
          "output_type": "execute_result",
          "data": {
            "text/plain": [
              "220"
            ]
          },
          "metadata": {},
          "execution_count": 37
        }
      ]
    },
    {
      "cell_type": "code",
      "source": [
        "# 3\n",
        "np.outer(X, np.transpose(Y))"
      ],
      "metadata": {
        "id": "GXbAf7qk4Fko",
        "outputId": "c9bc7175-9989-4110-b046-a1ef4c553688",
        "colab": {
          "base_uri": "https://localhost:8080/"
        }
      },
      "execution_count": 38,
      "outputs": [
        {
          "output_type": "execute_result",
          "data": {
            "text/plain": [
              "array([[ 10,   9,   8,   7,   6,   5,   4,   3,   2,   1],\n",
              "       [ 20,  18,  16,  14,  12,  10,   8,   6,   4,   2],\n",
              "       [ 30,  27,  24,  21,  18,  15,  12,   9,   6,   3],\n",
              "       [ 40,  36,  32,  28,  24,  20,  16,  12,   8,   4],\n",
              "       [ 50,  45,  40,  35,  30,  25,  20,  15,  10,   5],\n",
              "       [ 60,  54,  48,  42,  36,  30,  24,  18,  12,   6],\n",
              "       [ 70,  63,  56,  49,  42,  35,  28,  21,  14,   7],\n",
              "       [ 80,  72,  64,  56,  48,  40,  32,  24,  16,   8],\n",
              "       [ 90,  81,  72,  63,  54,  45,  36,  27,  18,   9],\n",
              "       [100,  90,  80,  70,  60,  50,  40,  30,  20,  10]])"
            ]
          },
          "metadata": {},
          "execution_count": 38
        }
      ]
    },
    {
      "cell_type": "markdown",
      "metadata": {
        "id": "z4KCglTwqsyK"
      },
      "source": [
        "---\n",
        "## Excercise 2\n",
        "Given two matrices \n",
        "$\\overline{A} = \\begin{pmatrix}1 & 2 & 3 & 4 & 5\\\\ 6 & 7 & 8 & 9 & 10\\\\ 11 & 12 & 13 & 14 & 15\\\\ 16 & 17 & 18 & 19 & 20\\\\ 21 & 22 & 23 & 24 & 25 \\end{pmatrix}$\n",
        "and \n",
        "$\\overline{B} = \\begin{pmatrix}0 & 1 & 0 & 1 & 0\\\\ 1 & 2 & 3 & 4 & 5\\\\ -1 & 0 & 1 & 0 & -1 \\\\ 5 & 4 & 3 & 2 & 5\\\\ -1 & 0 & 1 & 0 & -1 \\end{pmatrix}$\n",
        "\n",
        "1. Compute $\\overline{A} + \\overline{B}$\n",
        "2. Compute $\\overline{B} + \\overline{A}$. Is it equal to $\\overline{A} + \\overline{B}$? Is it always the case?\n",
        "3. Compute $\\overline{A} \\cdot \\overline{B}$\n",
        "4. Compute $\\overline{B} \\cdot \\overline{A}$. Is it equal to $\\overline{A} \\cdot \\overline{B}$?"
      ]
    },
    {
      "cell_type": "markdown",
      "source": [
        "the last axis is printed from left to right,\n",
        "\n",
        "the second-to-last is printed from top to bottom,\n",
        "\n",
        "the rest are also printed from top to bottom, with each slice separated from the next by an empty line."
      ],
      "metadata": {
        "id": "ic8SxcW55B5d"
      }
    },
    {
      "cell_type": "code",
      "metadata": {
        "id": "ZvmZdAiFqsyK",
        "outputId": "36b9e9b5-a1cd-472a-abd5-febd5b23d346",
        "colab": {
          "base_uri": "https://localhost:8080/"
        }
      },
      "source": [
        "A = np.array([[1,2,3,4,5],[6,7,8,9,10],[11,12,13,14,15],[16,17,18,19,20],[21,22,23,24,25]])\n",
        "B = np.array([[0,1,0,1,0],[1,2,3,4,5],[-1,0,1,0,-1],[5,4,3,2,5],[-1,0,1,0,-1]])\n",
        "print(f'A:\\n{A}\\n\\nB:\\n{B}')"
      ],
      "execution_count": 39,
      "outputs": [
        {
          "output_type": "stream",
          "name": "stdout",
          "text": [
            "A:\n",
            "[[ 1  2  3  4  5]\n",
            " [ 6  7  8  9 10]\n",
            " [11 12 13 14 15]\n",
            " [16 17 18 19 20]\n",
            " [21 22 23 24 25]]\n",
            "\n",
            "B:\n",
            "[[ 0  1  0  1  0]\n",
            " [ 1  2  3  4  5]\n",
            " [-1  0  1  0 -1]\n",
            " [ 5  4  3  2  5]\n",
            " [-1  0  1  0 -1]]\n"
          ]
        }
      ]
    },
    {
      "cell_type": "code",
      "source": [
        "# 1\n",
        "A + B"
      ],
      "metadata": {
        "id": "8Bv3y4PR5nST",
        "outputId": "ccdeec63-8cc3-450a-8440-2c00deef3b34",
        "colab": {
          "base_uri": "https://localhost:8080/"
        }
      },
      "execution_count": 8,
      "outputs": [
        {
          "output_type": "execute_result",
          "data": {
            "text/plain": [
              "array([[ 1,  3,  3,  5,  5],\n",
              "       [ 7,  9, 11, 13, 15],\n",
              "       [10, 12, 14, 14, 14],\n",
              "       [21, 21, 21, 21, 25],\n",
              "       [20, 22, 24, 24, 24]])"
            ]
          },
          "metadata": {},
          "execution_count": 8
        }
      ]
    },
    {
      "cell_type": "code",
      "source": [
        "# 2\n",
        "B + A"
      ],
      "metadata": {
        "id": "j7CnOzKr5uCl",
        "outputId": "be3664dd-b678-40a9-cf0b-694eb6659b97",
        "colab": {
          "base_uri": "https://localhost:8080/"
        }
      },
      "execution_count": 9,
      "outputs": [
        {
          "output_type": "execute_result",
          "data": {
            "text/plain": [
              "array([[ 1,  3,  3,  5,  5],\n",
              "       [ 7,  9, 11, 13, 15],\n",
              "       [10, 12, 14, 14, 14],\n",
              "       [21, 21, 21, 21, 25],\n",
              "       [20, 22, 24, 24, 24]])"
            ]
          },
          "metadata": {},
          "execution_count": 9
        }
      ]
    },
    {
      "cell_type": "code",
      "source": [
        "# 3\n",
        "# * does elementwise multiplication only\n",
        "# @ or dot method does matrix multiplication\n",
        "A @ B"
      ],
      "metadata": {
        "id": "4BYxWSX75z9V",
        "outputId": "9627d538-a5c5-4084-a03b-854d4a1f4d86",
        "colab": {
          "base_uri": "https://localhost:8080/"
        }
      },
      "execution_count": 10,
      "outputs": [
        {
          "output_type": "execute_result",
          "data": {
            "text/plain": [
              "array([[ 14,  21,  26,  17,  22],\n",
              "       [ 34,  56,  66,  52,  62],\n",
              "       [ 54,  91, 106,  87, 102],\n",
              "       [ 74, 126, 146, 122, 142],\n",
              "       [ 94, 161, 186, 157, 182]])"
            ]
          },
          "metadata": {},
          "execution_count": 10
        }
      ]
    },
    {
      "cell_type": "code",
      "source": [
        "# 4\n",
        "B @ A"
      ],
      "metadata": {
        "id": "5AB2-L7y7JQm",
        "outputId": "dea0b866-2b42-4a01-c47f-5a942102bacd",
        "colab": {
          "base_uri": "https://localhost:8080/"
        }
      },
      "execution_count": 11,
      "outputs": [
        {
          "output_type": "execute_result",
          "data": {
            "text/plain": [
              "array([[ 22,  24,  26,  28,  30],\n",
              "       [215, 230, 245, 260, 275],\n",
              "       [-11, -12, -13, -14, -15],\n",
              "       [199, 218, 237, 256, 275],\n",
              "       [-11, -12, -13, -14, -15]])"
            ]
          },
          "metadata": {},
          "execution_count": 11
        }
      ]
    },
    {
      "cell_type": "markdown",
      "metadata": {
        "id": "if6a9H0FqsyK"
      },
      "source": [
        "---\n",
        "## Excercise 3\n",
        "Compute the inverse of the following matrix\n",
        "$\\overline{A} = \\begin{pmatrix} 1 & 2 & 4\\\\ -2 & 1 & 5 \\\\1 & 2 & 3 \\end{pmatrix}$, if one exsits. Verify that the matrix product of $\\overline{A}$ and its inverse is the 3x3 identity matrix. "
      ]
    },
    {
      "cell_type": "code",
      "source": [
        "A = np.array([[1,2,4],[-2,1,5],[1,2,3]])"
      ],
      "metadata": {
        "id": "zi4C01jKP4ms"
      },
      "execution_count": 12,
      "outputs": []
    },
    {
      "cell_type": "code",
      "metadata": {
        "id": "LOJ3Ia7qqsyK",
        "outputId": "4a38c752-e998-471b-dac9-c7ec1c3c43fd",
        "colab": {
          "base_uri": "https://localhost:8080/"
        }
      },
      "source": [
        "np.linalg.inv(A)"
      ],
      "execution_count": 13,
      "outputs": [
        {
          "output_type": "execute_result",
          "data": {
            "text/plain": [
              "array([[ 1.4, -0.4, -1.2],\n",
              "       [-2.2,  0.2,  2.6],\n",
              "       [ 1. , -0. , -1. ]])"
            ]
          },
          "metadata": {},
          "execution_count": 13
        }
      ]
    },
    {
      "cell_type": "code",
      "source": [
        "A @ np.linalg.inv(A)"
      ],
      "metadata": {
        "id": "_hBZMf0lQFGb",
        "outputId": "100b9a93-9358-4f47-c79e-dfddc034d177",
        "colab": {
          "base_uri": "https://localhost:8080/"
        }
      },
      "execution_count": 14,
      "outputs": [
        {
          "output_type": "execute_result",
          "data": {
            "text/plain": [
              "array([[ 1.0000000e+00,  0.0000000e+00,  0.0000000e+00],\n",
              "       [ 0.0000000e+00,  1.0000000e+00,  0.0000000e+00],\n",
              "       [-4.4408921e-16,  0.0000000e+00,  1.0000000e+00]])"
            ]
          },
          "metadata": {},
          "execution_count": 14
        }
      ]
    },
    {
      "cell_type": "markdown",
      "metadata": {
        "id": "qAXDVEVkqsyL"
      },
      "source": [
        "---\n",
        "## Excercise 4\n",
        "Find the ranks of the following matrices\n",
        "$\\overline{A} = \\left(\\begin{matrix} 1 & 0 & 1 \\\\ 0 & 1 & 1\\\\ 0 & 0 & 0\\end{matrix}\\right)~$ and\n",
        "$~\\overline{B} = \\left(\\begin{matrix} 1 & 2 & 1 \\\\-2 & -3 & 1\\\\ 3 & 5 & 0\\end{matrix}\\right)$."
      ]
    },
    {
      "cell_type": "code",
      "source": [
        "A = np.array([[1,0,1],[0,1,1],[0,0,0]])\n",
        "B = np.array([[1,2,1],[-2,-3,1],[3,5,0]])"
      ],
      "metadata": {
        "id": "gj3SY1K2Qezz"
      },
      "execution_count": 15,
      "outputs": []
    },
    {
      "cell_type": "code",
      "metadata": {
        "id": "NlBiJLYiqsyL",
        "outputId": "ee8e5589-f63d-4100-af3d-dc557a155c85",
        "colab": {
          "base_uri": "https://localhost:8080/"
        }
      },
      "source": [
        "np.linalg.matrix_rank(A)"
      ],
      "execution_count": 16,
      "outputs": [
        {
          "output_type": "execute_result",
          "data": {
            "text/plain": [
              "2"
            ]
          },
          "metadata": {},
          "execution_count": 16
        }
      ]
    },
    {
      "cell_type": "code",
      "source": [
        "np.linalg.matrix_rank(B)"
      ],
      "metadata": {
        "id": "cw2ZHVceQ3Hq",
        "outputId": "10771523-0135-4ad8-c561-cf884b268933",
        "colab": {
          "base_uri": "https://localhost:8080/"
        }
      },
      "execution_count": 17,
      "outputs": [
        {
          "output_type": "execute_result",
          "data": {
            "text/plain": [
              "2"
            ]
          },
          "metadata": {},
          "execution_count": 17
        }
      ]
    },
    {
      "cell_type": "markdown",
      "metadata": {
        "id": "6q5DrDRdqsyL"
      },
      "source": [
        "---\n",
        "## Excercise 5\n",
        "Find the eigenvalues of matrix\n",
        " $\\overline{A} = \\left(\\begin{matrix} 4 & 2\\\\ 1 & 3\\end{matrix}\\right)$"
      ]
    },
    {
      "cell_type": "code",
      "metadata": {
        "id": "cEXPYLlAqsyL"
      },
      "source": [
        "A = np.array([[4,2],[1,3]])"
      ],
      "execution_count": 18,
      "outputs": []
    },
    {
      "cell_type": "code",
      "source": [
        "np.linalg.eig(A)"
      ],
      "metadata": {
        "id": "UAaMWwgmRQOZ",
        "outputId": "562489c4-754e-4629-a8aa-3be119af79f6",
        "colab": {
          "base_uri": "https://localhost:8080/"
        }
      },
      "execution_count": 19,
      "outputs": [
        {
          "output_type": "execute_result",
          "data": {
            "text/plain": [
              "(array([5., 2.]), array([[ 0.89442719, -0.70710678],\n",
              "        [ 0.4472136 ,  0.70710678]]))"
            ]
          },
          "metadata": {},
          "execution_count": 19
        }
      ]
    },
    {
      "cell_type": "markdown",
      "metadata": {
        "id": "pA4EwMsoqsyL"
      },
      "source": [
        "---\n",
        "## Excercise 6\n",
        " \n",
        "For this excercise we will need [Matplotlib](https://matplotlib.org/index.html). Follow [the official Matplotlib tutorial](https://matplotlib.org/tutorials/introductory/pyplot.html#) and familiarize yourself with Matplotlib.\n",
        "\n",
        "Recall from the lecture the Gradient Descent method for finding local minimum of a function:\n",
        "\n",
        "1. Pick an initial point $\\overline{X}_0$\n",
        "2. Iterate according to $\\overline{X}_{i+1} = \\overline{X}_i - \\gamma \\cdot \\big((\\nabla_{\\overline{X}} f)(\\overline{X}_i) \\big)$\n",
        "\n",
        "\n",
        "Examine this method by trying to find the minimum of the function $f(x) = (x-3)^2$. More specifically, for every $\\gamma \\in \\{0.01, 0.1, 0.9, 1, 2\\}$:\n",
        "1. Plot the graph of $f(x) = (x-3)^2$\n",
        "2. Pick an intial point $x = -4$\n",
        "3. Run 20 interations of the methods \n",
        "4. In every iteration $i = 1, \\ldots, 20$, plot the point $(x_i, f(x_i))$ on the same plot as the graph of the function $f(x)$\n",
        "\n",
        "Interpret the results."
      ]
    },
    {
      "cell_type": "code",
      "metadata": {
        "id": "gjleihmpqsyL"
      },
      "source": [
        "import matplotlib.pyplot as plt"
      ],
      "execution_count": 20,
      "outputs": []
    },
    {
      "cell_type": "code",
      "source": [
        "# 1\n",
        "Xrange = np.arange(-7,12,1)\n",
        "fx = (Xrange-3)**2\n",
        "plt.plot(Xrange,fx)"
      ],
      "metadata": {
        "id": "HJkL7dzKR1EO",
        "outputId": "7ef3dcfe-8d2c-4f3a-e22a-1aa70c6326de",
        "colab": {
          "base_uri": "https://localhost:8080/",
          "height": 282
        }
      },
      "execution_count": 29,
      "outputs": [
        {
          "output_type": "execute_result",
          "data": {
            "text/plain": [
              "[<matplotlib.lines.Line2D at 0x7fecffeaa0d0>]"
            ]
          },
          "metadata": {},
          "execution_count": 29
        },
        {
          "output_type": "display_data",
          "data": {
            "image/png": "[encoded data removed]",
            "text/plain": [
              "<Figure size 432x288 with 1 Axes>"
            ]
          },
          "metadata": {
            "needs_background": "light"
          }
        }
      ]
    },
    {
      "cell_type": "code",
      "source": [
        "def calc_fx(x):\n",
        "   return (x-3)**2"
      ],
      "metadata": {
        "id": "HoNTN7HJV53Q"
      },
      "execution_count": 40,
      "outputs": []
    },
    {
      "cell_type": "code",
      "source": [
        "def calc_xiplus1(xi, gamma):\n",
        "  return xi - gamma*2*(xi-3)"
      ],
      "metadata": {
        "id": "BgqdY3EET11s"
      },
      "execution_count": 49,
      "outputs": []
    },
    {
      "cell_type": "code",
      "source": [
        "xValue = -4\n",
        "gamma = 0.01\n",
        "\n",
        "xArray = np.array([xValue])\n",
        "\n",
        "for i in range(1, 20):\n",
        "  xArray = np.append(xArray, calc_xiplus1(xArray[-1], gamma))\n",
        "\n",
        "fxArray = np.array(calc_fx(xArray))\n",
        "\n",
        "Xrange = np.arange(-7,12,1)\n",
        "fx = (Xrange-3)**2\n",
        "\n",
        "fig, ax = plt.subplots()\n",
        "ax.plot(Xrange,fx)\n",
        "ax.plot(xArray, fxArray)"
      ],
      "metadata": {
        "colab": {
          "base_uri": "https://localhost:8080/",
          "height": 282
        },
        "id": "0FdP90sSSRQc",
        "outputId": "6a2cfa96-7a39-42cb-e89e-de028f8b9b27"
      },
      "execution_count": 50,
      "outputs": [
        {
          "output_type": "execute_result",
          "data": {
            "text/plain": [
              "[<matplotlib.lines.Line2D at 0x7fecff891390>]"
            ]
          },
          "metadata": {},
          "execution_count": 50
        },
        {
          "output_type": "display_data",
          "data": {
            "image/png": "[encoded data removed]",
            "text/plain": [
              "<Figure size 432x288 with 1 Axes>"
            ]
          },
          "metadata": {
            "needs_background": "light"
          }
        }
      ]
    },
    {
      "cell_type": "code",
      "source": [
        "xValue = -4\n",
        "gamma = 0.1\n",
        "\n",
        "xArray = np.array([xValue])\n",
        "\n",
        "for i in range(1, 20):\n",
        "  xArray = np.append(xArray, calc_xiplus1(xArray[-1], gamma))\n",
        "\n",
        "fxArray = np.array(calc_fx(xArray))\n",
        "\n",
        "Xrange = np.arange(-7,12,1)\n",
        "fx = (Xrange-3)**2\n",
        "\n",
        "fig, ax = plt.subplots()\n",
        "ax.plot(Xrange,fx)\n",
        "ax.plot(xArray, fxArray)\n",
        "\n",
        "print(xArray)"
      ],
      "metadata": {
        "outputId": "c687b6af-3405-4abf-8cc8-a19ac5bf69d3",
        "colab": {
          "base_uri": "https://localhost:8080/",
          "height": 334
        },
        "id": "EXXHOT_xZww_"
      },
      "execution_count": 62,
      "outputs": [
        {
          "output_type": "stream",
          "name": "stdout",
          "text": [
            "[-4.         -2.6        -1.48       -0.584       0.1328      0.70624\n",
            "  1.164992    1.5319936   1.82559488  2.0604759   2.24838072  2.39870458\n",
            "  2.51896366  2.61517093  2.69213674  2.7537094   2.80296752  2.84237401\n",
            "  2.87389921  2.89911937]\n"
          ]
        },
        {
          "output_type": "display_data",
          "data": {
            "image/png": "[encoded data removed]",
            "text/plain": [
              "<Figure size 432x288 with 1 Axes>"
            ]
          },
          "metadata": {
            "needs_background": "light"
          }
        }
      ]
    },
    {
      "cell_type": "code",
      "source": [
        "xValue = -4\n",
        "gamma = 0.9\n",
        "\n",
        "xArray = np.array([xValue])\n",
        "\n",
        "for i in range(1, 20):\n",
        "  xArray = np.append(xArray, calc_xiplus1(xArray[-1], gamma))\n",
        "\n",
        "fxArray = np.array(calc_fx(xArray))\n",
        "\n",
        "Xrange = np.arange(-7,12,1)\n",
        "fx = (Xrange-3)**2\n",
        "\n",
        "fig, ax = plt.subplots()\n",
        "ax.plot(Xrange,fx)\n",
        "ax.plot(xArray, fxArray)"
      ],
      "metadata": {
        "outputId": "828eb0d5-aab4-4bf0-fa96-bffacec9c02e",
        "colab": {
          "base_uri": "https://localhost:8080/",
          "height": 282
        },
        "id": "aE2dShx1ZxVe"
      },
      "execution_count": 59,
      "outputs": [
        {
          "output_type": "execute_result",
          "data": {
            "text/plain": [
              "[<matplotlib.lines.Line2D at 0x7fecff46b790>]"
            ]
          },
          "metadata": {},
          "execution_count": 59
        },
        {
          "output_type": "display_data",
          "data": {
            "image/png": "[encoded data removed]",
            "text/plain": [
              "<Figure size 432x288 with 1 Axes>"
            ]
          },
          "metadata": {
            "needs_background": "light"
          }
        }
      ]
    },
    {
      "cell_type": "code",
      "source": [
        "xValue = -4\n",
        "gamma = 1\n",
        "\n",
        "xArray = np.array([xValue])\n",
        "\n",
        "for i in range(1, 20):\n",
        "  xArray = np.append(xArray, calc_xiplus1(xArray[-1], gamma))\n",
        "\n",
        "fxArray = np.array(calc_fx(xArray))\n",
        "\n",
        "Xrange = np.arange(-7,12,1)\n",
        "fx = (Xrange-3)**2\n",
        "\n",
        "fig, ax = plt.subplots()\n",
        "ax.plot(Xrange,fx)\n",
        "ax.plot(xArray, fxArray)"
      ],
      "metadata": {
        "outputId": "49ad7971-8a25-4a7e-ebc1-d5a95c154e75",
        "colab": {
          "base_uri": "https://localhost:8080/",
          "height": 282
        },
        "id": "4c0HUU65ZxoP"
      },
      "execution_count": 53,
      "outputs": [
        {
          "output_type": "execute_result",
          "data": {
            "text/plain": [
              "[<matplotlib.lines.Line2D at 0x7fecff767b90>]"
            ]
          },
          "metadata": {},
          "execution_count": 53
        },
        {
          "output_type": "display_data",
          "data": {
            "image/png": "[encoded data removed]",
            "text/plain": [
              "<Figure size 432x288 with 1 Axes>"
            ]
          },
          "metadata": {
            "needs_background": "light"
          }
        }
      ]
    },
    {
      "cell_type": "code",
      "source": [
        "xValue = -4\n",
        "gamma = 2\n",
        "\n",
        "xArray = np.array([xValue])\n",
        "\n",
        "for i in range(1, 20):\n",
        "  xArray = np.append(xArray, calc_xiplus1(xArray[-1], gamma))\n",
        "\n",
        "fxArray = np.array(calc_fx(xArray))\n",
        "\n",
        "Xrange = np.arange(-7,12,1)\n",
        "fx = (Xrange-3)**2\n",
        "\n",
        "fig, ax = plt.subplots()\n",
        "ax.plot(Xrange,fx)\n",
        "ax.plot(xArray, fxArray)"
      ],
      "metadata": {
        "id": "NsHMki2kZ2ep",
        "outputId": "d15e682f-c144-48b5-8209-9fd35ab5c34d",
        "colab": {
          "base_uri": "https://localhost:8080/",
          "height": 306
        }
      },
      "execution_count": 54,
      "outputs": [
        {
          "output_type": "execute_result",
          "data": {
            "text/plain": [
              "[<matplotlib.lines.Line2D at 0x7fecff6d4d10>]"
            ]
          },
          "metadata": {},
          "execution_count": 54
        },
        {
          "output_type": "display_data",
          "data": {
            "image/png": "[encoded data removed]",
            "text/plain": [
              "<Figure size 432x288 with 1 Axes>"
            ]
          },
          "metadata": {
            "needs_background": "light"
          }
        }
      ]
    },
    {
      "cell_type": "code",
      "source": [
        ""
      ],
      "metadata": {
        "id": "v6tSA_wFw6Jr"
      },
      "execution_count": null,
      "outputs": []
    }
  ]
}