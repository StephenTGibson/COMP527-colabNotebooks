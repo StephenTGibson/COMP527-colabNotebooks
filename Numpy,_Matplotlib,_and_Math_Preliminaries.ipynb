{
  "nbformat": 4,
  "nbformat_minor": 0,
  "metadata": {
    "kernelspec": {
      "display_name": "Python 3",
      "language": "python",
      "name": "python3"
    },
    "language_info": {
      "codemirror_mode": {
        "name": "ipython",
        "version": 3
      },
      "file_extension": ".py",
      "mimetype": "text/x-python",
      "name": "python",
      "nbconvert_exporter": "python",
      "pygments_lexer": "ipython3",
      "version": "3.9.0"
    },
    "colab": {
      "name": "Numpy, Matplotlib, and Math Preliminaries.ipynb",
      "provenance": [],
      "collapsed_sections": [],
      "include_colab_link": true
    }
  },
  "cells": [
    {
      "cell_type": "markdown",
      "metadata": {
        "id": "view-in-github",
        "colab_type": "text"
      },
      "source": [
        "<a href=\"https://colab.research.google.com/github/phtevegibson/COMP527-colabNotebooks/blob/main/Numpy%2C_Matplotlib%2C_and_Math_Preliminaries.ipynb\" target=\"_parent\"><img src=\"https://colab.research.google.com/assets/colab-badge.svg\" alt=\"Open In Colab\"/></a>"
      ]
    },
    {
      "cell_type": "markdown",
      "metadata": {
        "id": "RhLrhj6AqsyE"
      },
      "source": [
        "# Numpy, Matplotlib and Math preliminaries\n",
        "\n",
        "Numpy is a python library that provides data structures useful for data mining such as arrays, and various functions on those data structures. Follow [the official numpy tutorial](https://numpy.org/devdocs/user/quickstart.html) and familiarize yourself with numpy. Using only Numpy as an external library complete the following exercises.\n"
      ]
    },
    {
      "cell_type": "code",
      "metadata": {
        "id": "veuhBxFGqsyJ"
      },
      "source": [
        "import numpy as np"
      ],
      "execution_count": 35,
      "outputs": []
    },
    {
      "cell_type": "markdown",
      "metadata": {
        "id": "5flPfD80qsyJ"
      },
      "source": [
        "\n",
        "## Excercise 1\n",
        "Given $\\overline{X} = (1,2,3,4,5,6,7,8,9,10)^T$ and $\\overline{Y} = (10,9,8,7,6,5,4,3,2,1)^T$ find\n",
        "\n",
        "1. $\\overline{X} + \\overline{Y}$\n",
        "2. $\\overline{X}^T \\overline{Y}$\n",
        "2. $\\overline{X}\\overline{Y}^T$\n"
      ]
    },
    {
      "cell_type": "code",
      "metadata": {
        "id": "JWztdJoZqsyK"
      },
      "source": [
        "X = np.transpose(np.array([1,2,3,4,5,6,7,8,9,10]))\n",
        "Y = np.transpose(np.array([10,9,8,7,6,5,4,3,2,1]))"
      ],
      "execution_count": 36,
      "outputs": []
    },
    {
      "cell_type": "code",
      "source": [
        "# 1\n",
        "X + Y"
      ],
      "metadata": {
        "id": "I0nqgD8k16-r",
        "outputId": "c28ad139-3eaa-4b59-ac76-65943cf15cc0",
        "colab": {
          "base_uri": "https://localhost:8080/"
        }
      },
      "execution_count": 37,
      "outputs": [
        {
          "output_type": "execute_result",
          "data": {
            "text/plain": [
              "array([11, 11, 11, 11, 11, 11, 11, 11, 11, 11])"
            ]
          },
          "metadata": {},
          "execution_count": 37
        }
      ]
    },
    {
      "cell_type": "code",
      "source": [
        "# 2\n",
        "np.transpose(X) @ Y"
      ],
      "metadata": {
        "id": "gc12biIt1_6N",
        "outputId": "12553fe0-9d0f-450e-d194-2c5e7d1ef13a",
        "colab": {
          "base_uri": "https://localhost:8080/"
        }
      },
      "execution_count": 38,
      "outputs": [
        {
          "output_type": "execute_result",
          "data": {
            "text/plain": [
              "220"
            ]
          },
          "metadata": {},
          "execution_count": 38
        }
      ]
    },
    {
      "cell_type": "code",
      "source": [
        "# 3\n",
        "X @ np.transpose(Y)"
      ],
      "metadata": {
        "id": "GXbAf7qk4Fko",
        "outputId": "567129e3-d1b3-435f-a10d-1832a311b2e4",
        "colab": {
          "base_uri": "https://localhost:8080/"
        }
      },
      "execution_count": 39,
      "outputs": [
        {
          "output_type": "execute_result",
          "data": {
            "text/plain": [
              "220"
            ]
          },
          "metadata": {},
          "execution_count": 39
        }
      ]
    },
    {
      "cell_type": "markdown",
      "metadata": {
        "id": "z4KCglTwqsyK"
      },
      "source": [
        "---\n",
        "## Excercise 2\n",
        "Given two matrices \n",
        "$\\overline{A} = \\begin{pmatrix}1 & 2 & 3 & 4 & 5\\\\ 6 & 7 & 8 & 9 & 10\\\\ 11 & 12 & 13 & 14 & 15\\\\ 16 & 17 & 18 & 19 & 20\\\\ 21 & 22 & 23 & 24 & 25 \\end{pmatrix}$\n",
        "and \n",
        "$\\overline{B} = \\begin{pmatrix}0 & 1 & 0 & 1 & 0\\\\ 1 & 2 & 3 & 4 & 5\\\\ -1 & 0 & 1 & 0 & -1 \\\\ 5 & 4 & 3 & 2 & 5\\\\ -1 & 0 & 1 & 0 & -1 \\end{pmatrix}$\n",
        "\n",
        "1. Compute $\\overline{A} + \\overline{B}$\n",
        "2. Compute $\\overline{B} + \\overline{A}$. Is it equal to $\\overline{A} + \\overline{B}$? Is it always the case?\n",
        "3. Compute $\\overline{A} \\cdot \\overline{B}$\n",
        "4. Compute $\\overline{B} \\cdot \\overline{A}$. Is it equal to $\\overline{A} \\cdot \\overline{B}$?"
      ]
    },
    {
      "cell_type": "markdown",
      "source": [
        "the last axis is printed from left to right,\n",
        "\n",
        "the second-to-last is printed from top to bottom,\n",
        "\n",
        "the rest are also printed from top to bottom, with each slice separated from the next by an empty line."
      ],
      "metadata": {
        "id": "ic8SxcW55B5d"
      }
    },
    {
      "cell_type": "code",
      "metadata": {
        "id": "ZvmZdAiFqsyK",
        "outputId": "660031d5-4704-45b3-93f5-2860f55632f9",
        "colab": {
          "base_uri": "https://localhost:8080/"
        }
      },
      "source": [
        "A = np.array([[1,2,3,4,5],[6,7,8,9,10],[11,12,13,14,15],[16,17,18,19,20],[21,22,23,24,25]])\n",
        "B = np.array([[0,1,0,1,0],[1,2,3,4,5],[-1,0,1,0,-1],[5,4,3,2,5],[-1,0,1,0,-1]])\n",
        "print(f'A:\\n{A}\\n\\nB:\\n{B}')"
      ],
      "execution_count": 40,
      "outputs": [
        {
          "output_type": "stream",
          "name": "stdout",
          "text": [
            "A:\n",
            "[[ 1  2  3  4  5]\n",
            " [ 6  7  8  9 10]\n",
            " [11 12 13 14 15]\n",
            " [16 17 18 19 20]\n",
            " [21 22 23 24 25]]\n",
            "\n",
            "B:\n",
            "[[ 0  1  0  1  0]\n",
            " [ 1  2  3  4  5]\n",
            " [-1  0  1  0 -1]\n",
            " [ 5  4  3  2  5]\n",
            " [-1  0  1  0 -1]]\n"
          ]
        }
      ]
    },
    {
      "cell_type": "code",
      "source": [
        "# 1\n",
        "A + B"
      ],
      "metadata": {
        "id": "8Bv3y4PR5nST",
        "outputId": "01b99540-00f2-483a-c180-5720af3b2d01",
        "colab": {
          "base_uri": "https://localhost:8080/"
        }
      },
      "execution_count": 41,
      "outputs": [
        {
          "output_type": "execute_result",
          "data": {
            "text/plain": [
              "array([[ 1,  3,  3,  5,  5],\n",
              "       [ 7,  9, 11, 13, 15],\n",
              "       [10, 12, 14, 14, 14],\n",
              "       [21, 21, 21, 21, 25],\n",
              "       [20, 22, 24, 24, 24]])"
            ]
          },
          "metadata": {},
          "execution_count": 41
        }
      ]
    },
    {
      "cell_type": "code",
      "source": [
        "# 2\n",
        "B + A"
      ],
      "metadata": {
        "id": "j7CnOzKr5uCl",
        "outputId": "f667a09f-d9d7-46ae-885a-8bb265baf367",
        "colab": {
          "base_uri": "https://localhost:8080/"
        }
      },
      "execution_count": 42,
      "outputs": [
        {
          "output_type": "execute_result",
          "data": {
            "text/plain": [
              "array([[ 1,  3,  3,  5,  5],\n",
              "       [ 7,  9, 11, 13, 15],\n",
              "       [10, 12, 14, 14, 14],\n",
              "       [21, 21, 21, 21, 25],\n",
              "       [20, 22, 24, 24, 24]])"
            ]
          },
          "metadata": {},
          "execution_count": 42
        }
      ]
    },
    {
      "cell_type": "code",
      "source": [
        "# 3\n",
        "# * does elementwise multiplication only\n",
        "# @ or dot method does matrix multiplication\n",
        "A @ B"
      ],
      "metadata": {
        "id": "4BYxWSX75z9V",
        "outputId": "2e375dd9-5902-4f39-ed54-d8a5914a9a16",
        "colab": {
          "base_uri": "https://localhost:8080/"
        }
      },
      "execution_count": 43,
      "outputs": [
        {
          "output_type": "execute_result",
          "data": {
            "text/plain": [
              "array([[ 14,  21,  26,  17,  22],\n",
              "       [ 34,  56,  66,  52,  62],\n",
              "       [ 54,  91, 106,  87, 102],\n",
              "       [ 74, 126, 146, 122, 142],\n",
              "       [ 94, 161, 186, 157, 182]])"
            ]
          },
          "metadata": {},
          "execution_count": 43
        }
      ]
    },
    {
      "cell_type": "code",
      "source": [
        "# 4\n",
        "B @ A"
      ],
      "metadata": {
        "id": "5AB2-L7y7JQm",
        "outputId": "27828f6b-8fdc-4630-acdb-8abfae3385c5",
        "colab": {
          "base_uri": "https://localhost:8080/"
        }
      },
      "execution_count": 44,
      "outputs": [
        {
          "output_type": "execute_result",
          "data": {
            "text/plain": [
              "array([[ 22,  24,  26,  28,  30],\n",
              "       [215, 230, 245, 260, 275],\n",
              "       [-11, -12, -13, -14, -15],\n",
              "       [199, 218, 237, 256, 275],\n",
              "       [-11, -12, -13, -14, -15]])"
            ]
          },
          "metadata": {},
          "execution_count": 44
        }
      ]
    },
    {
      "cell_type": "markdown",
      "metadata": {
        "id": "if6a9H0FqsyK"
      },
      "source": [
        "---\n",
        "## Excercise 3\n",
        "Compute the inverse of the following matrix\n",
        "$\\overline{A} = \\begin{pmatrix} 1 & 2 & 4\\\\ -2 & 1 & 5 \\\\1 & 2 & 3 \\end{pmatrix}$, if one exsits. Verify that the matrix product of $\\overline{A}$ and its inverse is the 3x3 identity matrix. "
      ]
    },
    {
      "cell_type": "code",
      "source": [
        "A = np.array([[1,2,4],[-2,1,5],[1,2,3]])"
      ],
      "metadata": {
        "id": "zi4C01jKP4ms"
      },
      "execution_count": 46,
      "outputs": []
    },
    {
      "cell_type": "code",
      "metadata": {
        "id": "LOJ3Ia7qqsyK",
        "outputId": "73dc5661-0c05-4c35-9e71-26f04693d8e1",
        "colab": {
          "base_uri": "https://localhost:8080/"
        }
      },
      "source": [
        "np.linalg.inv(A)"
      ],
      "execution_count": 47,
      "outputs": [
        {
          "output_type": "execute_result",
          "data": {
            "text/plain": [
              "array([[ 1.4, -0.4, -1.2],\n",
              "       [-2.2,  0.2,  2.6],\n",
              "       [ 1. , -0. , -1. ]])"
            ]
          },
          "metadata": {},
          "execution_count": 47
        }
      ]
    },
    {
      "cell_type": "code",
      "source": [
        "A @ np.linalg.inv(A)"
      ],
      "metadata": {
        "id": "_hBZMf0lQFGb",
        "outputId": "fcaf259c-4c1d-4666-8954-7079a1174de4",
        "colab": {
          "base_uri": "https://localhost:8080/"
        }
      },
      "execution_count": 48,
      "outputs": [
        {
          "output_type": "execute_result",
          "data": {
            "text/plain": [
              "array([[ 1.0000000e+00,  0.0000000e+00,  0.0000000e+00],\n",
              "       [ 0.0000000e+00,  1.0000000e+00,  0.0000000e+00],\n",
              "       [-4.4408921e-16,  0.0000000e+00,  1.0000000e+00]])"
            ]
          },
          "metadata": {},
          "execution_count": 48
        }
      ]
    },
    {
      "cell_type": "markdown",
      "metadata": {
        "id": "qAXDVEVkqsyL"
      },
      "source": [
        "---\n",
        "## Excercise 4\n",
        "Find the ranks of the following matrices\n",
        "$\\overline{A} = \\left(\\begin{matrix} 1 & 0 & 1 \\\\ 0 & 1 & 1\\\\ 0 & 0 & 0\\end{matrix}\\right)~$ and\n",
        "$~\\overline{B} = \\left(\\begin{matrix} 1 & 2 & 1 \\\\-2 & -3 & 1\\\\ 3 & 5 & 0\\end{matrix}\\right)$."
      ]
    },
    {
      "cell_type": "code",
      "source": [
        "A = np.array([[1,0,1],[0,1,1],[0,0,0]])\n",
        "B = np.array([[1,2,1],[-2,-3,1],[3,5,0]])"
      ],
      "metadata": {
        "id": "gj3SY1K2Qezz"
      },
      "execution_count": 50,
      "outputs": []
    },
    {
      "cell_type": "code",
      "metadata": {
        "id": "NlBiJLYiqsyL",
        "outputId": "c9001212-9ca4-49d9-ed40-7895fd63a9e9",
        "colab": {
          "base_uri": "https://localhost:8080/"
        }
      },
      "source": [
        "np.linalg.matrix_rank(A)"
      ],
      "execution_count": 52,
      "outputs": [
        {
          "output_type": "execute_result",
          "data": {
            "text/plain": [
              "2"
            ]
          },
          "metadata": {},
          "execution_count": 52
        }
      ]
    },
    {
      "cell_type": "code",
      "source": [
        "np.linalg.matrix_rank(B)"
      ],
      "metadata": {
        "id": "cw2ZHVceQ3Hq",
        "outputId": "75d458bb-7634-47a5-9759-8fb1691ed303",
        "colab": {
          "base_uri": "https://localhost:8080/"
        }
      },
      "execution_count": 53,
      "outputs": [
        {
          "output_type": "execute_result",
          "data": {
            "text/plain": [
              "2"
            ]
          },
          "metadata": {},
          "execution_count": 53
        }
      ]
    },
    {
      "cell_type": "markdown",
      "metadata": {
        "id": "6q5DrDRdqsyL"
      },
      "source": [
        "---\n",
        "## Excercise 5\n",
        "Find the eigenvalues of matrix\n",
        " $\\overline{A} = \\left(\\begin{matrix} 4 & 2\\\\ 1 & 3\\end{matrix}\\right)$"
      ]
    },
    {
      "cell_type": "code",
      "metadata": {
        "id": "cEXPYLlAqsyL"
      },
      "source": [
        "A = np.array([[4,2],[1,3]])"
      ],
      "execution_count": 54,
      "outputs": []
    },
    {
      "cell_type": "code",
      "source": [
        "np.linalg.eig(A)"
      ],
      "metadata": {
        "id": "UAaMWwgmRQOZ",
        "outputId": "89887259-3ee9-4642-8a37-395d112736e4",
        "colab": {
          "base_uri": "https://localhost:8080/"
        }
      },
      "execution_count": 55,
      "outputs": [
        {
          "output_type": "execute_result",
          "data": {
            "text/plain": [
              "(array([5., 2.]), array([[ 0.89442719, -0.70710678],\n",
              "        [ 0.4472136 ,  0.70710678]]))"
            ]
          },
          "metadata": {},
          "execution_count": 55
        }
      ]
    },
    {
      "cell_type": "markdown",
      "metadata": {
        "id": "pA4EwMsoqsyL"
      },
      "source": [
        "---\n",
        "## Excercise 6\n",
        " \n",
        "For this excercise we will need [Matplotlib](https://matplotlib.org/index.html). Follow [the official Matplotlib tutorial](https://matplotlib.org/tutorials/introductory/pyplot.html#) and familiarize yourself with Matplotlib.\n",
        "\n",
        "Recall from the lecture the Gradient Descent method for finding local minimum of a function:\n",
        "\n",
        "1. Pick an initial point $\\overline{X}_0$\n",
        "2. Iterate according to $\\overline{X}_{i+1} = \\overline{X}_i - \\gamma \\cdot \\big((\\nabla_{\\overline{X}} f)(\\overline{X}_i) \\big)$\n",
        "\n",
        "\n",
        "Examine this method by trying to find the minimum of the function $f(x) = (x-3)^2$. More specifically, for every $\\gamma \\in \\{0.01, 0.1, 0.9, 1, 2\\}$:\n",
        "1. Plot the graph of $f(x) = (x-3)^2$\n",
        "2. Pick an intial point $x = -4$\n",
        "3. Run 20 interations of the methods \n",
        "4. In every iteration $i = 1, \\ldots, 20$, plot the point $(x_i, f(x_i))$ on the same plot as the graph of the function $f(x)$\n",
        "\n",
        "Interpret the results."
      ]
    },
    {
      "cell_type": "code",
      "metadata": {
        "id": "gjleihmpqsyL"
      },
      "source": [
        "import matplotlib.pyplot as plt"
      ],
      "execution_count": 56,
      "outputs": []
    },
    {
      "cell_type": "code",
      "source": [
        "# 1\n",
        "Xrange = np.arange(-7,12,1)\n",
        "fx = (Xrange-3)**3\n",
        "plt.plot(Xrange,fx)"
      ],
      "metadata": {
        "id": "HJkL7dzKR1EO",
        "outputId": "7b3cfbbe-a29a-48a6-ac42-1ff4a8ccf32e",
        "colab": {
          "base_uri": "https://localhost:8080/",
          "height": 282
        }
      },
      "execution_count": 133,
      "outputs": [
        {
          "output_type": "execute_result",
          "data": {
            "text/plain": [
              "[<matplotlib.lines.Line2D at 0x7ffad1106650>]"
            ]
          },
          "metadata": {},
          "execution_count": 133
        },
        {
          "output_type": "display_data",
          "data": {
            "image/png": "[encoded data removed]",
            "text/plain": [
              "<Figure size 432x288 with 1 Axes>"
            ]
          },
          "metadata": {
            "needs_background": "light"
          }
        }
      ]
    },
    {
      "cell_type": "code",
      "source": [
        "def calc_fx(x):\n",
        "   return (x-3)**3"
      ],
      "metadata": {
        "id": "HoNTN7HJV53Q"
      },
      "execution_count": 123,
      "outputs": []
    },
    {
      "cell_type": "code",
      "source": [
        "def calc_xiplus1(xi, gamma):\n",
        "  return xi - gamma*(2*(xi-3))"
      ],
      "metadata": {
        "id": "BgqdY3EET11s"
      },
      "execution_count": 124,
      "outputs": []
    },
    {
      "cell_type": "code",
      "source": [
        "xValue = -4\n",
        "gamma = 0.01\n",
        "\n",
        "xArray = np.array([xValue])\n",
        "\n",
        "for i in range(1, 20):\n",
        "  xArray = np.append(xArray, calc_xiplus1(xArray[-1], gamma))\n",
        "\n",
        "fxArray = np.array(calc_fx(xArray))\n",
        "\n",
        "Xrange = np.arange(-7,5,1)\n",
        "fx = (Xrange-3)**3\n",
        "\n",
        "fig, ax = plt.subplots()\n",
        "ax.plot(Xrange,fx)\n",
        "ax.plot(xArray, fxArray)"
      ],
      "metadata": {
        "colab": {
          "base_uri": "https://localhost:8080/",
          "height": 282
        },
        "id": "0FdP90sSSRQc",
        "outputId": "81d9f2ac-4e50-476b-c6ef-da803ca106ee"
      },
      "execution_count": 148,
      "outputs": [
        {
          "output_type": "execute_result",
          "data": {
            "text/plain": [
              "[<matplotlib.lines.Line2D at 0x7ffac74ef390>]"
            ]
          },
          "metadata": {},
          "execution_count": 148
        },
        {
          "output_type": "display_data",
          "data": {
            "image/png": "[encoded data removed]",
            "text/plain": [
              "<Figure size 432x288 with 1 Axes>"
            ]
          },
          "metadata": {
            "needs_background": "light"
          }
        }
      ]
    },
    {
      "cell_type": "code",
      "source": [
        ""
      ],
      "metadata": {
        "id": "bqNHzkTDWRPt"
      },
      "execution_count": null,
      "outputs": []
    },
    {
      "cell_type": "code",
      "source": [
        "xValue = -4\n",
        "gamma = 0.1\n",
        "\n",
        "xArray = np.array([xValue])\n",
        "\n",
        "for i in range(1, 20):\n",
        "  xArray = np.append(xArray, calc_xiplus1(xArray[-1], gamma))\n",
        "\n",
        "fxArray = np.array(calc_fx(xArray))\n",
        "\n",
        "Xrange = np.arange(-7,12,1)\n",
        "fx = (Xrange-3)**3\n",
        "\n",
        "fig, ax = plt.subplots()\n",
        "ax.plot(Xrange,fx)\n",
        "ax.plot(xArray, fxArray)"
      ],
      "metadata": {
        "outputId": "3ec4977e-63b4-498e-e5af-e5ec32d3562d",
        "colab": {
          "base_uri": "https://localhost:8080/",
          "height": 282
        },
        "id": "EXXHOT_xZww_"
      },
      "execution_count": 145,
      "outputs": [
        {
          "output_type": "execute_result",
          "data": {
            "text/plain": [
              "[<matplotlib.lines.Line2D at 0x7ffac768f950>]"
            ]
          },
          "metadata": {},
          "execution_count": 145
        },
        {
          "output_type": "display_data",
          "data": {
            "image/png": "[encoded data removed]",
            "text/plain": [
              "<Figure size 432x288 with 1 Axes>"
            ]
          },
          "metadata": {
            "needs_background": "light"
          }
        }
      ]
    },
    {
      "cell_type": "code",
      "source": [
        "xValue = -4\n",
        "gamma = 0.9\n",
        "\n",
        "xArray = np.array([xValue])\n",
        "\n",
        "for i in range(1, 20):\n",
        "  xArray = np.append(xArray, calc_xiplus1(xArray[-1], gamma))\n",
        "\n",
        "fxArray = np.array(calc_fx(xArray))\n",
        "\n",
        "Xrange = np.arange(-7,14,1)\n",
        "fx = (Xrange-3)**3\n",
        "\n",
        "fig, ax = plt.subplots()\n",
        "ax.plot(Xrange,fx)\n",
        "ax.plot(xArray, fxArray)"
      ],
      "metadata": {
        "outputId": "c4b0ee51-2a7d-46cd-e555-d3294ae7be05",
        "colab": {
          "base_uri": "https://localhost:8080/",
          "height": 282
        },
        "id": "aE2dShx1ZxVe"
      },
      "execution_count": 149,
      "outputs": [
        {
          "output_type": "execute_result",
          "data": {
            "text/plain": [
              "[<matplotlib.lines.Line2D at 0x7ffac74dc450>]"
            ]
          },
          "metadata": {},
          "execution_count": 149
        },
        {
          "output_type": "display_data",
          "data": {
            "image/png": "[encoded data removed]",
            "text/plain": [
              "<Figure size 432x288 with 1 Axes>"
            ]
          },
          "metadata": {
            "needs_background": "light"
          }
        }
      ]
    },
    {
      "cell_type": "code",
      "source": [
        "xValue = -4\n",
        "gamma = 1.2\n",
        "\n",
        "xArray = np.array([xValue])\n",
        "\n",
        "for i in range(1, 20):\n",
        "  xArray = np.append(xArray, calc_xiplus1(xArray[-1], gamma))\n",
        "\n",
        "fxArray = np.array(calc_fx(xArray))\n",
        "\n",
        "Xrange = np.arange(-7,12,1)\n",
        "fx = (Xrange-3)**3\n",
        "\n",
        "fig, ax = plt.subplots()\n",
        "ax.plot(Xrange,fx)\n",
        "ax.plot(xArray, fxArray)"
      ],
      "metadata": {
        "outputId": "1b05c1e0-4ccf-4f8f-c632-51dad114b12c",
        "colab": {
          "base_uri": "https://localhost:8080/",
          "height": 293
        },
        "id": "4c0HUU65ZxoP"
      },
      "execution_count": 147,
      "outputs": [
        {
          "output_type": "execute_result",
          "data": {
            "text/plain": [
              "[<matplotlib.lines.Line2D at 0x7ffac757cb10>]"
            ]
          },
          "metadata": {},
          "execution_count": 147
        },
        {
          "output_type": "display_data",
          "data": {
            "image/png": "[encoded data removed]",
            "text/plain": [
              "<Figure size 432x288 with 1 Axes>"
            ]
          },
          "metadata": {
            "needs_background": "light"
          }
        }
      ]
    },
    {
      "cell_type": "code",
      "source": [
        ""
      ],
      "metadata": {
        "id": "NsHMki2kZ2ep"
      },
      "execution_count": null,
      "outputs": []
    }
  ]
}