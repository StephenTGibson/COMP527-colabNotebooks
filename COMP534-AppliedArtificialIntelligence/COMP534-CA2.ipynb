{
 "cells": [
  {
   "cell_type": "markdown",
   "id": "4ed44d34",
   "metadata": {},
   "source": [
    "# COMP 534 - Applied Artificial Intelligence\n",
    "## CA2 - Neural network regression\n",
    "This notebook was produced as a deliverable for a group project for the above module, as part of the 2021-2022 Data Science and Artificial Intelligence MSc course at the University of Liverpool.\n",
    "### Preparation\n",
    "#### Setup\n",
    "Import required libraries, tools and classifiers."
   ]
  },
  {
   "cell_type": "code",
   "execution_count": 42,
   "id": "49109f0c",
   "metadata": {},
   "outputs": [],
   "source": [
    "import numpy as np\n",
    "import pandas as pd\n",
    "\n",
    "import matplotlib.pyplot as plt\n",
    "import seaborn as sns\n",
    "\n",
    "# Hyperparameter optimisation\n",
    "from sklearn.model_selection import RepeatedStratifiedKFold\n",
    "from sklearn.model_selection import RepeatedKFold\n",
    "from sklearn.model_selection import GridSearchCV\n",
    "\n",
    "from sklearn.metrics import mean_squared_error\n",
    "\n",
    "from tensorflow import keras\n",
    "\n",
    "from keras.callbacks import EarlyStopping\n",
    "\n",
    "from keras.models import Sequential\n",
    "from keras.layers import Dense\n",
    "from scikeras.wrappers import KerasRegressor\n",
    "\n",
    "from sklearn.model_selection import cross_val_score\n",
    "from sklearn.model_selection import KFold\n",
    "\n",
    "from sklearn.model_selection import train_test_split\n",
    "\n",
    "from sklearn.preprocessing import StandardScaler\n",
    "from sklearn.preprocessing import MinMaxScaler"
   ]
  },
  {
   "cell_type": "markdown",
   "id": "378f2cc4",
   "metadata": {},
   "source": [
    "#### Data\n",
    "https://www.kaggle.com/datasets/harlfoxem/housesalesprediction"
   ]
  },
  {
   "cell_type": "code",
   "execution_count": 2,
   "id": "5c54c045",
   "metadata": {},
   "outputs": [],
   "source": [
    "df = pd.read_csv('kc_house_data.csv')"
   ]
  },
  {
   "cell_type": "code",
   "execution_count": 3,
   "id": "ffa1824b",
   "metadata": {},
   "outputs": [],
   "source": [
    "# print(df.shape)\n",
    "# df.head()"
   ]
  },
  {
   "cell_type": "code",
   "execution_count": 4,
   "id": "fe6705f7",
   "metadata": {},
   "outputs": [],
   "source": [
    "# df.hist(figsize=(20,20), bins='auto')\n",
    "# plt.tight_layout()"
   ]
  },
  {
   "cell_type": "markdown",
   "id": "00577706",
   "metadata": {},
   "source": [
    "#### Cleaning\n"
   ]
  },
  {
   "cell_type": "markdown",
   "id": "60bc53b9",
   "metadata": {},
   "source": [
    "##### Remove outliers"
   ]
  },
  {
   "cell_type": "code",
   "execution_count": 5,
   "id": "e5e274d6",
   "metadata": {},
   "outputs": [
    {
     "name": "stdout",
     "output_type": "stream",
     "text": [
      "0.22% of rows removed\n"
     ]
    }
   ],
   "source": [
    "originalRowCount = df.shape[0]\n",
    "\n",
    "df = df[(df['bedrooms'] > 0) & (df['bedrooms'] < 12)]\n",
    "df = df[(df['bathrooms'] > 0) & (df['bathrooms'] < 12)]\n",
    "df = df[df['sqft_lot'] < 5e5]\n",
    "df = df[df['sqft_lot15'] < 3.5e5]\n",
    "\n",
    "print(f'{((originalRowCount - df.shape[0])*100 / originalRowCount):.2f}% of rows removed')"
   ]
  },
  {
   "cell_type": "markdown",
   "id": "77d77e5e",
   "metadata": {},
   "source": [
    "##### Date"
   ]
  },
  {
   "cell_type": "code",
   "execution_count": 6,
   "id": "8362b2a4",
   "metadata": {},
   "outputs": [],
   "source": [
    "df['date'] = pd.to_datetime(df['date'])\n",
    "df['daysSinceSale'] = (df['date'].max() - df['date']).dt.days"
   ]
  },
  {
   "cell_type": "markdown",
   "id": "af797d40",
   "metadata": {},
   "source": [
    "##### Binning"
   ]
  },
  {
   "cell_type": "code",
   "execution_count": 7,
   "id": "af021296",
   "metadata": {},
   "outputs": [],
   "source": [
    "bins = 9\n",
    "df['basementOrdinal'] = pd.cut(df[df['sqft_basement']>0]['sqft_basement'], bins, labels=range(1, bins+1)).astype(int)\n",
    "df['basementOrdinal'] = df['basementOrdinal'].fillna(0)"
   ]
  },
  {
   "cell_type": "code",
   "execution_count": 8,
   "id": "d8b6d151",
   "metadata": {},
   "outputs": [],
   "source": [
    "bins = 9\n",
    "df['renovatedOrdinal'] = pd.cut(df[df['yr_renovated']>0]['yr_renovated'], bins, labels=range(1, bins+1)).astype(int)\n",
    "df['renovatedOrdinal'] = df['renovatedOrdinal'].fillna(0)"
   ]
  },
  {
   "cell_type": "markdown",
   "id": "f3a828c4",
   "metadata": {},
   "source": [
    "##### Transforms"
   ]
  },
  {
   "cell_type": "code",
   "execution_count": 9,
   "id": "486454a2",
   "metadata": {},
   "outputs": [],
   "source": [
    "skewedVariables = ['price', 'sqft_living', 'sqft_lot', 'sqft_above', 'sqft_living15', 'sqft_lot15'] #'price', \n",
    "logVariables = ['priceLog', 'sqft_livingLog', 'sqft_lotLog', 'sqft_aboveLog', 'sqft_living15Log', 'sqft_lot15Log'] #'priceLog', \n",
    "df[logVariables] = np.log(df[skewedVariables])"
   ]
  },
  {
   "cell_type": "markdown",
   "id": "72f7abc1",
   "metadata": {},
   "source": [
    "##### Drop unused columns"
   ]
  },
  {
   "cell_type": "code",
   "execution_count": 10,
   "id": "b1e051fd",
   "metadata": {},
   "outputs": [],
   "source": [
    "df = df.drop(columns=skewedVariables)\n",
    "df = df.drop(columns=['date', 'id', 'sqft_basement', 'yr_renovated', 'zipcode',])"
   ]
  },
  {
   "cell_type": "markdown",
   "id": "5822c937",
   "metadata": {},
   "source": [
    "##### Move price col"
   ]
  },
  {
   "cell_type": "code",
   "execution_count": 11,
   "id": "a106af1b",
   "metadata": {},
   "outputs": [],
   "source": [
    "column_to_move = df.pop(\"priceLog\")\n",
    "df.insert(0, \"priceLog\", column_to_move)"
   ]
  },
  {
   "cell_type": "code",
   "execution_count": 12,
   "id": "6f22134a",
   "metadata": {
    "scrolled": false
   },
   "outputs": [],
   "source": [
    "# df.hist(bins = \"auto\", figsize = (20,20))\n",
    "# plt.show()"
   ]
  },
  {
   "cell_type": "markdown",
   "id": "84b7bf30",
   "metadata": {},
   "source": [
    "### Models and Analysis"
   ]
  },
  {
   "cell_type": "markdown",
   "id": "5a98b4b9",
   "metadata": {},
   "source": [
    "#### Setup"
   ]
  },
  {
   "cell_type": "code",
   "execution_count": 13,
   "id": "a5f257c8",
   "metadata": {},
   "outputs": [
    {
     "data": {
      "text/plain": [
       "(21566, 19)"
      ]
     },
     "execution_count": 13,
     "metadata": {},
     "output_type": "execute_result"
    }
   ],
   "source": [
    "df.shape"
   ]
  },
  {
   "cell_type": "code",
   "execution_count": 22,
   "id": "6afbe58b",
   "metadata": {},
   "outputs": [],
   "source": [
    "data = df.values\n",
    "X = data[:, 1:]\n",
    "y = data[:, 0].reshape(-1, 1)"
   ]
  },
  {
   "cell_type": "code",
   "execution_count": 23,
   "id": "36fc2596",
   "metadata": {},
   "outputs": [],
   "source": [
    "# Split data into 80% train and 20% test sets\n",
    "# Data stratified by class due to imbalance in classes (65% negative - 35% positive)\n",
    "# Data shuffled to reduce any bias in the order of the dataset\n",
    "# Define random state to ensure the same train test split can be used for each method\n",
    "X_train, X_test, y_train, y_test = train_test_split(X,\n",
    "                                                    y,\n",
    "                                                    test_size=0.20,\n",
    "                                                    #stratify=y,\n",
    "                                                    shuffle=True,\n",
    "                                                    random_state=123,\n",
    "                                                    )"
   ]
  },
  {
   "cell_type": "code",
   "execution_count": 24,
   "id": "cd31c941",
   "metadata": {},
   "outputs": [],
   "source": [
    "# Standardise features to negate the impact of different feature units\n",
    "# Updated features have mean 0 and standard deviation 1\n",
    "featureScaler = MinMaxScaler() #StandardScaler()\n",
    "# featureScaler.fit(X_train[:, -5:])\n",
    "# X_train[:, -5:] = featureScaler.transform(X_train[:, -5:])\n",
    "# X_test[:, -5:] = featureScaler.transform(X_test[:, -5:])\n",
    "\n",
    "featureScaler.fit(X_train)\n",
    "X_train = featureScaler.transform(X_train)\n",
    "X_test = featureScaler.transform(X_test)"
   ]
  },
  {
   "cell_type": "code",
   "execution_count": 25,
   "id": "a1bbb88c",
   "metadata": {},
   "outputs": [],
   "source": [
    "targetScaler = StandardScaler()\n",
    "targetScaler.fit(y_train)\n",
    "y_train = targetScaler.transform(y_train)\n",
    "y_test = targetScaler.transform(y_test)"
   ]
  },
  {
   "cell_type": "markdown",
   "id": "fc1d6090",
   "metadata": {},
   "source": [
    "#### Model"
   ]
  },
  {
   "cell_type": "code",
   "execution_count": 45,
   "id": "8e19b7b3",
   "metadata": {},
   "outputs": [],
   "source": [
    "# define base model\n",
    "def model():\n",
    "    # create model\n",
    "    model = Sequential()\n",
    "    model.add(Dense(units=32, input_shape=(18,),  activation='relu'))\n",
    "    model.add(Dense(units=32, activation='relu'))\n",
    "#     model.add(Dense(16, input_dim=8, activation='relu'))\n",
    "#     model.add(Dense(16, input_dim=8, activation='relu'))\n",
    "    model.add(Dense(units=1))\n",
    "    # Compile model\n",
    "    #model.compile(loss='mean_squared_error', optimizer='Adam')\n",
    "    return model"
   ]
  },
  {
   "cell_type": "code",
   "execution_count": 32,
   "id": "233d8abe",
   "metadata": {
    "scrolled": false
   },
   "outputs": [
    {
     "name": "stdout",
     "output_type": "stream",
     "text": [
      "Epoch 00592: early stopping\n",
      "Train: 0.090\n",
      "Valid: 0.105\n"
     ]
    }
   ],
   "source": [
    "trainFraction = 0.7\n",
    "trainingRows = round((X_train.shape[0]*trainFraction))\n",
    "\n",
    "model = baseline_model()\n",
    "\n",
    "es = EarlyStopping(monitor='val_loss', mode='min', verbose=1, patience=20)\n",
    "\n",
    "history = model.fit(X_train[:trainingRows],\n",
    "                    y_train[:trainingRows],\n",
    "                    validation_data=(X_train[trainingRows:],\n",
    "                                     y_train[trainingRows:]),\n",
    "#                     validation_data=(X_test,\n",
    "#                                      y_test),\n",
    "                    epochs=1000,\n",
    "                    batch_size=128,\n",
    "                    verbose=0,\n",
    "                    callbacks=[es],\n",
    "                   )\n",
    "\n",
    "train_acc = model.evaluate(X_train[:trainingRows],\n",
    "                              y_train[:trainingRows],\n",
    "                              verbose=0)\n",
    "valid_acc = model.evaluate(X_train[trainingRows:],\n",
    "                             y_train[trainingRows:],\n",
    "                             verbose=0)\n",
    "\n",
    "print(f'Train: {train_acc:.3f}\\nValid: {valid_acc:.3f}')\n",
    "\n",
    "\n",
    "# verbose=0)\n",
    "#y_pred = model.predict(X_test)"
   ]
  },
  {
   "cell_type": "markdown",
   "id": "76319be5",
   "metadata": {},
   "source": [
    "https://coderzcolumn.com/tutorials/artifical-intelligence/scikeras-give-scikit-learn-like-api-to-your-keras-networks"
   ]
  },
  {
   "cell_type": "code",
   "execution_count": null,
   "id": "30bb9cc4",
   "metadata": {},
   "outputs": [],
   "source": [
    "searchSpace = {\n",
    "    'optimizer':[],\n",
    "    'optimizer__learning_rate': [],\n",
    "    'batch_size':[],\n",
    "}\n",
    "\n",
    "\n",
    "# params = {\n",
    "#     \"batch_size\": [8,16],\n",
    "#     \"optimizer\": [\"adam\", \"sgd\"],\n",
    "#     \"optimizer__learning_rate\": [0.001, 0.01, 0.1],"
   ]
  },
  {
   "cell_type": "code",
   "execution_count": 52,
   "id": "d429fbf2",
   "metadata": {
    "scrolled": false
   },
   "outputs": [
    {
     "name": "stdout",
     "output_type": "stream",
     "text": [
      "Epoch 00142: early stopping\n",
      "Epoch 00115: early stopping\n",
      "Epoch 00134: early stopping\n",
      "Epoch 00148: early stopping\n",
      "Epoch 00204: early stopping\n",
      "Epoch 00215: early stopping\n",
      "Epoch 00194: early stopping\n",
      "Epoch 00136: early stopping\n",
      "Epoch 00150: early stopping\n",
      "Epoch 00162: early stopping\n"
     ]
    },
    {
     "data": {
      "text/plain": [
       "0.8902102850322569"
      ]
     },
     "execution_count": 52,
     "metadata": {},
     "output_type": "execute_result"
    }
   ],
   "source": [
    "#aModel = model()\n",
    "es = EarlyStopping(monitor='loss', mode='min', verbose=1, patience=10)\n",
    "\n",
    "estimator = KerasRegressor(model=model,\n",
    "                           #model=aModel,\n",
    "                           optimizer='adam',\n",
    "                           loss=keras.losses.mean_squared_error,\n",
    "                           epochs=1000,\n",
    "                           batch_size=128,\n",
    "                           verbose=0,\n",
    "                           callbacks=[es],\n",
    "                          )\n",
    "\n",
    "\n",
    "kfold = KFold(n_splits=10)\n",
    "\n",
    "results = cross_val_score(estimator, X_train, y_train, cv=kfold)\n",
    "\n",
    "results.mean()"
   ]
  },
  {
   "cell_type": "code",
   "execution_count": 53,
   "id": "0f54dac3",
   "metadata": {},
   "outputs": [
    {
     "name": "stdout",
     "output_type": "stream",
     "text": [
      "Epoch 00195: early stopping\n"
     ]
    },
    {
     "data": {
      "text/plain": [
       "KerasRegressor(\n",
       "\tmodel=<function model at 0x0000022516173048>\n",
       "\tbuild_fn=None\n",
       "\twarm_start=False\n",
       "\trandom_state=None\n",
       "\toptimizer=adam\n",
       "\tloss=<function mean_squared_error at 0x000002250F10DDC8>\n",
       "\tmetrics=None\n",
       "\tbatch_size=128\n",
       "\tvalidation_batch_size=None\n",
       "\tverbose=0\n",
       "\tcallbacks=[<keras.callbacks.EarlyStopping object at 0x00000225160D8C48>]\n",
       "\tvalidation_split=0.0\n",
       "\tshuffle=True\n",
       "\trun_eagerly=False\n",
       "\tepochs=1000\n",
       ")"
      ]
     },
     "execution_count": 53,
     "metadata": {},
     "output_type": "execute_result"
    }
   ],
   "source": [
    "estimator.fit(X_train,y_train)"
   ]
  },
  {
   "cell_type": "code",
   "execution_count": null,
   "id": "443d5d26",
   "metadata": {},
   "outputs": [],
   "source": []
  },
  {
   "cell_type": "code",
   "execution_count": null,
   "id": "133ad118",
   "metadata": {},
   "outputs": [],
   "source": [
    "hyperparameterSearch = GridSearchCV(algorithm, searchSpace, scoring='neg_mean_squared_error', n_jobs=-1, cv=crossValidator)\n",
    "# Fit search with training data\n",
    "# Performs search over searchSpace\n",
    "hyperparameterSearch.fit(X_train, y_train)"
   ]
  },
  {
   "cell_type": "code",
   "execution_count": 35,
   "id": "10f762bb",
   "metadata": {},
   "outputs": [
    {
     "data": {
      "image/png": "[encoded data removed]",
      "text/plain": [
       "<Figure size 720x432 with 1 Axes>"
      ]
     },
     "metadata": {
      "needs_background": "light"
     },
     "output_type": "display_data"
    }
   ],
   "source": [
    "fig, ax = plt.subplots(figsize=(10,6))\n",
    "\n",
    "ax.plot(history.history['loss'], label='train')\n",
    "ax.plot(history.history['val_loss'], label='valid', alpha=0.8)\n",
    "\n",
    "#ax.set(yscale=\"log\") #xscale=\"log\", \n",
    "\n",
    "ax.set_ylim([0, 0.5])\n",
    "\n",
    "plt.legend()\n",
    "plt.show()"
   ]
  },
  {
   "cell_type": "code",
   "execution_count": null,
   "id": "0592e161",
   "metadata": {},
   "outputs": [],
   "source": []
  },
  {
   "cell_type": "markdown",
   "id": "f314a5ed",
   "metadata": {},
   "source": [
    "1. Learning Rate\n",
    "2. Batch Size\n",
    "3. Number of epochs\n",
    "4. Activation functions\n",
    "5. Optimizers\n",
    "6. Loss function\n",
    "7. Number of Hidden Layers\n",
    "8. Number of nodes in the hidden layers"
   ]
  },
  {
   "cell_type": "code",
   "execution_count": null,
   "id": "6ce90db3",
   "metadata": {},
   "outputs": [],
   "source": [
    "sklearn.metrics.SCORERS.keys()"
   ]
  },
  {
   "cell_type": "markdown",
   "id": "46ff96f6",
   "metadata": {},
   "source": [
    "https://machinelearningmastery.com/how-to-stop-training-deep-neural-networks-at-the-right-time-using-early-stopping/"
   ]
  },
  {
   "cell_type": "markdown",
   "id": "cd8c28e9",
   "metadata": {},
   "source": [
    "### Search space"
   ]
  },
  {
   "cell_type": "code",
   "execution_count": null,
   "id": "731eab54",
   "metadata": {},
   "outputs": [],
   "source": [
    "# Function to optimise algorithm hyperparameters\n",
    "# Performs grid search with cross validation to evaluate hyperparameter combinations\n",
    "# Takes:\n",
    "# - algorithm: machine learning model object\n",
    "# - searchSpace: dictionary containing hyperparameter names (keys) and list of values to search through (values)\n",
    "# - X_train: training data feature values\n",
    "# - y_train: training data class labels\n",
    "def hyperparameterTuner(algorithm, searchSpace, X_train, y_train):\n",
    "    # Initialise cross validator\n",
    "    # Repeated to account for variance across samples\n",
    "    # Stratified to ensure constant proportion of each classes in each fold\n",
    "    crossValidator = RepeatedKFold(n_splits=7, random_state=1, n_repeats=2)\n",
    "    # Initialise search\n",
    "    # Grid search to perform exhaustive search of all hyperparameter combinations in searchSpace\n",
    "    hyperparameterSearch = GridSearchCV(algorithm, searchSpace, scoring='neg_mean_squared_error', n_jobs=-1, cv=crossValidator)\n",
    "    # Fit search with training data\n",
    "    # Performs search over searchSpace\n",
    "    hyperparameterSearch.fit(X_train, y_train)\n",
    "    return hyperparameterSearch"
   ]
  },
  {
   "cell_type": "code",
   "execution_count": null,
   "id": "ef8b1037",
   "metadata": {},
   "outputs": [],
   "source": [
    "searchSpace = {\n",
    "    'epochs': [3,4,5], # 'n_neighbors': 5,\n",
    "}"
   ]
  },
  {
   "cell_type": "code",
   "execution_count": null,
   "id": "e01c64e5",
   "metadata": {},
   "outputs": [],
   "source": [
    "# Create KNN classifier for hyperparameter search\n",
    "#knnSearchModel = KNeighborsClassifier()\n",
    "searchEstimator = KerasRegressor(model=baseline_model, verbose=0)"
   ]
  },
  {
   "cell_type": "code",
   "execution_count": null,
   "id": "e0d795d6",
   "metadata": {},
   "outputs": [],
   "source": [
    "#model=baseline_model()\n",
    "# Perform search based on search space\n",
    "search = hyperparameterTuner(searchEstimator, searchSpace, X_train, y_train)"
   ]
  },
  {
   "cell_type": "code",
   "execution_count": null,
   "id": "3558acf0",
   "metadata": {},
   "outputs": [],
   "source": [
    "# Store best parameters found\n",
    "optimumParameters = search.best_params_\n",
    "print(optimumParameters)\n",
    "# Store all results in new dataframe\n",
    "results = pd.DataFrame(search.cv_results_)\n",
    "results"
   ]
  },
  {
   "cell_type": "code",
   "execution_count": null,
   "id": "28d593f0",
   "metadata": {
    "scrolled": false
   },
   "outputs": [],
   "source": [
    "# evaluate model\n",
    "estimator = KerasRegressor(model=baseline_model, epochs=5, batch_size=32, verbose=0)\n",
    "kfold = KFold(n_splits=5)\n",
    "results = cross_val_score(estimator, X_train, y_train, cv=kfold)\n",
    "print(\"Baseline: %.2f (%.2f) MSE\" % (results.mean(), results.std()))"
   ]
  },
  {
   "cell_type": "code",
   "execution_count": null,
   "id": "7d6df581",
   "metadata": {},
   "outputs": [],
   "source": [
    "results"
   ]
  },
  {
   "cell_type": "markdown",
   "id": "4a76a397",
   "metadata": {},
   "source": [
    "#### Test"
   ]
  },
  {
   "cell_type": "code",
   "execution_count": null,
   "id": "bc2c869b",
   "metadata": {},
   "outputs": [],
   "source": [
    "y_pred = model.predict(X_test)"
   ]
  },
  {
   "cell_type": "code",
   "execution_count": 54,
   "id": "8887dd3f",
   "metadata": {},
   "outputs": [],
   "source": [
    "y_pred = estimator.predict(X_test)"
   ]
  },
  {
   "cell_type": "code",
   "execution_count": 55,
   "id": "0f32d7a6",
   "metadata": {},
   "outputs": [],
   "source": [
    "# invert transform on predictions\n",
    "#yhat = model.predict(test_X)\n",
    "y_test = targetScaler.inverse_transform(y_test)\n",
    "y_pred = targetScaler.inverse_transform(y_pred)"
   ]
  },
  {
   "cell_type": "code",
   "execution_count": 56,
   "id": "7eb22f52",
   "metadata": {},
   "outputs": [],
   "source": [
    "y_test = y_test.reshape(y_test.shape[0])\n",
    "y_pred = y_pred.reshape(y_pred.shape[0])"
   ]
  },
  {
   "cell_type": "code",
   "execution_count": 59,
   "id": "46c1ed23",
   "metadata": {},
   "outputs": [],
   "source": [
    "y_test = np.exp(y_test)\n",
    "y_pred = np.exp(y_pred)"
   ]
  },
  {
   "cell_type": "code",
   "execution_count": 60,
   "id": "ac4ae937",
   "metadata": {
    "scrolled": false
   },
   "outputs": [
    {
     "data": {
      "text/plain": [
       "Text(0, 0.5, 'Prediction')"
      ]
     },
     "execution_count": 60,
     "metadata": {},
     "output_type": "execute_result"
    },
    {
     "data": {
      "image/png": "[encoded data removed]",
      "text/plain": [
       "<Figure size 432x432 with 1 Axes>"
      ]
     },
     "metadata": {
      "needs_background": "light"
     },
     "output_type": "display_data"
    }
   ],
   "source": [
    "fig, ax = plt.subplots(figsize=(6,6))\n",
    "\n",
    "ax = sns.regplot(x=y_test,\n",
    "                 y=y_pred,\n",
    "                 scatter_kws={'s':8,\n",
    "                              'alpha':0.5},                \n",
    "               )\n",
    "\n",
    "ax.set(xscale=\"log\", yscale=\"log\")\n",
    "\n",
    "xpoints = ypoints = ax.get_xlim()\n",
    "ax.plot(xpoints, ypoints, linestyle='--', color='k', lw=1)#, scalex=False, scaley=False)\n",
    "\n",
    "#ax = sns.lineplot(x=[0,1], y=[0,1])#, transform=ax.transAxes)\n",
    "\n",
    "#ax.axis('equal')\n",
    "\n",
    "ax.set_xlabel('Target')\n",
    "ax.set_ylabel('Prediction')"
   ]
  },
  {
   "cell_type": "code",
   "execution_count": 61,
   "id": "a6bc3c58",
   "metadata": {},
   "outputs": [
    {
     "name": "stdout",
     "output_type": "stream",
     "text": [
      "123924.88159548426\n"
     ]
    }
   ],
   "source": [
    "errors = mean_squared_error(y_test, y_pred, squared=False) \n",
    "print(errors)"
   ]
  },
  {
   "cell_type": "code",
   "execution_count": null,
   "id": "c7762282",
   "metadata": {},
   "outputs": [],
   "source": [
    "y_test.mean()"
   ]
  },
  {
   "cell_type": "code",
   "execution_count": null,
   "id": "c385010a",
   "metadata": {},
   "outputs": [],
   "source": []
  }
 ],
 "metadata": {
  "kernelspec": {
   "display_name": "Python 3 (ipykernel)",
   "language": "python",
   "name": "python3"
  },
  "language_info": {
   "codemirror_mode": {
    "name": "ipython",
    "version": 3
   },
   "file_extension": ".py",
   "mimetype": "text/x-python",
   "name": "python",
   "nbconvert_exporter": "python",
   "pygments_lexer": "ipython3",
   "version": "3.7.9"
  }
 },
 "nbformat": 4,
 "nbformat_minor": 5
}
