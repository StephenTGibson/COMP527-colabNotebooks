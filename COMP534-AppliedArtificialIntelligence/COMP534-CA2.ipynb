{
  "cells": [
    {
      "cell_type": "markdown",
      "id": "4ed44d34",
      "metadata": {
        "id": "4ed44d34"
      },
      "source": [
        "# COMP 534 - Applied Artificial Intelligence\n",
        "## CA2 - Neural network regression\n",
        "This notebook was produced as a deliverable for a group project for the above module, as part of the 2021-2022 Data Science and Artificial Intelligence MSc course at the University of Liverpool. It contains the design and optimisation of a neural network to solve a regression problem.\n",
        "### Preparation\n",
        "#### Setup\n",
        "Import required libraries, tools and classifiers. Scikeras wrapper requires installation on colab."
      ]
    },
    {
      "cell_type": "code",
      "source": [
        "pip install scikeras"
      ],
      "metadata": {
        "colab": {
          "base_uri": "https://localhost:8080/"
        },
        "id": "0bBfm0Ie1gUL",
        "outputId": "28f27d2a-0a25-4f56-d3cc-d83104784e1a"
      },
      "id": "0bBfm0Ie1gUL",
      "execution_count": 4,
      "outputs": [
        {
          "output_type": "stream",
          "name": "stdout",
          "text": [
            "Collecting scikeras\n",
            "  Downloading scikeras-0.6.1-py3-none-any.whl (27 kB)\n",
            "Collecting importlib-metadata<4,>=3\n",
            "  Downloading importlib_metadata-3.10.1-py3-none-any.whl (14 kB)\n",
            "Requirement already satisfied: packaging<22.0,>=0.21 in /usr/local/lib/python3.7/dist-packages (from scikeras) (21.3)\n",
            "Requirement already satisfied: scikit-learn>=1.0.0 in /usr/local/lib/python3.7/dist-packages (from scikeras) (1.0.2)\n",
            "Requirement already satisfied: zipp>=0.5 in /usr/local/lib/python3.7/dist-packages (from importlib-metadata<4,>=3->scikeras) (3.7.0)\n",
            "Requirement already satisfied: typing-extensions>=3.6.4 in /usr/local/lib/python3.7/dist-packages (from importlib-metadata<4,>=3->scikeras) (3.10.0.2)\n",
            "Requirement already satisfied: pyparsing!=3.0.5,>=2.0.2 in /usr/local/lib/python3.7/dist-packages (from packaging<22.0,>=0.21->scikeras) (3.0.7)\n",
            "Requirement already satisfied: threadpoolctl>=2.0.0 in /usr/local/lib/python3.7/dist-packages (from scikit-learn>=1.0.0->scikeras) (3.1.0)\n",
            "Requirement already satisfied: numpy>=1.14.6 in /usr/local/lib/python3.7/dist-packages (from scikit-learn>=1.0.0->scikeras) (1.21.5)\n",
            "Requirement already satisfied: scipy>=1.1.0 in /usr/local/lib/python3.7/dist-packages (from scikit-learn>=1.0.0->scikeras) (1.4.1)\n",
            "Requirement already satisfied: joblib>=0.11 in /usr/local/lib/python3.7/dist-packages (from scikit-learn>=1.0.0->scikeras) (1.1.0)\n",
            "Installing collected packages: importlib-metadata, scikeras\n",
            "  Attempting uninstall: importlib-metadata\n",
            "    Found existing installation: importlib-metadata 4.11.3\n",
            "    Uninstalling importlib-metadata-4.11.3:\n",
            "      Successfully uninstalled importlib-metadata-4.11.3\n",
            "\u001b[31mERROR: pip's dependency resolver does not currently take into account all the packages that are installed. This behaviour is the source of the following dependency conflicts.\n",
            "markdown 3.3.6 requires importlib-metadata>=4.4; python_version < \"3.10\", but you have importlib-metadata 3.10.1 which is incompatible.\u001b[0m\n",
            "Successfully installed importlib-metadata-3.10.1 scikeras-0.6.1\n"
          ]
        }
      ]
    },
    {
      "cell_type": "code",
      "execution_count": 5,
      "id": "49109f0c",
      "metadata": {
        "colab": {
          "base_uri": "https://localhost:8080/",
          "height": 217
        },
        "id": "49109f0c",
        "outputId": "a5b4cf45-d481-4e91-ba68-f2fa783f9ddd"
      },
      "outputs": [
        {
          "output_type": "error",
          "ename": "SystemError",
          "evalue": "ignored",
          "traceback": [
            "\u001b[0;31m---------------------------------------------------------------------------\u001b[0m",
            "\u001b[0;31mSystemError\u001b[0m                               Traceback (most recent call last)",
            "\u001b[0;32m<ipython-input-5-b5601eec399e>\u001b[0m in \u001b[0;36m<module>\u001b[0;34m()\u001b[0m\n\u001b[1;32m     53\u001b[0m \u001b[0mdevice_name\u001b[0m \u001b[0;34m=\u001b[0m \u001b[0mgpu_device_name\u001b[0m\u001b[0;34m(\u001b[0m\u001b[0;34m)\u001b[0m\u001b[0;34m\u001b[0m\u001b[0;34m\u001b[0m\u001b[0m\n\u001b[1;32m     54\u001b[0m \u001b[0;32mif\u001b[0m \u001b[0mdevice_name\u001b[0m \u001b[0;34m!=\u001b[0m \u001b[0;34m'/device:GPU:0'\u001b[0m\u001b[0;34m:\u001b[0m\u001b[0;34m\u001b[0m\u001b[0;34m\u001b[0m\u001b[0m\n\u001b[0;32m---> 55\u001b[0;31m     \u001b[0;32mraise\u001b[0m \u001b[0mSystemError\u001b[0m\u001b[0;34m(\u001b[0m\u001b[0;34m'GPU device not found'\u001b[0m\u001b[0;34m)\u001b[0m\u001b[0;34m\u001b[0m\u001b[0;34m\u001b[0m\u001b[0m\n\u001b[0m\u001b[1;32m     56\u001b[0m \u001b[0mprint\u001b[0m\u001b[0;34m(\u001b[0m\u001b[0;34m'Found GPU at: {}'\u001b[0m\u001b[0;34m.\u001b[0m\u001b[0mformat\u001b[0m\u001b[0;34m(\u001b[0m\u001b[0mdevice_name\u001b[0m\u001b[0;34m)\u001b[0m\u001b[0;34m)\u001b[0m\u001b[0;34m\u001b[0m\u001b[0;34m\u001b[0m\u001b[0m\n",
            "\u001b[0;31mSystemError\u001b[0m: GPU device not found"
          ]
        }
      ],
      "source": [
        "# Data handling mathematical tools\n",
        "import numpy as np\n",
        "import pandas as pd\n",
        "\n",
        "# Creating plots\n",
        "import matplotlib.pyplot as plt\n",
        "import seaborn as sns\n",
        "\n",
        "# Monitor training progress\n",
        "from time import perf_counter\n",
        "\n",
        "# Data splitting and scaling\n",
        "from sklearn.model_selection import train_test_split\n",
        "from sklearn.preprocessing import StandardScaler\n",
        "from sklearn.preprocessing import MinMaxScaler\n",
        "\n",
        "# Hyperparameter optimisation\n",
        "# Cross validation\n",
        "from sklearn.model_selection import KFold\n",
        "from sklearn.model_selection import cross_val_score\n",
        "# Hyperparameter search\n",
        "from sklearn.model_selection import GridSearchCV\n",
        "# Performance evaluation\n",
        "from sklearn.metrics import mean_absolute_error\n",
        "from sklearn.metrics import mean_squared_error\n",
        "\n",
        "# Neural network\n",
        "# NN wrapper for ease of handling\n",
        "from scikeras.wrappers import KerasRegressor\n",
        "# NN structure\n",
        "from keras.models import Sequential\n",
        "from keras.layers import Dense\n",
        "# Loss functions\n",
        "from tensorflow.keras import losses\n",
        "# NN optimisers\n",
        "from tensorflow.keras.optimizers import SGD\n",
        "from tensorflow.keras.optimizers import RMSprop\n",
        "from tensorflow.keras.optimizers import Adam\n",
        "# Early stopping\n",
        "from keras.callbacks import EarlyStopping\n",
        "\n",
        "# Reduce tensorflow verbosity\n",
        "from tensorflow import get_logger\n",
        "get_logger().setLevel('ERROR')\n",
        "\n",
        "# Set random seeds for reproducibility\n",
        "np.random.seed(123)\n",
        "from tensorflow.random import set_seed\n",
        "set_seed(123)\n",
        "\n",
        "# Check connected to GPU\n",
        "from tensorflow.test import gpu_device_name\n",
        "device_name = gpu_device_name()\n",
        "if device_name != '/device:GPU:0':\n",
        "    raise SystemError('GPU device not found')\n",
        "print('Found GPU at: {}'.format(device_name))"
      ]
    },
    {
      "cell_type": "markdown",
      "id": "378f2cc4",
      "metadata": {
        "id": "378f2cc4"
      },
      "source": [
        "#### Data\n",
        "This analysis uses a dataset consisting of house sales in King County, USA. The aim is to predict sale price based on the available features. The dataset is available for download on Kaggle.  \n",
        "https://www.kaggle.com/datasets/harlfoxem/housesalesprediction (last accessed 30/03/22)"
      ]
    },
    {
      "cell_type": "code",
      "source": [
        "from google.colab import files\n",
        "files.upload()"
      ],
      "metadata": {
        "id": "GlLy4gqaBQZV"
      },
      "id": "GlLy4gqaBQZV",
      "execution_count": null,
      "outputs": []
    },
    {
      "cell_type": "code",
      "execution_count": 32,
      "id": "5c54c045",
      "metadata": {
        "id": "5c54c045"
      },
      "outputs": [],
      "source": [
        "df = pd.read_csv('kc_house_data.csv')"
      ]
    },
    {
      "cell_type": "markdown",
      "id": "1c4e642b",
      "metadata": {
        "id": "1c4e642b"
      },
      "source": [
        "Show distribution of features:"
      ]
    },
    {
      "cell_type": "code",
      "execution_count": 33,
      "id": "fe6705f7",
      "metadata": {
        "colab": {
          "base_uri": "https://localhost:8080/",
          "height": 1000
        },
        "id": "fe6705f7",
        "outputId": "6d930397-1b56-4d08-d93d-4a98164e03df"
      },
      "outputs": [
        {
          "output_type": "display_data",
          "data": {
            "text/plain": [
              "<Figure size 1440x1440 with 20 Axes>"
            ],
            "image/png": "[encoded data removed]"
          },
          "metadata": {
            "needs_background": "light"
          }
        }
      ],
      "source": [
        "df.hist(figsize=(20,20), bins='auto')\n",
        "plt.tight_layout()"
      ]
    },
    {
      "cell_type": "markdown",
      "id": "00577706",
      "metadata": {
        "id": "00577706"
      },
      "source": [
        "#### Cleaning\n",
        "Several cleaning steps are required before the dataset can be used to train a neural network.\n",
        "##### Remove outliers\n",
        "Several features have very large outliers which reduce model performance. These are removed."
      ]
    },
    {
      "cell_type": "code",
      "execution_count": 34,
      "id": "e5e274d6",
      "metadata": {
        "colab": {
          "base_uri": "https://localhost:8080/"
        },
        "id": "e5e274d6",
        "outputId": "78c7625e-a27d-4ce8-d9d8-eb3ba7c6ce0e"
      },
      "outputs": [
        {
          "output_type": "stream",
          "name": "stdout",
          "text": [
            "0.22% of rows removed\n"
          ]
        }
      ],
      "source": [
        "originalRowCount = df.shape[0]\n",
        "# Drop rows according to various conditions\n",
        "df = df[(df['bedrooms'] > 0) & (df['bedrooms'] < 12)]\n",
        "df = df[(df['bathrooms'] > 0) & (df['bathrooms'] < 12)]\n",
        "df = df[df['sqft_lot'] < 5e5]\n",
        "df = df[df['sqft_lot15'] < 3.5e5]\n",
        "# Summary of impact on dataset\n",
        "print(f'{((originalRowCount - df.shape[0])*100 / originalRowCount):.2f}% of rows removed')"
      ]
    },
    {
      "cell_type": "markdown",
      "id": "77d77e5e",
      "metadata": {
        "id": "77d77e5e"
      },
      "source": [
        "This is an acceptable small proportion of the whole dataset.\n",
        "##### Date\n",
        "Date of sale can be used by turning it into a numerical variable."
      ]
    },
    {
      "cell_type": "code",
      "execution_count": 35,
      "id": "8362b2a4",
      "metadata": {
        "id": "8362b2a4"
      },
      "outputs": [],
      "source": [
        "# Cast date as datetime type\n",
        "df['date'] = pd.to_datetime(df['date'])\n",
        "# Create numerical variable as: difference between latest date in dataset and each other sale date\n",
        "df['daysSinceSale'] = (df['date'].max() - df['date']).dt.days"
      ]
    },
    {
      "cell_type": "markdown",
      "id": "af797d40",
      "metadata": {
        "id": "af797d40"
      },
      "source": [
        "##### Binning\n",
        "The two features below contain mostly 0s and a small number of records with other values. The 0 values are still valid (no basement and never renovated) but could negatively impact performance. As a result this features will both be binned."
      ]
    },
    {
      "cell_type": "code",
      "execution_count": 36,
      "id": "af021296",
      "metadata": {
        "id": "af021296"
      },
      "outputs": [],
      "source": [
        "# Evenly bin all non 0 values and assign labels 1 - 10\n",
        "bins = 9\n",
        "df['basementOrdinal'] = pd.cut(df[df['sqft_basement']>0]['sqft_basement'], bins, labels=range(1, bins+1)).astype(int)\n",
        "# Assign label of 0 to 0 values\n",
        "df['basementOrdinal'] = df['basementOrdinal'].fillna(0)"
      ]
    },
    {
      "cell_type": "code",
      "execution_count": 37,
      "id": "d8b6d151",
      "metadata": {
        "id": "d8b6d151"
      },
      "outputs": [],
      "source": [
        "# Evenly bin all non 0 values and assign labels 1 - 10\n",
        "bins = 9\n",
        "df['renovatedOrdinal'] = pd.cut(df[df['yr_renovated']>0]['yr_renovated'], bins, labels=range(1, bins+1)).astype(int)\n",
        "# Assign label of 0 to 0 values\n",
        "df['renovatedOrdinal'] = df['renovatedOrdinal'].fillna(0)"
      ]
    },
    {
      "cell_type": "markdown",
      "id": "f3a828c4",
      "metadata": {
        "id": "f3a828c4"
      },
      "source": [
        "##### Transform skewed features\n",
        "Several features are right skewed. These are natural log transformed to bring in the outliers and reduce their impact of model performance."
      ]
    },
    {
      "cell_type": "code",
      "execution_count": 38,
      "id": "486454a2",
      "metadata": {
        "id": "486454a2"
      },
      "outputs": [],
      "source": [
        "# List to hold skewed feature names\n",
        "skewedVariables = ['price', 'sqft_living', 'sqft_lot', 'sqft_above', 'sqft_living15', 'sqft_lot15']\n",
        "# List to hold new feature names\n",
        "logVariables = ['priceLog', 'sqft_livingLog', 'sqft_lotLog', 'sqft_aboveLog', 'sqft_living15Log', 'sqft_lot15Log']\n",
        "# Create new transformed features\n",
        "df[logVariables] = np.log(df[skewedVariables])"
      ]
    },
    {
      "cell_type": "markdown",
      "id": "72f7abc1",
      "metadata": {
        "id": "72f7abc1"
      },
      "source": [
        "##### Drop unused columns\n",
        "Any remaining unused or superfluous columns are now removed."
      ]
    },
    {
      "cell_type": "code",
      "execution_count": 39,
      "id": "b1e051fd",
      "metadata": {
        "id": "b1e051fd"
      },
      "outputs": [],
      "source": [
        "# Drop original skewed features\n",
        "df = df.drop(columns=skewedVariables)\n",
        "# Drop features which have been replaced, along with id and zipcode\n",
        "df = df.drop(columns=['date', 'id', 'sqft_basement', 'yr_renovated', 'zipcode',])"
      ]
    },
    {
      "cell_type": "markdown",
      "id": "5822c937",
      "metadata": {
        "id": "5822c937"
      },
      "source": [
        "##### Move target price feature\n",
        "Target variable moved to help when splitting it away from features."
      ]
    },
    {
      "cell_type": "code",
      "execution_count": 40,
      "id": "a106af1b",
      "metadata": {
        "id": "a106af1b"
      },
      "outputs": [],
      "source": [
        "# Remove target variable\n",
        "feature = df.pop('priceLog')\n",
        "# Reinsert at index 0\n",
        "df.insert(0, 'priceLog', feature)"
      ]
    },
    {
      "cell_type": "markdown",
      "id": "f222ad6e",
      "metadata": {
        "id": "f222ad6e"
      },
      "source": [
        "#### Splitting\n",
        "The dataset is now ready to be split for use with the model. The features and target variable are separated."
      ]
    },
    {
      "cell_type": "code",
      "execution_count": 41,
      "id": "6afbe58b",
      "metadata": {
        "id": "6afbe58b"
      },
      "outputs": [],
      "source": [
        "# Create numpy array from pandas dataframe\n",
        "data = df.values\n",
        "# Create array of features\n",
        "X = data[:, 1:]\n",
        "# Create target array\n",
        "y = data[:, 0].reshape(-1, 1)"
      ]
    },
    {
      "cell_type": "markdown",
      "id": "6b65c48a",
      "metadata": {
        "id": "6b65c48a"
      },
      "source": [
        "Features and target variable are split into training and test set."
      ]
    },
    {
      "cell_type": "code",
      "execution_count": 42,
      "id": "36fc2596",
      "metadata": {
        "id": "36fc2596"
      },
      "outputs": [],
      "source": [
        "# 80% train and 20% test\n",
        "# Data shuffled to reduce any bias in the order of the dataset\n",
        "# Define random state for reproducibility\n",
        "X_train, X_test, y_train, y_test = train_test_split(X,\n",
        "                                                    y,\n",
        "                                                    test_size=0.20,\n",
        "                                                    shuffle=True,\n",
        "                                                    random_state=123,\n",
        "                                                   )"
      ]
    },
    {
      "cell_type": "markdown",
      "id": "727f1885",
      "metadata": {
        "id": "727f1885"
      },
      "source": [
        "There is a broad range of features across different scales. Some are normally distributed and others are binned labels. The features are normalised to account for this variation."
      ]
    },
    {
      "cell_type": "code",
      "execution_count": 43,
      "id": "cd31c941",
      "metadata": {
        "id": "cd31c941"
      },
      "outputs": [],
      "source": [
        "# Create min max scaler for features\n",
        "featureScaler = MinMaxScaler()\n",
        "# Fit to training data\n",
        "featureScaler.fit(X_train)\n",
        "# Normalise train and test features\n",
        "X_train = featureScaler.transform(X_train)\n",
        "X_test = featureScaler.transform(X_test)"
      ]
    },
    {
      "cell_type": "markdown",
      "id": "d9b61608",
      "metadata": {
        "id": "d9b61608"
      },
      "source": [
        "Having been natural log transformed, the target variable is now normally distributed. This will be standardised to reduce the spread of values."
      ]
    },
    {
      "cell_type": "code",
      "execution_count": 44,
      "id": "a1bbb88c",
      "metadata": {
        "id": "a1bbb88c"
      },
      "outputs": [],
      "source": [
        "# Create standard scaler for target\n",
        "targetScaler = StandardScaler()\n",
        "# Fit to training data\n",
        "targetScaler.fit(y_train)\n",
        "# Standardise train and test target variable\n",
        "y_train = targetScaler.transform(y_train)\n",
        "y_test = targetScaler.transform(y_test)"
      ]
    },
    {
      "cell_type": "markdown",
      "id": "055aa4e3",
      "metadata": {
        "id": "055aa4e3"
      },
      "source": [
        "Once predictions have been made using a model, it will be necessary to revert the predictions and target variable test values back to their original scale in order for informed conclusions to be drawn regarding model performance."
      ]
    },
    {
      "cell_type": "code",
      "execution_count": 45,
      "id": "0e7473f8",
      "metadata": {
        "id": "0e7473f8"
      },
      "outputs": [],
      "source": [
        "# Function to invert target variable (predicted or true values) to original form and reshape to 1 dimension for plotting\n",
        "def targetReverter(data):\n",
        "    return np.exp(targetScaler.inverse_transform(data).reshape(data.shape[0]))"
      ]
    },
    {
      "cell_type": "markdown",
      "id": "ec824f66",
      "metadata": {
        "id": "ec824f66"
      },
      "source": [
        "### Model optimisation\n",
        "#### Choice of loss function\n",
        "The first hyperparameter that will be considered is the loss function. This is due to the fact that it will then be used as a key measure throughout the rest of the analysis. The two loss functions investigated here are mean squared error and mean absolute error. A relatively simple neural network will be used to produce results for comparison."
      ]
    },
    {
      "cell_type": "code",
      "execution_count": 19,
      "id": "8e19b7b3",
      "metadata": {
        "id": "8e19b7b3"
      },
      "outputs": [],
      "source": [
        "# NN with 2 hidden layers to compare loss functions\n",
        "def lossModel(loss):\n",
        "    # 2 hidden layers, 8 nodes each, relu activation function\n",
        "    model = Sequential()\n",
        "    model.add(Dense(units=8, input_shape=(18,),  activation='relu'))\n",
        "    model.add(Dense(units=8, activation='relu'))\n",
        "    model.add(Dense(units=1, activation='linear'))\n",
        "    # Input loss function and SGD optimiser\n",
        "    model.compile(loss=loss, optimizer='SGD')\n",
        "    return model"
      ]
    },
    {
      "cell_type": "markdown",
      "id": "00f63365",
      "metadata": {
        "id": "00f63365"
      },
      "source": [
        "Later hyperparameter optimisation will use kfold cross validation. However for the moment we will use a single additional validation split from the training set."
      ]
    },
    {
      "cell_type": "code",
      "execution_count": null,
      "id": "55809cfa",
      "metadata": {
        "id": "55809cfa"
      },
      "outputs": [],
      "source": [
        "# 80% train and 20% validate\n",
        "# Data shuffled to reduce any bias in the order of the dataset\n",
        "# Define random state for reproducibility\n",
        "X_trainValid, X_validate, y_trainValid, y_validate = train_test_split(X_train,\n",
        "                                                                      y_train,\n",
        "                                                                      test_size=0.20,\n",
        "                                                                      shuffle=True,\n",
        "                                                                      random_state=123\n",
        "                                                                      )"
      ]
    },
    {
      "cell_type": "markdown",
      "id": "9862a5ae",
      "metadata": {
        "id": "9862a5ae"
      },
      "source": [
        "Several trials are run using each loss function. They all undergo the same training process using some best initial estimates for other hyperparameters. For each trial, predictions are made against the validation set, and these are tested against the true values. Quality of predictions are scored using both MAE and MSE to enable comparison."
      ]
    },
    {
      "cell_type": "code",
      "execution_count": null,
      "id": "233d8abe",
      "metadata": {
        "scrolled": false,
        "id": "233d8abe"
      },
      "outputs": [],
      "source": [
        "# Create models using selected loss functions\n",
        "modelMSE = lossModel('mean_squared_error')\n",
        "modelMAE = lossModel('mean_absolute_error')\n",
        "# Store names for naming results\n",
        "names = ['MSE', 'MAE']\n",
        "# Revert true target values to original scale for later evaluation\n",
        "revertValid = targetReverter(y_validate)\n",
        "# Set trials to run\n",
        "trials = 10\n",
        "# Iterate over both models\n",
        "for i, model in enumerate([modelMSE, modelMAE]):\n",
        "    # Initialise arrays to hold error scores\n",
        "    mse = np.zeros(trials)\n",
        "    mae = np.zeros(trials)\n",
        "    # Iterate over repeated trials\n",
        "    for trial in range(trials):\n",
        "        # Fit model to training data\n",
        "        model.fit(X_trainValid,\n",
        "                  y_trainValid,\n",
        "                  epochs=100,\n",
        "                  batch_size=32,\n",
        "                  verbose=0,\n",
        "                 )\n",
        "        # Use trained model to make prediction on validation data\n",
        "        y_validateLossPred = model.predict(X_validate)\n",
        "        # Revert predictions to original scale\n",
        "        revertPred = targetReverter(y_validateLossPred)\n",
        "        # Store prediction scores\n",
        "        mse[trial] = mean_squared_error(revertValid, revertPred, squared=False)\n",
        "        mae[trial] = mean_absolute_error(revertValid, revertPred)\n",
        "    # Print summary: scoring each method using both metrics\n",
        "    print(f'Using {names[i]} loss function, achieved mean MSE: {(mse.mean()):.0f} with std: {(mse.std()):.0f}')\n",
        "    print(f'Using {names[i]} loss function, achieved mean MAE: {(mae.mean()):.0f} with std: {(mae.std()):.0f}\\n')"
      ]
    },
    {
      "cell_type": "markdown",
      "id": "2808440a",
      "metadata": {
        "id": "2808440a"
      },
      "source": [
        "EDIT once model run  \n",
        "\n",
        "T\n",
        "Due to using \n",
        "\n",
        "Because the hyperparameter that we are optimising is itself the error measurement used to train the model, in order to make a valid comparison it is most informative to compare predicted and true values in real terms using their original scale.\n",
        "MSE typically penalises outliers more than MAE and due to taking the natural log transformat of the skewed features, this impact may have been negated during data preparation.\n",
        "#### Grid search optimisation: learning rate, batch size and optimiser\n",
        "An exhaustive grid search will be performed to identify suitable values for these hyperparameters."
      ]
    },
    {
      "cell_type": "code",
      "execution_count": 67,
      "id": "30bb9cc4",
      "metadata": {
        "id": "30bb9cc4"
      },
      "outputs": [],
      "source": [
        "# Define search space\n",
        "searchSpace = {\n",
        "    'optimizer':[SGD, RMSprop, Adam], # SGD slow but kept for comparison\n",
        "    'optimizer__learning_rate': [0.1, 0.01], # 0.001 removed, too slow training time\n",
        "    'batch_size':[32, 64, 128],\n",
        "}"
      ]
    },
    {
      "cell_type": "markdown",
      "id": "cff825ea",
      "metadata": {
        "id": "cff825ea"
      },
      "source": [
        "Define neural network for use with the grid search."
      ]
    },
    {
      "cell_type": "code",
      "execution_count": 47,
      "id": "7bbb0e96",
      "metadata": {
        "id": "7bbb0e96"
      },
      "outputs": [],
      "source": [
        "# NN with 2 hidden layers\n",
        "def gridSearchModel():\n",
        "    # 2 hidden layers, 8 nodes each, relu activation function\n",
        "    model = Sequential()\n",
        "    model.add(Dense(units=8, input_shape=(18,),  activation='relu'))\n",
        "    model.add(Dense(units=8, activation='relu'))\n",
        "    model.add(Dense(units=1, activation='linear'))\n",
        "    return model"
      ]
    },
    {
      "cell_type": "markdown",
      "id": "7167e444",
      "metadata": {
        "id": "7167e444"
      },
      "source": [
        "##### Early stopping\n",
        "To limit training time during the grid search, early stopping will be implemented, ending training when no improvement in the loss function is observed after a number of updates. Due to the training time, verbose settings were used to help monitor progress."
      ]
    },
    {
      "cell_type": "code",
      "execution_count": 68,
      "id": "d429fbf2",
      "metadata": {
        "scrolled": false,
        "colab": {
          "base_uri": "https://localhost:8080/"
        },
        "id": "d429fbf2",
        "outputId": "72282130-585f-4c93-c5e5-cbf838959ef1"
      },
      "outputs": [
        {
          "output_type": "stream",
          "name": "stdout",
          "text": [
            "Fitting 2 folds for each of 18 candidates, totalling 36 fits\n",
            "Epoch 34: early stopping\n",
            "[CV] END batch_size=32, optimizer=<class 'keras.optimizer_v2.gradient_descent.SGD'>, optimizer__learning_rate=0.1; total time=  23.1s\n",
            "Epoch 30: early stopping\n",
            "[CV] END batch_size=32, optimizer=<class 'keras.optimizer_v2.gradient_descent.SGD'>, optimizer__learning_rate=0.1; total time=  21.3s\n",
            "Epoch 168: early stopping\n",
            "[CV] END batch_size=32, optimizer=<class 'keras.optimizer_v2.gradient_descent.SGD'>, optimizer__learning_rate=0.01; total time= 2.4min\n",
            "Epoch 91: early stopping\n",
            "[CV] END batch_size=32, optimizer=<class 'keras.optimizer_v2.gradient_descent.SGD'>, optimizer__learning_rate=0.01; total time= 1.4min\n",
            "Epoch 8: early stopping\n",
            "[CV] END batch_size=32, optimizer=<class 'keras.optimizer_v2.rmsprop.RMSprop'>, optimizer__learning_rate=0.1; total time=   6.9s\n",
            "Epoch 23: early stopping\n",
            "[CV] END batch_size=32, optimizer=<class 'keras.optimizer_v2.rmsprop.RMSprop'>, optimizer__learning_rate=0.1; total time=  17.7s\n",
            "Epoch 69: early stopping\n",
            "[CV] END batch_size=32, optimizer=<class 'keras.optimizer_v2.rmsprop.RMSprop'>, optimizer__learning_rate=0.01; total time=  50.9s\n",
            "Epoch 30: early stopping\n",
            "[CV] END batch_size=32, optimizer=<class 'keras.optimizer_v2.rmsprop.RMSprop'>, optimizer__learning_rate=0.01; total time=  23.0s\n",
            "Epoch 16: early stopping\n",
            "[CV] END batch_size=32, optimizer=<class 'keras.optimizer_v2.adam.Adam'>, optimizer__learning_rate=0.1; total time=  21.5s\n",
            "Epoch 12: early stopping\n",
            "[CV] END batch_size=32, optimizer=<class 'keras.optimizer_v2.adam.Adam'>, optimizer__learning_rate=0.1; total time=  11.2s\n",
            "Epoch 21: early stopping\n",
            "[CV] END batch_size=32, optimizer=<class 'keras.optimizer_v2.adam.Adam'>, optimizer__learning_rate=0.01; total time=  14.5s\n",
            "Epoch 64: early stopping\n",
            "[CV] END batch_size=32, optimizer=<class 'keras.optimizer_v2.adam.Adam'>, optimizer__learning_rate=0.01; total time=  50.2s\n",
            "Epoch 56: early stopping\n",
            "[CV] END batch_size=64, optimizer=<class 'keras.optimizer_v2.gradient_descent.SGD'>, optimizer__learning_rate=0.1; total time=  42.0s\n",
            "Epoch 45: early stopping\n",
            "[CV] END batch_size=64, optimizer=<class 'keras.optimizer_v2.gradient_descent.SGD'>, optimizer__learning_rate=0.1; total time=  21.2s\n",
            "Epoch 148: early stopping\n",
            "[CV] END batch_size=64, optimizer=<class 'keras.optimizer_v2.gradient_descent.SGD'>, optimizer__learning_rate=0.01; total time= 1.4min\n",
            "Epoch 34: early stopping\n",
            "[CV] END batch_size=64, optimizer=<class 'keras.optimizer_v2.gradient_descent.SGD'>, optimizer__learning_rate=0.01; total time=  11.2s\n",
            "Epoch 29: early stopping\n",
            "[CV] END batch_size=64, optimizer=<class 'keras.optimizer_v2.rmsprop.RMSprop'>, optimizer__learning_rate=0.1; total time=  15.0s\n",
            "Epoch 17: early stopping\n",
            "[CV] END batch_size=64, optimizer=<class 'keras.optimizer_v2.rmsprop.RMSprop'>, optimizer__learning_rate=0.1; total time=  10.9s\n",
            "Epoch 62: early stopping\n",
            "[CV] END batch_size=64, optimizer=<class 'keras.optimizer_v2.rmsprop.RMSprop'>, optimizer__learning_rate=0.01; total time=  42.5s\n",
            "Epoch 98: early stopping\n",
            "[CV] END batch_size=64, optimizer=<class 'keras.optimizer_v2.rmsprop.RMSprop'>, optimizer__learning_rate=0.01; total time=  36.5s\n",
            "Epoch 7: early stopping\n",
            "[CV] END batch_size=64, optimizer=<class 'keras.optimizer_v2.adam.Adam'>, optimizer__learning_rate=0.1; total time=   3.1s\n",
            "Epoch 12: early stopping\n",
            "[CV] END batch_size=64, optimizer=<class 'keras.optimizer_v2.adam.Adam'>, optimizer__learning_rate=0.1; total time=   4.6s\n",
            "Epoch 35: early stopping\n",
            "[CV] END batch_size=64, optimizer=<class 'keras.optimizer_v2.adam.Adam'>, optimizer__learning_rate=0.01; total time=  12.6s\n",
            "Epoch 61: early stopping\n",
            "[CV] END batch_size=64, optimizer=<class 'keras.optimizer_v2.adam.Adam'>, optimizer__learning_rate=0.01; total time=  21.3s\n",
            "Epoch 40: early stopping\n",
            "[CV] END batch_size=128, optimizer=<class 'keras.optimizer_v2.gradient_descent.SGD'>, optimizer__learning_rate=0.1; total time=  10.8s\n",
            "Epoch 32: early stopping\n",
            "[CV] END batch_size=128, optimizer=<class 'keras.optimizer_v2.gradient_descent.SGD'>, optimizer__learning_rate=0.1; total time=   5.7s\n",
            "Epoch 43: early stopping\n",
            "[CV] END batch_size=128, optimizer=<class 'keras.optimizer_v2.gradient_descent.SGD'>, optimizer__learning_rate=0.01; total time=   7.2s\n",
            "Epoch 75: early stopping\n",
            "[CV] END batch_size=128, optimizer=<class 'keras.optimizer_v2.gradient_descent.SGD'>, optimizer__learning_rate=0.01; total time=  12.0s\n",
            "Epoch 26: early stopping\n",
            "[CV] END batch_size=128, optimizer=<class 'keras.optimizer_v2.rmsprop.RMSprop'>, optimizer__learning_rate=0.1; total time=   5.6s\n",
            "Epoch 12: early stopping\n",
            "[CV] END batch_size=128, optimizer=<class 'keras.optimizer_v2.rmsprop.RMSprop'>, optimizer__learning_rate=0.1; total time=   3.8s\n",
            "Epoch 60: early stopping\n",
            "[CV] END batch_size=128, optimizer=<class 'keras.optimizer_v2.rmsprop.RMSprop'>, optimizer__learning_rate=0.01; total time=  21.3s\n",
            "Epoch 55: early stopping\n",
            "[CV] END batch_size=128, optimizer=<class 'keras.optimizer_v2.rmsprop.RMSprop'>, optimizer__learning_rate=0.01; total time=  11.1s\n",
            "Epoch 19: early stopping\n",
            "[CV] END batch_size=128, optimizer=<class 'keras.optimizer_v2.adam.Adam'>, optimizer__learning_rate=0.1; total time=   4.4s\n",
            "Epoch 9: early stopping\n",
            "[CV] END batch_size=128, optimizer=<class 'keras.optimizer_v2.adam.Adam'>, optimizer__learning_rate=0.1; total time=   3.2s\n",
            "Epoch 74: early stopping\n",
            "[CV] END batch_size=128, optimizer=<class 'keras.optimizer_v2.adam.Adam'>, optimizer__learning_rate=0.01; total time=  21.1s\n",
            "Epoch 70: early stopping\n",
            "[CV] END batch_size=128, optimizer=<class 'keras.optimizer_v2.adam.Adam'>, optimizer__learning_rate=0.01; total time=  21.1s\n",
            "Epoch 55: early stopping\n"
          ]
        }
      ],
      "source": [
        "# Define early stopping, patience is number of consecutive updates which must show no improvement for early stopping to occur\n",
        "earlyStop = EarlyStopping(monitor='loss', mode='min', verbose=2, patience=5)\n",
        "# Use scikeras wrapper for compatibility with grid search\n",
        "wrappedGridSearchModel = KerasRegressor(model=gridSearchModel,\n",
        "                                        loss=losses.mean_squared_error, #EDIT\n",
        "                                        epochs=1000,\n",
        "                                        verbose=0,\n",
        "                                        callbacks=[earlyStop],\n",
        "                                       )\n",
        "# Define cross validation\n",
        "kfold = KFold(n_splits=2) #EDIT\n",
        "# Create search, score each by MSE\n",
        "hyperparameterSearch = GridSearchCV(wrappedGridSearchModel,\n",
        "                                    searchSpace,\n",
        "                                    scoring='neg_mean_squared_error', #EDIT\n",
        "                                    cv=kfold,\n",
        "                                    verbose=2,\n",
        "                                    )\n",
        "# Perform search over searchSpace\n",
        "searchResult = hyperparameterSearch.fit(X_train, y_train)"
      ]
    },
    {
      "cell_type": "code",
      "execution_count": 69,
      "id": "8524cd12",
      "metadata": {
        "scrolled": false,
        "colab": {
          "base_uri": "https://localhost:8080/"
        },
        "id": "8524cd12",
        "outputId": "515a21dd-01bc-4932-bcf3-69ccd39ecbc8"
      },
      "outputs": [
        {
          "output_type": "stream",
          "name": "stdout",
          "text": [
            "{'batch_size': 64, 'optimizer': <class 'keras.optimizer_v2.rmsprop.RMSprop'>, 'optimizer__learning_rate': 0.01}\n"
          ]
        }
      ],
      "source": [
        "# Store best parameters found\n",
        "optimumParameters = searchResult.best_params_\n",
        "print(optimumParameters)\n",
        "# Store all results in new dataframe\n",
        "results = pd.DataFrame(searchResult.cv_results_)"
      ]
    },
    {
      "cell_type": "code",
      "execution_count": 72,
      "id": "0033fba0",
      "metadata": {
        "id": "0033fba0"
      },
      "outputs": [],
      "source": [
        "# Create long form of results for plotting\n",
        "resultsLong = pd.melt(results,\n",
        "                      id_vars=['param_batch_size', 'param_optimizer', 'param_optimizer__learning_rate'],\n",
        "                      var_name='splitNumber',\n",
        "                      value_name='MSE',\n",
        "                      value_vars=['split0_test_score', 'split1_test_score',])# 'split2_test_score']) #EDIT\n",
        "# Create new column with optimiser name for labels\n",
        "resultsLong['optimiser'] = resultsLong['param_optimizer'].apply(lambda x: x.__name__)\n",
        "# Rename learning rate column\n",
        "resultsLong = resultsLong.rename(columns={'param_optimizer__learning_rate':'learningRate'})"
      ]
    },
    {
      "cell_type": "code",
      "execution_count": 74,
      "id": "17d8a49a",
      "metadata": {
        "colab": {
          "base_uri": "https://localhost:8080/",
          "height": 313
        },
        "id": "17d8a49a",
        "outputId": "2ffb4d17-c42d-49ec-f762-eeeae90537ad"
      },
      "outputs": [
        {
          "output_type": "display_data",
          "data": {
            "text/plain": [
              "<Figure size 1008x288 with 3 Axes>"
            ],
            "image/png": "[encoded data removed]"
          },
          "metadata": {
            "needs_background": "light"
          }
        }
      ],
      "source": [
        "# Create figure for grid search results\n",
        "fig, axs = plt.subplots(1, 3, figsize=(14,4), sharey=True)\n",
        "# Plot results\n",
        "for i, ax in enumerate(axs):\n",
        "    sns.lineplot(ax=ax,\n",
        "                data=resultsLong[resultsLong['optimiser'] == resultsLong['optimiser'].unique()[i]],\n",
        "                x='param_batch_size',\n",
        "                y='MSE',\n",
        "                hue='learningRate',\n",
        "                palette='tab10',\n",
        "                )    \n",
        "    # Set log axis and title\n",
        "    ax.set(xscale='log')\n",
        "    ax.set_title(resultsLong['optimiser'].unique()[i])\n",
        "# Add title\n",
        "fig.suptitle('Grid search hyperparameter optimisation', fontsize=12)\n",
        "#fig.savefig('gridSearchResults', bbox_inches='tight')\n",
        "plt.show()"
      ]
    },
    {
      "cell_type": "markdown",
      "id": "a8147f0f",
      "metadata": {
        "id": "a8147f0f"
      },
      "source": [
        "some words EDIT\n",
        "#### Neural network structure design: number of layers, nodes per layer and activation function\n",
        "The final stage of model design optimisation will consider the structure of the network itself. A more flexible neural network is defined for use during this process. A tester function will be used to produce cross validation scores for each structure variant."
      ]
    },
    {
      "cell_type": "code",
      "execution_count": 75,
      "id": "62f450ff",
      "metadata": {
        "id": "62f450ff"
      },
      "outputs": [],
      "source": [
        "# NN taking input to define number of layers, nodes per hidden layer and hidden layer activation functions\n",
        "def structureModel(hiddenLayers, nodes, actFunc):\n",
        "    model = Sequential()\n",
        "    model.add(Dense(units=nodes, input_shape=(18,),  activation=actFunc))\n",
        "    # Add specified number of hidden layers\n",
        "    for layer in range(hiddenLayers-1):\n",
        "        model.add(Dense(units=nodes, activation=actFunc))\n",
        "    # Output layer\n",
        "    model.add(Dense(units=1, activation='linear'))\n",
        "    # Use best performing loss function and optimiser\n",
        "    model.compile(loss='mean_squared_error', optimizer='adam') #EDIT\n",
        "    return model"
      ]
    },
    {
      "cell_type": "code",
      "execution_count": 91,
      "id": "1c778b60",
      "metadata": {
        "scrolled": false,
        "id": "1c778b60"
      },
      "outputs": [],
      "source": [
        "# Define function to test each neural network\n",
        "def modelTester(testModel, splits):\n",
        "    # Implement early stopping to limit training time\n",
        "    earlyStop = EarlyStopping(monitor='loss', mode='min', verbose=1, patience=5)\n",
        "    # Use scikeras wrapper for compatibility with cross validator\n",
        "    wrappedStructureTestModel = KerasRegressor(model=testModel,\n",
        "                                               epochs=1000,\n",
        "                                               batch_size=64, #EDIT\n",
        "                                               verbose=0,\n",
        "                                               callbacks=[earlyStop],\n",
        "                                              )\n",
        "    # Define cross validation\n",
        "    kfold = KFold(n_splits=splits)\n",
        "    # Train and perform cross validation, returning array of scores\n",
        "    return cross_val_score(wrappedStructureTestModel, X_train, y_train, cv=kfold)"
      ]
    },
    {
      "cell_type": "markdown",
      "source": [
        "For flexibility, a custom grid search process will be employed to optimise network structure."
      ],
      "metadata": {
        "id": "nbIp527-58A2"
      },
      "id": "nbIp527-58A2"
    },
    {
      "cell_type": "code",
      "execution_count": 92,
      "id": "526bf9c9",
      "metadata": {
        "id": "526bf9c9"
      },
      "outputs": [],
      "source": [
        "# Define search space\n",
        "layers = [2, 3, 4]\n",
        "nodes = [8, 16, 32]\n",
        "actFuncs = ['relu', 'sigmoid']"
      ]
    },
    {
      "cell_type": "markdown",
      "source": [
        "The search output is made verbose in order to assist progress tracking."
      ],
      "metadata": {
        "id": "Gs8vu8To6pmw"
      },
      "id": "Gs8vu8To6pmw"
    },
    {
      "cell_type": "code",
      "execution_count": 93,
      "id": "5702ce81",
      "metadata": {
        "collapsed": true,
        "colab": {
          "base_uri": "https://localhost:8080/",
          "height": 1000
        },
        "id": "5702ce81",
        "outputId": "e24dee61-b604-4608-8947-bf27a9b02e92"
      },
      "outputs": [
        {
          "output_type": "stream",
          "name": "stdout",
          "text": [
            "3 folds for 18 model structures, totalling 54 fits\n",
            "\n",
            "Structure: 2 layers; 8 nodes per layer; relu activation function\n",
            "Epoch 124: early stopping\n",
            "Epoch 127: early stopping\n",
            "Epoch 67: early stopping\n",
            "Time taken: 197.78s\n",
            "\n",
            "Structure: 2 layers; 8 nodes per layer; sigmoid activation function\n",
            "Epoch 473: early stopping\n",
            "Epoch 391: early stopping\n",
            "Epoch 375: early stopping\n",
            "Time taken: 658.06s\n",
            "\n",
            "Structure: 2 layers; 16 nodes per layer; relu activation function\n",
            "Epoch 58: early stopping\n",
            "Epoch 113: early stopping\n",
            "Epoch 85: early stopping\n",
            "Time taken: 148.35s\n",
            "\n",
            "Structure: 2 layers; 16 nodes per layer; sigmoid activation function\n",
            "Epoch 223: early stopping\n",
            "Epoch 190: early stopping\n",
            "Epoch 149: early stopping\n",
            "Time taken: 292.70s\n",
            "\n",
            "Structure: 2 layers; 32 nodes per layer; relu activation function\n",
            "Epoch 79: early stopping\n",
            "Epoch 143: early stopping\n",
            "Epoch 82: early stopping\n",
            "Time taken: 137.18s\n",
            "\n",
            "Structure: 2 layers; 32 nodes per layer; sigmoid activation function\n",
            "Epoch 32: early stopping\n",
            "Epoch 37: early stopping\n",
            "Epoch 118: early stopping\n",
            "Time taken: 85.09s\n",
            "\n",
            "Structure: 3 layers; 8 nodes per layer; relu activation function\n",
            "Epoch 130: early stopping\n",
            "Epoch 32: early stopping\n",
            "Epoch 51: early stopping\n",
            "Time taken: 148.74s\n",
            "\n",
            "Structure: 3 layers; 8 nodes per layer; sigmoid activation function\n",
            "Epoch 354: early stopping\n",
            "Epoch 190: early stopping\n",
            "Epoch 149: early stopping\n",
            "Time taken: 329.46s\n",
            "\n",
            "Structure: 3 layers; 16 nodes per layer; relu activation function\n",
            "Epoch 94: early stopping\n",
            "Epoch 74: early stopping\n",
            "Epoch 68: early stopping\n",
            "Time taken: 152.01s\n",
            "\n",
            "Structure: 3 layers; 16 nodes per layer; sigmoid activation function\n",
            "Epoch 169: early stopping\n",
            "Epoch 249: early stopping\n",
            "Epoch 118: early stopping\n",
            "Time taken: 249.28s\n",
            "\n",
            "Structure: 3 layers; 32 nodes per layer; relu activation function\n",
            "Epoch 108: early stopping\n",
            "Epoch 74: early stopping\n",
            "Epoch 82: early stopping\n",
            "Time taken: 123.02s\n",
            "\n",
            "Structure: 3 layers; 32 nodes per layer; sigmoid activation function\n",
            "Epoch 34: early stopping\n",
            "Epoch 263: early stopping\n",
            "Epoch 29: early stopping\n",
            "Time taken: 180.82s\n",
            "\n",
            "Structure: 4 layers; 8 nodes per layer; relu activation function\n",
            "Epoch 182: early stopping\n",
            "Epoch 140: early stopping\n",
            "Epoch 118: early stopping\n",
            "Time taken: 210.28s\n",
            "\n",
            "Structure: 4 layers; 8 nodes per layer; sigmoid activation function\n",
            "Epoch 176: early stopping\n",
            "Epoch 190: early stopping\n",
            "Epoch 149: early stopping\n",
            "Time taken: 244.95s\n",
            "\n",
            "Structure: 4 layers; 16 nodes per layer; relu activation function\n",
            "Epoch 58: early stopping\n",
            "Epoch 65: early stopping\n",
            "Epoch 118: early stopping\n",
            "Time taken: 155.29s\n",
            "\n",
            "Structure: 4 layers; 16 nodes per layer; sigmoid activation function\n",
            "Epoch 245: early stopping\n",
            "Epoch 182: early stopping\n",
            "Epoch 149: early stopping\n",
            "Time taken: 300.74s\n",
            "\n",
            "Structure: 4 layers; 32 nodes per layer; relu activation function\n",
            "Epoch 49: early stopping\n",
            "Epoch 73: early stopping\n",
            "Epoch 106: early stopping\n",
            "Time taken: 144.92s\n",
            "\n",
            "Structure: 4 layers; 32 nodes per layer; sigmoid activation function\n",
            "Epoch 34: early stopping\n",
            "Epoch 35: early stopping\n",
            "Epoch 23: early stopping\n",
            "Time taken: 62.84s\n",
            "\n"
          ]
        },
        {
          "output_type": "execute_result",
          "data": {
            "text/plain": [
              "   layers nodes activationFunction   split_1   split_2   split_3\n",
              "0       2     8               relu  0.871016  0.874676  0.857129\n",
              "1       2     8            sigmoid  0.852855  0.852700  0.845156\n",
              "2       2    16               relu  0.871405  0.882192  0.873622\n",
              "3       2    16            sigmoid  0.805148  0.810329  0.803004\n",
              "4       2    32               relu  0.884853  0.888799  0.888244\n",
              "5       2    32            sigmoid  0.760002  0.774168  0.795433\n",
              "6       3     8               relu  0.865814  0.786598  0.861888\n",
              "7       3     8            sigmoid  0.838903  0.818664  0.812111\n",
              "8       3    16               relu  0.882688  0.873183  0.881662\n",
              "9       3    16            sigmoid  0.807072  0.825227  0.801361\n",
              "10      3    32               relu  0.887764  0.882276  0.892110\n",
              "11      3    32            sigmoid  0.765731  0.867783  0.775548\n",
              "12      4     8               relu  0.878084  0.877428  0.862576\n",
              "13      4     8            sigmoid  0.809410  0.816793  0.809868\n",
              "14      4    16               relu  0.862827  0.889913  0.877945\n",
              "15      4    16            sigmoid  0.829059  0.819121  0.812098\n",
              "16      4    32               relu  0.885118  0.888729  0.889320\n",
              "17      4    32            sigmoid  0.765936  0.772318  0.773061"
            ],
            "text/html": [
              "\n",
              "  <div id=\"df-aacfbe02-2188-4a9a-9cba-b8a656e6c6e5\">\n",
              "    <div class=\"colab-df-container\">\n",
              "      <div>\n",
              "<style scoped>\n",
              "    .dataframe tbody tr th:only-of-type {\n",
              "        vertical-align: middle;\n",
              "    }\n",
              "\n",
              "    .dataframe tbody tr th {\n",
              "        vertical-align: top;\n",
              "    }\n",
              "\n",
              "    .dataframe thead th {\n",
              "        text-align: right;\n",
              "    }\n",
              "</style>\n",
              "<table border=\"1\" class=\"dataframe\">\n",
              "  <thead>\n",
              "    <tr style=\"text-align: right;\">\n",
              "      <th></th>\n",
              "      <th>layers</th>\n",
              "      <th>nodes</th>\n",
              "      <th>activationFunction</th>\n",
              "      <th>split_1</th>\n",
              "      <th>split_2</th>\n",
              "      <th>split_3</th>\n",
              "    </tr>\n",
              "  </thead>\n",
              "  <tbody>\n",
              "    <tr>\n",
              "      <th>0</th>\n",
              "      <td>2</td>\n",
              "      <td>8</td>\n",
              "      <td>relu</td>\n",
              "      <td>0.871016</td>\n",
              "      <td>0.874676</td>\n",
              "      <td>0.857129</td>\n",
              "    </tr>\n",
              "    <tr>\n",
              "      <th>1</th>\n",
              "      <td>2</td>\n",
              "      <td>8</td>\n",
              "      <td>sigmoid</td>\n",
              "      <td>0.852855</td>\n",
              "      <td>0.852700</td>\n",
              "      <td>0.845156</td>\n",
              "    </tr>\n",
              "    <tr>\n",
              "      <th>2</th>\n",
              "      <td>2</td>\n",
              "      <td>16</td>\n",
              "      <td>relu</td>\n",
              "      <td>0.871405</td>\n",
              "      <td>0.882192</td>\n",
              "      <td>0.873622</td>\n",
              "    </tr>\n",
              "    <tr>\n",
              "      <th>3</th>\n",
              "      <td>2</td>\n",
              "      <td>16</td>\n",
              "      <td>sigmoid</td>\n",
              "      <td>0.805148</td>\n",
              "      <td>0.810329</td>\n",
              "      <td>0.803004</td>\n",
              "    </tr>\n",
              "    <tr>\n",
              "      <th>4</th>\n",
              "      <td>2</td>\n",
              "      <td>32</td>\n",
              "      <td>relu</td>\n",
              "      <td>0.884853</td>\n",
              "      <td>0.888799</td>\n",
              "      <td>0.888244</td>\n",
              "    </tr>\n",
              "    <tr>\n",
              "      <th>5</th>\n",
              "      <td>2</td>\n",
              "      <td>32</td>\n",
              "      <td>sigmoid</td>\n",
              "      <td>0.760002</td>\n",
              "      <td>0.774168</td>\n",
              "      <td>0.795433</td>\n",
              "    </tr>\n",
              "    <tr>\n",
              "      <th>6</th>\n",
              "      <td>3</td>\n",
              "      <td>8</td>\n",
              "      <td>relu</td>\n",
              "      <td>0.865814</td>\n",
              "      <td>0.786598</td>\n",
              "      <td>0.861888</td>\n",
              "    </tr>\n",
              "    <tr>\n",
              "      <th>7</th>\n",
              "      <td>3</td>\n",
              "      <td>8</td>\n",
              "      <td>sigmoid</td>\n",
              "      <td>0.838903</td>\n",
              "      <td>0.818664</td>\n",
              "      <td>0.812111</td>\n",
              "    </tr>\n",
              "    <tr>\n",
              "      <th>8</th>\n",
              "      <td>3</td>\n",
              "      <td>16</td>\n",
              "      <td>relu</td>\n",
              "      <td>0.882688</td>\n",
              "      <td>0.873183</td>\n",
              "      <td>0.881662</td>\n",
              "    </tr>\n",
              "    <tr>\n",
              "      <th>9</th>\n",
              "      <td>3</td>\n",
              "      <td>16</td>\n",
              "      <td>sigmoid</td>\n",
              "      <td>0.807072</td>\n",
              "      <td>0.825227</td>\n",
              "      <td>0.801361</td>\n",
              "    </tr>\n",
              "    <tr>\n",
              "      <th>10</th>\n",
              "      <td>3</td>\n",
              "      <td>32</td>\n",
              "      <td>relu</td>\n",
              "      <td>0.887764</td>\n",
              "      <td>0.882276</td>\n",
              "      <td>0.892110</td>\n",
              "    </tr>\n",
              "    <tr>\n",
              "      <th>11</th>\n",
              "      <td>3</td>\n",
              "      <td>32</td>\n",
              "      <td>sigmoid</td>\n",
              "      <td>0.765731</td>\n",
              "      <td>0.867783</td>\n",
              "      <td>0.775548</td>\n",
              "    </tr>\n",
              "    <tr>\n",
              "      <th>12</th>\n",
              "      <td>4</td>\n",
              "      <td>8</td>\n",
              "      <td>relu</td>\n",
              "      <td>0.878084</td>\n",
              "      <td>0.877428</td>\n",
              "      <td>0.862576</td>\n",
              "    </tr>\n",
              "    <tr>\n",
              "      <th>13</th>\n",
              "      <td>4</td>\n",
              "      <td>8</td>\n",
              "      <td>sigmoid</td>\n",
              "      <td>0.809410</td>\n",
              "      <td>0.816793</td>\n",
              "      <td>0.809868</td>\n",
              "    </tr>\n",
              "    <tr>\n",
              "      <th>14</th>\n",
              "      <td>4</td>\n",
              "      <td>16</td>\n",
              "      <td>relu</td>\n",
              "      <td>0.862827</td>\n",
              "      <td>0.889913</td>\n",
              "      <td>0.877945</td>\n",
              "    </tr>\n",
              "    <tr>\n",
              "      <th>15</th>\n",
              "      <td>4</td>\n",
              "      <td>16</td>\n",
              "      <td>sigmoid</td>\n",
              "      <td>0.829059</td>\n",
              "      <td>0.819121</td>\n",
              "      <td>0.812098</td>\n",
              "    </tr>\n",
              "    <tr>\n",
              "      <th>16</th>\n",
              "      <td>4</td>\n",
              "      <td>32</td>\n",
              "      <td>relu</td>\n",
              "      <td>0.885118</td>\n",
              "      <td>0.888729</td>\n",
              "      <td>0.889320</td>\n",
              "    </tr>\n",
              "    <tr>\n",
              "      <th>17</th>\n",
              "      <td>4</td>\n",
              "      <td>32</td>\n",
              "      <td>sigmoid</td>\n",
              "      <td>0.765936</td>\n",
              "      <td>0.772318</td>\n",
              "      <td>0.773061</td>\n",
              "    </tr>\n",
              "  </tbody>\n",
              "</table>\n",
              "</div>\n",
              "      <button class=\"colab-df-convert\" onclick=\"convertToInteractive('df-aacfbe02-2188-4a9a-9cba-b8a656e6c6e5')\"\n",
              "              title=\"Convert this dataframe to an interactive table.\"\n",
              "              style=\"display:none;\">\n",
              "        \n",
              "  <svg xmlns=\"http://www.w3.org/2000/svg\" height=\"24px\"viewBox=\"0 0 24 24\"\n",
              "       width=\"24px\">\n",
              "    <path d=\"M0 0h24v24H0V0z\" fill=\"none\"/>\n",
              "    <path d=\"M18.56 5.44l.94 2.06.94-2.06 2.06-.94-2.06-.94-.94-2.06-.94 2.06-2.06.94zm-11 1L8.5 8.5l.94-2.06 2.06-.94-2.06-.94L8.5 2.5l-.94 2.06-2.06.94zm10 10l.94 2.06.94-2.06 2.06-.94-2.06-.94-.94-2.06-.94 2.06-2.06.94z\"/><path d=\"M17.41 7.96l-1.37-1.37c-.4-.4-.92-.59-1.43-.59-.52 0-1.04.2-1.43.59L10.3 9.45l-7.72 7.72c-.78.78-.78 2.05 0 2.83L4 21.41c.39.39.9.59 1.41.59.51 0 1.02-.2 1.41-.59l7.78-7.78 2.81-2.81c.8-.78.8-2.07 0-2.86zM5.41 20L4 18.59l7.72-7.72 1.47 1.35L5.41 20z\"/>\n",
              "  </svg>\n",
              "      </button>\n",
              "      \n",
              "  <style>\n",
              "    .colab-df-container {\n",
              "      display:flex;\n",
              "      flex-wrap:wrap;\n",
              "      gap: 12px;\n",
              "    }\n",
              "\n",
              "    .colab-df-convert {\n",
              "      background-color: #E8F0FE;\n",
              "      border: none;\n",
              "      border-radius: 50%;\n",
              "      cursor: pointer;\n",
              "      display: none;\n",
              "      fill: #1967D2;\n",
              "      height: 32px;\n",
              "      padding: 0 0 0 0;\n",
              "      width: 32px;\n",
              "    }\n",
              "\n",
              "    .colab-df-convert:hover {\n",
              "      background-color: #E2EBFA;\n",
              "      box-shadow: 0px 1px 2px rgba(60, 64, 67, 0.3), 0px 1px 3px 1px rgba(60, 64, 67, 0.15);\n",
              "      fill: #174EA6;\n",
              "    }\n",
              "\n",
              "    [theme=dark] .colab-df-convert {\n",
              "      background-color: #3B4455;\n",
              "      fill: #D2E3FC;\n",
              "    }\n",
              "\n",
              "    [theme=dark] .colab-df-convert:hover {\n",
              "      background-color: #434B5C;\n",
              "      box-shadow: 0px 1px 3px 1px rgba(0, 0, 0, 0.15);\n",
              "      filter: drop-shadow(0px 1px 2px rgba(0, 0, 0, 0.3));\n",
              "      fill: #FFFFFF;\n",
              "    }\n",
              "  </style>\n",
              "\n",
              "      <script>\n",
              "        const buttonEl =\n",
              "          document.querySelector('#df-aacfbe02-2188-4a9a-9cba-b8a656e6c6e5 button.colab-df-convert');\n",
              "        buttonEl.style.display =\n",
              "          google.colab.kernel.accessAllowed ? 'block' : 'none';\n",
              "\n",
              "        async function convertToInteractive(key) {\n",
              "          const element = document.querySelector('#df-aacfbe02-2188-4a9a-9cba-b8a656e6c6e5');\n",
              "          const dataTable =\n",
              "            await google.colab.kernel.invokeFunction('convertToInteractive',\n",
              "                                                     [key], {});\n",
              "          if (!dataTable) return;\n",
              "\n",
              "          const docLinkHtml = 'Like what you see? Visit the ' +\n",
              "            '<a target=\"_blank\" href=https://colab.research.google.com/notebooks/data_table.ipynb>data table notebook</a>'\n",
              "            + ' to learn more about interactive tables.';\n",
              "          element.innerHTML = '';\n",
              "          dataTable['output_type'] = 'display_data';\n",
              "          await google.colab.output.renderOutput(dataTable, element);\n",
              "          const docLink = document.createElement('div');\n",
              "          docLink.innerHTML = docLinkHtml;\n",
              "          element.appendChild(docLink);\n",
              "        }\n",
              "      </script>\n",
              "    </div>\n",
              "  </div>\n",
              "  "
            ]
          },
          "metadata": {},
          "execution_count": 93
        }
      ],
      "source": [
        "# Create dataframe to store results\n",
        "structureTestResults = pd.DataFrame(columns=['layers', 'nodes', 'activationFunction', 'split_1', 'split_2', 'split_3'])\n",
        "# Set cross validation folds\n",
        "splits=3\n",
        "# Summary of upcoming search\n",
        "print(f'{splits} folds for {len(layers)*len(nodes)*len(actFuncs)} model structures, totalling {splits*len(layers)*len(nodes)*len(actFuncs)} fits\\n')\n",
        "# Iterate over layer candidates\n",
        "for layer in layers:\n",
        "    # Iterate over node count candidates\n",
        "    for node in nodes:\n",
        "        # Iterate over activation function candidates\n",
        "        for func in actFuncs:\n",
        "            # Print current search candidate\n",
        "            print(f'Structure: {layer} layers; {node} nodes per layer; {func} activation function')\n",
        "            # Start timer\n",
        "            startTime = perf_counter()\n",
        "            # Create network with specific structure\n",
        "            testModel = structureModel(layer, node, func)\n",
        "            # Perform cross validation\n",
        "            testResults = modelTester(testModel, splits)\n",
        "            # End timer and print time taken for all folds of current candidate\n",
        "            endTime = perf_counter()\n",
        "            print(f'Time taken: {(endTime-startTime):.0f}s\\n')\n",
        "            # Identify current hyperparameters and add results\n",
        "            hyperparameterList = [layer, node, func]\n",
        "            hyperparameterList.extend(testResults)\n",
        "            # Store details of current candidate in dataframe\n",
        "            structureTestResults.loc[len(structureTestResults)]=hyperparameterList"
      ]
    },
    {
      "cell_type": "code",
      "execution_count": 96,
      "id": "1b7a2d16",
      "metadata": {
        "id": "1b7a2d16"
      },
      "outputs": [],
      "source": [
        "# Create long form of results for plotting\n",
        "structureResultsLong = pd.melt(structureTestResults,\n",
        "                        id_vars=['layers','nodes','activationFunction'],\n",
        "                        var_name='splitNumber',\n",
        "                        value_name='MSE',\n",
        "                       value_vars=['split_1', 'split_2', 'split_3']) "
      ]
    },
    {
      "cell_type": "code",
      "execution_count": 102,
      "id": "cf49e059",
      "metadata": {
        "colab": {
          "base_uri": "https://localhost:8080/",
          "height": 312
        },
        "id": "cf49e059",
        "outputId": "4298e30c-01ae-4371-afa6-ace51fb57819"
      },
      "outputs": [
        {
          "output_type": "display_data",
          "data": {
            "text/plain": [
              "<Figure size 1008x288 with 3 Axes>"
            ],
            "image/png": "[encoded data removed]"
          },
          "metadata": {
            "needs_background": "light"
          }
        }
      ],
      "source": [
        "# Create figure for structure search results\n",
        "fig, axs = plt.subplots(1, 3, figsize=(14,4), sharey=True)\n",
        "# Iterate over axs\n",
        "for i, ax in enumerate(axs):\n",
        "    # Store current number of layers\n",
        "    numberLayers = structureResultsLong['layers'].unique()[i]\n",
        "    # Plot results\n",
        "    sns.lineplot(ax=ax,\n",
        "                data=structureResultsLong[structureResultsLong['layers'] == numberLayers],\n",
        "                x='nodes',\n",
        "                y='MSE',\n",
        "                hue='activationFunction',\n",
        "                palette='tab10',\n",
        "                )    \n",
        "    # Set log axis and titles\n",
        "    ax.set(xscale='log')\n",
        "    ax.set_title(f'{numberLayers} hidden layers')\n",
        "# Add title\n",
        "fig.suptitle('Grid search network structure optimisation', fontsize=12)\n",
        "#fig.savefig('gridSearchResults', bbox_inches='tight')\n",
        "plt.show()"
      ]
    },
    {
      "cell_type": "markdown",
      "id": "4a76a397",
      "metadata": {
        "id": "4a76a397"
      },
      "source": [
        "EDIT results\n",
        "#### Test Optimised Model\n",
        "The final step is to create a model using our optimised hyperparameters. This will be used to predict the target variable using our unseen test data and the results compared against the true values."
      ]
    },
    {
      "cell_type": "code",
      "execution_count": null,
      "id": "ae6165a5",
      "metadata": {
        "id": "ae6165a5"
      },
      "outputs": [],
      "source": [
        "# Create best model using identified hyperparameters\n",
        "bestModel = structureModel(hiddenLayers, nodes, actFunc) # EDIT"
      ]
    },
    {
      "cell_type": "markdown",
      "source": [
        "Our validation set will be kept back again in order to employ early stopping to prevent overfitting."
      ],
      "metadata": {
        "id": "233iSjnm9zhS"
      },
      "id": "233iSjnm9zhS"
    },
    {
      "cell_type": "code",
      "execution_count": null,
      "id": "144a8f61",
      "metadata": {
        "id": "144a8f61",
        "outputId": "f0764e32-f54e-4fc9-8034-edee1ae920bd"
      },
      "outputs": [
        {
          "name": "stdout",
          "output_type": "stream",
          "text": [
            "Epoch 00080: early stopping\n"
          ]
        }
      ],
      "source": [
        "# Define early stopping parameters\n",
        "earlyStop = EarlyStopping(monitor='loss', mode='min', verbose=1, patience=5)\n",
        "# \n",
        "bestTraining = bestModel.fit(X_trainValid,\n",
        "                             y_trainValid,\n",
        "                             validation_data=(X_validate,\n",
        "                                              y_validate),\n",
        "                             epochs=1000,\n",
        "                             batch_size=64, #edit\n",
        "                             verbose=0,\n",
        "                             callbacks=[earlyStop]\n",
        "                             )"
      ]
    },
    {
      "cell_type": "code",
      "execution_count": null,
      "id": "0a971576",
      "metadata": {
        "scrolled": false,
        "id": "0a971576",
        "outputId": "fb01c21c-273c-4fc6-cbcb-eeb6bb0e840f"
      },
      "outputs": [
        {
          "data": {
            "text/plain": [
              "(0.0, 0.5)"
            ]
          },
          "execution_count": 331,
          "metadata": {},
          "output_type": "execute_result"
        },
        {
          "data": {
            "image/png": "[encoded data removed]",
            "text/plain": [
              "<Figure size 432x432 with 1 Axes>"
            ]
          },
          "metadata": {
            "needs_background": "light"
          },
          "output_type": "display_data"
        }
      ],
      "source": [
        "# Plot training process\n",
        "fig, ax =plt.subplots(figsize=(6,6))\n",
        "\n",
        "ax.plot(bestTraining.history['loss'], label='train')\n",
        "ax.plot(bestTraining.history['val_loss'], label='validate')\n",
        "\n",
        "ax.set_ylim([0, 0.5])\n",
        "\n",
        "# Add title\n",
        "fig.suptitle('Grid search network structure optimisation', fontsize=12)\n",
        "#fig.savefig('gridSearchResults', bbox_inches='tight')\n",
        "plt.show()"
      ]
    },
    {
      "cell_type": "markdown",
      "source": [
        "edit\n",
        "##### Predictions and evaluation\n"
      ],
      "metadata": {
        "id": "Zswh21Pb_Wfo"
      },
      "id": "Zswh21Pb_Wfo"
    },
    {
      "cell_type": "code",
      "execution_count": null,
      "id": "1c666373",
      "metadata": {
        "id": "1c666373"
      },
      "outputs": [],
      "source": [
        "# Make predictions against unseen test data\n",
        "bestPred = bestModel.predict(X_test)\n",
        "# Revert predictions and target test data to original scale\n",
        "revertBestPred = targetReverter(bestPred)\n",
        "reverty_test = targetReverter(y_test)"
      ]
    },
    {
      "cell_type": "code",
      "execution_count": null,
      "id": "ac4ae937",
      "metadata": {
        "scrolled": false,
        "id": "ac4ae937",
        "outputId": "4e17ab02-2ce4-4b19-a31f-7ae195abada9"
      },
      "outputs": [
        {
          "data": {
            "text/plain": [
              "Text(0, 0.5, 'Prediction')"
            ]
          },
          "execution_count": 337,
          "metadata": {},
          "output_type": "execute_result"
        },
        {
          "data": {
            "image/png": "[encoded data removed]",
            "text/plain": [
              "<Figure size 432x432 with 1 Axes>"
            ]
          },
          "metadata": {
            "needs_background": "light"
          },
          "output_type": "display_data"
        }
      ],
      "source": [
        "# Plot\n",
        "fig, ax = plt.subplots(figsize=(6,6))\n",
        "\n",
        "ax = sns.regplot(x=reverty_test,\n",
        "                 y=revertBestPred,\n",
        "                 scatter_kws={'s':8,\n",
        "                              'alpha':0.5},                \n",
        "               )\n",
        "\n",
        "ax.set(xscale=\"log\", yscale=\"log\")\n",
        "\n",
        "xpoints = ypoints = ax.get_xlim()\n",
        "ax.plot(xpoints, ypoints, linestyle='--', color='k', lw=1)\n",
        "\n",
        "\n",
        "#ax.axis('equal')\n",
        "\n",
        "ax.set_xlabel('Target')\n",
        "ax.set_ylabel('Prediction')\n",
        "\n",
        "# Add title\n",
        "fig.suptitle('Optimised model predictions versus target', fontsize=12)\n",
        "#fig.savefig('bestModelPredictionsTestComparison', bbox_inches='tight')\n",
        "plt.show()"
      ]
    },
    {
      "cell_type": "code",
      "execution_count": null,
      "id": "a6bc3c58",
      "metadata": {
        "id": "a6bc3c58",
        "outputId": "8827aa5b-fb4f-4322-ccc0-a909939af91f"
      },
      "outputs": [
        {
          "data": {
            "text/plain": [
              "138696.5957849268"
            ]
          },
          "execution_count": 338,
          "metadata": {},
          "output_type": "execute_result"
        }
      ],
      "source": [
        "print(f'MSE: {mean_squared_error(reverty_test, revertBestPred, squared=False):.0f}')  #edit which error"
      ]
    },
    {
      "cell_type": "markdown",
      "source": [
        "Last words... EDIT"
      ],
      "metadata": {
        "id": "QadXqGHXAXnv"
      },
      "id": "QadXqGHXAXnv"
    }
  ],
  "metadata": {
    "kernelspec": {
      "display_name": "Python 3 (ipykernel)",
      "language": "python",
      "name": "python3"
    },
    "language_info": {
      "codemirror_mode": {
        "name": "ipython",
        "version": 3
      },
      "file_extension": ".py",
      "mimetype": "text/x-python",
      "name": "python",
      "nbconvert_exporter": "python",
      "pygments_lexer": "ipython3",
      "version": "3.7.9"
    },
    "colab": {
      "name": "COMP534-CA2.ipynb",
      "provenance": []
    },
    "accelerator": "GPU"
  },
  "nbformat": 4,
  "nbformat_minor": 5
}