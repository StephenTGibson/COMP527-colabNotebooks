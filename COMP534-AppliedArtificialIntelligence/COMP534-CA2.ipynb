{
 "cells": [
  {
   "cell_type": "markdown",
   "id": "4ed44d34",
   "metadata": {},
   "source": [
    "# COMP 534 - Applied Artificial Intelligence\n",
    "## CA2 - Neural network regression\n",
    "This notebook was produced as a deliverable for a group project for the above module, as part of the 2021-2022 Data Science and Artificial Intelligence MSc course at the University of Liverpool.\n",
    "### Preparation\n",
    "#### Setup\n",
    "Import required libraries, tools and classifiers."
   ]
  },
  {
   "cell_type": "code",
   "execution_count": 272,
   "id": "49109f0c",
   "metadata": {},
   "outputs": [],
   "source": [
    "import numpy as np\n",
    "import pandas as pd\n",
    "\n",
    "import matplotlib.pyplot as plt\n",
    "import seaborn as sns\n",
    "\n",
    "# Hyperparameter optimisation\n",
    "from sklearn.model_selection import RepeatedStratifiedKFold\n",
    "from sklearn.model_selection import RepeatedKFold\n",
    "from sklearn.model_selection import GridSearchCV\n",
    "\n",
    "from sklearn.metrics import mean_squared_error\n",
    "\n",
    "from tensorflow import keras\n",
    "\n",
    "from keras.callbacks import EarlyStopping\n",
    "\n",
    "from keras.models import Sequential\n",
    "from keras.layers import Dense\n",
    "from scikeras.wrappers import KerasRegressor\n",
    "\n",
    "from sklearn.model_selection import cross_val_score\n",
    "from sklearn.model_selection import KFold\n",
    "\n",
    "from sklearn.model_selection import train_test_split\n",
    "\n",
    "from sklearn.preprocessing import StandardScaler\n",
    "from sklearn.preprocessing import MinMaxScaler\n",
    "\n",
    "from tensorflow.keras.optimizers import SGD\n",
    "from tensorflow.keras.optimizers import RMSprop\n",
    "from tensorflow.keras.optimizers import Adam\n",
    "\n",
    "from tensorflow import get_logger"
   ]
  },
  {
   "cell_type": "code",
   "execution_count": 273,
   "id": "5776b559",
   "metadata": {},
   "outputs": [],
   "source": [
    "get_logger().setLevel('ERROR')"
   ]
  },
  {
   "cell_type": "markdown",
   "id": "378f2cc4",
   "metadata": {},
   "source": [
    "#### Data\n",
    "https://www.kaggle.com/datasets/harlfoxem/housesalesprediction"
   ]
  },
  {
   "cell_type": "code",
   "execution_count": 2,
   "id": "5c54c045",
   "metadata": {},
   "outputs": [],
   "source": [
    "df = pd.read_csv('kc_house_data.csv')"
   ]
  },
  {
   "cell_type": "code",
   "execution_count": 3,
   "id": "ffa1824b",
   "metadata": {},
   "outputs": [],
   "source": [
    "# print(df.shape)\n",
    "# df.head()"
   ]
  },
  {
   "cell_type": "code",
   "execution_count": 4,
   "id": "fe6705f7",
   "metadata": {},
   "outputs": [],
   "source": [
    "# df.hist(figsize=(20,20), bins='auto')\n",
    "# plt.tight_layout()"
   ]
  },
  {
   "cell_type": "markdown",
   "id": "00577706",
   "metadata": {},
   "source": [
    "#### Cleaning\n"
   ]
  },
  {
   "cell_type": "markdown",
   "id": "60bc53b9",
   "metadata": {},
   "source": [
    "##### Remove outliers"
   ]
  },
  {
   "cell_type": "code",
   "execution_count": 5,
   "id": "e5e274d6",
   "metadata": {},
   "outputs": [
    {
     "name": "stdout",
     "output_type": "stream",
     "text": [
      "0.22% of rows removed\n"
     ]
    }
   ],
   "source": [
    "originalRowCount = df.shape[0]\n",
    "\n",
    "df = df[(df['bedrooms'] > 0) & (df['bedrooms'] < 12)]\n",
    "df = df[(df['bathrooms'] > 0) & (df['bathrooms'] < 12)]\n",
    "df = df[df['sqft_lot'] < 5e5]\n",
    "df = df[df['sqft_lot15'] < 3.5e5]\n",
    "\n",
    "print(f'{((originalRowCount - df.shape[0])*100 / originalRowCount):.2f}% of rows removed')"
   ]
  },
  {
   "cell_type": "markdown",
   "id": "77d77e5e",
   "metadata": {},
   "source": [
    "##### Date"
   ]
  },
  {
   "cell_type": "code",
   "execution_count": 6,
   "id": "8362b2a4",
   "metadata": {},
   "outputs": [],
   "source": [
    "df['date'] = pd.to_datetime(df['date'])\n",
    "df['daysSinceSale'] = (df['date'].max() - df['date']).dt.days"
   ]
  },
  {
   "cell_type": "markdown",
   "id": "af797d40",
   "metadata": {},
   "source": [
    "##### Binning"
   ]
  },
  {
   "cell_type": "code",
   "execution_count": 7,
   "id": "af021296",
   "metadata": {},
   "outputs": [],
   "source": [
    "bins = 9\n",
    "df['basementOrdinal'] = pd.cut(df[df['sqft_basement']>0]['sqft_basement'], bins, labels=range(1, bins+1)).astype(int)\n",
    "df['basementOrdinal'] = df['basementOrdinal'].fillna(0)"
   ]
  },
  {
   "cell_type": "code",
   "execution_count": 8,
   "id": "d8b6d151",
   "metadata": {},
   "outputs": [],
   "source": [
    "bins = 9\n",
    "df['renovatedOrdinal'] = pd.cut(df[df['yr_renovated']>0]['yr_renovated'], bins, labels=range(1, bins+1)).astype(int)\n",
    "df['renovatedOrdinal'] = df['renovatedOrdinal'].fillna(0)"
   ]
  },
  {
   "cell_type": "markdown",
   "id": "f3a828c4",
   "metadata": {},
   "source": [
    "##### Transforms"
   ]
  },
  {
   "cell_type": "code",
   "execution_count": 9,
   "id": "486454a2",
   "metadata": {},
   "outputs": [],
   "source": [
    "skewedVariables = ['price', 'sqft_living', 'sqft_lot', 'sqft_above', 'sqft_living15', 'sqft_lot15'] #'price', \n",
    "logVariables = ['priceLog', 'sqft_livingLog', 'sqft_lotLog', 'sqft_aboveLog', 'sqft_living15Log', 'sqft_lot15Log'] #'priceLog', \n",
    "df[logVariables] = np.log(df[skewedVariables])"
   ]
  },
  {
   "cell_type": "markdown",
   "id": "72f7abc1",
   "metadata": {},
   "source": [
    "##### Drop unused columns"
   ]
  },
  {
   "cell_type": "code",
   "execution_count": 10,
   "id": "b1e051fd",
   "metadata": {},
   "outputs": [],
   "source": [
    "df = df.drop(columns=skewedVariables)\n",
    "df = df.drop(columns=['date', 'id', 'sqft_basement', 'yr_renovated', 'zipcode',])"
   ]
  },
  {
   "cell_type": "markdown",
   "id": "5822c937",
   "metadata": {},
   "source": [
    "##### Move price col"
   ]
  },
  {
   "cell_type": "code",
   "execution_count": 11,
   "id": "a106af1b",
   "metadata": {},
   "outputs": [],
   "source": [
    "column_to_move = df.pop(\"priceLog\")\n",
    "df.insert(0, \"priceLog\", column_to_move)"
   ]
  },
  {
   "cell_type": "code",
   "execution_count": 12,
   "id": "6f22134a",
   "metadata": {
    "scrolled": false
   },
   "outputs": [],
   "source": [
    "# df.hist(bins = \"auto\", figsize = (20,20))\n",
    "# plt.show()"
   ]
  },
  {
   "cell_type": "markdown",
   "id": "f222ad6e",
   "metadata": {},
   "source": [
    "#### Splitting"
   ]
  },
  {
   "cell_type": "code",
   "execution_count": 14,
   "id": "6afbe58b",
   "metadata": {},
   "outputs": [],
   "source": [
    "data = df.values\n",
    "X = data[:, 1:]\n",
    "y = data[:, 0].reshape(-1, 1)"
   ]
  },
  {
   "cell_type": "code",
   "execution_count": 15,
   "id": "36fc2596",
   "metadata": {},
   "outputs": [],
   "source": [
    "# Split data into 80% train and 20% test sets\n",
    "# Data stratified by class due to imbalance in classes (65% negative - 35% positive)\n",
    "# Data shuffled to reduce any bias in the order of the dataset\n",
    "# Define random state to ensure the same train test split can be used for each method\n",
    "X_train, X_test, y_train, y_test = train_test_split(X,\n",
    "                                                    y,\n",
    "                                                    test_size=0.20,\n",
    "                                                    #stratify=y,\n",
    "                                                    shuffle=True,\n",
    "                                                    random_state=123,\n",
    "                                                    )"
   ]
  },
  {
   "cell_type": "code",
   "execution_count": 16,
   "id": "cd31c941",
   "metadata": {},
   "outputs": [],
   "source": [
    "# Standardise features to negate the impact of different feature units\n",
    "# Updated features have mean 0 and standard deviation 1\n",
    "featureScaler = MinMaxScaler() #StandardScaler()\n",
    "# featureScaler.fit(X_train[:, -5:])\n",
    "# X_train[:, -5:] = featureScaler.transform(X_train[:, -5:])\n",
    "# X_test[:, -5:] = featureScaler.transform(X_test[:, -5:])\n",
    "\n",
    "featureScaler.fit(X_train)\n",
    "X_train = featureScaler.transform(X_train)\n",
    "X_test = featureScaler.transform(X_test)"
   ]
  },
  {
   "cell_type": "code",
   "execution_count": 17,
   "id": "a1bbb88c",
   "metadata": {},
   "outputs": [],
   "source": [
    "targetScaler = StandardScaler()\n",
    "targetScaler.fit(y_train)\n",
    "y_train = targetScaler.transform(y_train)\n",
    "y_test = targetScaler.transform(y_test)"
   ]
  },
  {
   "cell_type": "markdown",
   "id": "ec824f66",
   "metadata": {},
   "source": [
    "### Models and Analysis"
   ]
  },
  {
   "cell_type": "markdown",
   "id": "54dd1092",
   "metadata": {},
   "source": [
    "#### Choice of loss function"
   ]
  },
  {
   "cell_type": "code",
   "execution_count": 174,
   "id": "8e19b7b3",
   "metadata": {},
   "outputs": [],
   "source": [
    "# define base model\n",
    "def lossModel(loss):\n",
    "    # create model\n",
    "    model = Sequential()\n",
    "    model.add(Dense(units=24, input_shape=(18,),  activation='relu'))\n",
    "    model.add(Dense(units=24, activation='relu'))\n",
    "#     model.add(Dense(16, input_dim=8, activation='relu'))\n",
    "#     model.add(Dense(16, input_dim=8, activation='relu'))\n",
    "    model.add(Dense(units=1, activation='linear'))\n",
    "    # Compile model\n",
    "    model.compile(loss=loss, optimizer='SGD')\n",
    "    return model"
   ]
  },
  {
   "cell_type": "code",
   "execution_count": 175,
   "id": "55809cfa",
   "metadata": {},
   "outputs": [],
   "source": [
    "X_trainLoss, X_validateLoss, y_trainLoss, y_validateLoss = train_test_split(X_train,\n",
    "                                                    y_train,\n",
    "                                                    test_size=0.20,\n",
    "                                                    #stratify=y,\n",
    "                                                    shuffle=False,\n",
    "                                                    #random_state=123,\n",
    "                                                    )"
   ]
  },
  {
   "cell_type": "code",
   "execution_count": 184,
   "id": "233d8abe",
   "metadata": {
    "scrolled": false
   },
   "outputs": [],
   "source": [
    "modelMSE = lossModel('mean_squared_error')\n",
    "modelMAE = lossModel('mean_absolute_error')\n",
    "\n",
    "names = ['MSE', 'MAE']\n",
    "epochs = 100\n",
    "\n",
    "histDict = {}\n",
    "predDict = {}\n",
    "\n",
    "for i, model in enumerate([modelMSE, modelMAE]):\n",
    "    \n",
    "    historyModel = model.fit(X_trainLoss,\n",
    "                    y_trainLoss,\n",
    "                    validation_data=(X_validateLoss,\n",
    "                                     y_validateLoss),\n",
    "                    epochs=epochs,\n",
    "                    batch_size=32,\n",
    "                    verbose=0,\n",
    "                   )\n",
    "    \n",
    "    histDict[names[i]] = historyModel.history\n",
    "    \n",
    "    y_validateLossPred = model.predict(X_validateLoss)\n",
    "    \n",
    "    predDict[names[i]] = y_validateLossPred\n",
    "    "
   ]
  },
  {
   "cell_type": "code",
   "execution_count": 191,
   "id": "ef3d29bb",
   "metadata": {},
   "outputs": [
    {
     "data": {
      "text/plain": [
       "<matplotlib.legend.Legend at 0x25e6f91a348>"
      ]
     },
     "execution_count": 191,
     "metadata": {},
     "output_type": "execute_result"
    },
    {
     "data": {
      "image/png": "[encoded data removed]",
      "text/plain": [
       "<Figure size 720x288 with 2 Axes>"
      ]
     },
     "metadata": {
      "needs_background": "light"
     },
     "output_type": "display_data"
    }
   ],
   "source": [
    "fig, axs = plt.subplots(1, 2, figsize=(10,4), sharey=True)\n",
    "\n",
    "#axs[0] = sns.lineplot(y=histDict['MSE']['loss'])\n",
    "\n",
    "axs[0].plot(histDict['MSE']['loss'], label='train')\n",
    "axs[0].plot(histDict['MSE']['val_loss'], label='train')\n",
    "\n",
    "axs[1].plot(histDict['MAE']['loss'], label='train')\n",
    "axs[1].plot(histDict['MAE']['val_loss'], label='train')\n",
    "# ax.plot(historyMSE.history['val_loss'], label='valid', alpha=0.8)\n",
    "\n",
    "# #ax.set(yscale=\"log\") #xscale=\"log\", \n",
    "\n",
    "# ax.set_ylim([0, 0.5])\n",
    "\n",
    "plt.legend()"
   ]
  },
  {
   "cell_type": "code",
   "execution_count": 215,
   "id": "d1012e93",
   "metadata": {},
   "outputs": [],
   "source": [
    "def invert(data):\n",
    "    return np.exp(targetScaler.inverse_transform(data).reshape(data.shape[0]))"
   ]
  },
  {
   "cell_type": "code",
   "execution_count": 216,
   "id": "22f32f54",
   "metadata": {},
   "outputs": [],
   "source": [
    "MSEpredictionsPlot = invert(predDict['MSE'])\n",
    "MAEpredictionsPlot = invert(predDict['MAE'])\n",
    "trueValuesPlot = invert(y_validateLoss)"
   ]
  },
  {
   "cell_type": "code",
   "execution_count": 217,
   "id": "6bd4eedc",
   "metadata": {},
   "outputs": [
    {
     "data": {
      "text/plain": [
       "Text(3.200000000000003, 0.5, 'Prediction')"
      ]
     },
     "execution_count": 217,
     "metadata": {},
     "output_type": "execute_result"
    },
    {
     "data": {
      "image/png": "[encoded data removed]",
      "text/plain": [
       "<Figure size 864x432 with 2 Axes>"
      ]
     },
     "metadata": {
      "needs_background": "light"
     },
     "output_type": "display_data"
    }
   ],
   "source": [
    "fig, axs = plt.subplots(1, 2, figsize=(12,6), sharey=True)\n",
    "\n",
    "sns.regplot(ax=axs[0],\n",
    "                   x=trueValuesPlot,\n",
    "                 y=MSEpredictionsPlot,\n",
    "                 scatter_kws={'s':4,\n",
    "                              'alpha':0.3},   \n",
    "            line_kws={\"color\": \"red\"},   \n",
    "               )\n",
    "\n",
    "sns.regplot(ax=axs[1],\n",
    "                   x=trueValuesPlot,\n",
    "                 y=MAEpredictionsPlot,\n",
    "                 scatter_kws={'s':4,\n",
    "                              'alpha':0.3,\n",
    "                              #\"color\": \"black\"\n",
    "                             },\n",
    "            line_kws={\"color\": \"red\"},                \n",
    "               )\n",
    "\n",
    "axs[0].set(xscale=\"log\", yscale=\"log\")\n",
    "axs[1].set(xscale=\"log\", yscale=\"log\")\n",
    "\n",
    "xpoints0 = ypoints0 = axs[0].get_xlim()\n",
    "axs[0].plot(xpoints0, ypoints0, linestyle='--', color='k', lw=1)#, scalex=False, scaley=False)\n",
    "\n",
    "xpoints1 = ypoints1 = axs[1].get_xlim()\n",
    "axs[1].plot(xpoints1, ypoints1, linestyle='--', color='k', lw=1)#, scalex=False, scaley=False)\n",
    "\n",
    "#ax = sns.lineplot(x=[0,1], y=[0,1])#, transform=ax.transAxes)\n",
    "\n",
    "#ax.axis('equal')\n",
    "\n",
    "ax.set_xlabel('Target')\n",
    "ax.set_ylabel('Prediction')"
   ]
  },
  {
   "cell_type": "markdown",
   "id": "76319be5",
   "metadata": {},
   "source": [
    "https://coderzcolumn.com/tutorials/artifical-intelligence/scikeras-give-scikit-learn-like-api-to-your-keras-networks"
   ]
  },
  {
   "cell_type": "markdown",
   "id": "c3fa7346",
   "metadata": {},
   "source": [
    "#### Grid search: learning rate, batch size and optimiser"
   ]
  },
  {
   "cell_type": "code",
   "execution_count": 44,
   "id": "30bb9cc4",
   "metadata": {},
   "outputs": [],
   "source": [
    "searchSpace = {\n",
    "    'optimizer':[SGD, RMSprop, Adam],\n",
    "    'optimizer__learning_rate': [0.001, 0.01, 0.1],\n",
    "    'batch_size':[16, 32, 64, 128],\n",
    "}"
   ]
  },
  {
   "cell_type": "code",
   "execution_count": 45,
   "id": "d429fbf2",
   "metadata": {
    "scrolled": false
   },
   "outputs": [],
   "source": [
    "#aModel = model()\n",
    "es = EarlyStopping(monitor='loss', mode='min', verbose=0, patience=5)\n",
    "\n",
    "estimator = KerasRegressor(model=model,\n",
    "                           #model=aModel,\n",
    "                           #optimizer='adam',\n",
    "                           loss=keras.losses.mean_squared_error,\n",
    "                           epochs=100,\n",
    "                           #batch_size=128,\n",
    "                           verbose=0,\n",
    "                           callbacks=[es],\n",
    "                          )\n",
    "\n",
    "kfold = KFold(n_splits=3)\n",
    "\n",
    "hyperparameterSearch = GridSearchCV(estimator, searchSpace, scoring='neg_mean_squared_error', n_jobs=-1, cv=kfold)\n",
    "# Fit search with training data\n",
    "# Performs search over searchSpace\n",
    "search = hyperparameterSearch.fit(X_train, y_train)\n",
    "\n",
    "# results = cross_val_score(estimator, X_train, y_train, cv=kfold)\n",
    "\n",
    "\n",
    "\n",
    "# results.mean()"
   ]
  },
  {
   "cell_type": "code",
   "execution_count": 46,
   "id": "8524cd12",
   "metadata": {
    "scrolled": false
   },
   "outputs": [
    {
     "name": "stdout",
     "output_type": "stream",
     "text": [
      "{'batch_size': 32, 'optimizer': <class 'keras.optimizer_v2.adam.Adam'>}\n"
     ]
    },
    {
     "data": {
      "text/html": [
       "<div>\n",
       "<style scoped>\n",
       "    .dataframe tbody tr th:only-of-type {\n",
       "        vertical-align: middle;\n",
       "    }\n",
       "\n",
       "    .dataframe tbody tr th {\n",
       "        vertical-align: top;\n",
       "    }\n",
       "\n",
       "    .dataframe thead th {\n",
       "        text-align: right;\n",
       "    }\n",
       "</style>\n",
       "<table border=\"1\" class=\"dataframe\">\n",
       "  <thead>\n",
       "    <tr style=\"text-align: right;\">\n",
       "      <th></th>\n",
       "      <th>mean_fit_time</th>\n",
       "      <th>std_fit_time</th>\n",
       "      <th>mean_score_time</th>\n",
       "      <th>std_score_time</th>\n",
       "      <th>param_batch_size</th>\n",
       "      <th>param_optimizer</th>\n",
       "      <th>params</th>\n",
       "      <th>split0_test_score</th>\n",
       "      <th>split1_test_score</th>\n",
       "      <th>split2_test_score</th>\n",
       "      <th>mean_test_score</th>\n",
       "      <th>std_test_score</th>\n",
       "      <th>rank_test_score</th>\n",
       "    </tr>\n",
       "  </thead>\n",
       "  <tbody>\n",
       "    <tr>\n",
       "      <th>0</th>\n",
       "      <td>80.440343</td>\n",
       "      <td>2.433637</td>\n",
       "      <td>1.068488</td>\n",
       "      <td>0.636476</td>\n",
       "      <td>32</td>\n",
       "      <td>&lt;class 'keras.optimizer_v2.gradient_descent.SGD'&gt;</td>\n",
       "      <td>{'batch_size': 32, 'optimizer': &lt;class 'keras....</td>\n",
       "      <td>-0.128661</td>\n",
       "      <td>-0.124419</td>\n",
       "      <td>-0.146395</td>\n",
       "      <td>-0.133158</td>\n",
       "      <td>0.009519</td>\n",
       "      <td>7</td>\n",
       "    </tr>\n",
       "    <tr>\n",
       "      <th>1</th>\n",
       "      <td>81.961909</td>\n",
       "      <td>4.341576</td>\n",
       "      <td>4.065589</td>\n",
       "      <td>3.957781</td>\n",
       "      <td>32</td>\n",
       "      <td>&lt;class 'keras.optimizer_v2.rmsprop.RMSprop'&gt;</td>\n",
       "      <td>{'batch_size': 32, 'optimizer': &lt;class 'keras....</td>\n",
       "      <td>-0.108810</td>\n",
       "      <td>-0.112521</td>\n",
       "      <td>-0.150403</td>\n",
       "      <td>-0.123911</td>\n",
       "      <td>0.018794</td>\n",
       "      <td>6</td>\n",
       "    </tr>\n",
       "    <tr>\n",
       "      <th>2</th>\n",
       "      <td>74.713246</td>\n",
       "      <td>6.046880</td>\n",
       "      <td>3.481509</td>\n",
       "      <td>3.379967</td>\n",
       "      <td>32</td>\n",
       "      <td>&lt;class 'keras.optimizer_v2.adam.Adam'&gt;</td>\n",
       "      <td>{'batch_size': 32, 'optimizer': &lt;class 'keras....</td>\n",
       "      <td>-0.110851</td>\n",
       "      <td>-0.111943</td>\n",
       "      <td>-0.110561</td>\n",
       "      <td>-0.111119</td>\n",
       "      <td>0.000595</td>\n",
       "      <td>1</td>\n",
       "    </tr>\n",
       "    <tr>\n",
       "      <th>3</th>\n",
       "      <td>54.823495</td>\n",
       "      <td>0.227779</td>\n",
       "      <td>0.641946</td>\n",
       "      <td>0.296512</td>\n",
       "      <td>64</td>\n",
       "      <td>&lt;class 'keras.optimizer_v2.gradient_descent.SGD'&gt;</td>\n",
       "      <td>{'batch_size': 64, 'optimizer': &lt;class 'keras....</td>\n",
       "      <td>-0.141127</td>\n",
       "      <td>-0.139151</td>\n",
       "      <td>-0.132729</td>\n",
       "      <td>-0.137669</td>\n",
       "      <td>0.003585</td>\n",
       "      <td>8</td>\n",
       "    </tr>\n",
       "    <tr>\n",
       "      <th>4</th>\n",
       "      <td>45.202049</td>\n",
       "      <td>4.282840</td>\n",
       "      <td>0.889321</td>\n",
       "      <td>0.152454</td>\n",
       "      <td>64</td>\n",
       "      <td>&lt;class 'keras.optimizer_v2.rmsprop.RMSprop'&gt;</td>\n",
       "      <td>{'batch_size': 64, 'optimizer': &lt;class 'keras....</td>\n",
       "      <td>-0.110979</td>\n",
       "      <td>-0.116794</td>\n",
       "      <td>-0.124175</td>\n",
       "      <td>-0.117316</td>\n",
       "      <td>0.005400</td>\n",
       "      <td>3</td>\n",
       "    </tr>\n",
       "    <tr>\n",
       "      <th>5</th>\n",
       "      <td>47.188475</td>\n",
       "      <td>7.857855</td>\n",
       "      <td>0.921673</td>\n",
       "      <td>0.537704</td>\n",
       "      <td>64</td>\n",
       "      <td>&lt;class 'keras.optimizer_v2.adam.Adam'&gt;</td>\n",
       "      <td>{'batch_size': 64, 'optimizer': &lt;class 'keras....</td>\n",
       "      <td>-0.113811</td>\n",
       "      <td>-0.115654</td>\n",
       "      <td>-0.111679</td>\n",
       "      <td>-0.113715</td>\n",
       "      <td>0.001624</td>\n",
       "      <td>2</td>\n",
       "    </tr>\n",
       "    <tr>\n",
       "      <th>6</th>\n",
       "      <td>28.358028</td>\n",
       "      <td>12.931547</td>\n",
       "      <td>4.079408</td>\n",
       "      <td>4.320378</td>\n",
       "      <td>128</td>\n",
       "      <td>&lt;class 'keras.optimizer_v2.gradient_descent.SGD'&gt;</td>\n",
       "      <td>{'batch_size': 128, 'optimizer': &lt;class 'keras...</td>\n",
       "      <td>-0.220469</td>\n",
       "      <td>-0.202858</td>\n",
       "      <td>-0.188548</td>\n",
       "      <td>-0.203958</td>\n",
       "      <td>0.013055</td>\n",
       "      <td>9</td>\n",
       "    </tr>\n",
       "    <tr>\n",
       "      <th>7</th>\n",
       "      <td>28.879340</td>\n",
       "      <td>0.337140</td>\n",
       "      <td>0.923900</td>\n",
       "      <td>0.270856</td>\n",
       "      <td>128</td>\n",
       "      <td>&lt;class 'keras.optimizer_v2.rmsprop.RMSprop'&gt;</td>\n",
       "      <td>{'batch_size': 128, 'optimizer': &lt;class 'keras...</td>\n",
       "      <td>-0.117214</td>\n",
       "      <td>-0.116804</td>\n",
       "      <td>-0.124037</td>\n",
       "      <td>-0.119352</td>\n",
       "      <td>0.003317</td>\n",
       "      <td>4</td>\n",
       "    </tr>\n",
       "    <tr>\n",
       "      <th>8</th>\n",
       "      <td>24.576255</td>\n",
       "      <td>3.128622</td>\n",
       "      <td>0.283877</td>\n",
       "      <td>0.134047</td>\n",
       "      <td>128</td>\n",
       "      <td>&lt;class 'keras.optimizer_v2.adam.Adam'&gt;</td>\n",
       "      <td>{'batch_size': 128, 'optimizer': &lt;class 'keras...</td>\n",
       "      <td>-0.121113</td>\n",
       "      <td>-0.125713</td>\n",
       "      <td>-0.115146</td>\n",
       "      <td>-0.120657</td>\n",
       "      <td>0.004326</td>\n",
       "      <td>5</td>\n",
       "    </tr>\n",
       "  </tbody>\n",
       "</table>\n",
       "</div>"
      ],
      "text/plain": [
       "   mean_fit_time  std_fit_time  mean_score_time  std_score_time  \\\n",
       "0      80.440343      2.433637         1.068488        0.636476   \n",
       "1      81.961909      4.341576         4.065589        3.957781   \n",
       "2      74.713246      6.046880         3.481509        3.379967   \n",
       "3      54.823495      0.227779         0.641946        0.296512   \n",
       "4      45.202049      4.282840         0.889321        0.152454   \n",
       "5      47.188475      7.857855         0.921673        0.537704   \n",
       "6      28.358028     12.931547         4.079408        4.320378   \n",
       "7      28.879340      0.337140         0.923900        0.270856   \n",
       "8      24.576255      3.128622         0.283877        0.134047   \n",
       "\n",
       "  param_batch_size                                    param_optimizer  \\\n",
       "0               32  <class 'keras.optimizer_v2.gradient_descent.SGD'>   \n",
       "1               32       <class 'keras.optimizer_v2.rmsprop.RMSprop'>   \n",
       "2               32             <class 'keras.optimizer_v2.adam.Adam'>   \n",
       "3               64  <class 'keras.optimizer_v2.gradient_descent.SGD'>   \n",
       "4               64       <class 'keras.optimizer_v2.rmsprop.RMSprop'>   \n",
       "5               64             <class 'keras.optimizer_v2.adam.Adam'>   \n",
       "6              128  <class 'keras.optimizer_v2.gradient_descent.SGD'>   \n",
       "7              128       <class 'keras.optimizer_v2.rmsprop.RMSprop'>   \n",
       "8              128             <class 'keras.optimizer_v2.adam.Adam'>   \n",
       "\n",
       "                                              params  split0_test_score  \\\n",
       "0  {'batch_size': 32, 'optimizer': <class 'keras....          -0.128661   \n",
       "1  {'batch_size': 32, 'optimizer': <class 'keras....          -0.108810   \n",
       "2  {'batch_size': 32, 'optimizer': <class 'keras....          -0.110851   \n",
       "3  {'batch_size': 64, 'optimizer': <class 'keras....          -0.141127   \n",
       "4  {'batch_size': 64, 'optimizer': <class 'keras....          -0.110979   \n",
       "5  {'batch_size': 64, 'optimizer': <class 'keras....          -0.113811   \n",
       "6  {'batch_size': 128, 'optimizer': <class 'keras...          -0.220469   \n",
       "7  {'batch_size': 128, 'optimizer': <class 'keras...          -0.117214   \n",
       "8  {'batch_size': 128, 'optimizer': <class 'keras...          -0.121113   \n",
       "\n",
       "   split1_test_score  split2_test_score  mean_test_score  std_test_score  \\\n",
       "0          -0.124419          -0.146395        -0.133158        0.009519   \n",
       "1          -0.112521          -0.150403        -0.123911        0.018794   \n",
       "2          -0.111943          -0.110561        -0.111119        0.000595   \n",
       "3          -0.139151          -0.132729        -0.137669        0.003585   \n",
       "4          -0.116794          -0.124175        -0.117316        0.005400   \n",
       "5          -0.115654          -0.111679        -0.113715        0.001624   \n",
       "6          -0.202858          -0.188548        -0.203958        0.013055   \n",
       "7          -0.116804          -0.124037        -0.119352        0.003317   \n",
       "8          -0.125713          -0.115146        -0.120657        0.004326   \n",
       "\n",
       "   rank_test_score  \n",
       "0                7  \n",
       "1                6  \n",
       "2                1  \n",
       "3                8  \n",
       "4                3  \n",
       "5                2  \n",
       "6                9  \n",
       "7                4  \n",
       "8                5  "
      ]
     },
     "execution_count": 46,
     "metadata": {},
     "output_type": "execute_result"
    }
   ],
   "source": [
    "# Store best parameters found\n",
    "optimumParameters = search.best_params_\n",
    "print(optimumParameters)\n",
    "# Store all results in new dataframe\n",
    "results = pd.DataFrame(search.cv_results_)\n",
    "#results"
   ]
  },
  {
   "cell_type": "code",
   "execution_count": 73,
   "id": "0033fba0",
   "metadata": {},
   "outputs": [],
   "source": [
    "resultsLong = pd.melt(results,\n",
    "                        id_vars=['param_batch_size', 'param_optimizer'],\n",
    "                        var_name='splitNumber',\n",
    "                        value_name='MSE',\n",
    "                        value_vars=['split0_test_score', 'split1_test_score', 'split2_test_score'])\n",
    "\n",
    "resultsLong['Optimiser'] = resultsLong['param_optimizer'].apply(lambda x: x.__name__)"
   ]
  },
  {
   "cell_type": "code",
   "execution_count": 81,
   "id": "17d8a49a",
   "metadata": {},
   "outputs": [
    {
     "data": {
      "text/plain": [
       "[None]"
      ]
     },
     "execution_count": 81,
     "metadata": {},
     "output_type": "execute_result"
    },
    {
     "data": {
      "image/png": "[encoded data removed]",
      "text/plain": [
       "<Figure size 1008x288 with 3 Axes>"
      ]
     },
     "metadata": {
      "needs_background": "light"
     },
     "output_type": "display_data"
    }
   ],
   "source": [
    "fig, axs = plt.subplots(1, 3, figsize=(14,4), sharey=True)\n",
    "\n",
    "sns.lineplot(ax=axs[0],\n",
    "             data=resultsLong,\n",
    "             x='param_batch_size',\n",
    "             y='MSE',\n",
    "             hue='Optimiser',\n",
    "             #y\n",
    "            )\n",
    "\n",
    "ax.set(xscale=\"log\")#, yscale=\"log\")"
   ]
  },
  {
   "cell_type": "markdown",
   "id": "a8147f0f",
   "metadata": {},
   "source": [
    "#### Neural network structure (layers, nodes and activ func)"
   ]
  },
  {
   "cell_type": "code",
   "execution_count": 312,
   "id": "62f450ff",
   "metadata": {},
   "outputs": [],
   "source": [
    "def newModel(layers, nodes, actFunc):\n",
    "    model = Sequential()\n",
    "    model.add(Dense(units=nodes, input_shape=(18,),  activation=actFunc))\n",
    "    \n",
    "    for layer in range(layers-1):\n",
    "        model.add(Dense(units=nodes, activation=actFunc))\n",
    "        \n",
    "    model.add(Dense(units=1, activation='linear'))\n",
    "    \n",
    "    model.compile(loss='mean_squared_error', optimizer='adam')\n",
    "    \n",
    "    return model"
   ]
  },
  {
   "cell_type": "code",
   "execution_count": 313,
   "id": "1c778b60",
   "metadata": {
    "scrolled": false
   },
   "outputs": [],
   "source": [
    "def NNTester(aModel):#layers, nodes, actFunc):\n",
    "\n",
    "    es = EarlyStopping(monitor='loss', mode='min', verbose=1, patience=5)\n",
    "\n",
    "    estimator = KerasRegressor(model=aModel,#newModel(layers, nodes, actFunc),\n",
    "\n",
    "#                                optimizer='adam',\n",
    "#                                loss=keras.losses.mean_squared_error,\n",
    "                               epochs=1000,\n",
    "                               batch_size=128,\n",
    "                               verbose=0,\n",
    "                               callbacks=[es],\n",
    "                              )\n",
    "\n",
    "    kfold = KFold(n_splits=2)\n",
    "\n",
    "    return cross_val_score(estimator, X_train, y_train, cv=kfold)\n",
    "\n",
    "    # results.mean()"
   ]
  },
  {
   "cell_type": "code",
   "execution_count": 314,
   "id": "526bf9c9",
   "metadata": {},
   "outputs": [],
   "source": [
    "layers = [2, 3, 4]\n",
    "nodes = [8, 16, 32]\n",
    "actFuncs = ['relu', 'sigmoid']"
   ]
  },
  {
   "cell_type": "code",
   "execution_count": 316,
   "id": "5702ce81",
   "metadata": {
    "collapsed": true
   },
   "outputs": [
    {
     "name": "stdout",
     "output_type": "stream",
     "text": [
      "Epoch 00154: early stopping\n",
      "Epoch 00133: early stopping\n",
      "Epoch 00247: early stopping\n",
      "Epoch 00315: early stopping\n",
      "Epoch 00153: early stopping\n",
      "Epoch 00106: early stopping\n",
      "Epoch 00341: early stopping\n",
      "Epoch 00387: early stopping\n",
      "Epoch 00099: early stopping\n",
      "Epoch 00102: early stopping\n",
      "Epoch 00069: early stopping\n",
      "Epoch 00052: early stopping\n",
      "Epoch 00144: early stopping\n",
      "Epoch 00189: early stopping\n",
      "Epoch 00329: early stopping\n",
      "Epoch 00271: early stopping\n",
      "Epoch 00094: early stopping\n",
      "Epoch 00087: early stopping\n",
      "Epoch 00051: early stopping\n",
      "Epoch 00224: early stopping\n",
      "Epoch 00080: early stopping\n",
      "Epoch 00088: early stopping\n",
      "Epoch 00076: early stopping\n",
      "Epoch 00041: early stopping\n",
      "Epoch 00149: early stopping\n",
      "Epoch 00097: early stopping\n",
      "Epoch 00148: early stopping\n",
      "Epoch 00307: early stopping\n",
      "Epoch 00091: early stopping\n",
      "Epoch 00072: early stopping\n",
      "Epoch 00172: early stopping\n",
      "Epoch 00049: early stopping\n",
      "Epoch 00048: early stopping\n",
      "Epoch 00098: early stopping\n",
      "Epoch 00047: early stopping\n",
      "Epoch 00046: early stopping\n"
     ]
    },
    {
     "data": {
      "text/html": [
       "<div>\n",
       "<style scoped>\n",
       "    .dataframe tbody tr th:only-of-type {\n",
       "        vertical-align: middle;\n",
       "    }\n",
       "\n",
       "    .dataframe tbody tr th {\n",
       "        vertical-align: top;\n",
       "    }\n",
       "\n",
       "    .dataframe thead th {\n",
       "        text-align: right;\n",
       "    }\n",
       "</style>\n",
       "<table border=\"1\" class=\"dataframe\">\n",
       "  <thead>\n",
       "    <tr style=\"text-align: right;\">\n",
       "      <th></th>\n",
       "      <th>layers</th>\n",
       "      <th>nodes</th>\n",
       "      <th>activationFunction</th>\n",
       "      <th>trial1</th>\n",
       "      <th>trial2</th>\n",
       "    </tr>\n",
       "  </thead>\n",
       "  <tbody>\n",
       "    <tr>\n",
       "      <th>0</th>\n",
       "      <td>2</td>\n",
       "      <td>8</td>\n",
       "      <td>relu</td>\n",
       "      <td>0.866505</td>\n",
       "      <td>0.865235</td>\n",
       "    </tr>\n",
       "    <tr>\n",
       "      <th>1</th>\n",
       "      <td>2</td>\n",
       "      <td>8</td>\n",
       "      <td>sigmoid</td>\n",
       "      <td>0.796594</td>\n",
       "      <td>0.808008</td>\n",
       "    </tr>\n",
       "    <tr>\n",
       "      <th>2</th>\n",
       "      <td>2</td>\n",
       "      <td>16</td>\n",
       "      <td>relu</td>\n",
       "      <td>0.863936</td>\n",
       "      <td>0.865586</td>\n",
       "    </tr>\n",
       "    <tr>\n",
       "      <th>3</th>\n",
       "      <td>2</td>\n",
       "      <td>16</td>\n",
       "      <td>sigmoid</td>\n",
       "      <td>0.812009</td>\n",
       "      <td>0.822646</td>\n",
       "    </tr>\n",
       "    <tr>\n",
       "      <th>4</th>\n",
       "      <td>2</td>\n",
       "      <td>32</td>\n",
       "      <td>relu</td>\n",
       "      <td>0.878700</td>\n",
       "      <td>0.879327</td>\n",
       "    </tr>\n",
       "    <tr>\n",
       "      <th>5</th>\n",
       "      <td>2</td>\n",
       "      <td>32</td>\n",
       "      <td>sigmoid</td>\n",
       "      <td>0.769521</td>\n",
       "      <td>0.775228</td>\n",
       "    </tr>\n",
       "    <tr>\n",
       "      <th>6</th>\n",
       "      <td>3</td>\n",
       "      <td>8</td>\n",
       "      <td>relu</td>\n",
       "      <td>0.861520</td>\n",
       "      <td>0.873803</td>\n",
       "    </tr>\n",
       "    <tr>\n",
       "      <th>7</th>\n",
       "      <td>3</td>\n",
       "      <td>8</td>\n",
       "      <td>sigmoid</td>\n",
       "      <td>0.804855</td>\n",
       "      <td>0.804390</td>\n",
       "    </tr>\n",
       "    <tr>\n",
       "      <th>8</th>\n",
       "      <td>3</td>\n",
       "      <td>16</td>\n",
       "      <td>relu</td>\n",
       "      <td>0.868875</td>\n",
       "      <td>0.862625</td>\n",
       "    </tr>\n",
       "    <tr>\n",
       "      <th>9</th>\n",
       "      <td>3</td>\n",
       "      <td>16</td>\n",
       "      <td>sigmoid</td>\n",
       "      <td>0.765373</td>\n",
       "      <td>0.796153</td>\n",
       "    </tr>\n",
       "    <tr>\n",
       "      <th>10</th>\n",
       "      <td>3</td>\n",
       "      <td>32</td>\n",
       "      <td>relu</td>\n",
       "      <td>0.882386</td>\n",
       "      <td>0.878244</td>\n",
       "    </tr>\n",
       "    <tr>\n",
       "      <th>11</th>\n",
       "      <td>3</td>\n",
       "      <td>32</td>\n",
       "      <td>sigmoid</td>\n",
       "      <td>0.769438</td>\n",
       "      <td>0.774858</td>\n",
       "    </tr>\n",
       "    <tr>\n",
       "      <th>12</th>\n",
       "      <td>4</td>\n",
       "      <td>8</td>\n",
       "      <td>relu</td>\n",
       "      <td>0.858673</td>\n",
       "      <td>0.852617</td>\n",
       "    </tr>\n",
       "    <tr>\n",
       "      <th>13</th>\n",
       "      <td>4</td>\n",
       "      <td>8</td>\n",
       "      <td>sigmoid</td>\n",
       "      <td>0.784452</td>\n",
       "      <td>0.806694</td>\n",
       "    </tr>\n",
       "    <tr>\n",
       "      <th>14</th>\n",
       "      <td>4</td>\n",
       "      <td>16</td>\n",
       "      <td>relu</td>\n",
       "      <td>0.883928</td>\n",
       "      <td>0.871733</td>\n",
       "    </tr>\n",
       "    <tr>\n",
       "      <th>15</th>\n",
       "      <td>4</td>\n",
       "      <td>16</td>\n",
       "      <td>sigmoid</td>\n",
       "      <td>0.788154</td>\n",
       "      <td>0.773929</td>\n",
       "    </tr>\n",
       "    <tr>\n",
       "      <th>16</th>\n",
       "      <td>4</td>\n",
       "      <td>32</td>\n",
       "      <td>relu</td>\n",
       "      <td>0.873276</td>\n",
       "      <td>0.883501</td>\n",
       "    </tr>\n",
       "    <tr>\n",
       "      <th>17</th>\n",
       "      <td>4</td>\n",
       "      <td>32</td>\n",
       "      <td>sigmoid</td>\n",
       "      <td>0.759772</td>\n",
       "      <td>0.774640</td>\n",
       "    </tr>\n",
       "  </tbody>\n",
       "</table>\n",
       "</div>"
      ],
      "text/plain": [
       "   layers nodes activationFunction    trial1    trial2\n",
       "0       2     8               relu  0.866505  0.865235\n",
       "1       2     8            sigmoid  0.796594  0.808008\n",
       "2       2    16               relu  0.863936  0.865586\n",
       "3       2    16            sigmoid  0.812009  0.822646\n",
       "4       2    32               relu  0.878700  0.879327\n",
       "5       2    32            sigmoid  0.769521  0.775228\n",
       "6       3     8               relu  0.861520  0.873803\n",
       "7       3     8            sigmoid  0.804855  0.804390\n",
       "8       3    16               relu  0.868875  0.862625\n",
       "9       3    16            sigmoid  0.765373  0.796153\n",
       "10      3    32               relu  0.882386  0.878244\n",
       "11      3    32            sigmoid  0.769438  0.774858\n",
       "12      4     8               relu  0.858673  0.852617\n",
       "13      4     8            sigmoid  0.784452  0.806694\n",
       "14      4    16               relu  0.883928  0.871733\n",
       "15      4    16            sigmoid  0.788154  0.773929\n",
       "16      4    32               relu  0.873276  0.883501\n",
       "17      4    32            sigmoid  0.759772  0.774640"
      ]
     },
     "execution_count": 316,
     "metadata": {},
     "output_type": "execute_result"
    }
   ],
   "source": [
    "df2 = pd.DataFrame(columns=['layers','nodes','activationFunction','trial1','trial2'])#,'3'])\n",
    "\n",
    "for layer in layers:\n",
    "    \n",
    "    for node in nodes:\n",
    "        \n",
    "        for func in actFuncs:\n",
    "            \n",
    "            myModel = newModel(layer, node, func)\n",
    "            results = NNTester(myModel)\n",
    "            \n",
    "            #nums = np.array([1,2,3])\n",
    "            \n",
    "            myList = [layer, node, func]\n",
    "            myList.extend(results)\n",
    "            \n",
    "            df2.loc[len(df2)]=myList\n",
    "            \n",
    "            \n",
    "df2"
   ]
  },
  {
   "cell_type": "code",
   "execution_count": 317,
   "id": "1b7a2d16",
   "metadata": {},
   "outputs": [],
   "source": [
    "resultsLong2 = pd.melt(df2,\n",
    "                        id_vars=['layers','nodes','activationFunction'],\n",
    "                        var_name='splitNumber',\n",
    "                        value_name='MSE',\n",
    "                        value_vars=['trial1', 'trial2']) \n",
    "\n",
    "#resultsLong['Optimiser'] = resultsLong['param_optimizer'].apply(lambda x: x.__name__)"
   ]
  },
  {
   "cell_type": "code",
   "execution_count": 318,
   "id": "58b89c25",
   "metadata": {
    "collapsed": true
   },
   "outputs": [
    {
     "data": {
      "text/html": [
       "<div>\n",
       "<style scoped>\n",
       "    .dataframe tbody tr th:only-of-type {\n",
       "        vertical-align: middle;\n",
       "    }\n",
       "\n",
       "    .dataframe tbody tr th {\n",
       "        vertical-align: top;\n",
       "    }\n",
       "\n",
       "    .dataframe thead th {\n",
       "        text-align: right;\n",
       "    }\n",
       "</style>\n",
       "<table border=\"1\" class=\"dataframe\">\n",
       "  <thead>\n",
       "    <tr style=\"text-align: right;\">\n",
       "      <th></th>\n",
       "      <th>layers</th>\n",
       "      <th>nodes</th>\n",
       "      <th>activationFunction</th>\n",
       "      <th>splitNumber</th>\n",
       "      <th>MSE</th>\n",
       "    </tr>\n",
       "  </thead>\n",
       "  <tbody>\n",
       "    <tr>\n",
       "      <th>0</th>\n",
       "      <td>2</td>\n",
       "      <td>8</td>\n",
       "      <td>relu</td>\n",
       "      <td>trial1</td>\n",
       "      <td>0.866505</td>\n",
       "    </tr>\n",
       "    <tr>\n",
       "      <th>1</th>\n",
       "      <td>2</td>\n",
       "      <td>8</td>\n",
       "      <td>sigmoid</td>\n",
       "      <td>trial1</td>\n",
       "      <td>0.796594</td>\n",
       "    </tr>\n",
       "    <tr>\n",
       "      <th>2</th>\n",
       "      <td>2</td>\n",
       "      <td>16</td>\n",
       "      <td>relu</td>\n",
       "      <td>trial1</td>\n",
       "      <td>0.863936</td>\n",
       "    </tr>\n",
       "    <tr>\n",
       "      <th>3</th>\n",
       "      <td>2</td>\n",
       "      <td>16</td>\n",
       "      <td>sigmoid</td>\n",
       "      <td>trial1</td>\n",
       "      <td>0.812009</td>\n",
       "    </tr>\n",
       "    <tr>\n",
       "      <th>4</th>\n",
       "      <td>2</td>\n",
       "      <td>32</td>\n",
       "      <td>relu</td>\n",
       "      <td>trial1</td>\n",
       "      <td>0.878700</td>\n",
       "    </tr>\n",
       "    <tr>\n",
       "      <th>5</th>\n",
       "      <td>2</td>\n",
       "      <td>32</td>\n",
       "      <td>sigmoid</td>\n",
       "      <td>trial1</td>\n",
       "      <td>0.769521</td>\n",
       "    </tr>\n",
       "    <tr>\n",
       "      <th>6</th>\n",
       "      <td>3</td>\n",
       "      <td>8</td>\n",
       "      <td>relu</td>\n",
       "      <td>trial1</td>\n",
       "      <td>0.861520</td>\n",
       "    </tr>\n",
       "    <tr>\n",
       "      <th>7</th>\n",
       "      <td>3</td>\n",
       "      <td>8</td>\n",
       "      <td>sigmoid</td>\n",
       "      <td>trial1</td>\n",
       "      <td>0.804855</td>\n",
       "    </tr>\n",
       "    <tr>\n",
       "      <th>8</th>\n",
       "      <td>3</td>\n",
       "      <td>16</td>\n",
       "      <td>relu</td>\n",
       "      <td>trial1</td>\n",
       "      <td>0.868875</td>\n",
       "    </tr>\n",
       "    <tr>\n",
       "      <th>9</th>\n",
       "      <td>3</td>\n",
       "      <td>16</td>\n",
       "      <td>sigmoid</td>\n",
       "      <td>trial1</td>\n",
       "      <td>0.765373</td>\n",
       "    </tr>\n",
       "    <tr>\n",
       "      <th>10</th>\n",
       "      <td>3</td>\n",
       "      <td>32</td>\n",
       "      <td>relu</td>\n",
       "      <td>trial1</td>\n",
       "      <td>0.882386</td>\n",
       "    </tr>\n",
       "    <tr>\n",
       "      <th>11</th>\n",
       "      <td>3</td>\n",
       "      <td>32</td>\n",
       "      <td>sigmoid</td>\n",
       "      <td>trial1</td>\n",
       "      <td>0.769438</td>\n",
       "    </tr>\n",
       "    <tr>\n",
       "      <th>12</th>\n",
       "      <td>4</td>\n",
       "      <td>8</td>\n",
       "      <td>relu</td>\n",
       "      <td>trial1</td>\n",
       "      <td>0.858673</td>\n",
       "    </tr>\n",
       "    <tr>\n",
       "      <th>13</th>\n",
       "      <td>4</td>\n",
       "      <td>8</td>\n",
       "      <td>sigmoid</td>\n",
       "      <td>trial1</td>\n",
       "      <td>0.784452</td>\n",
       "    </tr>\n",
       "    <tr>\n",
       "      <th>14</th>\n",
       "      <td>4</td>\n",
       "      <td>16</td>\n",
       "      <td>relu</td>\n",
       "      <td>trial1</td>\n",
       "      <td>0.883928</td>\n",
       "    </tr>\n",
       "    <tr>\n",
       "      <th>15</th>\n",
       "      <td>4</td>\n",
       "      <td>16</td>\n",
       "      <td>sigmoid</td>\n",
       "      <td>trial1</td>\n",
       "      <td>0.788154</td>\n",
       "    </tr>\n",
       "    <tr>\n",
       "      <th>16</th>\n",
       "      <td>4</td>\n",
       "      <td>32</td>\n",
       "      <td>relu</td>\n",
       "      <td>trial1</td>\n",
       "      <td>0.873276</td>\n",
       "    </tr>\n",
       "    <tr>\n",
       "      <th>17</th>\n",
       "      <td>4</td>\n",
       "      <td>32</td>\n",
       "      <td>sigmoid</td>\n",
       "      <td>trial1</td>\n",
       "      <td>0.759772</td>\n",
       "    </tr>\n",
       "    <tr>\n",
       "      <th>18</th>\n",
       "      <td>2</td>\n",
       "      <td>8</td>\n",
       "      <td>relu</td>\n",
       "      <td>trial2</td>\n",
       "      <td>0.865235</td>\n",
       "    </tr>\n",
       "    <tr>\n",
       "      <th>19</th>\n",
       "      <td>2</td>\n",
       "      <td>8</td>\n",
       "      <td>sigmoid</td>\n",
       "      <td>trial2</td>\n",
       "      <td>0.808008</td>\n",
       "    </tr>\n",
       "    <tr>\n",
       "      <th>20</th>\n",
       "      <td>2</td>\n",
       "      <td>16</td>\n",
       "      <td>relu</td>\n",
       "      <td>trial2</td>\n",
       "      <td>0.865586</td>\n",
       "    </tr>\n",
       "    <tr>\n",
       "      <th>21</th>\n",
       "      <td>2</td>\n",
       "      <td>16</td>\n",
       "      <td>sigmoid</td>\n",
       "      <td>trial2</td>\n",
       "      <td>0.822646</td>\n",
       "    </tr>\n",
       "    <tr>\n",
       "      <th>22</th>\n",
       "      <td>2</td>\n",
       "      <td>32</td>\n",
       "      <td>relu</td>\n",
       "      <td>trial2</td>\n",
       "      <td>0.879327</td>\n",
       "    </tr>\n",
       "    <tr>\n",
       "      <th>23</th>\n",
       "      <td>2</td>\n",
       "      <td>32</td>\n",
       "      <td>sigmoid</td>\n",
       "      <td>trial2</td>\n",
       "      <td>0.775228</td>\n",
       "    </tr>\n",
       "    <tr>\n",
       "      <th>24</th>\n",
       "      <td>3</td>\n",
       "      <td>8</td>\n",
       "      <td>relu</td>\n",
       "      <td>trial2</td>\n",
       "      <td>0.873803</td>\n",
       "    </tr>\n",
       "    <tr>\n",
       "      <th>25</th>\n",
       "      <td>3</td>\n",
       "      <td>8</td>\n",
       "      <td>sigmoid</td>\n",
       "      <td>trial2</td>\n",
       "      <td>0.804390</td>\n",
       "    </tr>\n",
       "    <tr>\n",
       "      <th>26</th>\n",
       "      <td>3</td>\n",
       "      <td>16</td>\n",
       "      <td>relu</td>\n",
       "      <td>trial2</td>\n",
       "      <td>0.862625</td>\n",
       "    </tr>\n",
       "    <tr>\n",
       "      <th>27</th>\n",
       "      <td>3</td>\n",
       "      <td>16</td>\n",
       "      <td>sigmoid</td>\n",
       "      <td>trial2</td>\n",
       "      <td>0.796153</td>\n",
       "    </tr>\n",
       "    <tr>\n",
       "      <th>28</th>\n",
       "      <td>3</td>\n",
       "      <td>32</td>\n",
       "      <td>relu</td>\n",
       "      <td>trial2</td>\n",
       "      <td>0.878244</td>\n",
       "    </tr>\n",
       "    <tr>\n",
       "      <th>29</th>\n",
       "      <td>3</td>\n",
       "      <td>32</td>\n",
       "      <td>sigmoid</td>\n",
       "      <td>trial2</td>\n",
       "      <td>0.774858</td>\n",
       "    </tr>\n",
       "    <tr>\n",
       "      <th>30</th>\n",
       "      <td>4</td>\n",
       "      <td>8</td>\n",
       "      <td>relu</td>\n",
       "      <td>trial2</td>\n",
       "      <td>0.852617</td>\n",
       "    </tr>\n",
       "    <tr>\n",
       "      <th>31</th>\n",
       "      <td>4</td>\n",
       "      <td>8</td>\n",
       "      <td>sigmoid</td>\n",
       "      <td>trial2</td>\n",
       "      <td>0.806694</td>\n",
       "    </tr>\n",
       "    <tr>\n",
       "      <th>32</th>\n",
       "      <td>4</td>\n",
       "      <td>16</td>\n",
       "      <td>relu</td>\n",
       "      <td>trial2</td>\n",
       "      <td>0.871733</td>\n",
       "    </tr>\n",
       "    <tr>\n",
       "      <th>33</th>\n",
       "      <td>4</td>\n",
       "      <td>16</td>\n",
       "      <td>sigmoid</td>\n",
       "      <td>trial2</td>\n",
       "      <td>0.773929</td>\n",
       "    </tr>\n",
       "    <tr>\n",
       "      <th>34</th>\n",
       "      <td>4</td>\n",
       "      <td>32</td>\n",
       "      <td>relu</td>\n",
       "      <td>trial2</td>\n",
       "      <td>0.883501</td>\n",
       "    </tr>\n",
       "    <tr>\n",
       "      <th>35</th>\n",
       "      <td>4</td>\n",
       "      <td>32</td>\n",
       "      <td>sigmoid</td>\n",
       "      <td>trial2</td>\n",
       "      <td>0.774640</td>\n",
       "    </tr>\n",
       "  </tbody>\n",
       "</table>\n",
       "</div>"
      ],
      "text/plain": [
       "   layers nodes activationFunction splitNumber       MSE\n",
       "0       2     8               relu      trial1  0.866505\n",
       "1       2     8            sigmoid      trial1  0.796594\n",
       "2       2    16               relu      trial1  0.863936\n",
       "3       2    16            sigmoid      trial1  0.812009\n",
       "4       2    32               relu      trial1  0.878700\n",
       "5       2    32            sigmoid      trial1  0.769521\n",
       "6       3     8               relu      trial1  0.861520\n",
       "7       3     8            sigmoid      trial1  0.804855\n",
       "8       3    16               relu      trial1  0.868875\n",
       "9       3    16            sigmoid      trial1  0.765373\n",
       "10      3    32               relu      trial1  0.882386\n",
       "11      3    32            sigmoid      trial1  0.769438\n",
       "12      4     8               relu      trial1  0.858673\n",
       "13      4     8            sigmoid      trial1  0.784452\n",
       "14      4    16               relu      trial1  0.883928\n",
       "15      4    16            sigmoid      trial1  0.788154\n",
       "16      4    32               relu      trial1  0.873276\n",
       "17      4    32            sigmoid      trial1  0.759772\n",
       "18      2     8               relu      trial2  0.865235\n",
       "19      2     8            sigmoid      trial2  0.808008\n",
       "20      2    16               relu      trial2  0.865586\n",
       "21      2    16            sigmoid      trial2  0.822646\n",
       "22      2    32               relu      trial2  0.879327\n",
       "23      2    32            sigmoid      trial2  0.775228\n",
       "24      3     8               relu      trial2  0.873803\n",
       "25      3     8            sigmoid      trial2  0.804390\n",
       "26      3    16               relu      trial2  0.862625\n",
       "27      3    16            sigmoid      trial2  0.796153\n",
       "28      3    32               relu      trial2  0.878244\n",
       "29      3    32            sigmoid      trial2  0.774858\n",
       "30      4     8               relu      trial2  0.852617\n",
       "31      4     8            sigmoid      trial2  0.806694\n",
       "32      4    16               relu      trial2  0.871733\n",
       "33      4    16            sigmoid      trial2  0.773929\n",
       "34      4    32               relu      trial2  0.883501\n",
       "35      4    32            sigmoid      trial2  0.774640"
      ]
     },
     "execution_count": 318,
     "metadata": {},
     "output_type": "execute_result"
    }
   ],
   "source": [
    "resultsLong2"
   ]
  },
  {
   "cell_type": "code",
   "execution_count": 321,
   "id": "cf49e059",
   "metadata": {},
   "outputs": [
    {
     "data": {
      "text/plain": [
       "[None]"
      ]
     },
     "execution_count": 321,
     "metadata": {},
     "output_type": "execute_result"
    },
    {
     "data": {
      "image/png": "[encoded data removed]",
      "text/plain": [
       "<Figure size 432x432 with 1 Axes>"
      ]
     },
     "metadata": {
      "needs_background": "light"
     },
     "output_type": "display_data"
    }
   ],
   "source": [
    "fig, ax = plt.subplots(figsize=(6,6))\n",
    "\n",
    "sns.lineplot(ax=ax,\n",
    "             data=resultsLong2,\n",
    "             x='nodes',\n",
    "             y='MSE',\n",
    "             hue='layers',\n",
    "             style='activationFunction',\n",
    "             palette='tab10',\n",
    "             \n",
    "             #y\n",
    "            )\n",
    "ax.legend()\n",
    "ax.set_xlabel('nodes')\n",
    "ax.set_ylabel('MSE')\n",
    "\n",
    "ax.set(xscale=\"log\")#, yscale=\"log\")"
   ]
  },
  {
   "cell_type": "markdown",
   "id": "46ff96f6",
   "metadata": {},
   "source": [
    "https://machinelearningmastery.com/how-to-stop-training-deep-neural-networks-at-the-right-time-using-early-stopping/"
   ]
  },
  {
   "cell_type": "markdown",
   "id": "4a76a397",
   "metadata": {},
   "source": [
    "#### Test Best Model"
   ]
  },
  {
   "cell_type": "code",
   "execution_count": 322,
   "id": "ae6165a5",
   "metadata": {},
   "outputs": [],
   "source": [
    "best = newModel(4, 32, 'sigmoid')"
   ]
  },
  {
   "cell_type": "code",
   "execution_count": 329,
   "id": "144a8f61",
   "metadata": {},
   "outputs": [
    {
     "name": "stdout",
     "output_type": "stream",
     "text": [
      "Epoch 00080: early stopping\n"
     ]
    }
   ],
   "source": [
    "es = EarlyStopping(monitor='loss', mode='min', verbose=1, patience=5)\n",
    "\n",
    "historyBest = best.fit(X_trainLoss,\n",
    "                    y_trainLoss,\n",
    "                    validation_data=(X_validateLoss,\n",
    "                                     y_validateLoss),\n",
    "                    epochs=1000,\n",
    "                    batch_size=64,\n",
    "                    verbose=0,\n",
    "                        callbacks=[es]\n",
    "                   )"
   ]
  },
  {
   "cell_type": "code",
   "execution_count": 331,
   "id": "0a971576",
   "metadata": {
    "scrolled": false
   },
   "outputs": [
    {
     "data": {
      "text/plain": [
       "(0.0, 0.5)"
      ]
     },
     "execution_count": 331,
     "metadata": {},
     "output_type": "execute_result"
    },
    {
     "data": {
      "image/png": "[encoded data removed]",
      "text/plain": [
       "<Figure size 432x432 with 1 Axes>"
      ]
     },
     "metadata": {
      "needs_background": "light"
     },
     "output_type": "display_data"
    }
   ],
   "source": [
    "fig, ax =plt.subplots(figsize=(6,6))\n",
    "\n",
    "ax.plot(historyBest.history['loss'], label='train')\n",
    "ax.plot(historyBest.history['val_loss'], label='validate')\n",
    "\n",
    "ax.set_ylim([0, 0.5])"
   ]
  },
  {
   "cell_type": "code",
   "execution_count": 332,
   "id": "1c666373",
   "metadata": {},
   "outputs": [],
   "source": [
    "bestPred = best.predict(X_test)"
   ]
  },
  {
   "cell_type": "code",
   "execution_count": 333,
   "id": "632e0427",
   "metadata": {},
   "outputs": [
    {
     "data": {
      "text/plain": [
       "array([[-1.0926963 ],\n",
       "       [-0.13992654],\n",
       "       [ 0.14557756],\n",
       "       ...,\n",
       "       [-0.48154464],\n",
       "       [-1.0562218 ],\n",
       "       [-0.12411742]], dtype=float32)"
      ]
     },
     "execution_count": 333,
     "metadata": {},
     "output_type": "execute_result"
    }
   ],
   "source": [
    "bestPred"
   ]
  },
  {
   "cell_type": "code",
   "execution_count": 335,
   "id": "a0b3a1a0",
   "metadata": {},
   "outputs": [
    {
     "data": {
      "text/plain": [
       "array([277000., 364500., 471000., ..., 345000., 305000., 450000.])"
      ]
     },
     "execution_count": 335,
     "metadata": {},
     "output_type": "execute_result"
    }
   ],
   "source": [
    "y_test"
   ]
  },
  {
   "cell_type": "code",
   "execution_count": 336,
   "id": "049e45d3",
   "metadata": {},
   "outputs": [
    {
     "data": {
      "text/plain": [
       "array([260594.86, 430821.78, 500867.  , ..., 359761.16, 265658.88,\n",
       "       434430.6 ], dtype=float32)"
      ]
     },
     "execution_count": 336,
     "metadata": {},
     "output_type": "execute_result"
    }
   ],
   "source": [
    "bestPredPlot = invert(bestPred)\n",
    "#yTestPlot = invert(y_)\n",
    "\n",
    "bestPredPlot"
   ]
  },
  {
   "cell_type": "code",
   "execution_count": 337,
   "id": "ac4ae937",
   "metadata": {
    "scrolled": false
   },
   "outputs": [
    {
     "data": {
      "text/plain": [
       "Text(0, 0.5, 'Prediction')"
      ]
     },
     "execution_count": 337,
     "metadata": {},
     "output_type": "execute_result"
    },
    {
     "data": {
      "image/png": "[encoded data removed]",
      "text/plain": [
       "<Figure size 432x432 with 1 Axes>"
      ]
     },
     "metadata": {
      "needs_background": "light"
     },
     "output_type": "display_data"
    }
   ],
   "source": [
    "fig, ax = plt.subplots(figsize=(6,6))\n",
    "\n",
    "ax = sns.regplot(x=y_test,\n",
    "                 y=bestPredPlot,\n",
    "                 scatter_kws={'s':8,\n",
    "                              'alpha':0.5},                \n",
    "               )\n",
    "\n",
    "ax.set(xscale=\"log\", yscale=\"log\")\n",
    "\n",
    "xpoints = ypoints = ax.get_xlim()\n",
    "ax.plot(xpoints, ypoints, linestyle='--', color='k', lw=1)#, scalex=False, scaley=False)\n",
    "\n",
    "#ax = sns.lineplot(x=[0,1], y=[0,1])#, transform=ax.transAxes)\n",
    "\n",
    "#ax.axis('equal')\n",
    "\n",
    "ax.set_xlabel('Target')\n",
    "ax.set_ylabel('Prediction')"
   ]
  },
  {
   "cell_type": "code",
   "execution_count": 338,
   "id": "a6bc3c58",
   "metadata": {},
   "outputs": [
    {
     "data": {
      "text/plain": [
       "138696.5957849268"
      ]
     },
     "execution_count": 338,
     "metadata": {},
     "output_type": "execute_result"
    }
   ],
   "source": [
    "mean_squared_error(y_test, bestPredPlot, squared=False) "
   ]
  }
 ],
 "metadata": {
  "kernelspec": {
   "display_name": "Python 3 (ipykernel)",
   "language": "python",
   "name": "python3"
  },
  "language_info": {
   "codemirror_mode": {
    "name": "ipython",
    "version": 3
   },
   "file_extension": ".py",
   "mimetype": "text/x-python",
   "name": "python",
   "nbconvert_exporter": "python",
   "pygments_lexer": "ipython3",
   "version": "3.7.9"
  }
 },
 "nbformat": 4,
 "nbformat_minor": 5
}
