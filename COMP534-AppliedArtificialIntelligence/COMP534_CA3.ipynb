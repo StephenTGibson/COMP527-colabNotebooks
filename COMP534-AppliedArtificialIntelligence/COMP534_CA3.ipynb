{
  "cells": [
    {
      "cell_type": "markdown",
      "metadata": {
        "id": "view-in-github",
        "colab_type": "text"
      },
      "source": [
        "<a href=\"https://colab.research.google.com/github/StephenTGibson/MScDataSci_21-22/blob/main/COMP534-AppliedArtificialIntelligence/COMP534_CA3.ipynb\" target=\"_parent\"><img src=\"https://colab.research.google.com/assets/colab-badge.svg\" alt=\"Open In Colab\"/></a>"
      ]
    },
    {
      "cell_type": "markdown",
      "metadata": {
        "id": "rqP6Eo01wCmh"
      },
      "source": [
        "# COMP 534 - Applied Artificial Intelligence\n",
        "## CA3 - Image Classification with Convolutional Neural Networks\n",
        "This notebook was produced as a deliverable for a group project for the above module, as part of the 2021-2022 Data Science and Artificial Intelligence MSc course at the University of Liverpool.\n",
        "\n",
        "It comprises a performance analysis of two pre-trained CNNs. A new model is proposed to improve performance. The analysis is based on a multiclass classification problem using a dataset consisting of X-ray images of patients who are either healthy, diagnosed with covid-19, or diagnosed with pneumonia.\n",
        "### Preparation\n",
        "Import required libraries"
      ]
    },
    {
      "cell_type": "code",
      "execution_count": 6,
      "metadata": {
        "id": "MkOx8MWpfwv4",
        "colab": {
          "base_uri": "https://localhost:8080/"
        },
        "outputId": "2615cfe4-08d9-44fe-b847-7b84a52f93f3"
      },
      "outputs": [
        {
          "output_type": "execute_result",
          "data": {
            "text/plain": [
              "device(type='cuda', index=0)"
            ]
          },
          "metadata": {},
          "execution_count": 6
        }
      ],
      "source": [
        "# file handling\n",
        "import os\n",
        "import shutil\n",
        "# matrix manipulation and data handling\n",
        "import numpy as np\n",
        "import pandas as pd\n",
        "# creating plots\n",
        "import matplotlib.pyplot as plt\n",
        "from matplotlib.ticker import FormatStrFormatter\n",
        "import seaborn as sns\n",
        "# monitoring training progress\n",
        "from time import perf_counter\n",
        "# pytorch library and utilities\n",
        "import torch\n",
        "from torch import nn\n",
        "from torchvision.datasets import ImageFolder\n",
        "from torch.utils.data import DataLoader\n",
        "from torchvision import transforms\n",
        "# set random seeds for reproducibility\n",
        "np.random.seed(123)\n",
        "torch.manual_seed(321)\n",
        "# sklearn evaluation utilities\n",
        "from sklearn.metrics import confusion_matrix, ConfusionMatrixDisplay\n",
        "from sklearn.metrics import accuracy_score\n",
        "from sklearn.metrics import precision_score\n",
        "from sklearn.metrics import recall_score\n",
        "from sklearn.metrics import f1_score\n",
        "# use colab gpu if enabled via runtime menu\n",
        "device = torch.device('cuda:0' if torch.cuda.is_available() else 'cpu')\n",
        "device"
      ]
    },
    {
      "cell_type": "markdown",
      "metadata": {
        "id": "dBJZUj5Fs9kZ"
      },
      "source": [
        "### Load dataset\n",
        "Dataset downloadable from kaggle here:  \n",
        "https://www.kaggle.com/datasets/prashant268/chest-xray-covid19-pneumonia - last accessed on 06/05/22\n",
        "\n",
        "A cleaned version of the dataset was produced and can be found here:  \n",
        "https://www.kaggle.com/datasets/yazanqasem/assignment - last accessed on 09/05/22\n",
        "\n",
        "Load directly from kaggle to notebook. Note, for this to run you need to have your own kaggle API access token stored in the root directory of your Google Drive"
      ]
    },
    {
      "cell_type": "code",
      "execution_count": 1,
      "metadata": {
        "colab": {
          "base_uri": "https://localhost:8080/"
        },
        "collapsed": true,
        "id": "LYLr2zEpp4N1",
        "outputId": "2f53c804-21fe-42f9-a66a-7b9dae61ab79"
      },
      "outputs": [
        {
          "output_type": "stream",
          "name": "stdout",
          "text": [
            "Mounted at /content/drive\n",
            "Downloading assignment.zip to /content\n",
            "100% 2.01G/2.02G [00:54<00:00, 47.0MB/s]\n",
            "100% 2.02G/2.02G [00:54<00:00, 39.5MB/s]\n"
          ]
        }
      ],
      "source": [
        "# mount googledrive\n",
        "from google.colab import drive\n",
        "drive.mount('/content/drive')\n",
        "!pip install kaggle > /dev/null\n",
        "!mkdir ~/.kaggle\n",
        "# copy kaggle access token from googledrive\n",
        "!cp /content/drive/MyDrive/kaggle.json ~/.kaggle/kaggle.json\n",
        "!chmod 600 ~/.kaggle/kaggle.json\n",
        "# download and unzip dataset\n",
        "!kaggle datasets download yazanqasem/assignment\n",
        "!unzip /content/assignment.zip > /dev/null"
      ]
    },
    {
      "cell_type": "markdown",
      "metadata": {
        "id": "440ODCYMSWDY"
      },
      "source": [
        "### Create validation split\n",
        "A validation split will be taken from the training data to monitor training performance. Due to the class imbalance, the split will be stratified to maintain the same imbalance across the validation set. The train and test sets already have a constant class imbalance."
      ]
    },
    {
      "cell_type": "code",
      "execution_count": 2,
      "metadata": {
        "id": "3V09d3ldSUww"
      },
      "outputs": [],
      "source": [
        "# define proportion of training data to be used in validation split\n",
        "validSplit = 0.2"
      ]
    },
    {
      "cell_type": "code",
      "execution_count": 3,
      "metadata": {
        "id": "NjllTONZSzDv"
      },
      "outputs": [],
      "source": [
        "# create folders for validation data\n",
        "!mkdir /content/Data/valid\n",
        "!mkdir /content/Data/valid/COVID19/\n",
        "!mkdir /content/Data/valid/NORMAL/\n",
        "!mkdir /content/Data/valid/PNEUMONIA/"
      ]
    },
    {
      "cell_type": "code",
      "execution_count": 4,
      "metadata": {
        "id": "vpN4lPVzFTTg"
      },
      "outputs": [],
      "source": [
        "# create variables for folder path of each data split\n",
        "trainFolder = '/content/Data/train/'\n",
        "validFolder = '/content/Data/valid/'\n",
        "testFolder = '/content/Data/test/'"
      ]
    },
    {
      "cell_type": "code",
      "execution_count": 7,
      "metadata": {
        "id": "Ty5mbEbKUbbI"
      },
      "outputs": [],
      "source": [
        "# loop over class folders in training folder\n",
        "for classFolder in os.listdir(trainFolder):    \n",
        "    # count number of images\n",
        "    imgCount = len(os.listdir(trainFolder+classFolder))\n",
        "    # create 1d array where each element corresponds to the index of image in current folder\n",
        "    imgIdxArray = np.array(range(imgCount))\n",
        "    # randomly select validation split proportion of indices\n",
        "    selectIdxArray = np.random.choice(imgIdxArray, int(imgCount*validSplit), replace=False)\n",
        "    # loop over images in folder\n",
        "    for i, imgName in enumerate(os.listdir(trainFolder+classFolder)):\n",
        "        # if image index has been selected, move to validation folder\n",
        "        if i in selectIdxArray:\n",
        "            source = trainFolder+classFolder+'/'+imgName\n",
        "            destination = validFolder+classFolder+'/'+imgName\n",
        "            shutil.move(source, destination)"
      ]
    },
    {
      "cell_type": "markdown",
      "metadata": {
        "id": "gWeKi72qIWwn"
      },
      "source": [
        "Confirm contents of each folder with added validation split"
      ]
    },
    {
      "cell_type": "code",
      "execution_count": 8,
      "metadata": {
        "colab": {
          "base_uri": "https://localhost:8080/"
        },
        "id": "1KZgAc5ZQYUr",
        "outputId": "ea984b92-88c7-4dec-d5bf-14026f51f9eb"
      },
      "outputs": [
        {
          "output_type": "stream",
          "name": "stdout",
          "text": [
            "test split contains 1269 images\n",
            "NORMAL class: 25.0%\n",
            "COVID19 class: 8.9%\n",
            "PNEUMONIA class: 66.1%\n",
            "\n",
            "valid split contains 1008 images\n",
            "NORMAL class: 25.0%\n",
            "COVID19 class: 8.4%\n",
            "PNEUMONIA class: 66.6%\n",
            "\n",
            "train split contains 4040 images\n",
            "NORMAL class: 25.0%\n",
            "COVID19 class: 8.5%\n",
            "PNEUMONIA class: 66.5%\n",
            "\n"
          ]
        }
      ],
      "source": [
        "dir = '/content/Data'\n",
        "# loop over folders\n",
        "for folderSplit in os.listdir(dir):\n",
        "    # initialise dict to count each class within splits\n",
        "    folderDict = {}\n",
        "    # variable to count total images in current split\n",
        "    splitCount = 0\n",
        "    filePath1 = dir +'/'+ folderSplit\n",
        "    # loop over next level folders\n",
        "    for folderClass in os.listdir(filePath1):\n",
        "        filePath2 = filePath1 +'/'+ folderClass\n",
        "        # count images current folder\n",
        "        count = len(os.listdir(filePath2))\n",
        "        # increment split count\n",
        "        splitCount += count\n",
        "        # store class count\n",
        "        folderDict[folderClass] = count\n",
        "    # print summary of counts\n",
        "    print(f'{folderSplit} split contains {splitCount} images')\n",
        "    for item in folderDict.items():        \n",
        "        print(f'{item[0]} class: {(100 * item[1] / splitCount):.1f}%')\n",
        "    print('')"
      ]
    },
    {
      "cell_type": "markdown",
      "source": [
        "There is a class imbalance across the dataset. The imbalance is constant across each split. A class weights vector is defined in order to account for this imbalance."
      ],
      "metadata": {
        "id": "WeJaxSdVyydw"
      }
    },
    {
      "cell_type": "code",
      "source": [
        "# calculate class weights vector using validation split counts (imbalance is constant across splits)\n",
        "classWeights = torch.Tensor([[(splitCount / (len(folderDict) * classCount)) for classCount in folderDict.values()]])\n",
        "classWeights = nn.functional.normalize(classWeights)\n",
        "classWeights = classWeights.reshape(3)\n",
        "classWeights = classWeights.to(device)"
      ],
      "metadata": {
        "id": "12lrpZDxxXDo"
      },
      "execution_count": 9,
      "outputs": []
    },
    {
      "cell_type": "markdown",
      "metadata": {
        "id": "q4YWUpzUNyXd"
      },
      "source": [
        "### Pre-processing\n",
        "All pytorch pretrained models expect the same model input. A series of transforms will be applied to ensure the input tensors are in the correct form."
      ]
    },
    {
      "cell_type": "code",
      "execution_count": 10,
      "metadata": {
        "id": "3PKHKYA6OOxm"
      },
      "outputs": [],
      "source": [
        "# create transforms for use with pretrained models\n",
        "transformsPretrained = transforms.Compose([\n",
        "                                        # pretrained models require 3 channel input (R=G=B in this case)\n",
        "                                        transforms.Grayscale(num_output_channels=3),\n",
        "                                        transforms.Resize(256),\n",
        "                                        transforms.CenterCrop(224),\n",
        "                                        transforms.ToTensor(),\n",
        "                                        transforms.Normalize(\n",
        "                                            mean=[0.485, 0.456, 0.406],\n",
        "                                            std=[0.229, 0.224, 0.225])\n",
        "                                        ])"
      ]
    },
    {
      "cell_type": "markdown",
      "metadata": {
        "id": "haH7L-__TvqK"
      },
      "source": [
        "### Create dataloaders\n",
        "Pytorch dataloaders provide an effective method to feed data"
      ]
    },
    {
      "cell_type": "code",
      "execution_count": 11,
      "metadata": {
        "id": "NZjvPrmbfQ2A"
      },
      "outputs": [],
      "source": [
        "# define batch size\n",
        "batchSize = 64"
      ]
    },
    {
      "cell_type": "code",
      "execution_count": 12,
      "metadata": {
        "id": "EN0PVRPgRzmM"
      },
      "outputs": [],
      "source": [
        "# create image folder objects for each split and apply preprocessing transforms\n",
        "trainData = ImageFolder(\n",
        "    root=trainFolder,\n",
        "    transform=transformsPretrained\n",
        "    )\n",
        "\n",
        "validData = ImageFolder(\n",
        "    root=validFolder,\n",
        "    transform=transformsPretrained\n",
        "    )\n",
        "\n",
        "testData = ImageFolder(\n",
        "    root=testFolder,\n",
        "    transform=transformsPretrained\n",
        "    )"
      ]
    },
    {
      "cell_type": "code",
      "execution_count": 13,
      "metadata": {
        "id": "LZPuEYd4n9GP"
      },
      "outputs": [],
      "source": [
        "# create data loader objects for each split, only shuffle training split\n",
        "trainDataLoader = DataLoader(\n",
        "    trainData,\n",
        "    batch_size=batchSize,    \n",
        "    shuffle=True\n",
        "    )\n",
        "\n",
        "validDataLoader = DataLoader(\n",
        "    validData,\n",
        "    batch_size=batchSize,\n",
        "    shuffle=False\n",
        "    )\n",
        "\n",
        "testDataLoader = DataLoader(\n",
        "    testData,\n",
        "    batch_size=batchSize,\n",
        "    shuffle=False\n",
        "    )"
      ]
    },
    {
      "cell_type": "code",
      "execution_count": 14,
      "metadata": {
        "id": "Qr0oUuMW2GpP"
      },
      "outputs": [],
      "source": [
        "# store class label mapping\n",
        "labelMap = trainData.class_to_idx"
      ]
    },
    {
      "cell_type": "markdown",
      "metadata": {
        "id": "t22do2W4PsFB"
      },
      "source": [
        "### Training\n",
        "To set up the training process a number of parameters are defined."
      ]
    },
    {
      "cell_type": "code",
      "execution_count": 15,
      "metadata": {
        "id": "8cyoSfQqPx48"
      },
      "outputs": [],
      "source": [
        "# store count of number of classes\n",
        "numClasses = len(labelMap)\n",
        "# calculate steps per epoch for training and validation splits\n",
        "trainStepsEpoch = (len(trainData) // batchSize) + 1\n",
        "validStepsEpoch = (len(validData) // batchSize) + 1\n",
        "# define learning rate\n",
        "lr = 0.001\n",
        "# define loss function\n",
        "lossFunction = nn.CrossEntropyLoss(weight=classWeights)"
      ]
    },
    {
      "cell_type": "markdown",
      "metadata": {
        "id": "i-eq5twUTHOf"
      },
      "source": [
        "A training function is defined for use with the pretrained models."
      ]
    },
    {
      "cell_type": "code",
      "execution_count": 16,
      "metadata": {
        "id": "sSUhNdvJS94j"
      },
      "outputs": [],
      "source": [
        "def trainer(model, epochs):\n",
        "    # dictionary to store training evaluation\n",
        "    history = {\n",
        "        'trainLoss': [],\n",
        "        'validLoss': [],\n",
        "        'trainAccuracy': [],\n",
        "        'validAccuracy': []\n",
        "        }\n",
        "    # iterate over training epochs\n",
        "    for epoch in range(epochs):\n",
        "        # start timer for progress monitoring\n",
        "        startTime = perf_counter()\n",
        "        # put model into training mode\n",
        "        model.train()\n",
        "        # initialise epoch evaluation metrics\n",
        "        epochTrainLoss = 0\n",
        "        epochValidLoss = 0\n",
        "        epochTrainCorrect = 0\n",
        "        epochValidCorrect = 0\n",
        "        # iterate over train data batches\n",
        "        for idx, (X, label) in enumerate(trainDataLoader):\n",
        "            # send to gpu if available\n",
        "            (X, label) = (X.to(device), label.to(device))\n",
        "            # batch training cycle\n",
        "            optimiser.zero_grad()\n",
        "            prediction = model(X)\n",
        "            loss = lossFunction(prediction, label)\n",
        "            loss.backward()\n",
        "            optimiser.step()           \n",
        "            # increment current epoch loss and count of correct classifications\n",
        "            epochTrainLoss += loss\n",
        "            epochTrainCorrect += (prediction.argmax(1) == label).type(torch.float).sum().item()\n",
        "            # for code development purposes only\n",
        "            # if idx == 0:\n",
        "            #     break\n",
        "        # validation\n",
        "        # disable gradient calculation\n",
        "        with torch.no_grad():\n",
        "            # put model in evaluation mode\n",
        "            model.eval()\n",
        "            # loop over validation data batches\n",
        "            for idx, (X, label) in enumerate(validDataLoader):\n",
        "                # send to gpu if available\n",
        "                (X, label) = (X.to(device), label.to(device))\n",
        "                # make the predictions\n",
        "                prediction = model(X)\n",
        "                # increment current epoch loss and count of correct classifications\n",
        "                epochValidLoss += lossFunction(prediction, label)\n",
        "                epochValidCorrect += (prediction.argmax(1) == label).type(torch.float).sum().item()\n",
        "                # for code development purposes only\n",
        "                # if idx == 0:\n",
        "                #     break\n",
        "        # calculate mean training and validation losses for epoch\n",
        "        meanEpochTrainLoss = epochTrainLoss / trainStepsEpoch\n",
        "        meanEpochValidLoss = epochValidLoss / validStepsEpoch\n",
        "        # calculate training and validation accuracies for epoch\n",
        "        trainEpochAccuracy =  100 * epochTrainCorrect / len(trainData)\n",
        "        validEpochAccuracy = 100 * epochValidCorrect / len(validData)\n",
        "        # store training history\n",
        "        history['trainLoss'].append(meanEpochTrainLoss.cpu().detach().numpy().item())\n",
        "        history['validLoss'].append(meanEpochValidLoss.cpu().detach().numpy().item())\n",
        "        history['trainAccuracy'].append(trainEpochAccuracy)\n",
        "        history['validAccuracy'].append(validEpochAccuracy)\n",
        "        # end epoch timer\n",
        "        endTime = perf_counter()\n",
        "        # print summary of epoch\n",
        "        print(f'Epoch: {epoch+1}. Time taken: {int((endTime-startTime)//60)}mins{int((endTime-startTime)%60)}s')\n",
        "        print(f'Training loss: {meanEpochTrainLoss:.2f} --- Validation loss: {meanEpochValidLoss:.2f} --- Training accuracy: {trainEpochAccuracy:.2f}% --- Validation accuracy: {validEpochAccuracy:.2f}%')\n",
        "    return history"
      ]
    },
    {
      "cell_type": "markdown",
      "source": [
        "### Testing\n",
        "A tester function is defined in order to evaluate model performance."
      ],
      "metadata": {
        "id": "m6A41U_F5Bau"
      }
    },
    {
      "cell_type": "code",
      "source": [
        "def tester(model):\n",
        "    # initialise array to hold results\n",
        "    resultsArray = np.zeros((len(testData), 2))\n",
        "    # disable gradient calculation\n",
        "    with torch.no_grad():\n",
        "        # put model in evaluation mode\n",
        "        model.eval()\n",
        "        # loop over the validation data batches\n",
        "        for idx, (X, label) in enumerate(testDataLoader):\n",
        "            # send input to gpu if available\n",
        "            (X, label) = (X.to(device), label.to(device))\n",
        "            # make predictions on inputs\n",
        "            prediction = model(X)\n",
        "            # store batch predictions and true labels in numpy array\n",
        "            predictionNp = prediction.argmax(1).cpu().detach().numpy()\n",
        "            labelNp = label.cpu().detach().numpy()\n",
        "            # get start and end of current batch indices\n",
        "            start = idx * batchSize\n",
        "            end = (idx+1) * batchSize\n",
        "            # store in results array\n",
        "            resultsArray[start:end, 0] = labelNp.copy()\n",
        "            resultsArray[start:end, 1] = predictionNp.copy()\n",
        "            # for code development purposes only\n",
        "            # if idx == 3:\n",
        "            #     break\n",
        "    return resultsArray"
      ],
      "metadata": {
        "id": "Y-pbB4bZ5AN-"
      },
      "execution_count": 17,
      "outputs": []
    },
    {
      "cell_type": "markdown",
      "source": [
        "### Evaluation"
      ],
      "metadata": {
        "id": "NOe0xzzeJSWI"
      }
    },
    {
      "cell_type": "code",
      "source": [
        "# initialise dataframe to store metrics for each model\n",
        "evaluationDf = pd.DataFrame(columns=['Model', 'Accuracy', 'Precision', 'Recall', 'F-Score'])\n",
        "# function to add compute metrics from results\n",
        "def evaluationMetrics(modelName, resultsArray):\n",
        "    return {\n",
        "        'Model': modelName,\n",
        "        'Accuracy': accuracy_score(resultsArray[:,0], resultsArray[:,1]),\n",
        "        'Precision': precision_score(resultsArray[:,0], resultsArray[:,1], average='weighted'),\n",
        "        'Recall': recall_score(resultsArray[:,0], resultsArray[:,1], average='weighted'),        \n",
        "        'F-Score': f1_score(resultsArray[:,0], resultsArray[:,1], average='weighted')\n",
        "    }"
      ],
      "metadata": {
        "id": "dDdHK2OYJPj5"
      },
      "execution_count": 18,
      "outputs": []
    },
    {
      "cell_type": "markdown",
      "metadata": {
        "id": "0WU8c64mPpIJ"
      },
      "source": [
        "### VGG11 pretrained model"
      ]
    },
    {
      "cell_type": "code",
      "execution_count": 19,
      "metadata": {
        "colab": {
          "base_uri": "https://localhost:8080/",
          "height": 104,
          "referenced_widgets": [
            "132480a9f6a04b758a2308ac4a65d875",
            "07a1eba3b8a245e3b40729d34df87243",
            "e2cd060107a14d92b82d5a0d181ae7b7",
            "8eb602d4b9bf433e977f2d1d71b76b88",
            "46aef5d245c3415fa2a0aa717d688ca2",
            "4576ba91a3cf441d9d83b69313dfdcb6",
            "459b889f48ff462c8c1d4c7c48598435",
            "b5fd5a31aea44126961f79d61d9592d5",
            "f216329900394e9c8d5cd78c7bf9db9b",
            "95deabfb6231496091b38a1383d10361",
            "e85c9eb4fa77481d81ae667a63ddbc7d"
          ]
        },
        "id": "b8qIXAFhnhlu",
        "outputId": "1c1e7c2a-4ad2-4ac2-84dd-e988ab28e679"
      },
      "outputs": [
        {
          "output_type": "stream",
          "name": "stderr",
          "text": [
            "Downloading: \"https://github.com/pytorch/vision/archive/v0.10.0.zip\" to /root/.cache/torch/hub/v0.10.0.zip\n",
            "Downloading: \"https://download.pytorch.org/models/vgg11-8a719046.pth\" to /root/.cache/torch/hub/checkpoints/vgg11-8a719046.pth\n"
          ]
        },
        {
          "output_type": "display_data",
          "data": {
            "text/plain": [
              "  0%|          | 0.00/507M [00:00<?, ?B/s]"
            ],
            "application/vnd.jupyter.widget-view+json": {
              "version_major": 2,
              "version_minor": 0,
              "model_id": "132480a9f6a04b758a2308ac4a65d875"
            }
          },
          "metadata": {}
        }
      ],
      "source": [
        "# load pretrained vgg11 model\n",
        "vgg11 = torch.hub.load('pytorch/vision:v0.10.0', 'vgg11', pretrained=True)\n",
        "# set all parameters to be fixed\n",
        "for parameter in vgg11.parameters():\n",
        "\tparameter.requires_grad = False\n",
        "# modify last layer to have required number of outputs\n",
        "vgg11.classifier[-1] = nn.Linear(vgg11.classifier[-1].in_features, numClasses)\n",
        "# send model to gpu if available\n",
        "vgg11 = vgg11.to(device)\n",
        "# initialise optimiser for training the output layer weights only\n",
        "optimiser = torch.optim.Adam(vgg11.classifier[-1].parameters(), lr=lr)"
      ]
    },
    {
      "cell_type": "markdown",
      "source": [
        "Training"
      ],
      "metadata": {
        "id": "n3FHyDO05vdO"
      }
    },
    {
      "cell_type": "code",
      "execution_count": 20,
      "metadata": {
        "colab": {
          "base_uri": "https://localhost:8080/"
        },
        "id": "WxotfQsHohOS",
        "outputId": "b54d0b26-6065-449e-a1ea-c6253d472ef3",
        "collapsed": true
      },
      "outputs": [
        {
          "output_type": "stream",
          "name": "stdout",
          "text": [
            "Epoch: 1. Time taken: 3mins49s\n",
            "Training loss: 0.37 --- Validation loss: 0.32 --- Training accuracy: 74.65% --- Validation accuracy: 86.61%\n",
            "Epoch: 2. Time taken: 3mins47s\n",
            "Training loss: 0.25 --- Validation loss: 0.39 --- Training accuracy: 83.59% --- Validation accuracy: 82.94%\n",
            "Epoch: 3. Time taken: 3mins46s\n",
            "Training loss: 0.24 --- Validation loss: 0.27 --- Training accuracy: 83.84% --- Validation accuracy: 88.69%\n",
            "Epoch: 4. Time taken: 3mins46s\n",
            "Training loss: 0.21 --- Validation loss: 0.23 --- Training accuracy: 86.01% --- Validation accuracy: 91.77%\n",
            "Epoch: 5. Time taken: 3mins45s\n",
            "Training loss: 0.21 --- Validation loss: 0.29 --- Training accuracy: 86.53% --- Validation accuracy: 88.49%\n",
            "Epoch: 6. Time taken: 3mins45s\n",
            "Training loss: 0.21 --- Validation loss: 0.29 --- Training accuracy: 87.15% --- Validation accuracy: 87.80%\n",
            "Epoch: 7. Time taken: 3mins44s\n",
            "Training loss: 0.20 --- Validation loss: 0.25 --- Training accuracy: 87.20% --- Validation accuracy: 89.48%\n",
            "Epoch: 8. Time taken: 3mins44s\n",
            "Training loss: 0.22 --- Validation loss: 0.28 --- Training accuracy: 86.66% --- Validation accuracy: 88.10%\n",
            "Epoch: 9. Time taken: 3mins45s\n",
            "Training loss: 0.20 --- Validation loss: 0.22 --- Training accuracy: 87.25% --- Validation accuracy: 91.47%\n",
            "Epoch: 10. Time taken: 3mins46s\n",
            "Training loss: 0.19 --- Validation loss: 0.31 --- Training accuracy: 88.22% --- Validation accuracy: 86.41%\n"
          ]
        }
      ],
      "source": [
        "# train model and store training history\n",
        "vgg11History = trainer(vgg11, 10)"
      ]
    },
    {
      "cell_type": "code",
      "source": [
        "# create dataframe from results dictionary\n",
        "df = pd.DataFrame(vgg11History)\n",
        "df = df.reset_index()\n",
        "df = df.rename(columns={'index':'Epoch'})\n",
        "# change results to a long form for plotting\n",
        "dfLoss = df.rename(columns={'trainLoss':'Training',\t'validLoss':'Validation'})\n",
        "dfLoss = pd.melt(\n",
        "    dfLoss,\n",
        "    id_vars=['Epoch'],\n",
        "    value_vars=['Training', 'Validation'],\n",
        "    var_name='Split',\n",
        "    value_name='Loss',)\n",
        "\n",
        "dfAcc = df.rename(columns={'trainAccuracy':'Training',\t'validAccuracy':'Validation'})\n",
        "dfAcc = pd.melt(dfAcc,\n",
        "                 id_vars=['Epoch'],\n",
        "                 value_vars=['Training', 'Validation'],\n",
        "                var_name='Split',\n",
        "                 value_name='Accuracy (%)',)\n",
        "\n",
        "dfLoss = dfLoss.set_index(['Split', 'Epoch'])\n",
        "dfLong = dfAcc.copy()\n",
        "# join loss and accuracy long form dataframes back together\n",
        "dfLong = dfLong.join(dfLoss, on=['Split', 'Epoch'])"
      ],
      "metadata": {
        "id": "m5VgrpMW9AZE"
      },
      "execution_count": 63,
      "outputs": []
    },
    {
      "cell_type": "code",
      "execution_count": 64,
      "metadata": {
        "id": "tE3399p1yEru",
        "colab": {
          "base_uri": "https://localhost:8080/",
          "height": 323
        },
        "outputId": "98bde322-a1be-4d0d-a98c-4fdde7c84e74"
      },
      "outputs": [
        {
          "output_type": "display_data",
          "data": {
            "text/plain": [
              "<Figure size 576x288 with 2 Axes>"
            ],
            "image/png": "[encoded data removed]"
          },
          "metadata": {
            "needs_background": "light"
          }
        }
      ],
      "source": [
        "# create training performance figure\n",
        "fig, axs = plt.subplots(1, 2, figsize=(8, 4))\n",
        "# plot loss\n",
        "sns.lineplot(ax=axs[0], data=dfLong, x='Epoch', y='Loss', hue='Split')\n",
        "axs[0].yaxis.set_major_formatter(FormatStrFormatter('%.2f'))\n",
        "# plot accuracy\n",
        "sns.lineplot(ax=axs[1], data=dfLong, x='Epoch', y='Accuracy (%)', hue='Split')\n",
        "axs[1].yaxis.set_major_formatter(FormatStrFormatter('%.0f'))\n",
        "axs[1].get_legend().remove()\n",
        "\n",
        "fig.tight_layout()\n",
        "# add title\n",
        "fig.suptitle('VGG11 training', y=1.05, fontsize=12)\n",
        "\n",
        "fig.savefig('vgg11Training', bbox_inches='tight')\n",
        "plt.show()"
      ]
    },
    {
      "cell_type": "markdown",
      "source": [
        "Testing"
      ],
      "metadata": {
        "id": "MQobGcVm5ygk"
      }
    },
    {
      "cell_type": "code",
      "source": [
        "# test model and store results\n",
        "vgg11Results = tester(vgg11)"
      ],
      "metadata": {
        "collapsed": true,
        "id": "_3ntXa416UDD"
      },
      "execution_count": 34,
      "outputs": []
    },
    {
      "cell_type": "markdown",
      "source": [
        "Evaluation"
      ],
      "metadata": {
        "id": "VvdGRpQ07G3E"
      }
    },
    {
      "cell_type": "code",
      "source": [
        "labelList = [key for key in labelMap.keys()]\n",
        "labelList"
      ],
      "metadata": {
        "id": "ClAZGWi-Irzn",
        "colab": {
          "base_uri": "https://localhost:8080/"
        },
        "outputId": "5be7361b-5d9f-468a-b897-149e6486cf70"
      },
      "execution_count": 35,
      "outputs": [
        {
          "output_type": "execute_result",
          "data": {
            "text/plain": [
              "['COVID19', 'NORMAL', 'PNEUMONIA']"
            ]
          },
          "metadata": {},
          "execution_count": 35
        }
      ]
    },
    {
      "cell_type": "code",
      "source": [
        "# create figure for confusion matrix\n",
        "fig, ax = plt.subplots(figsize=(4, 4))\n",
        "# create confusion matrix display\n",
        "vgg11CM = ConfusionMatrixDisplay(    \n",
        "    confusion_matrix=confusion_matrix(vgg11Results[:,0],vgg11Results[:,1]),\n",
        "    display_labels=labelList)\n",
        "# plot confusion matrix\n",
        "vgg11CM.plot(ax=ax,\n",
        "             colorbar=False,\n",
        "             cmap='cividis')\n",
        "\n",
        "# add title\n",
        "fig.suptitle('VGG11 Confusion Matrix', fontsize=12)\n",
        "\n",
        "fig.savefig('vgg11ConfMat', bbox_inches='tight')\n",
        "plt.show()"
      ],
      "metadata": {
        "colab": {
          "base_uri": "https://localhost:8080/",
          "height": 308
        },
        "id": "ljOfEV0oQVg3",
        "outputId": "fa34d6b1-122f-4e81-adf8-7fc9ae99f83a"
      },
      "execution_count": 38,
      "outputs": [
        {
          "output_type": "display_data",
          "data": {
            "text/plain": [
              "<Figure size 288x288 with 1 Axes>"
            ],
            "image/png": "[encoded data removed]"
          },
          "metadata": {
            "needs_background": "light"
          }
        }
      ]
    },
    {
      "cell_type": "code",
      "execution_count": 37,
      "metadata": {
        "id": "Xi4mIbY9x3Jv",
        "colab": {
          "base_uri": "https://localhost:8080/",
          "height": 81
        },
        "outputId": "0b43ea4f-9400-4a29-d149-c89cdab478d6"
      },
      "outputs": [
        {
          "output_type": "execute_result",
          "data": {
            "text/plain": [
              "   Model  Accuracy  Precision    Recall   F-Score\n",
              "0  VGG11  0.869976   0.905123  0.869976  0.875574"
            ],
            "text/html": [
              "\n",
              "  <div id=\"df-9c842bf2-2ee2-41e4-b7d4-d10852ae2e3e\">\n",
              "    <div class=\"colab-df-container\">\n",
              "      <div>\n",
              "<style scoped>\n",
              "    .dataframe tbody tr th:only-of-type {\n",
              "        vertical-align: middle;\n",
              "    }\n",
              "\n",
              "    .dataframe tbody tr th {\n",
              "        vertical-align: top;\n",
              "    }\n",
              "\n",
              "    .dataframe thead th {\n",
              "        text-align: right;\n",
              "    }\n",
              "</style>\n",
              "<table border=\"1\" class=\"dataframe\">\n",
              "  <thead>\n",
              "    <tr style=\"text-align: right;\">\n",
              "      <th></th>\n",
              "      <th>Model</th>\n",
              "      <th>Accuracy</th>\n",
              "      <th>Precision</th>\n",
              "      <th>Recall</th>\n",
              "      <th>F-Score</th>\n",
              "    </tr>\n",
              "  </thead>\n",
              "  <tbody>\n",
              "    <tr>\n",
              "      <th>0</th>\n",
              "      <td>VGG11</td>\n",
              "      <td>0.869976</td>\n",
              "      <td>0.905123</td>\n",
              "      <td>0.869976</td>\n",
              "      <td>0.875574</td>\n",
              "    </tr>\n",
              "  </tbody>\n",
              "</table>\n",
              "</div>\n",
              "      <button class=\"colab-df-convert\" onclick=\"convertToInteractive('df-9c842bf2-2ee2-41e4-b7d4-d10852ae2e3e')\"\n",
              "              title=\"Convert this dataframe to an interactive table.\"\n",
              "              style=\"display:none;\">\n",
              "        \n",
              "  <svg xmlns=\"http://www.w3.org/2000/svg\" height=\"24px\"viewBox=\"0 0 24 24\"\n",
              "       width=\"24px\">\n",
              "    <path d=\"M0 0h24v24H0V0z\" fill=\"none\"/>\n",
              "    <path d=\"M18.56 5.44l.94 2.06.94-2.06 2.06-.94-2.06-.94-.94-2.06-.94 2.06-2.06.94zm-11 1L8.5 8.5l.94-2.06 2.06-.94-2.06-.94L8.5 2.5l-.94 2.06-2.06.94zm10 10l.94 2.06.94-2.06 2.06-.94-2.06-.94-.94-2.06-.94 2.06-2.06.94z\"/><path d=\"M17.41 7.96l-1.37-1.37c-.4-.4-.92-.59-1.43-.59-.52 0-1.04.2-1.43.59L10.3 9.45l-7.72 7.72c-.78.78-.78 2.05 0 2.83L4 21.41c.39.39.9.59 1.41.59.51 0 1.02-.2 1.41-.59l7.78-7.78 2.81-2.81c.8-.78.8-2.07 0-2.86zM5.41 20L4 18.59l7.72-7.72 1.47 1.35L5.41 20z\"/>\n",
              "  </svg>\n",
              "      </button>\n",
              "      \n",
              "  <style>\n",
              "    .colab-df-container {\n",
              "      display:flex;\n",
              "      flex-wrap:wrap;\n",
              "      gap: 12px;\n",
              "    }\n",
              "\n",
              "    .colab-df-convert {\n",
              "      background-color: #E8F0FE;\n",
              "      border: none;\n",
              "      border-radius: 50%;\n",
              "      cursor: pointer;\n",
              "      display: none;\n",
              "      fill: #1967D2;\n",
              "      height: 32px;\n",
              "      padding: 0 0 0 0;\n",
              "      width: 32px;\n",
              "    }\n",
              "\n",
              "    .colab-df-convert:hover {\n",
              "      background-color: #E2EBFA;\n",
              "      box-shadow: 0px 1px 2px rgba(60, 64, 67, 0.3), 0px 1px 3px 1px rgba(60, 64, 67, 0.15);\n",
              "      fill: #174EA6;\n",
              "    }\n",
              "\n",
              "    [theme=dark] .colab-df-convert {\n",
              "      background-color: #3B4455;\n",
              "      fill: #D2E3FC;\n",
              "    }\n",
              "\n",
              "    [theme=dark] .colab-df-convert:hover {\n",
              "      background-color: #434B5C;\n",
              "      box-shadow: 0px 1px 3px 1px rgba(0, 0, 0, 0.15);\n",
              "      filter: drop-shadow(0px 1px 2px rgba(0, 0, 0, 0.3));\n",
              "      fill: #FFFFFF;\n",
              "    }\n",
              "  </style>\n",
              "\n",
              "      <script>\n",
              "        const buttonEl =\n",
              "          document.querySelector('#df-9c842bf2-2ee2-41e4-b7d4-d10852ae2e3e button.colab-df-convert');\n",
              "        buttonEl.style.display =\n",
              "          google.colab.kernel.accessAllowed ? 'block' : 'none';\n",
              "\n",
              "        async function convertToInteractive(key) {\n",
              "          const element = document.querySelector('#df-9c842bf2-2ee2-41e4-b7d4-d10852ae2e3e');\n",
              "          const dataTable =\n",
              "            await google.colab.kernel.invokeFunction('convertToInteractive',\n",
              "                                                     [key], {});\n",
              "          if (!dataTable) return;\n",
              "\n",
              "          const docLinkHtml = 'Like what you see? Visit the ' +\n",
              "            '<a target=\"_blank\" href=https://colab.research.google.com/notebooks/data_table.ipynb>data table notebook</a>'\n",
              "            + ' to learn more about interactive tables.';\n",
              "          element.innerHTML = '';\n",
              "          dataTable['output_type'] = 'display_data';\n",
              "          await google.colab.output.renderOutput(dataTable, element);\n",
              "          const docLink = document.createElement('div');\n",
              "          docLink.innerHTML = docLinkHtml;\n",
              "          element.appendChild(docLink);\n",
              "        }\n",
              "      </script>\n",
              "    </div>\n",
              "  </div>\n",
              "  "
            ]
          },
          "metadata": {},
          "execution_count": 37
        }
      ],
      "source": [
        "evaluationDf = evaluationDf.append(evaluationMetrics('VGG11', vgg11Results), ignore_index=True)\n",
        "evaluationDf"
      ]
    },
    {
      "cell_type": "markdown",
      "metadata": {
        "id": "uzZ-EvQgf290"
      },
      "source": [
        "### GoogleNet pretrained model"
      ]
    },
    {
      "cell_type": "code",
      "execution_count": 39,
      "metadata": {
        "colab": {
          "referenced_widgets": [
            "230e36ef0275402f9f4bc443ca53503f",
            "d59eba5f390c4226a7cdbd7f797b0eb5",
            "0308c67e1d4d486e960c7fa763ad8736",
            "488a7946494247f59a2649a9a6b291af",
            "783e80e0174d48d09ec5a9c8dcb9384a",
            "02228520d6d74ce2a9837dff5dcd3a90",
            "3caa070da6b24398befffb4da6a14a7c",
            "b62200d718ba45fc8578eacb6bf72fa0",
            "88b9b0a0cfc248598a612a28fb20a6ca",
            "1bf38440ebba453f8190bf4bd87d77c8",
            "99578e3db4e9411d928813ff4011d57d"
          ],
          "base_uri": "https://localhost:8080/",
          "height": 104
        },
        "collapsed": true,
        "id": "kcDG0HSif10w",
        "outputId": "c93ab78a-390d-4200-9bfe-a29124b3be0b"
      },
      "outputs": [
        {
          "output_type": "stream",
          "name": "stderr",
          "text": [
            "Using cache found in /root/.cache/torch/hub/pytorch_vision_v0.10.0\n",
            "Downloading: \"https://download.pytorch.org/models/googlenet-1378be20.pth\" to /root/.cache/torch/hub/checkpoints/googlenet-1378be20.pth\n"
          ]
        },
        {
          "output_type": "display_data",
          "data": {
            "text/plain": [
              "  0%|          | 0.00/49.7M [00:00<?, ?B/s]"
            ],
            "application/vnd.jupyter.widget-view+json": {
              "version_major": 2,
              "version_minor": 0,
              "model_id": "230e36ef0275402f9f4bc443ca53503f"
            }
          },
          "metadata": {}
        }
      ],
      "source": [
        "# load pretrained GoogleNet model\n",
        "googleNet = torch.hub.load('pytorch/vision:v0.10.0', 'googlenet', pretrained=True)\n",
        "# set all parameters to be fixed\n",
        "for parameter in googleNet.parameters():\n",
        "\tparameter.requires_grad = False\n",
        "# modify last layer to have required number of outputs\n",
        "googleNet.fc = nn.Linear(googleNet.fc.in_features, numClasses)\n",
        "# send model to gpu if available\n",
        "googleNet = googleNet.to(device)\n",
        "# initialise optimiser for training the output layer weights only\n",
        "optimiser = torch.optim.Adam(googleNet.fc.parameters(), lr=lr)"
      ]
    },
    {
      "cell_type": "markdown",
      "source": [
        "Training"
      ],
      "metadata": {
        "id": "PmNVr7ppWgfU"
      }
    },
    {
      "cell_type": "code",
      "source": [
        "# train model and store training history\n",
        "googleNetHistory = trainer(googleNet, 10)"
      ],
      "metadata": {
        "id": "P_F3m7ilWhG2",
        "colab": {
          "base_uri": "https://localhost:8080/"
        },
        "outputId": "3920b9b3-6fbe-49a0-f9a7-b9e4c6f3bb80"
      },
      "execution_count": 40,
      "outputs": [
        {
          "output_type": "stream",
          "name": "stderr",
          "text": [
            "/usr/local/lib/python3.7/dist-packages/torch/nn/functional.py:780: UserWarning: Note that order of the arguments: ceil_mode and return_indices will changeto match the args list in nn.MaxPool2d in a future release.\n",
            "  warnings.warn(\"Note that order of the arguments: ceil_mode and return_indices will change\"\n"
          ]
        },
        {
          "output_type": "stream",
          "name": "stdout",
          "text": [
            "Epoch: 1. Time taken: 3mins40s\n",
            "Training loss: 0.62 --- Validation loss: 0.68 --- Training accuracy: 45.77% --- Validation accuracy: 66.96%\n",
            "Epoch: 2. Time taken: 3mins41s\n",
            "Training loss: 0.38 --- Validation loss: 0.37 --- Training accuracy: 73.94% --- Validation accuracy: 87.40%\n",
            "Epoch: 3. Time taken: 3mins42s\n",
            "Training loss: 0.29 --- Validation loss: 0.37 --- Training accuracy: 80.82% --- Validation accuracy: 86.11%\n",
            "Epoch: 4. Time taken: 3mins42s\n",
            "Training loss: 0.26 --- Validation loss: 0.31 --- Training accuracy: 83.17% --- Validation accuracy: 88.49%\n",
            "Epoch: 5. Time taken: 3mins41s\n",
            "Training loss: 0.24 --- Validation loss: 0.35 --- Training accuracy: 85.45% --- Validation accuracy: 87.40%\n",
            "Epoch: 6. Time taken: 3mins41s\n",
            "Training loss: 0.24 --- Validation loss: 0.38 --- Training accuracy: 84.88% --- Validation accuracy: 84.62%\n",
            "Epoch: 7. Time taken: 3mins42s\n",
            "Training loss: 0.22 --- Validation loss: 0.27 --- Training accuracy: 85.69% --- Validation accuracy: 89.98%\n",
            "Epoch: 8. Time taken: 3mins42s\n",
            "Training loss: 0.21 --- Validation loss: 0.25 --- Training accuracy: 87.00% --- Validation accuracy: 91.57%\n",
            "Epoch: 9. Time taken: 3mins42s\n",
            "Training loss: 0.20 --- Validation loss: 0.28 --- Training accuracy: 87.45% --- Validation accuracy: 89.98%\n",
            "Epoch: 10. Time taken: 3mins42s\n",
            "Training loss: 0.20 --- Validation loss: 0.31 --- Training accuracy: 86.76% --- Validation accuracy: 88.00%\n"
          ]
        }
      ]
    },
    {
      "cell_type": "code",
      "source": [
        "# create dataframe from results dictionary\n",
        "df = pd.DataFrame(googleNetHistory)\n",
        "df = df.reset_index()\n",
        "df = df.rename(columns={'index':'Epoch'})\n",
        "# change results to a long form for plotting\n",
        "dfLoss = df.rename(columns={'trainLoss':'Training',\t'validLoss':'Validation'})\n",
        "dfLoss = pd.melt(\n",
        "    dfLoss,\n",
        "    id_vars=['Epoch'],\n",
        "    value_vars=['Training', 'Validation'],\n",
        "    var_name='Split',\n",
        "    value_name='Loss',)\n",
        "\n",
        "dfAcc = df.rename(columns={'trainAccuracy':'Training',\t'validAccuracy':'Validation'})\n",
        "dfAcc = pd.melt(dfAcc,\n",
        "                 id_vars=['Epoch'],\n",
        "                 value_vars=['Training', 'Validation'],\n",
        "                var_name='Split',\n",
        "                 value_name='Accuracy (%)',)\n",
        "\n",
        "dfLoss = dfLoss.set_index(['Split', 'Epoch'])\n",
        "dfLong = dfAcc.copy()\n",
        "# join loss and accuracy long form dataframes back together\n",
        "dfLong = dfLong.join(dfLoss, on=['Split', 'Epoch'])"
      ],
      "metadata": {
        "id": "04zwXWN1WpoZ"
      },
      "execution_count": 61,
      "outputs": []
    },
    {
      "cell_type": "code",
      "source": [
        "# create training performance figure\n",
        "fig, axs = plt.subplots(1, 2, figsize=(8, 4))\n",
        "# plot loss\n",
        "sns.lineplot(ax=axs[0], data=dfLong, x='Epoch', y='Loss', hue='Split')\n",
        "# plot accuracy\n",
        "sns.lineplot(ax=axs[1], data=dfLong, x='Epoch', y='Accuracy (%)', hue='Split')\n",
        "axs[1].get_legend().remove()\n",
        "\n",
        "fig.tight_layout()\n",
        "# add title\n",
        "fig.suptitle('GoogleNet training', y=1.05, fontsize=12)\n",
        "\n",
        "fig.savefig('googleNetTraining', bbox_inches='tight')\n",
        "plt.show()            "
      ],
      "metadata": {
        "id": "WImymvOfWyjo",
        "colab": {
          "base_uri": "https://localhost:8080/",
          "height": 323
        },
        "outputId": "ffa0c13c-ec03-4185-b8b9-76317afe6651"
      },
      "execution_count": 62,
      "outputs": [
        {
          "output_type": "display_data",
          "data": {
            "text/plain": [
              "<Figure size 576x288 with 2 Axes>"
            ],
            "image/png": "[encoded data removed]"
          },
          "metadata": {
            "needs_background": "light"
          }
        }
      ]
    },
    {
      "cell_type": "markdown",
      "source": [
        "Testing"
      ],
      "metadata": {
        "id": "sANgia5WW3GN"
      }
    },
    {
      "cell_type": "code",
      "source": [
        "# test model and store results\n",
        "googleNetResults = tester(googleNet)"
      ],
      "metadata": {
        "id": "6hJ5pC3HW3qz",
        "colab": {
          "base_uri": "https://localhost:8080/"
        },
        "outputId": "cfd4ea45-97c6-488a-b772-c30cb0662229"
      },
      "execution_count": 44,
      "outputs": [
        {
          "output_type": "stream",
          "name": "stderr",
          "text": [
            "/usr/local/lib/python3.7/dist-packages/torch/nn/functional.py:780: UserWarning: Note that order of the arguments: ceil_mode and return_indices will changeto match the args list in nn.MaxPool2d in a future release.\n",
            "  warnings.warn(\"Note that order of the arguments: ceil_mode and return_indices will change\"\n"
          ]
        }
      ]
    },
    {
      "cell_type": "markdown",
      "source": [
        "Evaluation"
      ],
      "metadata": {
        "id": "M5jBcEJFW_Tm"
      }
    },
    {
      "cell_type": "code",
      "source": [
        "# labelList = [key for key in labelMap.keys()]\n",
        "labelList"
      ],
      "metadata": {
        "colab": {
          "base_uri": "https://localhost:8080/"
        },
        "id": "g58OnOszLfLQ",
        "outputId": "0cac00b6-bc6b-41a7-81aa-9ebf1f6277c3"
      },
      "execution_count": 45,
      "outputs": [
        {
          "output_type": "execute_result",
          "data": {
            "text/plain": [
              "['COVID19', 'NORMAL', 'PNEUMONIA']"
            ]
          },
          "metadata": {},
          "execution_count": 45
        }
      ]
    },
    {
      "cell_type": "code",
      "source": [
        "# create figure for confusion matrix\n",
        "fig, ax = plt.subplots(figsize=(4, 4))\n",
        "# create confusion matrix display\n",
        "gNetCM = ConfusionMatrixDisplay(    \n",
        "    confusion_matrix=confusion_matrix(googleNetResults[:,0],googleNetResults[:,1]),\n",
        "    display_labels=labelList)\n",
        "# plot confusion matrix\n",
        "gNetCM.plot(ax=ax,\n",
        "             colorbar=False,\n",
        "             cmap='cividis')\n",
        "\n",
        "# add title\n",
        "fig.suptitle('GoogleNet Confusion Matrix', fontsize=12)\n",
        "\n",
        "fig.savefig('googleNetConfMat', bbox_inches='tight')\n",
        "plt.show()"
      ],
      "metadata": {
        "id": "zwslcNdtXAXw",
        "colab": {
          "base_uri": "https://localhost:8080/",
          "height": 308
        },
        "outputId": "0b6cfbc0-a644-419d-eb24-7f51024f908f"
      },
      "execution_count": 47,
      "outputs": [
        {
          "output_type": "display_data",
          "data": {
            "text/plain": [
              "<Figure size 288x288 with 1 Axes>"
            ],
            "image/png": "[encoded data removed]"
          },
          "metadata": {
            "needs_background": "light"
          }
        }
      ]
    },
    {
      "cell_type": "code",
      "source": [
        "evaluationDf = evaluationDf.append(evaluationMetrics('GoogleNet', googleNetResults), ignore_index=True)\n",
        "evaluationDf"
      ],
      "metadata": {
        "colab": {
          "base_uri": "https://localhost:8080/",
          "height": 112
        },
        "id": "VQ65dIDcLlYJ",
        "outputId": "e4bcd7a1-6240-4945-ba0d-7ddd1b7934c2"
      },
      "execution_count": 48,
      "outputs": [
        {
          "output_type": "execute_result",
          "data": {
            "text/plain": [
              "       Model  Accuracy  Precision    Recall   F-Score\n",
              "0      VGG11  0.869976   0.905123  0.869976  0.875574\n",
              "1  GoogleNet  0.872340   0.907238  0.872340  0.877576"
            ],
            "text/html": [
              "\n",
              "  <div id=\"df-7381cb9c-9636-44c1-a747-7d233ac27ce8\">\n",
              "    <div class=\"colab-df-container\">\n",
              "      <div>\n",
              "<style scoped>\n",
              "    .dataframe tbody tr th:only-of-type {\n",
              "        vertical-align: middle;\n",
              "    }\n",
              "\n",
              "    .dataframe tbody tr th {\n",
              "        vertical-align: top;\n",
              "    }\n",
              "\n",
              "    .dataframe thead th {\n",
              "        text-align: right;\n",
              "    }\n",
              "</style>\n",
              "<table border=\"1\" class=\"dataframe\">\n",
              "  <thead>\n",
              "    <tr style=\"text-align: right;\">\n",
              "      <th></th>\n",
              "      <th>Model</th>\n",
              "      <th>Accuracy</th>\n",
              "      <th>Precision</th>\n",
              "      <th>Recall</th>\n",
              "      <th>F-Score</th>\n",
              "    </tr>\n",
              "  </thead>\n",
              "  <tbody>\n",
              "    <tr>\n",
              "      <th>0</th>\n",
              "      <td>VGG11</td>\n",
              "      <td>0.869976</td>\n",
              "      <td>0.905123</td>\n",
              "      <td>0.869976</td>\n",
              "      <td>0.875574</td>\n",
              "    </tr>\n",
              "    <tr>\n",
              "      <th>1</th>\n",
              "      <td>GoogleNet</td>\n",
              "      <td>0.872340</td>\n",
              "      <td>0.907238</td>\n",
              "      <td>0.872340</td>\n",
              "      <td>0.877576</td>\n",
              "    </tr>\n",
              "  </tbody>\n",
              "</table>\n",
              "</div>\n",
              "      <button class=\"colab-df-convert\" onclick=\"convertToInteractive('df-7381cb9c-9636-44c1-a747-7d233ac27ce8')\"\n",
              "              title=\"Convert this dataframe to an interactive table.\"\n",
              "              style=\"display:none;\">\n",
              "        \n",
              "  <svg xmlns=\"http://www.w3.org/2000/svg\" height=\"24px\"viewBox=\"0 0 24 24\"\n",
              "       width=\"24px\">\n",
              "    <path d=\"M0 0h24v24H0V0z\" fill=\"none\"/>\n",
              "    <path d=\"M18.56 5.44l.94 2.06.94-2.06 2.06-.94-2.06-.94-.94-2.06-.94 2.06-2.06.94zm-11 1L8.5 8.5l.94-2.06 2.06-.94-2.06-.94L8.5 2.5l-.94 2.06-2.06.94zm10 10l.94 2.06.94-2.06 2.06-.94-2.06-.94-.94-2.06-.94 2.06-2.06.94z\"/><path d=\"M17.41 7.96l-1.37-1.37c-.4-.4-.92-.59-1.43-.59-.52 0-1.04.2-1.43.59L10.3 9.45l-7.72 7.72c-.78.78-.78 2.05 0 2.83L4 21.41c.39.39.9.59 1.41.59.51 0 1.02-.2 1.41-.59l7.78-7.78 2.81-2.81c.8-.78.8-2.07 0-2.86zM5.41 20L4 18.59l7.72-7.72 1.47 1.35L5.41 20z\"/>\n",
              "  </svg>\n",
              "      </button>\n",
              "      \n",
              "  <style>\n",
              "    .colab-df-container {\n",
              "      display:flex;\n",
              "      flex-wrap:wrap;\n",
              "      gap: 12px;\n",
              "    }\n",
              "\n",
              "    .colab-df-convert {\n",
              "      background-color: #E8F0FE;\n",
              "      border: none;\n",
              "      border-radius: 50%;\n",
              "      cursor: pointer;\n",
              "      display: none;\n",
              "      fill: #1967D2;\n",
              "      height: 32px;\n",
              "      padding: 0 0 0 0;\n",
              "      width: 32px;\n",
              "    }\n",
              "\n",
              "    .colab-df-convert:hover {\n",
              "      background-color: #E2EBFA;\n",
              "      box-shadow: 0px 1px 2px rgba(60, 64, 67, 0.3), 0px 1px 3px 1px rgba(60, 64, 67, 0.15);\n",
              "      fill: #174EA6;\n",
              "    }\n",
              "\n",
              "    [theme=dark] .colab-df-convert {\n",
              "      background-color: #3B4455;\n",
              "      fill: #D2E3FC;\n",
              "    }\n",
              "\n",
              "    [theme=dark] .colab-df-convert:hover {\n",
              "      background-color: #434B5C;\n",
              "      box-shadow: 0px 1px 3px 1px rgba(0, 0, 0, 0.15);\n",
              "      filter: drop-shadow(0px 1px 2px rgba(0, 0, 0, 0.3));\n",
              "      fill: #FFFFFF;\n",
              "    }\n",
              "  </style>\n",
              "\n",
              "      <script>\n",
              "        const buttonEl =\n",
              "          document.querySelector('#df-7381cb9c-9636-44c1-a747-7d233ac27ce8 button.colab-df-convert');\n",
              "        buttonEl.style.display =\n",
              "          google.colab.kernel.accessAllowed ? 'block' : 'none';\n",
              "\n",
              "        async function convertToInteractive(key) {\n",
              "          const element = document.querySelector('#df-7381cb9c-9636-44c1-a747-7d233ac27ce8');\n",
              "          const dataTable =\n",
              "            await google.colab.kernel.invokeFunction('convertToInteractive',\n",
              "                                                     [key], {});\n",
              "          if (!dataTable) return;\n",
              "\n",
              "          const docLinkHtml = 'Like what you see? Visit the ' +\n",
              "            '<a target=\"_blank\" href=https://colab.research.google.com/notebooks/data_table.ipynb>data table notebook</a>'\n",
              "            + ' to learn more about interactive tables.';\n",
              "          element.innerHTML = '';\n",
              "          dataTable['output_type'] = 'display_data';\n",
              "          await google.colab.output.renderOutput(dataTable, element);\n",
              "          const docLink = document.createElement('div');\n",
              "          docLink.innerHTML = docLinkHtml;\n",
              "          element.appendChild(docLink);\n",
              "        }\n",
              "      </script>\n",
              "    </div>\n",
              "  </div>\n",
              "  "
            ]
          },
          "metadata": {},
          "execution_count": 48
        }
      ]
    },
    {
      "cell_type": "markdown",
      "source": [
        "### Improved model"
      ],
      "metadata": {
        "id": "ZdHenSrSNWr7"
      }
    },
    {
      "cell_type": "code",
      "source": [
        "# load pretrained vgg11 model\n",
        "vgg11Mod = torch.hub.load('pytorch/vision:v0.10.0', 'vgg11_bn', pretrained=True)"
      ],
      "metadata": {
        "colab": {
          "base_uri": "https://localhost:8080/",
          "height": 84,
          "referenced_widgets": [
            "3d196ee13ce14183ba25c8819574efc0",
            "3f2df9b6383a48feb25858fe5b1e8fd4",
            "4ca8ffedfec546f4924b6849ed3e8b2f",
            "c56af356154a47239a6af63adef618ba",
            "2c8dfc6277cf4387aeff62d32a3157ad",
            "792596cedd32437f96c293c2e206832c",
            "8b72a0182cd64d4da132eb07b9119036",
            "53386270a87d42809f2a0cf711048327",
            "d3935233a05d418f83f1186f402c17fe",
            "e80c8a375a4543639be214c7c8ea6f11",
            "6b641b657bab429aa1a32051a0dfc098"
          ]
        },
        "id": "uj_pJJBsNYpM",
        "outputId": "647e5a7b-1327-4945-b84e-851d6a1d7a2f"
      },
      "execution_count": null,
      "outputs": [
        {
          "output_type": "stream",
          "name": "stderr",
          "text": [
            "Downloading: \"https://github.com/pytorch/vision/archive/v0.10.0.zip\" to /root/.cache/torch/hub/v0.10.0.zip\n",
            "Downloading: \"https://download.pytorch.org/models/vgg11_bn-6002323d.pth\" to /root/.cache/torch/hub/checkpoints/vgg11_bn-6002323d.pth\n"
          ]
        },
        {
          "output_type": "display_data",
          "data": {
            "text/plain": [
              "  0%|          | 0.00/507M [00:00<?, ?B/s]"
            ],
            "application/vnd.jupyter.widget-view+json": {
              "version_major": 2,
              "version_minor": 0,
              "model_id": "3d196ee13ce14183ba25c8819574efc0"
            }
          },
          "metadata": {}
        }
      ]
    },
    {
      "cell_type": "code",
      "source": [
        "# define a new classifier\n",
        "vggModClassifier = nn.Sequential(\n",
        "\tnn.Linear(vgg11Mod.classifier[0].in_features, 6272),\n",
        "\tnn.ReLU(),\n",
        "\tnn.Dropout(0.25),\n",
        "\tnn.Linear(6272, 1568),\n",
        "\tnn.ReLU(),\n",
        "\tnn.Dropout(0.25),\n",
        "    nn.Linear(1568, 382),\n",
        "\tnn.ReLU(),\n",
        "\tnn.Dropout(0.25),\n",
        "    nn.Linear(382, 96),\n",
        "\tnn.ReLU(),\n",
        "\tnn.Dropout(0.25),\n",
        "    nn.Linear(96, 24),\n",
        "\tnn.ReLU(),\n",
        "\tnn.Dropout(0.25),    \n",
        "\tnn.Linear(24, 3),\n",
        "    # nn.Softmax()\n",
        ")"
      ],
      "metadata": {
        "id": "QJV-3CFVkCZV"
      },
      "execution_count": null,
      "outputs": []
    },
    {
      "cell_type": "code",
      "source": [
        "vgg11Mod.classifier = vggModClassifier"
      ],
      "metadata": {
        "id": "D2PcRYSjkFBk"
      },
      "execution_count": null,
      "outputs": []
    },
    {
      "cell_type": "code",
      "source": [
        "for module, param in zip(vgg11Mod.modules(), vgg11Mod.parameters()):\n",
        "\tif isinstance(module, nn.BatchNorm2d):\n",
        "\t\tparam.requires_grad = False"
      ],
      "metadata": {
        "id": "6UCqlL61QQ57"
      },
      "execution_count": null,
      "outputs": []
    },
    {
      "cell_type": "code",
      "source": [
        "# send model to gpu if available\n",
        "vgg11Mod = vgg11Mod.to(device)\n",
        "# initialise optimiser for training\n",
        "optimiser = torch.optim.Adam(vgg11Mod.parameters())"
      ],
      "metadata": {
        "id": "kP-hFZs6Pnst"
      },
      "execution_count": null,
      "outputs": []
    },
    {
      "cell_type": "markdown",
      "source": [
        "Train"
      ],
      "metadata": {
        "id": "PPWdMbG3P2dL"
      }
    },
    {
      "cell_type": "code",
      "source": [
        "# train model and store training history\n",
        "vgg11ModHistory = trainer(vgg11Mod, 3)"
      ],
      "metadata": {
        "colab": {
          "base_uri": "https://localhost:8080/"
        },
        "id": "uRjXsvIsP-ca",
        "outputId": "d9967e6b-8bd6-409e-9f42-cae145931b95"
      },
      "execution_count": null,
      "outputs": [
        {
          "output_type": "stream",
          "name": "stdout",
          "text": [
            "Epoch: 1. Time taken: 4mins14s\n",
            "Training loss: 0.60 --- Validation loss: 0.49 --- Training accuracy: 62.40% --- Validation accuracy: 81.45%\n",
            "Epoch: 2. Time taken: 4mins14s\n",
            "Training loss: 0.43 --- Validation loss: 0.44 --- Training accuracy: 75.79% --- Validation accuracy: 81.05%\n",
            "Epoch: 3. Time taken: 4mins13s\n",
            "Training loss: 0.36 --- Validation loss: 0.34 --- Training accuracy: 79.75% --- Validation accuracy: 87.20%\n"
          ]
        }
      ]
    },
    {
      "cell_type": "code",
      "source": [
        "# create dataframe from results dictionary\n",
        "df = pd.DataFrame(vgg11ModHistory)\n",
        "df = df.reset_index()\n",
        "df = df.rename(columns={'index':'Epoch'})\n",
        "# change results to a long form for plotting\n",
        "dfLoss = df.rename(columns={'trainLoss':'Training',\t'validLoss':'Validation'})\n",
        "dfLoss = pd.melt(\n",
        "    dfLoss,\n",
        "    id_vars=['Epoch'],\n",
        "    value_vars=['Training', 'Validation'],\n",
        "    var_name='Split',\n",
        "    value_name='Loss',)\n",
        "\n",
        "dfAcc = df.rename(columns={'trainAccuracy':'Training',\t'validAccuracy':'Validation'})\n",
        "dfAcc = pd.melt(dfAcc,\n",
        "                 id_vars=['Epoch'],\n",
        "                 value_vars=['Training', 'Validation'],\n",
        "                var_name='Split',\n",
        "                 value_name='Accuracy (%)',)\n",
        "\n",
        "dfLoss = dfLoss.set_index(['Split', 'Epoch'])\n",
        "dfLong = dfAcc.copy()\n",
        "# join loss and accuracy long form dataframes back together\n",
        "dfLong = dfLong.join(dfLoss, on=['Split', 'Epoch'])"
      ],
      "metadata": {
        "id": "c8WcTFO5X_wZ"
      },
      "execution_count": null,
      "outputs": []
    },
    {
      "cell_type": "code",
      "source": [
        "# create training performance figure\n",
        "fig, axs = plt.subplots(1, 2, figsize=(8, 4))\n",
        "# plot loss\n",
        "sns.lineplot(ax=axs[0], data=dfLong, x='Epoch', y='Loss', hue='Split')\n",
        "# plot accuracy\n",
        "sns.lineplot(ax=axs[1], data=dfLong, x='Epoch', y='Accuracy (%)', hue='Split')\n",
        "axs[1].get_legend().remove()\n",
        "# add title\n",
        "fig.suptitle('VGG11 Modified training', fontsize=12)\n",
        "\n",
        "fig.savefig('VGG11ModTraining', bbox_inches='tight')\n",
        "plt.show()  "
      ],
      "metadata": {
        "colab": {
          "base_uri": "https://localhost:8080/",
          "height": 308
        },
        "id": "_9dzD_EBYEhP",
        "outputId": "12f3d019-c4ce-4498-85b9-c1c6a83ce851"
      },
      "execution_count": null,
      "outputs": [
        {
          "output_type": "display_data",
          "data": {
            "text/plain": [
              "<Figure size 576x288 with 2 Axes>"
            ],
            "image/png": "[encoded data removed]"
          },
          "metadata": {
            "needs_background": "light"
          }
        }
      ]
    },
    {
      "cell_type": "markdown",
      "source": [
        "Test"
      ],
      "metadata": {
        "id": "AInFYZFOP5mj"
      }
    },
    {
      "cell_type": "code",
      "source": [
        "# test model and store results\n",
        "vgg11ModResults = tester(vgg11Mod)"
      ],
      "metadata": {
        "id": "bHutiRUNP31a"
      },
      "execution_count": null,
      "outputs": []
    },
    {
      "cell_type": "markdown",
      "source": [
        "Evaluation"
      ],
      "metadata": {
        "id": "C8hHimZkYedQ"
      }
    },
    {
      "cell_type": "code",
      "source": [
        "labelList = [key for key in labelMap.keys()]\n",
        "labelList"
      ],
      "metadata": {
        "colab": {
          "base_uri": "https://localhost:8080/"
        },
        "id": "CNur9qQdZB8N",
        "outputId": "e5a5b01e-14e8-4e41-8a9a-fb38c5146270"
      },
      "execution_count": null,
      "outputs": [
        {
          "output_type": "execute_result",
          "data": {
            "text/plain": [
              "['COVID19', 'NORMAL', 'PNEUMONIA']"
            ]
          },
          "metadata": {},
          "execution_count": 40
        }
      ]
    },
    {
      "cell_type": "code",
      "source": [
        "# create figure for confusion matrix\n",
        "fig, ax = plt.subplots(figsize=(4, 4))\n",
        "# create confusion matrix display\n",
        "vgg11ModCM = ConfusionMatrixDisplay(    \n",
        "    confusion_matrix=confusion_matrix(vgg11ModResults[:,0], vgg11ModResults[:,1]),\n",
        "    display_labels=labelList)\n",
        "# plot confusion matrix\n",
        "vgg11ModCM.plot(ax=ax,\n",
        "             colorbar=False,\n",
        "             cmap='cividis')\n",
        "\n",
        "# add title\n",
        "fig.suptitle('VGG11 Modified Confusion Matrix', fontsize=12)\n",
        "\n",
        "# fig.savefig('vgg11ModConfMat', bbox_inches='tight')\n",
        "plt.show()"
      ],
      "metadata": {
        "id": "i71a5FBMrYnv",
        "colab": {
          "base_uri": "https://localhost:8080/",
          "height": 308
        },
        "outputId": "5ac97068-0f9c-4f07-a177-0d66951c6e96"
      },
      "execution_count": null,
      "outputs": [
        {
          "output_type": "display_data",
          "data": {
            "text/plain": [
              "<Figure size 288x288 with 1 Axes>"
            ],
            "image/png": "[encoded data removed]"
          },
          "metadata": {
            "needs_background": "light"
          }
        }
      ]
    },
    {
      "cell_type": "code",
      "source": [
        "evaluationDf = evaluationDf.append(evaluationMetrics('VGG11 Modified', vgg11ModResults), ignore_index=True)\n",
        "evaluationDf"
      ],
      "metadata": {
        "id": "bPYkv2KCY9Vh"
      },
      "execution_count": null,
      "outputs": []
    }
  ],
  "metadata": {
    "colab": {
      "collapsed_sections": [],
      "name": "COMP534-CA3.ipynb",
      "provenance": [],
      "include_colab_link": true
    },
    "kernelspec": {
      "display_name": "Python 3",
      "name": "python3"
    },
    "language_info": {
      "name": "python"
    },
    "widgets": {
      "application/vnd.jupyter.widget-state+json": {
        "3d196ee13ce14183ba25c8819574efc0": {
          "model_module": "@jupyter-widgets/controls",
          "model_name": "HBoxModel",
          "model_module_version": "1.5.0",
          "state": {
            "_dom_classes": [],
            "_model_module": "@jupyter-widgets/controls",
            "_model_module_version": "1.5.0",
            "_model_name": "HBoxModel",
            "_view_count": null,
            "_view_module": "@jupyter-widgets/controls",
            "_view_module_version": "1.5.0",
            "_view_name": "HBoxView",
            "box_style": "",
            "children": [
              "IPY_MODEL_3f2df9b6383a48feb25858fe5b1e8fd4",
              "IPY_MODEL_4ca8ffedfec546f4924b6849ed3e8b2f",
              "IPY_MODEL_c56af356154a47239a6af63adef618ba"
            ],
            "layout": "IPY_MODEL_2c8dfc6277cf4387aeff62d32a3157ad"
          }
        },
        "3f2df9b6383a48feb25858fe5b1e8fd4": {
          "model_module": "@jupyter-widgets/controls",
          "model_name": "HTMLModel",
          "model_module_version": "1.5.0",
          "state": {
            "_dom_classes": [],
            "_model_module": "@jupyter-widgets/controls",
            "_model_module_version": "1.5.0",
            "_model_name": "HTMLModel",
            "_view_count": null,
            "_view_module": "@jupyter-widgets/controls",
            "_view_module_version": "1.5.0",
            "_view_name": "HTMLView",
            "description": "",
            "description_tooltip": null,
            "layout": "IPY_MODEL_792596cedd32437f96c293c2e206832c",
            "placeholder": "​",
            "style": "IPY_MODEL_8b72a0182cd64d4da132eb07b9119036",
            "value": "100%"
          }
        },
        "4ca8ffedfec546f4924b6849ed3e8b2f": {
          "model_module": "@jupyter-widgets/controls",
          "model_name": "FloatProgressModel",
          "model_module_version": "1.5.0",
          "state": {
            "_dom_classes": [],
            "_model_module": "@jupyter-widgets/controls",
            "_model_module_version": "1.5.0",
            "_model_name": "FloatProgressModel",
            "_view_count": null,
            "_view_module": "@jupyter-widgets/controls",
            "_view_module_version": "1.5.0",
            "_view_name": "ProgressView",
            "bar_style": "success",
            "description": "",
            "description_tooltip": null,
            "layout": "IPY_MODEL_53386270a87d42809f2a0cf711048327",
            "max": 531503671,
            "min": 0,
            "orientation": "horizontal",
            "style": "IPY_MODEL_d3935233a05d418f83f1186f402c17fe",
            "value": 531503671
          }
        },
        "c56af356154a47239a6af63adef618ba": {
          "model_module": "@jupyter-widgets/controls",
          "model_name": "HTMLModel",
          "model_module_version": "1.5.0",
          "state": {
            "_dom_classes": [],
            "_model_module": "@jupyter-widgets/controls",
            "_model_module_version": "1.5.0",
            "_model_name": "HTMLModel",
            "_view_count": null,
            "_view_module": "@jupyter-widgets/controls",
            "_view_module_version": "1.5.0",
            "_view_name": "HTMLView",
            "description": "",
            "description_tooltip": null,
            "layout": "IPY_MODEL_e80c8a375a4543639be214c7c8ea6f11",
            "placeholder": "​",
            "style": "IPY_MODEL_6b641b657bab429aa1a32051a0dfc098",
            "value": " 507M/507M [00:12&lt;00:00, 54.7MB/s]"
          }
        },
        "2c8dfc6277cf4387aeff62d32a3157ad": {
          "model_module": "@jupyter-widgets/base",
          "model_name": "LayoutModel",
          "model_module_version": "1.2.0",
          "state": {
            "_model_module": "@jupyter-widgets/base",
            "_model_module_version": "1.2.0",
            "_model_name": "LayoutModel",
            "_view_count": null,
            "_view_module": "@jupyter-widgets/base",
            "_view_module_version": "1.2.0",
            "_view_name": "LayoutView",
            "align_content": null,
            "align_items": null,
            "align_self": null,
            "border": null,
            "bottom": null,
            "display": null,
            "flex": null,
            "flex_flow": null,
            "grid_area": null,
            "grid_auto_columns": null,
            "grid_auto_flow": null,
            "grid_auto_rows": null,
            "grid_column": null,
            "grid_gap": null,
            "grid_row": null,
            "grid_template_areas": null,
            "grid_template_columns": null,
            "grid_template_rows": null,
            "height": null,
            "justify_content": null,
            "justify_items": null,
            "left": null,
            "margin": null,
            "max_height": null,
            "max_width": null,
            "min_height": null,
            "min_width": null,
            "object_fit": null,
            "object_position": null,
            "order": null,
            "overflow": null,
            "overflow_x": null,
            "overflow_y": null,
            "padding": null,
            "right": null,
            "top": null,
            "visibility": null,
            "width": null
          }
        },
        "792596cedd32437f96c293c2e206832c": {
          "model_module": "@jupyter-widgets/base",
          "model_name": "LayoutModel",
          "model_module_version": "1.2.0",
          "state": {
            "_model_module": "@jupyter-widgets/base",
            "_model_module_version": "1.2.0",
            "_model_name": "LayoutModel",
            "_view_count": null,
            "_view_module": "@jupyter-widgets/base",
            "_view_module_version": "1.2.0",
            "_view_name": "LayoutView",
            "align_content": null,
            "align_items": null,
            "align_self": null,
            "border": null,
            "bottom": null,
            "display": null,
            "flex": null,
            "flex_flow": null,
            "grid_area": null,
            "grid_auto_columns": null,
            "grid_auto_flow": null,
            "grid_auto_rows": null,
            "grid_column": null,
            "grid_gap": null,
            "grid_row": null,
            "grid_template_areas": null,
            "grid_template_columns": null,
            "grid_template_rows": null,
            "height": null,
            "justify_content": null,
            "justify_items": null,
            "left": null,
            "margin": null,
            "max_height": null,
            "max_width": null,
            "min_height": null,
            "min_width": null,
            "object_fit": null,
            "object_position": null,
            "order": null,
            "overflow": null,
            "overflow_x": null,
            "overflow_y": null,
            "padding": null,
            "right": null,
            "top": null,
            "visibility": null,
            "width": null
          }
        },
        "8b72a0182cd64d4da132eb07b9119036": {
          "model_module": "@jupyter-widgets/controls",
          "model_name": "DescriptionStyleModel",
          "model_module_version": "1.5.0",
          "state": {
            "_model_module": "@jupyter-widgets/controls",
            "_model_module_version": "1.5.0",
            "_model_name": "DescriptionStyleModel",
            "_view_count": null,
            "_view_module": "@jupyter-widgets/base",
            "_view_module_version": "1.2.0",
            "_view_name": "StyleView",
            "description_width": ""
          }
        },
        "53386270a87d42809f2a0cf711048327": {
          "model_module": "@jupyter-widgets/base",
          "model_name": "LayoutModel",
          "model_module_version": "1.2.0",
          "state": {
            "_model_module": "@jupyter-widgets/base",
            "_model_module_version": "1.2.0",
            "_model_name": "LayoutModel",
            "_view_count": null,
            "_view_module": "@jupyter-widgets/base",
            "_view_module_version": "1.2.0",
            "_view_name": "LayoutView",
            "align_content": null,
            "align_items": null,
            "align_self": null,
            "border": null,
            "bottom": null,
            "display": null,
            "flex": null,
            "flex_flow": null,
            "grid_area": null,
            "grid_auto_columns": null,
            "grid_auto_flow": null,
            "grid_auto_rows": null,
            "grid_column": null,
            "grid_gap": null,
            "grid_row": null,
            "grid_template_areas": null,
            "grid_template_columns": null,
            "grid_template_rows": null,
            "height": null,
            "justify_content": null,
            "justify_items": null,
            "left": null,
            "margin": null,
            "max_height": null,
            "max_width": null,
            "min_height": null,
            "min_width": null,
            "object_fit": null,
            "object_position": null,
            "order": null,
            "overflow": null,
            "overflow_x": null,
            "overflow_y": null,
            "padding": null,
            "right": null,
            "top": null,
            "visibility": null,
            "width": null
          }
        },
        "d3935233a05d418f83f1186f402c17fe": {
          "model_module": "@jupyter-widgets/controls",
          "model_name": "ProgressStyleModel",
          "model_module_version": "1.5.0",
          "state": {
            "_model_module": "@jupyter-widgets/controls",
            "_model_module_version": "1.5.0",
            "_model_name": "ProgressStyleModel",
            "_view_count": null,
            "_view_module": "@jupyter-widgets/base",
            "_view_module_version": "1.2.0",
            "_view_name": "StyleView",
            "bar_color": null,
            "description_width": ""
          }
        },
        "e80c8a375a4543639be214c7c8ea6f11": {
          "model_module": "@jupyter-widgets/base",
          "model_name": "LayoutModel",
          "model_module_version": "1.2.0",
          "state": {
            "_model_module": "@jupyter-widgets/base",
            "_model_module_version": "1.2.0",
            "_model_name": "LayoutModel",
            "_view_count": null,
            "_view_module": "@jupyter-widgets/base",
            "_view_module_version": "1.2.0",
            "_view_name": "LayoutView",
            "align_content": null,
            "align_items": null,
            "align_self": null,
            "border": null,
            "bottom": null,
            "display": null,
            "flex": null,
            "flex_flow": null,
            "grid_area": null,
            "grid_auto_columns": null,
            "grid_auto_flow": null,
            "grid_auto_rows": null,
            "grid_column": null,
            "grid_gap": null,
            "grid_row": null,
            "grid_template_areas": null,
            "grid_template_columns": null,
            "grid_template_rows": null,
            "height": null,
            "justify_content": null,
            "justify_items": null,
            "left": null,
            "margin": null,
            "max_height": null,
            "max_width": null,
            "min_height": null,
            "min_width": null,
            "object_fit": null,
            "object_position": null,
            "order": null,
            "overflow": null,
            "overflow_x": null,
            "overflow_y": null,
            "padding": null,
            "right": null,
            "top": null,
            "visibility": null,
            "width": null
          }
        },
        "6b641b657bab429aa1a32051a0dfc098": {
          "model_module": "@jupyter-widgets/controls",
          "model_name": "DescriptionStyleModel",
          "model_module_version": "1.5.0",
          "state": {
            "_model_module": "@jupyter-widgets/controls",
            "_model_module_version": "1.5.0",
            "_model_name": "DescriptionStyleModel",
            "_view_count": null,
            "_view_module": "@jupyter-widgets/base",
            "_view_module_version": "1.2.0",
            "_view_name": "StyleView",
            "description_width": ""
          }
        },
        "132480a9f6a04b758a2308ac4a65d875": {
          "model_module": "@jupyter-widgets/controls",
          "model_name": "HBoxModel",
          "model_module_version": "1.5.0",
          "state": {
            "_dom_classes": [],
            "_model_module": "@jupyter-widgets/controls",
            "_model_module_version": "1.5.0",
            "_model_name": "HBoxModel",
            "_view_count": null,
            "_view_module": "@jupyter-widgets/controls",
            "_view_module_version": "1.5.0",
            "_view_name": "HBoxView",
            "box_style": "",
            "children": [
              "IPY_MODEL_07a1eba3b8a245e3b40729d34df87243",
              "IPY_MODEL_e2cd060107a14d92b82d5a0d181ae7b7",
              "IPY_MODEL_8eb602d4b9bf433e977f2d1d71b76b88"
            ],
            "layout": "IPY_MODEL_46aef5d245c3415fa2a0aa717d688ca2"
          }
        },
        "07a1eba3b8a245e3b40729d34df87243": {
          "model_module": "@jupyter-widgets/controls",
          "model_name": "HTMLModel",
          "model_module_version": "1.5.0",
          "state": {
            "_dom_classes": [],
            "_model_module": "@jupyter-widgets/controls",
            "_model_module_version": "1.5.0",
            "_model_name": "HTMLModel",
            "_view_count": null,
            "_view_module": "@jupyter-widgets/controls",
            "_view_module_version": "1.5.0",
            "_view_name": "HTMLView",
            "description": "",
            "description_tooltip": null,
            "layout": "IPY_MODEL_4576ba91a3cf441d9d83b69313dfdcb6",
            "placeholder": "​",
            "style": "IPY_MODEL_459b889f48ff462c8c1d4c7c48598435",
            "value": "100%"
          }
        },
        "e2cd060107a14d92b82d5a0d181ae7b7": {
          "model_module": "@jupyter-widgets/controls",
          "model_name": "FloatProgressModel",
          "model_module_version": "1.5.0",
          "state": {
            "_dom_classes": [],
            "_model_module": "@jupyter-widgets/controls",
            "_model_module_version": "1.5.0",
            "_model_name": "FloatProgressModel",
            "_view_count": null,
            "_view_module": "@jupyter-widgets/controls",
            "_view_module_version": "1.5.0",
            "_view_name": "ProgressView",
            "bar_style": "success",
            "description": "",
            "description_tooltip": null,
            "layout": "IPY_MODEL_b5fd5a31aea44126961f79d61d9592d5",
            "max": 531460341,
            "min": 0,
            "orientation": "horizontal",
            "style": "IPY_MODEL_f216329900394e9c8d5cd78c7bf9db9b",
            "value": 531460341
          }
        },
        "8eb602d4b9bf433e977f2d1d71b76b88": {
          "model_module": "@jupyter-widgets/controls",
          "model_name": "HTMLModel",
          "model_module_version": "1.5.0",
          "state": {
            "_dom_classes": [],
            "_model_module": "@jupyter-widgets/controls",
            "_model_module_version": "1.5.0",
            "_model_name": "HTMLModel",
            "_view_count": null,
            "_view_module": "@jupyter-widgets/controls",
            "_view_module_version": "1.5.0",
            "_view_name": "HTMLView",
            "description": "",
            "description_tooltip": null,
            "layout": "IPY_MODEL_95deabfb6231496091b38a1383d10361",
            "placeholder": "​",
            "style": "IPY_MODEL_e85c9eb4fa77481d81ae667a63ddbc7d",
            "value": " 507M/507M [00:08&lt;00:00, 66.9MB/s]"
          }
        },
        "46aef5d245c3415fa2a0aa717d688ca2": {
          "model_module": "@jupyter-widgets/base",
          "model_name": "LayoutModel",
          "model_module_version": "1.2.0",
          "state": {
            "_model_module": "@jupyter-widgets/base",
            "_model_module_version": "1.2.0",
            "_model_name": "LayoutModel",
            "_view_count": null,
            "_view_module": "@jupyter-widgets/base",
            "_view_module_version": "1.2.0",
            "_view_name": "LayoutView",
            "align_content": null,
            "align_items": null,
            "align_self": null,
            "border": null,
            "bottom": null,
            "display": null,
            "flex": null,
            "flex_flow": null,
            "grid_area": null,
            "grid_auto_columns": null,
            "grid_auto_flow": null,
            "grid_auto_rows": null,
            "grid_column": null,
            "grid_gap": null,
            "grid_row": null,
            "grid_template_areas": null,
            "grid_template_columns": null,
            "grid_template_rows": null,
            "height": null,
            "justify_content": null,
            "justify_items": null,
            "left": null,
            "margin": null,
            "max_height": null,
            "max_width": null,
            "min_height": null,
            "min_width": null,
            "object_fit": null,
            "object_position": null,
            "order": null,
            "overflow": null,
            "overflow_x": null,
            "overflow_y": null,
            "padding": null,
            "right": null,
            "top": null,
            "visibility": null,
            "width": null
          }
        },
        "4576ba91a3cf441d9d83b69313dfdcb6": {
          "model_module": "@jupyter-widgets/base",
          "model_name": "LayoutModel",
          "model_module_version": "1.2.0",
          "state": {
            "_model_module": "@jupyter-widgets/base",
            "_model_module_version": "1.2.0",
            "_model_name": "LayoutModel",
            "_view_count": null,
            "_view_module": "@jupyter-widgets/base",
            "_view_module_version": "1.2.0",
            "_view_name": "LayoutView",
            "align_content": null,
            "align_items": null,
            "align_self": null,
            "border": null,
            "bottom": null,
            "display": null,
            "flex": null,
            "flex_flow": null,
            "grid_area": null,
            "grid_auto_columns": null,
            "grid_auto_flow": null,
            "grid_auto_rows": null,
            "grid_column": null,
            "grid_gap": null,
            "grid_row": null,
            "grid_template_areas": null,
            "grid_template_columns": null,
            "grid_template_rows": null,
            "height": null,
            "justify_content": null,
            "justify_items": null,
            "left": null,
            "margin": null,
            "max_height": null,
            "max_width": null,
            "min_height": null,
            "min_width": null,
            "object_fit": null,
            "object_position": null,
            "order": null,
            "overflow": null,
            "overflow_x": null,
            "overflow_y": null,
            "padding": null,
            "right": null,
            "top": null,
            "visibility": null,
            "width": null
          }
        },
        "459b889f48ff462c8c1d4c7c48598435": {
          "model_module": "@jupyter-widgets/controls",
          "model_name": "DescriptionStyleModel",
          "model_module_version": "1.5.0",
          "state": {
            "_model_module": "@jupyter-widgets/controls",
            "_model_module_version": "1.5.0",
            "_model_name": "DescriptionStyleModel",
            "_view_count": null,
            "_view_module": "@jupyter-widgets/base",
            "_view_module_version": "1.2.0",
            "_view_name": "StyleView",
            "description_width": ""
          }
        },
        "b5fd5a31aea44126961f79d61d9592d5": {
          "model_module": "@jupyter-widgets/base",
          "model_name": "LayoutModel",
          "model_module_version": "1.2.0",
          "state": {
            "_model_module": "@jupyter-widgets/base",
            "_model_module_version": "1.2.0",
            "_model_name": "LayoutModel",
            "_view_count": null,
            "_view_module": "@jupyter-widgets/base",
            "_view_module_version": "1.2.0",
            "_view_name": "LayoutView",
            "align_content": null,
            "align_items": null,
            "align_self": null,
            "border": null,
            "bottom": null,
            "display": null,
            "flex": null,
            "flex_flow": null,
            "grid_area": null,
            "grid_auto_columns": null,
            "grid_auto_flow": null,
            "grid_auto_rows": null,
            "grid_column": null,
            "grid_gap": null,
            "grid_row": null,
            "grid_template_areas": null,
            "grid_template_columns": null,
            "grid_template_rows": null,
            "height": null,
            "justify_content": null,
            "justify_items": null,
            "left": null,
            "margin": null,
            "max_height": null,
            "max_width": null,
            "min_height": null,
            "min_width": null,
            "object_fit": null,
            "object_position": null,
            "order": null,
            "overflow": null,
            "overflow_x": null,
            "overflow_y": null,
            "padding": null,
            "right": null,
            "top": null,
            "visibility": null,
            "width": null
          }
        },
        "f216329900394e9c8d5cd78c7bf9db9b": {
          "model_module": "@jupyter-widgets/controls",
          "model_name": "ProgressStyleModel",
          "model_module_version": "1.5.0",
          "state": {
            "_model_module": "@jupyter-widgets/controls",
            "_model_module_version": "1.5.0",
            "_model_name": "ProgressStyleModel",
            "_view_count": null,
            "_view_module": "@jupyter-widgets/base",
            "_view_module_version": "1.2.0",
            "_view_name": "StyleView",
            "bar_color": null,
            "description_width": ""
          }
        },
        "95deabfb6231496091b38a1383d10361": {
          "model_module": "@jupyter-widgets/base",
          "model_name": "LayoutModel",
          "model_module_version": "1.2.0",
          "state": {
            "_model_module": "@jupyter-widgets/base",
            "_model_module_version": "1.2.0",
            "_model_name": "LayoutModel",
            "_view_count": null,
            "_view_module": "@jupyter-widgets/base",
            "_view_module_version": "1.2.0",
            "_view_name": "LayoutView",
            "align_content": null,
            "align_items": null,
            "align_self": null,
            "border": null,
            "bottom": null,
            "display": null,
            "flex": null,
            "flex_flow": null,
            "grid_area": null,
            "grid_auto_columns": null,
            "grid_auto_flow": null,
            "grid_auto_rows": null,
            "grid_column": null,
            "grid_gap": null,
            "grid_row": null,
            "grid_template_areas": null,
            "grid_template_columns": null,
            "grid_template_rows": null,
            "height": null,
            "justify_content": null,
            "justify_items": null,
            "left": null,
            "margin": null,
            "max_height": null,
            "max_width": null,
            "min_height": null,
            "min_width": null,
            "object_fit": null,
            "object_position": null,
            "order": null,
            "overflow": null,
            "overflow_x": null,
            "overflow_y": null,
            "padding": null,
            "right": null,
            "top": null,
            "visibility": null,
            "width": null
          }
        },
        "e85c9eb4fa77481d81ae667a63ddbc7d": {
          "model_module": "@jupyter-widgets/controls",
          "model_name": "DescriptionStyleModel",
          "model_module_version": "1.5.0",
          "state": {
            "_model_module": "@jupyter-widgets/controls",
            "_model_module_version": "1.5.0",
            "_model_name": "DescriptionStyleModel",
            "_view_count": null,
            "_view_module": "@jupyter-widgets/base",
            "_view_module_version": "1.2.0",
            "_view_name": "StyleView",
            "description_width": ""
          }
        },
        "230e36ef0275402f9f4bc443ca53503f": {
          "model_module": "@jupyter-widgets/controls",
          "model_name": "HBoxModel",
          "model_module_version": "1.5.0",
          "state": {
            "_dom_classes": [],
            "_model_module": "@jupyter-widgets/controls",
            "_model_module_version": "1.5.0",
            "_model_name": "HBoxModel",
            "_view_count": null,
            "_view_module": "@jupyter-widgets/controls",
            "_view_module_version": "1.5.0",
            "_view_name": "HBoxView",
            "box_style": "",
            "children": [
              "IPY_MODEL_d59eba5f390c4226a7cdbd7f797b0eb5",
              "IPY_MODEL_0308c67e1d4d486e960c7fa763ad8736",
              "IPY_MODEL_488a7946494247f59a2649a9a6b291af"
            ],
            "layout": "IPY_MODEL_783e80e0174d48d09ec5a9c8dcb9384a"
          }
        },
        "d59eba5f390c4226a7cdbd7f797b0eb5": {
          "model_module": "@jupyter-widgets/controls",
          "model_name": "HTMLModel",
          "model_module_version": "1.5.0",
          "state": {
            "_dom_classes": [],
            "_model_module": "@jupyter-widgets/controls",
            "_model_module_version": "1.5.0",
            "_model_name": "HTMLModel",
            "_view_count": null,
            "_view_module": "@jupyter-widgets/controls",
            "_view_module_version": "1.5.0",
            "_view_name": "HTMLView",
            "description": "",
            "description_tooltip": null,
            "layout": "IPY_MODEL_02228520d6d74ce2a9837dff5dcd3a90",
            "placeholder": "​",
            "style": "IPY_MODEL_3caa070da6b24398befffb4da6a14a7c",
            "value": "100%"
          }
        },
        "0308c67e1d4d486e960c7fa763ad8736": {
          "model_module": "@jupyter-widgets/controls",
          "model_name": "FloatProgressModel",
          "model_module_version": "1.5.0",
          "state": {
            "_dom_classes": [],
            "_model_module": "@jupyter-widgets/controls",
            "_model_module_version": "1.5.0",
            "_model_name": "FloatProgressModel",
            "_view_count": null,
            "_view_module": "@jupyter-widgets/controls",
            "_view_module_version": "1.5.0",
            "_view_name": "ProgressView",
            "bar_style": "success",
            "description": "",
            "description_tooltip": null,
            "layout": "IPY_MODEL_b62200d718ba45fc8578eacb6bf72fa0",
            "max": 52147035,
            "min": 0,
            "orientation": "horizontal",
            "style": "IPY_MODEL_88b9b0a0cfc248598a612a28fb20a6ca",
            "value": 52147035
          }
        },
        "488a7946494247f59a2649a9a6b291af": {
          "model_module": "@jupyter-widgets/controls",
          "model_name": "HTMLModel",
          "model_module_version": "1.5.0",
          "state": {
            "_dom_classes": [],
            "_model_module": "@jupyter-widgets/controls",
            "_model_module_version": "1.5.0",
            "_model_name": "HTMLModel",
            "_view_count": null,
            "_view_module": "@jupyter-widgets/controls",
            "_view_module_version": "1.5.0",
            "_view_name": "HTMLView",
            "description": "",
            "description_tooltip": null,
            "layout": "IPY_MODEL_1bf38440ebba453f8190bf4bd87d77c8",
            "placeholder": "​",
            "style": "IPY_MODEL_99578e3db4e9411d928813ff4011d57d",
            "value": " 49.7M/49.7M [00:01&lt;00:00, 26.2MB/s]"
          }
        },
        "783e80e0174d48d09ec5a9c8dcb9384a": {
          "model_module": "@jupyter-widgets/base",
          "model_name": "LayoutModel",
          "model_module_version": "1.2.0",
          "state": {
            "_model_module": "@jupyter-widgets/base",
            "_model_module_version": "1.2.0",
            "_model_name": "LayoutModel",
            "_view_count": null,
            "_view_module": "@jupyter-widgets/base",
            "_view_module_version": "1.2.0",
            "_view_name": "LayoutView",
            "align_content": null,
            "align_items": null,
            "align_self": null,
            "border": null,
            "bottom": null,
            "display": null,
            "flex": null,
            "flex_flow": null,
            "grid_area": null,
            "grid_auto_columns": null,
            "grid_auto_flow": null,
            "grid_auto_rows": null,
            "grid_column": null,
            "grid_gap": null,
            "grid_row": null,
            "grid_template_areas": null,
            "grid_template_columns": null,
            "grid_template_rows": null,
            "height": null,
            "justify_content": null,
            "justify_items": null,
            "left": null,
            "margin": null,
            "max_height": null,
            "max_width": null,
            "min_height": null,
            "min_width": null,
            "object_fit": null,
            "object_position": null,
            "order": null,
            "overflow": null,
            "overflow_x": null,
            "overflow_y": null,
            "padding": null,
            "right": null,
            "top": null,
            "visibility": null,
            "width": null
          }
        },
        "02228520d6d74ce2a9837dff5dcd3a90": {
          "model_module": "@jupyter-widgets/base",
          "model_name": "LayoutModel",
          "model_module_version": "1.2.0",
          "state": {
            "_model_module": "@jupyter-widgets/base",
            "_model_module_version": "1.2.0",
            "_model_name": "LayoutModel",
            "_view_count": null,
            "_view_module": "@jupyter-widgets/base",
            "_view_module_version": "1.2.0",
            "_view_name": "LayoutView",
            "align_content": null,
            "align_items": null,
            "align_self": null,
            "border": null,
            "bottom": null,
            "display": null,
            "flex": null,
            "flex_flow": null,
            "grid_area": null,
            "grid_auto_columns": null,
            "grid_auto_flow": null,
            "grid_auto_rows": null,
            "grid_column": null,
            "grid_gap": null,
            "grid_row": null,
            "grid_template_areas": null,
            "grid_template_columns": null,
            "grid_template_rows": null,
            "height": null,
            "justify_content": null,
            "justify_items": null,
            "left": null,
            "margin": null,
            "max_height": null,
            "max_width": null,
            "min_height": null,
            "min_width": null,
            "object_fit": null,
            "object_position": null,
            "order": null,
            "overflow": null,
            "overflow_x": null,
            "overflow_y": null,
            "padding": null,
            "right": null,
            "top": null,
            "visibility": null,
            "width": null
          }
        },
        "3caa070da6b24398befffb4da6a14a7c": {
          "model_module": "@jupyter-widgets/controls",
          "model_name": "DescriptionStyleModel",
          "model_module_version": "1.5.0",
          "state": {
            "_model_module": "@jupyter-widgets/controls",
            "_model_module_version": "1.5.0",
            "_model_name": "DescriptionStyleModel",
            "_view_count": null,
            "_view_module": "@jupyter-widgets/base",
            "_view_module_version": "1.2.0",
            "_view_name": "StyleView",
            "description_width": ""
          }
        },
        "b62200d718ba45fc8578eacb6bf72fa0": {
          "model_module": "@jupyter-widgets/base",
          "model_name": "LayoutModel",
          "model_module_version": "1.2.0",
          "state": {
            "_model_module": "@jupyter-widgets/base",
            "_model_module_version": "1.2.0",
            "_model_name": "LayoutModel",
            "_view_count": null,
            "_view_module": "@jupyter-widgets/base",
            "_view_module_version": "1.2.0",
            "_view_name": "LayoutView",
            "align_content": null,
            "align_items": null,
            "align_self": null,
            "border": null,
            "bottom": null,
            "display": null,
            "flex": null,
            "flex_flow": null,
            "grid_area": null,
            "grid_auto_columns": null,
            "grid_auto_flow": null,
            "grid_auto_rows": null,
            "grid_column": null,
            "grid_gap": null,
            "grid_row": null,
            "grid_template_areas": null,
            "grid_template_columns": null,
            "grid_template_rows": null,
            "height": null,
            "justify_content": null,
            "justify_items": null,
            "left": null,
            "margin": null,
            "max_height": null,
            "max_width": null,
            "min_height": null,
            "min_width": null,
            "object_fit": null,
            "object_position": null,
            "order": null,
            "overflow": null,
            "overflow_x": null,
            "overflow_y": null,
            "padding": null,
            "right": null,
            "top": null,
            "visibility": null,
            "width": null
          }
        },
        "88b9b0a0cfc248598a612a28fb20a6ca": {
          "model_module": "@jupyter-widgets/controls",
          "model_name": "ProgressStyleModel",
          "model_module_version": "1.5.0",
          "state": {
            "_model_module": "@jupyter-widgets/controls",
            "_model_module_version": "1.5.0",
            "_model_name": "ProgressStyleModel",
            "_view_count": null,
            "_view_module": "@jupyter-widgets/base",
            "_view_module_version": "1.2.0",
            "_view_name": "StyleView",
            "bar_color": null,
            "description_width": ""
          }
        },
        "1bf38440ebba453f8190bf4bd87d77c8": {
          "model_module": "@jupyter-widgets/base",
          "model_name": "LayoutModel",
          "model_module_version": "1.2.0",
          "state": {
            "_model_module": "@jupyter-widgets/base",
            "_model_module_version": "1.2.0",
            "_model_name": "LayoutModel",
            "_view_count": null,
            "_view_module": "@jupyter-widgets/base",
            "_view_module_version": "1.2.0",
            "_view_name": "LayoutView",
            "align_content": null,
            "align_items": null,
            "align_self": null,
            "border": null,
            "bottom": null,
            "display": null,
            "flex": null,
            "flex_flow": null,
            "grid_area": null,
            "grid_auto_columns": null,
            "grid_auto_flow": null,
            "grid_auto_rows": null,
            "grid_column": null,
            "grid_gap": null,
            "grid_row": null,
            "grid_template_areas": null,
            "grid_template_columns": null,
            "grid_template_rows": null,
            "height": null,
            "justify_content": null,
            "justify_items": null,
            "left": null,
            "margin": null,
            "max_height": null,
            "max_width": null,
            "min_height": null,
            "min_width": null,
            "object_fit": null,
            "object_position": null,
            "order": null,
            "overflow": null,
            "overflow_x": null,
            "overflow_y": null,
            "padding": null,
            "right": null,
            "top": null,
            "visibility": null,
            "width": null
          }
        },
        "99578e3db4e9411d928813ff4011d57d": {
          "model_module": "@jupyter-widgets/controls",
          "model_name": "DescriptionStyleModel",
          "model_module_version": "1.5.0",
          "state": {
            "_model_module": "@jupyter-widgets/controls",
            "_model_module_version": "1.5.0",
            "_model_name": "DescriptionStyleModel",
            "_view_count": null,
            "_view_module": "@jupyter-widgets/base",
            "_view_module_version": "1.2.0",
            "_view_name": "StyleView",
            "description_width": ""
          }
        }
      }
    },
    "accelerator": "GPU"
  },
  "nbformat": 4,
  "nbformat_minor": 0
}