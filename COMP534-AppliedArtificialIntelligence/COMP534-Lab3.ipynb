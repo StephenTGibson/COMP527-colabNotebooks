{
  "cells": [
    {
      "cell_type": "markdown",
      "metadata": {
        "id": "view-in-github",
        "colab_type": "text"
      },
      "source": [
        "<a href=\"https://colab.research.google.com/github/StephenTGibson/COMP527-colabNotebooks/blob/main/metric.ipynb\" target=\"_parent\"><img src=\"https://colab.research.google.com/assets/colab-badge.svg\" alt=\"Open In Colab\"/></a>"
      ]
    },
    {
      "cell_type": "markdown",
      "metadata": {
        "id": "X65zVo_OBF63"
      },
      "source": [
        "### 1. Metric used for Model Evaluation\n",
        "1.1 Confusion Matrix\n",
        "\n",
        "refercence\n",
        "1. [Visualizations with Display Objects](https://scikit-learn.org/stable/auto_examples/miscellaneous/plot_display_object_visualization.html#sphx-glr-auto-examples-miscellaneous-plot-display-object-visualization-py)"
      ]
    },
    {
      "cell_type": "markdown",
      "metadata": {
        "id": "fhpEAHjzBF67"
      },
      "source": [
        "We load a blood transfusion service center data set from OpenML. This is a binary classification problem where the target is whether an individual donated blood. "
      ]
    },
    {
      "cell_type": "code",
      "execution_count": null,
      "metadata": {
        "id": "PbixHm6IBF68"
      },
      "outputs": [],
      "source": [
        "from sklearn.datasets import fetch_openml\n",
        "from sklearn.preprocessing import StandardScaler\n",
        "from sklearn.pipeline import make_pipeline\n",
        "from sklearn.linear_model import LogisticRegression\n",
        "from sklearn.model_selection import train_test_split\n",
        "\n",
        "X, y = fetch_openml(data_id=1464, return_X_y=True)\n",
        "X_train, X_test, y_train, y_test = train_test_split(X,\n",
        "                                                    y,\n",
        "                                                    stratify=y,\n",
        "                                                    random_state=0)\n",
        "print(y_test)\n"
      ]
    },
    {
      "cell_type": "markdown",
      "metadata": {
        "id": "p3nKOpuyBF6-"
      },
      "source": [
        "we create and trian a Logistic Regression Model to make preditions:"
      ]
    },
    {
      "cell_type": "code",
      "execution_count": null,
      "metadata": {
        "id": "7d25dcg5BF6-",
        "outputId": "90a1c1c4-53ec-4147-fd2b-65912b125e5b",
        "colab": {
          "base_uri": "https://localhost:8080/"
        }
      },
      "outputs": [
        {
          "output_type": "execute_result",
          "data": {
            "text/plain": [
              "Pipeline(steps=[('standardscaler', StandardScaler()),\n",
              "                ('logisticregression', LogisticRegression(random_state=0))])"
            ]
          },
          "metadata": {},
          "execution_count": 2
        }
      ],
      "source": [
        "clf = make_pipeline(StandardScaler(), LogisticRegression(random_state=0))\n",
        "clf.fit(X_train, y_train)"
      ]
    },
    {
      "cell_type": "markdown",
      "metadata": {
        "id": "alzFJ4TrBF6_"
      },
      "source": [
        "Let's see the model's performance:"
      ]
    },
    {
      "cell_type": "code",
      "execution_count": null,
      "metadata": {
        "id": "7-kSDc2qBF6_",
        "outputId": "a3bff70c-d958-42ec-e0f0-7f0c77dabe19",
        "colab": {
          "base_uri": "https://localhost:8080/",
          "height": 283
        }
      },
      "outputs": [
        {
          "output_type": "display_data",
          "data": {
            "image/png": "[encoded data removed]",
            "text/plain": [
              "<Figure size 432x288 with 2 Axes>"
            ]
          },
          "metadata": {
            "needs_background": "light"
          }
        }
      ],
      "source": [
        "from sklearn.metrics import confusion_matrix\n",
        "from sklearn.metrics import ConfusionMatrixDisplay\n",
        "\n",
        "y_pred = clf.predict(X_test)\n",
        "cm = confusion_matrix(y_test, y_pred)\n",
        "cm_display = ConfusionMatrixDisplay(cm).plot()"
      ]
    },
    {
      "cell_type": "markdown",
      "metadata": {
        "id": "2QqeUgnyBF7B"
      },
      "source": [
        "1.2 Precision-Recall Curve"
      ]
    },
    {
      "cell_type": "code",
      "execution_count": null,
      "metadata": {
        "id": "sFgxr2RUBF7B",
        "outputId": "f8a48753-47df-4e49-98a2-2e24420af55e",
        "colab": {
          "base_uri": "https://localhost:8080/",
          "height": 279
        }
      },
      "outputs": [
        {
          "output_type": "display_data",
          "data": {
            "image/png": "[encoded data removed]",
            "text/plain": [
              "<Figure size 432x288 with 1 Axes>"
            ]
          },
          "metadata": {
            "needs_background": "light"
          }
        }
      ],
      "source": [
        "from sklearn.metrics import precision_recall_curve\n",
        "from sklearn.metrics import PrecisionRecallDisplay\n",
        "\n",
        "y_score = clf.decision_function(X_test)\n",
        "y_log_proba = clf.predict_log_proba(X_test)\n",
        "y_proba = clf.predict_proba(X_test)\n",
        "prec, recall, _ = precision_recall_curve(y_test,\n",
        "                                         y_score,\n",
        "                                         pos_label=clf.classes_[1])\n",
        "pr_display = PrecisionRecallDisplay(precision=prec, recall=recall).plot()"
      ]
    },
    {
      "cell_type": "markdown",
      "metadata": {
        "id": "uC_clG4UBF7C"
      },
      "source": [
        "### 2. Supervised Classifer SVM\n",
        "reference\n",
        "1. [Sklearn - Support Vector Machines](https://scikit-learn.org/stable/modules/svm.html)\n",
        "2. [SVM: Maximum margin separating hyperplane](https://scikit-learn.org/stable/auto_examples/svm/plot_separating_hyperplane.html#sphx-glr-auto-examples-svm-plot-separating-hyperplane-py)"
      ]
    },
    {
      "cell_type": "markdown",
      "metadata": {
        "id": "ixa_j34GBF7D"
      },
      "source": [
        "We first create a toy dataset:"
      ]
    },
    {
      "cell_type": "code",
      "execution_count": null,
      "metadata": {
        "id": "UdQlweqNBF7D",
        "outputId": "3fcbdcb6-814d-4b85-e913-3ae684caad15",
        "colab": {
          "base_uri": "https://localhost:8080/",
          "height": 282
        }
      },
      "outputs": [
        {
          "output_type": "execute_result",
          "data": {
            "text/plain": [
              "<matplotlib.collections.PathCollection at 0x7f2a873c3d10>"
            ]
          },
          "metadata": {},
          "execution_count": 5
        },
        {
          "output_type": "display_data",
          "data": {
            "image/png": "[encoded data removed]",
            "text/plain": [
              "<Figure size 432x288 with 1 Axes>"
            ]
          },
          "metadata": {
            "needs_background": "light"
          }
        }
      ],
      "source": [
        "import numpy as np\n",
        "import matplotlib.pyplot as plt\n",
        "from sklearn import svm\n",
        "from sklearn.datasets import make_blobs\n",
        "\n",
        "# we create 40 separable points\n",
        "X, y = make_blobs(n_samples=40, centers=2, random_state=6)\n",
        "#%%\n",
        "plt.scatter(X[:, 0], X[:, 1], c=y, s=30, cmap=plt.cm.Paired)"
      ]
    },
    {
      "cell_type": "markdown",
      "metadata": {
        "id": "BTrwVNHfBF7D"
      },
      "source": [
        "then we construct a SVM estimator, and feed it with our toy dataset:"
      ]
    },
    {
      "cell_type": "code",
      "execution_count": null,
      "metadata": {
        "id": "PPu5pXvqBF7E",
        "outputId": "ff380de3-353c-486b-9fdb-41d97d55f1c4",
        "colab": {
          "base_uri": "https://localhost:8080/"
        }
      },
      "outputs": [
        {
          "output_type": "execute_result",
          "data": {
            "text/plain": [
              "SVC(C=1000, kernel='linear')"
            ]
          },
          "metadata": {},
          "execution_count": 6
        }
      ],
      "source": [
        "# fit the model, don't regularize for illustration purposes\n",
        "clf = svm.SVC(kernel=\"linear\", C=1000)  # ~ no L2 Penalty\n",
        "clf.fit(X, y)"
      ]
    },
    {
      "cell_type": "markdown",
      "metadata": {
        "id": "NdogHAhUBF7E"
      },
      "source": [
        "now the SVM estimator has been trained. But how do we know what the trained SVM estimator will perform on arbitrary data?\n",
        "We may want to visualize the hyper-dimension space. "
      ]
    },
    {
      "cell_type": "code",
      "execution_count": null,
      "metadata": {
        "id": "FmgXmA3HBF7E",
        "outputId": "c8f24900-6f64-4666-ae26-8f0568745182",
        "colab": {
          "base_uri": "https://localhost:8080/",
          "height": 320
        }
      },
      "outputs": [
        {
          "output_type": "display_data",
          "data": {
            "image/png": "[encoded data removed]",
            "text/plain": [
              "<Figure size 360x360 with 1 Axes>"
            ]
          },
          "metadata": {}
        }
      ],
      "source": [
        "# create grid to evaluate model\n",
        "xx = np.linspace(np.min(X[:,0]), np.max(X[:,0]), 30)\n",
        "yy = np.linspace(np.min(X[:,1]), np.max(X[:,1]), 30)\n",
        "YY, XX = np.meshgrid(yy, xx)\n",
        "xy = np.vstack([XX.ravel(), YY.ravel()]).T\n",
        "Z = clf.decision_function(xy).reshape(XX.shape)\n",
        "\n",
        "from matplotlib import pyplot as plt\n",
        "import numpy as np\n",
        "plt.style.use('ggplot')\n",
        "fig, axs = plt.subplots(1, 1, figsize=(5, 5), squeeze=False)\n",
        "ax = axs[0][0]\n",
        "\n",
        "# plot dataset\n",
        "ax.scatter(X[:, 0], X[:, 1], c=y, s=30, cmap=plt.cm.Paired)\n",
        "\n",
        "# plot decision boundary and margins\n",
        "ax.contour(XX,\n",
        "           YY,\n",
        "           Z,\n",
        "           colors=\"k\",\n",
        "           levels=[-1, 0, 1],\n",
        "           alpha=0.5,\n",
        "           linestyles=[\"--\", \"-\", \"--\"])\n",
        "\n",
        "# plot support vectors\n",
        "ax.scatter(\n",
        "    clf.support_vectors_[:, 0],\n",
        "    clf.support_vectors_[:, 1],\n",
        "    s=100,\n",
        "    linewidth=1,\n",
        "    facecolors=\"none\",\n",
        "    edgecolors=\"k\",\n",
        ")\n",
        "plt.show()\n"
      ]
    },
    {
      "cell_type": "code",
      "source": [
        ""
      ],
      "metadata": {
        "id": "q9ZsRGeyBL7f"
      },
      "execution_count": null,
      "outputs": []
    }
  ],
  "metadata": {
    "interpreter": {
      "hash": "d5239147aa3fe4761446b00817b6805e54e1e56e1c8e2d38351e6ce2fe90a664"
    },
    "kernelspec": {
      "display_name": "Python 3.8.8 ('base')",
      "language": "python",
      "name": "python3"
    },
    "language_info": {
      "codemirror_mode": {
        "name": "ipython",
        "version": 3
      },
      "file_extension": ".py",
      "mimetype": "text/x-python",
      "name": "python",
      "nbconvert_exporter": "python",
      "pygments_lexer": "ipython3",
      "version": "3.8.8"
    },
    "orig_nbformat": 4,
    "colab": {
      "name": "metric.ipynb",
      "provenance": [],
      "collapsed_sections": [],
      "include_colab_link": true
    }
  },
  "nbformat": 4,
  "nbformat_minor": 0
}
