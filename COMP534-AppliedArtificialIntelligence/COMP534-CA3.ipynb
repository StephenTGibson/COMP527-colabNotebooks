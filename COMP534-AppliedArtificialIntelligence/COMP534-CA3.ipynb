{
  "cells": [
    {
      "cell_type": "markdown",
      "metadata": {
        "id": "view-in-github",
        "colab_type": "text"
      },
      "source": [
        "<a href=\"https://colab.research.google.com/github/StephenTGibson/MScDataSci_21-22/blob/main/COMP534-AppliedArtificialIntelligence/COMP534-CA3.ipynb\" target=\"_parent\"><img src=\"https://colab.research.google.com/assets/colab-badge.svg\" alt=\"Open In Colab\"/></a>"
      ]
    },
    {
      "cell_type": "markdown",
      "metadata": {
        "id": "rqP6Eo01wCmh"
      },
      "source": [
        "# COMP 534 - Applied Artificial Intelligence\n",
        "## CA3 - Image Classification with Convolutional Neural Networks\n",
        "This notebook was produced as a deliverable for a group project for the above module, as part of the 2021-2022 Data Science and Artificial Intelligence MSc course at the University of Liverpool.\n",
        "\n",
        "It comprises a performance analysis of two pre-trained CNNs. A new model is proposed to improve performance. The analysis is based on a multiclass classification problem using a dataset consisting of X-ray images of patients who are either healthy, diagnosed with covid-19, or diagnosed with pneumonia.\n",
        "### Preparation\n",
        "Import required libraries"
      ]
    },
    {
      "cell_type": "code",
      "execution_count": 1,
      "metadata": {
        "id": "MkOx8MWpfwv4"
      },
      "outputs": [],
      "source": [
        "# file handling\n",
        "import os\n",
        "import shutil\n",
        "# matrix manipulation and data handling\n",
        "import numpy as np\n",
        "import pandas as pd\n",
        "# creating plots\n",
        "import matplotlib.pyplot as plt\n",
        "import seaborn as sns\n",
        "# monitoring training progress\n",
        "from time import perf_counter\n",
        "# pytorch library and utilities\n",
        "import torch\n",
        "from torch import nn\n",
        "from torchvision.datasets import ImageFolder\n",
        "from torch.utils.data import DataLoader\n",
        "from torchvision import transforms\n",
        "# set random seeds for reproducibility\n",
        "np.random.seed(123)\n",
        "torch.manual_seed(321)\n",
        "# sklearn evaluation utilities\n",
        "from sklearn.metrics import confusion_matrix, ConfusionMatrixDisplay\n",
        "from sklearn.metrics import accuracy_score\n",
        "from sklearn.metrics import precision_score\n",
        "from sklearn.metrics import recall_score\n",
        "from sklearn.metrics import f1_score\n",
        "# use colab gpu if enabled via runtime menu\n",
        "device = torch.device('cuda:0' if torch.cuda.is_available() else 'cpu')\n",
        "device"
      ]
    },
    {
      "cell_type": "markdown",
      "metadata": {
        "id": "dBJZUj5Fs9kZ"
      },
      "source": [
        "### Load dataset\n",
        "Dataset downloadable from kaggle here:  \n",
        "https://www.kaggle.com/datasets/prashant268/chest-xray-covid19-pneumonia - last accessed on 06/05/22\n",
        "\n",
        "A cleaned version of the dataset was produced and can be found here:  \n",
        "https://www.kaggle.com/datasets/yazanqasem/assignment - last accessed on 09/05/22\n",
        "\n",
        "Load directly from kaggle to notebook. Note, for this to run you need to have your own kaggle API access token stored in the root directory of your Google Drive"
      ]
    },
    {
      "cell_type": "code",
      "execution_count": 3,
      "metadata": {
        "colab": {
          "base_uri": "https://localhost:8080/"
        },
        "collapsed": true,
        "id": "LYLr2zEpp4N1",
        "outputId": "bfe3d21e-8f34-4527-ed3f-a3e589e6b898"
      },
      "outputs": [
        {
          "output_type": "stream",
          "name": "stdout",
          "text": [
            "Mounted at /content/drive\n",
            "Downloading assignment.zip to /content\n",
            "100% 2.01G/2.02G [00:42<00:00, 98.6MB/s]\n",
            "100% 2.02G/2.02G [00:42<00:00, 51.1MB/s]\n"
          ]
        }
      ],
      "source": [
        "# mount googledrive\n",
        "from google.colab import drive\n",
        "drive.mount('/content/drive')\n",
        "!pip install kaggle > /dev/null\n",
        "!mkdir ~/.kaggle\n",
        "# copy kaggle access token from googledrive\n",
        "!cp /content/drive/MyDrive/kaggle.json ~/.kaggle/kaggle.json\n",
        "!chmod 600 ~/.kaggle/kaggle.json\n",
        "# download and unzip dataset\n",
        "!kaggle datasets download yazanqasem/assignment\n",
        "!unzip /content/assignment.zip > /dev/null"
      ]
    },
    {
      "cell_type": "markdown",
      "metadata": {
        "id": "440ODCYMSWDY"
      },
      "source": [
        "### Create validation split\n",
        "A validation split will be taken from the training data to monitor training performance. Due to the class imbalance, the split will be stratified to maintain the same imbalance across the validation set. The train and test sets already have a constant class imbalance."
      ]
    },
    {
      "cell_type": "code",
      "execution_count": 4,
      "metadata": {
        "id": "3V09d3ldSUww"
      },
      "outputs": [],
      "source": [
        "# define proportion of training data to be used in validation split\n",
        "validSplit = 0.2"
      ]
    },
    {
      "cell_type": "code",
      "execution_count": 5,
      "metadata": {
        "id": "NjllTONZSzDv"
      },
      "outputs": [],
      "source": [
        "# create folders for validation data\n",
        "!mkdir /content/Data/valid\n",
        "!mkdir /content/Data/valid/COVID19/\n",
        "!mkdir /content/Data/valid/NORMAL/\n",
        "!mkdir /content/Data/valid/PNEUMONIA/"
      ]
    },
    {
      "cell_type": "code",
      "execution_count": 6,
      "metadata": {
        "id": "vpN4lPVzFTTg"
      },
      "outputs": [],
      "source": [
        "# create variables for folder path of each data split\n",
        "trainFolder = '/content/Data/train/'\n",
        "validFolder = '/content/Data/valid/'\n",
        "testFolder = '/content/Data/test/'"
      ]
    },
    {
      "cell_type": "code",
      "execution_count": 7,
      "metadata": {
        "id": "Ty5mbEbKUbbI"
      },
      "outputs": [],
      "source": [
        "# loop over class folders in training folder\n",
        "for classFolder in os.listdir(trainFolder):    \n",
        "    # count number of images\n",
        "    imgCount = len(os.listdir(trainFolder+classFolder))\n",
        "    # create 1d array where each element corresponds to the index of image in current folder\n",
        "    imgIdxArray = np.array(range(imgCount))\n",
        "    # randomly select validation split proportion of indices\n",
        "    selectIdxArray = np.random.choice(imgIdxArray, int(imgCount*validSplit), replace=False)\n",
        "    # loop over images in folder\n",
        "    for i, imgName in enumerate(os.listdir(trainFolder+classFolder)):\n",
        "        # if image index has been selected, move to validation folder\n",
        "        if i in selectIdxArray:\n",
        "            source = trainFolder+classFolder+'/'+imgName\n",
        "            destination = validFolder+classFolder+'/'+imgName\n",
        "            shutil.move(source, destination)"
      ]
    },
    {
      "cell_type": "markdown",
      "metadata": {
        "id": "gWeKi72qIWwn"
      },
      "source": [
        "Confirm contents of each folder with added validation split"
      ]
    },
    {
      "cell_type": "code",
      "execution_count": 8,
      "metadata": {
        "colab": {
          "base_uri": "https://localhost:8080/"
        },
        "id": "1KZgAc5ZQYUr",
        "outputId": "622e5036-5f36-4876-abc4-3629baaf5f88"
      },
      "outputs": [
        {
          "output_type": "stream",
          "name": "stdout",
          "text": [
            "valid split contains 1008 images\n",
            "PNEUMONIA class: 66.6%\n",
            "COVID19 class: 8.4%\n",
            "NORMAL class: 25.0%\n",
            "\n",
            "test split contains 1269 images\n",
            "PNEUMONIA class: 66.1%\n",
            "COVID19 class: 8.9%\n",
            "NORMAL class: 25.0%\n",
            "\n",
            "train split contains 4040 images\n",
            "PNEUMONIA class: 66.5%\n",
            "COVID19 class: 8.5%\n",
            "NORMAL class: 25.0%\n",
            "\n"
          ]
        }
      ],
      "source": [
        "dir = '/content/Data'\n",
        "# loop over folders\n",
        "for folderSplit in os.listdir(dir):\n",
        "    # initialise dict to count each class within splits\n",
        "    folderDict = {}\n",
        "    # variable to count total images in current split\n",
        "    splitCount = 0\n",
        "    filePath1 = dir +'/'+ folderSplit\n",
        "    # loop over next level folders\n",
        "    for folderClass in os.listdir(filePath1):\n",
        "        filePath2 = filePath1 +'/'+ folderClass\n",
        "        # count images current folder\n",
        "        count = len(os.listdir(filePath2))\n",
        "        # increment split count\n",
        "        splitCount += count\n",
        "        # store class count\n",
        "        folderDict[folderClass] = count\n",
        "    # print summary of counts\n",
        "    print(f'{folderSplit} split contains {splitCount} images')\n",
        "    for item in folderDict.items():        \n",
        "        print(f'{item[0]} class: {(100 * item[1] / splitCount):.1f}%')\n",
        "    print('')"
      ]
    },
    {
      "cell_type": "markdown",
      "source": [
        "There is a class imbalance across the dataset. The imbalance is constant across each split. A class weights vector is defined in order to account for this imbalance."
      ],
      "metadata": {
        "id": "WeJaxSdVyydw"
      }
    },
    {
      "cell_type": "code",
      "source": [
        "# calculate class weights vector using validation split counts (imbalance is constant across splits)\n",
        "classWeights = torch.Tensor([[(splitCount / (len(folderDict) * classCount)) for classCount in folderDict.values()]])\n",
        "classWeights = nn.functional.normalize(classWeights)\n",
        "classWeights = classWeights.reshape(3)\n",
        "classWeights = classWeights.to(device)"
      ],
      "metadata": {
        "id": "12lrpZDxxXDo"
      },
      "execution_count": 31,
      "outputs": []
    },
    {
      "cell_type": "markdown",
      "metadata": {
        "id": "q4YWUpzUNyXd"
      },
      "source": [
        "### Pre-processing\n",
        "All pytorch pretrained models expect the same model input. A series of transforms will be applied to ensure the input tensors are in the correct form."
      ]
    },
    {
      "cell_type": "code",
      "execution_count": 32,
      "metadata": {
        "id": "3PKHKYA6OOxm"
      },
      "outputs": [],
      "source": [
        "# create transforms for use with pretrained models\n",
        "transformsPretrained = transforms.Compose([\n",
        "                                        # pretrained models require 3 channel input (R=G=B in this case)\n",
        "                                        transforms.Grayscale(num_output_channels=3),\n",
        "                                        transforms.Resize(256),\n",
        "                                        transforms.CenterCrop(224),\n",
        "                                        transforms.ToTensor(),\n",
        "                                        transforms.Normalize(\n",
        "                                            mean=[0.485, 0.456, 0.406],\n",
        "                                            std=[0.229, 0.224, 0.225])\n",
        "                                        ])"
      ]
    },
    {
      "cell_type": "markdown",
      "metadata": {
        "id": "haH7L-__TvqK"
      },
      "source": [
        "### Create dataloaders\n",
        "Pytorch dataloaders provide an effective method to feed data"
      ]
    },
    {
      "cell_type": "code",
      "execution_count": 33,
      "metadata": {
        "id": "NZjvPrmbfQ2A"
      },
      "outputs": [],
      "source": [
        "# define batch size\n",
        "batchSize = 128"
      ]
    },
    {
      "cell_type": "code",
      "execution_count": 34,
      "metadata": {
        "id": "EN0PVRPgRzmM"
      },
      "outputs": [],
      "source": [
        "# create image folder objects for each split and apply preprocessing transforms\n",
        "trainData = ImageFolder(\n",
        "    root=trainFolder,\n",
        "    transform=transformsPretrained\n",
        "    )\n",
        "\n",
        "validData = ImageFolder(\n",
        "    root=validFolder,\n",
        "    transform=transformsPretrained\n",
        "    )\n",
        "\n",
        "testData = ImageFolder(\n",
        "    root=testFolder,\n",
        "    transform=transformsPretrained\n",
        "    )"
      ]
    },
    {
      "cell_type": "code",
      "execution_count": 35,
      "metadata": {
        "id": "LZPuEYd4n9GP"
      },
      "outputs": [],
      "source": [
        "# create data loader objects for each split, only shuffle training split\n",
        "trainDataLoader = DataLoader(\n",
        "    trainData,\n",
        "    batch_size=batchSize,    \n",
        "    shuffle=True\n",
        "    )\n",
        "\n",
        "validDataLoader = DataLoader(\n",
        "    validData,\n",
        "    batch_size=batchSize,\n",
        "    shuffle=False\n",
        "    )\n",
        "\n",
        "testDataLoader = DataLoader(\n",
        "    testData,\n",
        "    batch_size=batchSize,\n",
        "    shuffle=False\n",
        "    )"
      ]
    },
    {
      "cell_type": "code",
      "execution_count": 36,
      "metadata": {
        "id": "Qr0oUuMW2GpP"
      },
      "outputs": [],
      "source": [
        "# store class label mapping\n",
        "labelMap = trainData.class_to_idx"
      ]
    },
    {
      "cell_type": "markdown",
      "metadata": {
        "id": "t22do2W4PsFB"
      },
      "source": [
        "### Training\n",
        "To set up the training process a number of parameters are defined."
      ]
    },
    {
      "cell_type": "code",
      "execution_count": 37,
      "metadata": {
        "id": "8cyoSfQqPx48"
      },
      "outputs": [],
      "source": [
        "# store count of number of classes\n",
        "numClasses = len(labelMap)\n",
        "# calculate steps per epoch for training and validation splits\n",
        "trainStepsEpoch = (len(trainData) // batchSize) + 1\n",
        "validStepsEpoch = (len(validData) // batchSize) + 1\n",
        "# define learning rate\n",
        "lr = 0.01\n",
        "# define loss function\n",
        "lossFunction = nn.CrossEntropyLoss(weight=classWeights)"
      ]
    },
    {
      "cell_type": "markdown",
      "metadata": {
        "id": "i-eq5twUTHOf"
      },
      "source": [
        "A training function is defined for use with the pretrained models."
      ]
    },
    {
      "cell_type": "code",
      "execution_count": 38,
      "metadata": {
        "id": "sSUhNdvJS94j"
      },
      "outputs": [],
      "source": [
        "def trainer(model, epochs):\n",
        "    # dictionary to store training evaluation\n",
        "    history = {\n",
        "        'trainLoss': [],\n",
        "        'validLoss': [],\n",
        "        'trainAccuracy': [],\n",
        "        'validAccuracy': []\n",
        "        }\n",
        "    # iterate over training epochs\n",
        "    for epoch in range(epochs):\n",
        "        # start timer for progress monitoring\n",
        "        startTime = perf_counter()\n",
        "        # put model into training mode\n",
        "        model.train()\n",
        "        # initialise epoch evaluation metrics\n",
        "        epochTrainLoss = 0\n",
        "        epochValidLoss = 0\n",
        "        epochTrainCorrect = 0\n",
        "        epochValidCorrect = 0\n",
        "        # iterate over train data batches\n",
        "        for idx, (X, label) in enumerate(trainDataLoader):\n",
        "            # send to gpu if available\n",
        "            (X, label) = (X.to(device), label.to(device))\n",
        "            # batch training cycle\n",
        "            optimiser.zero_grad()\n",
        "            prediction = model(X)\n",
        "            loss = lossFunction(prediction, label)\n",
        "            loss.backward()            \n",
        "            # increment current epoch loss and count of correct classifications\n",
        "            epochTrainLoss += loss\n",
        "            epochTrainCorrect += (prediction.argmax(1) == label).type(torch.float).sum().item()\n",
        "            # for code development purposes only\n",
        "            # if idx == 0:\n",
        "            #     break\n",
        "        # validation\n",
        "        # disable gradient calculation\n",
        "        with torch.no_grad():\n",
        "            # put model in evaluation mode\n",
        "            model.eval()\n",
        "            # loop over validation data batches\n",
        "            for idx, (X, label) in enumerate(validDataLoader):\n",
        "                # send to gpu if available\n",
        "                (X, label) = (X.to(device), label.to(device))\n",
        "                # make the predictions\n",
        "                prediction = model(X)\n",
        "                # increment current epoch loss and count of correct classifications\n",
        "                epochValidLoss += lossFunction(prediction, label)\n",
        "                epochValidCorrect += (prediction.argmax(1) == label).type(torch.float).sum().item()\n",
        "                # for code development purposes only\n",
        "                # if idx == 0:\n",
        "                #     break\n",
        "        # calculate mean training and validation losses for epoch\n",
        "        meanEpochTrainLoss = epochTrainLoss / trainStepsEpoch\n",
        "        meanEpochValidLoss = epochValidLoss / validStepsEpoch\n",
        "        # calculate training and validation accuracies for epoch\n",
        "        trainEpochAccuracy =  100 * epochTrainCorrect / len(trainData)\n",
        "        validEpochAccuracy = 100 * epochValidCorrect / len(validData)\n",
        "        # store training history\n",
        "        history['trainLoss'].append(meanEpochTrainLoss.cpu().detach().numpy().item())\n",
        "        history['validLoss'].append(meanEpochValidLoss.cpu().detach().numpy().item())\n",
        "        history['trainAccuracy'].append(trainEpochAccuracy)\n",
        "        history['validAccuracy'].append(validEpochAccuracy)\n",
        "        # end epoch timer\n",
        "        endTime = perf_counter()\n",
        "        # print summary of epoch\n",
        "        print(f'Epoch: {epoch+1}. Time taken: {int((endTime-startTime)//60)}mins{int((endTime-startTime)%60)}s')\n",
        "        print(f'Training loss: {meanEpochTrainLoss:.2f} --- Validation loss: {meanEpochValidLoss:.2f} --- Training accuracy: {trainEpochAccuracy:.2f}% --- Validation accuracy: {validEpochAccuracy:.2f}%')\n",
        "    return history"
      ]
    },
    {
      "cell_type": "markdown",
      "source": [
        "### Testing\n",
        "A tester function is defined in order to evaluate model performance."
      ],
      "metadata": {
        "id": "m6A41U_F5Bau"
      }
    },
    {
      "cell_type": "code",
      "source": [
        "def tester(model):\n",
        "    # initialise array to hold results\n",
        "    resultsArray = np.zeros((len(testData), 2))\n",
        "    # disable gradient calculation\n",
        "    with torch.no_grad():\n",
        "        # put model in evaluation mode\n",
        "        model.eval()\n",
        "        # loop over the validation data batches\n",
        "        for idx, (X, label) in enumerate(testDataLoader):\n",
        "            # send input to gpu if available\n",
        "            (X, label) = (X.to(device), label.to(device))\n",
        "            # make predictions on inputs\n",
        "            prediction = model(X)\n",
        "            # store batch predictions and true labels in numpy array\n",
        "            predictionNp = prediction.argmax(1).cpu().detach().numpy()\n",
        "            labelNp = label.cpu().detach().numpy()\n",
        "            # get start and end of current batch indices\n",
        "            start = idx * batchSize\n",
        "            end = (idx+1) * batchSize\n",
        "            # store in results array\n",
        "            resultsArray[start:end, 0] = labelNp.copy()\n",
        "            resultsArray[start:end, 1] = predictionNp.copy()\n",
        "            # for code development purposes only\n",
        "            # if idx == 3:\n",
        "            #     break\n",
        "    return resultsArray"
      ],
      "metadata": {
        "id": "Y-pbB4bZ5AN-"
      },
      "execution_count": 39,
      "outputs": []
    },
    {
      "cell_type": "markdown",
      "source": [
        "### Evaluation"
      ],
      "metadata": {
        "id": "NOe0xzzeJSWI"
      }
    },
    {
      "cell_type": "code",
      "source": [
        "# initialise dataframe to store metrics for each model\n",
        "evaluationDf = pd.DataFrame(columns=['Model', 'Accuracy', 'Precision', 'Recall', 'F-Score'])\n",
        "# function to add compute metrics from results\n",
        "def evaluationMetrics(modelName, resultsArray):\n",
        "    return {\n",
        "        'Model': modelName,\n",
        "        'Accuracy': accuracy_score(resultsArray[:,0], resultsArray[:,1]),\n",
        "        'Precision': precision_score(resultsArray[:,0], resultsArray[:,1], average='weighted'),\n",
        "        'Recall': recall_score(resultsArray[:,0], resultsArray[:,1], average='weighted'),        \n",
        "        'F-Score': f1_score(resultsArray[:,0], resultsArray[:,1], average='weighted')\n",
        "    }"
      ],
      "metadata": {
        "id": "dDdHK2OYJPj5"
      },
      "execution_count": 84,
      "outputs": []
    },
    {
      "cell_type": "markdown",
      "metadata": {
        "id": "0WU8c64mPpIJ"
      },
      "source": [
        "### VGG11 pretrained model"
      ]
    },
    {
      "cell_type": "code",
      "execution_count": 40,
      "metadata": {
        "colab": {
          "base_uri": "https://localhost:8080/"
        },
        "id": "b8qIXAFhnhlu",
        "outputId": "1ed7421a-b320-4096-e934-6b793be8e22d"
      },
      "outputs": [
        {
          "output_type": "stream",
          "name": "stderr",
          "text": [
            "Using cache found in /root/.cache/torch/hub/pytorch_vision_v0.10.0\n"
          ]
        }
      ],
      "source": [
        "# load pretrained vgg11 model\n",
        "vgg11 = torch.hub.load('pytorch/vision:v0.10.0', 'vgg11', pretrained=True)\n",
        "# set all parameters to be fixed\n",
        "for parameter in vgg11.parameters():\n",
        "\tparameter.requires_grad = False\n",
        "# modify last layer to have required number of outputs\n",
        "vgg11.classifier[-1] = nn.Linear(vgg11.classifier[-1].in_features, numClasses)\n",
        "# send model to gpu if available\n",
        "vgg11 = vgg11.to(device)\n",
        "# initialise optimiser for training the output layer weights only\n",
        "optimiser = torch.optim.Adam(vgg11.classifier[-1].parameters(), lr=lr)"
      ]
    },
    {
      "cell_type": "markdown",
      "source": [
        "Training"
      ],
      "metadata": {
        "id": "n3FHyDO05vdO"
      }
    },
    {
      "cell_type": "code",
      "execution_count": 41,
      "metadata": {
        "colab": {
          "base_uri": "https://localhost:8080/"
        },
        "id": "WxotfQsHohOS",
        "outputId": "a1f033eb-6577-4360-afea-28240c6ec4ac"
      },
      "outputs": [
        {
          "output_type": "stream",
          "name": "stdout",
          "text": [
            "Epoch: 1. Time taken: 4mins24s\n",
            "Training loss: 1.05 --- Validation loss: 1.02 --- Training accuracy: 37.52% --- Validation accuracy: 31.45%\n",
            "Epoch: 2. Time taken: 4mins22s\n",
            "Training loss: 1.05 --- Validation loss: 1.02 --- Training accuracy: 37.52% --- Validation accuracy: 31.45%\n",
            "Epoch: 3. Time taken: 4mins23s\n",
            "Training loss: 1.05 --- Validation loss: 1.02 --- Training accuracy: 37.48% --- Validation accuracy: 31.45%\n",
            "Epoch: 4. Time taken: 4mins29s\n",
            "Training loss: 1.04 --- Validation loss: 1.02 --- Training accuracy: 37.05% --- Validation accuracy: 31.45%\n",
            "Epoch: 5. Time taken: 4mins25s\n",
            "Training loss: 1.05 --- Validation loss: 1.02 --- Training accuracy: 35.84% --- Validation accuracy: 31.45%\n",
            "Epoch: 6. Time taken: 4mins23s\n",
            "Training loss: 1.05 --- Validation loss: 1.02 --- Training accuracy: 37.18% --- Validation accuracy: 31.45%\n",
            "Epoch: 7. Time taken: 4mins21s\n",
            "Training loss: 1.05 --- Validation loss: 1.02 --- Training accuracy: 37.62% --- Validation accuracy: 31.45%\n",
            "Epoch: 8. Time taken: 4mins21s\n",
            "Training loss: 1.04 --- Validation loss: 1.02 --- Training accuracy: 38.00% --- Validation accuracy: 31.45%\n",
            "Epoch: 9. Time taken: 4mins20s\n",
            "Training loss: 1.05 --- Validation loss: 1.02 --- Training accuracy: 35.99% --- Validation accuracy: 31.45%\n",
            "Epoch: 10. Time taken: 4mins34s\n",
            "Training loss: 1.04 --- Validation loss: 1.02 --- Training accuracy: 39.38% --- Validation accuracy: 31.45%\n"
          ]
        }
      ],
      "source": [
        "# train model and store training history\n",
        "vgg11History = trainer(vgg11, 10)"
      ]
    },
    {
      "cell_type": "code",
      "source": [
        "# create dataframe from results dictionary\n",
        "df = pd.DataFrame(vgg11History)\n",
        "df = df.reset_index()\n",
        "df = df.rename(columns={'index':'Epoch'})\n",
        "# change results to a long form for plotting\n",
        "dfLoss = df.rename(columns={'trainLoss':'Training',\t'validLoss':'Validation'})\n",
        "dfLoss = pd.melt(\n",
        "    dfLoss,\n",
        "    id_vars=['Epoch'],\n",
        "    value_vars=['Training', 'Validation'],\n",
        "    var_name='Split',\n",
        "    value_name='Loss',)\n",
        "\n",
        "dfAcc = df.rename(columns={'trainAccuracy':'Training',\t'validAccuracy':'Validation'})\n",
        "dfAcc = pd.melt(dfAcc,\n",
        "                 id_vars=['Epoch'],\n",
        "                 value_vars=['Training', 'Validation'],\n",
        "                var_name='Split',\n",
        "                 value_name='Accuracy (%)',)\n",
        "\n",
        "dfLoss = dfLoss.set_index(['Split', 'Epoch'])\n",
        "dfLong = dfAcc.copy()\n",
        "# join loss and accuracy long form dataframes back together\n",
        "dfLong = dfLong.join(dfLoss, on=['Split', 'Epoch'])"
      ],
      "metadata": {
        "id": "m5VgrpMW9AZE"
      },
      "execution_count": 96,
      "outputs": []
    },
    {
      "cell_type": "code",
      "execution_count": 98,
      "metadata": {
        "id": "tE3399p1yEru",
        "colab": {
          "base_uri": "https://localhost:8080/",
          "height": 308
        },
        "outputId": "cf574921-0c99-4e6b-ba5a-d929970cc855"
      },
      "outputs": [
        {
          "output_type": "display_data",
          "data": {
            "text/plain": [
              "<Figure size 576x288 with 2 Axes>"
            ],
            "image/png": "[encoded data removed]"
          },
          "metadata": {
            "needs_background": "light"
          }
        }
      ],
      "source": [
        "# create training performance figure\n",
        "fig, axs = plt.subplots(1, 2, figsize=(8, 4))\n",
        "# plot loss\n",
        "sns.lineplot(ax=axs[0], data=dfLong, x='Epoch', y='Loss', hue='Split')\n",
        "# plot accuracy\n",
        "sns.lineplot(ax=axs[1], data=dfLong, x='Epoch', y='Accuracy (%)', hue='Split')\n",
        "axs[1].get_legend().remove()\n",
        "# add title\n",
        "fig.suptitle('VGG11 training', fontsize=12)\n",
        "\n",
        "fig.savefig('vgg11Training', bbox_inches='tight')\n",
        "plt.show()             "
      ]
    },
    {
      "cell_type": "markdown",
      "source": [
        "Testing"
      ],
      "metadata": {
        "id": "MQobGcVm5ygk"
      }
    },
    {
      "cell_type": "code",
      "source": [
        "# test model and store results\n",
        "vgg11Results = tester(vgg11)"
      ],
      "metadata": {
        "collapsed": true,
        "id": "_3ntXa416UDD"
      },
      "execution_count": 59,
      "outputs": []
    },
    {
      "cell_type": "markdown",
      "source": [
        "Evaluation"
      ],
      "metadata": {
        "id": "VvdGRpQ07G3E"
      }
    },
    {
      "cell_type": "code",
      "source": [
        "labelList = [key for key in labelMap.keys()]\n",
        "labelList"
      ],
      "metadata": {
        "id": "ClAZGWi-Irzn",
        "colab": {
          "base_uri": "https://localhost:8080/"
        },
        "outputId": "7f08824e-6f9b-4b7c-9b76-007406910a84"
      },
      "execution_count": 76,
      "outputs": [
        {
          "output_type": "execute_result",
          "data": {
            "text/plain": [
              "['COVID19', 'NORMAL', 'PNEUMONIA']"
            ]
          },
          "metadata": {},
          "execution_count": 76
        }
      ]
    },
    {
      "cell_type": "code",
      "source": [
        "# create figure for confusion matrix\n",
        "fig, ax = plt.subplots(figsize=(4, 4))\n",
        "# create confusion matrix display\n",
        "vgg11CM = ConfusionMatrixDisplay(    \n",
        "    confusion_matrix=confusion_matrix(vgg11Results[:,0],vgg11Results[:,1]),\n",
        "    display_labels=labelList)\n",
        "# plot confusion matrix\n",
        "vgg11CM.plot(ax=ax,\n",
        "             colorbar=False,\n",
        "             cmap='cividis')\n",
        "\n",
        "# add title\n",
        "fig.suptitle('VGG11 Confusion Matrix', fontsize=12)\n",
        "\n",
        "fig.savefig('vgg11ConfMat', bbox_inches='tight')\n",
        "plt.show()"
      ],
      "metadata": {
        "colab": {
          "base_uri": "https://localhost:8080/",
          "height": 308
        },
        "id": "ljOfEV0oQVg3",
        "outputId": "cf4aa184-048e-4ebb-bac0-f9a3d906cfcb"
      },
      "execution_count": 100,
      "outputs": [
        {
          "output_type": "display_data",
          "data": {
            "text/plain": [
              "<Figure size 288x288 with 1 Axes>"
            ],
            "image/png": "[encoded data removed]"
          },
          "metadata": {
            "needs_background": "light"
          }
        }
      ]
    },
    {
      "cell_type": "code",
      "execution_count": 85,
      "metadata": {
        "id": "Xi4mIbY9x3Jv",
        "colab": {
          "base_uri": "https://localhost:8080/",
          "height": 81
        },
        "outputId": "52c268a2-4cfb-443f-d960-593e48a2af83"
      },
      "outputs": [
        {
          "output_type": "execute_result",
          "data": {
            "text/plain": [
              "   Model  Accuracy  Precision  Recall  F-Score\n",
              "0  VGG11    0.2829   0.355854  0.2829  0.29336"
            ],
            "text/html": [
              "\n",
              "  <div id=\"df-2c527ea2-2331-4a58-a508-865e8951a164\">\n",
              "    <div class=\"colab-df-container\">\n",
              "      <div>\n",
              "<style scoped>\n",
              "    .dataframe tbody tr th:only-of-type {\n",
              "        vertical-align: middle;\n",
              "    }\n",
              "\n",
              "    .dataframe tbody tr th {\n",
              "        vertical-align: top;\n",
              "    }\n",
              "\n",
              "    .dataframe thead th {\n",
              "        text-align: right;\n",
              "    }\n",
              "</style>\n",
              "<table border=\"1\" class=\"dataframe\">\n",
              "  <thead>\n",
              "    <tr style=\"text-align: right;\">\n",
              "      <th></th>\n",
              "      <th>Model</th>\n",
              "      <th>Accuracy</th>\n",
              "      <th>Precision</th>\n",
              "      <th>Recall</th>\n",
              "      <th>F-Score</th>\n",
              "    </tr>\n",
              "  </thead>\n",
              "  <tbody>\n",
              "    <tr>\n",
              "      <th>0</th>\n",
              "      <td>VGG11</td>\n",
              "      <td>0.2829</td>\n",
              "      <td>0.355854</td>\n",
              "      <td>0.2829</td>\n",
              "      <td>0.29336</td>\n",
              "    </tr>\n",
              "  </tbody>\n",
              "</table>\n",
              "</div>\n",
              "      <button class=\"colab-df-convert\" onclick=\"convertToInteractive('df-2c527ea2-2331-4a58-a508-865e8951a164')\"\n",
              "              title=\"Convert this dataframe to an interactive table.\"\n",
              "              style=\"display:none;\">\n",
              "        \n",
              "  <svg xmlns=\"http://www.w3.org/2000/svg\" height=\"24px\"viewBox=\"0 0 24 24\"\n",
              "       width=\"24px\">\n",
              "    <path d=\"M0 0h24v24H0V0z\" fill=\"none\"/>\n",
              "    <path d=\"M18.56 5.44l.94 2.06.94-2.06 2.06-.94-2.06-.94-.94-2.06-.94 2.06-2.06.94zm-11 1L8.5 8.5l.94-2.06 2.06-.94-2.06-.94L8.5 2.5l-.94 2.06-2.06.94zm10 10l.94 2.06.94-2.06 2.06-.94-2.06-.94-.94-2.06-.94 2.06-2.06.94z\"/><path d=\"M17.41 7.96l-1.37-1.37c-.4-.4-.92-.59-1.43-.59-.52 0-1.04.2-1.43.59L10.3 9.45l-7.72 7.72c-.78.78-.78 2.05 0 2.83L4 21.41c.39.39.9.59 1.41.59.51 0 1.02-.2 1.41-.59l7.78-7.78 2.81-2.81c.8-.78.8-2.07 0-2.86zM5.41 20L4 18.59l7.72-7.72 1.47 1.35L5.41 20z\"/>\n",
              "  </svg>\n",
              "      </button>\n",
              "      \n",
              "  <style>\n",
              "    .colab-df-container {\n",
              "      display:flex;\n",
              "      flex-wrap:wrap;\n",
              "      gap: 12px;\n",
              "    }\n",
              "\n",
              "    .colab-df-convert {\n",
              "      background-color: #E8F0FE;\n",
              "      border: none;\n",
              "      border-radius: 50%;\n",
              "      cursor: pointer;\n",
              "      display: none;\n",
              "      fill: #1967D2;\n",
              "      height: 32px;\n",
              "      padding: 0 0 0 0;\n",
              "      width: 32px;\n",
              "    }\n",
              "\n",
              "    .colab-df-convert:hover {\n",
              "      background-color: #E2EBFA;\n",
              "      box-shadow: 0px 1px 2px rgba(60, 64, 67, 0.3), 0px 1px 3px 1px rgba(60, 64, 67, 0.15);\n",
              "      fill: #174EA6;\n",
              "    }\n",
              "\n",
              "    [theme=dark] .colab-df-convert {\n",
              "      background-color: #3B4455;\n",
              "      fill: #D2E3FC;\n",
              "    }\n",
              "\n",
              "    [theme=dark] .colab-df-convert:hover {\n",
              "      background-color: #434B5C;\n",
              "      box-shadow: 0px 1px 3px 1px rgba(0, 0, 0, 0.15);\n",
              "      filter: drop-shadow(0px 1px 2px rgba(0, 0, 0, 0.3));\n",
              "      fill: #FFFFFF;\n",
              "    }\n",
              "  </style>\n",
              "\n",
              "      <script>\n",
              "        const buttonEl =\n",
              "          document.querySelector('#df-2c527ea2-2331-4a58-a508-865e8951a164 button.colab-df-convert');\n",
              "        buttonEl.style.display =\n",
              "          google.colab.kernel.accessAllowed ? 'block' : 'none';\n",
              "\n",
              "        async function convertToInteractive(key) {\n",
              "          const element = document.querySelector('#df-2c527ea2-2331-4a58-a508-865e8951a164');\n",
              "          const dataTable =\n",
              "            await google.colab.kernel.invokeFunction('convertToInteractive',\n",
              "                                                     [key], {});\n",
              "          if (!dataTable) return;\n",
              "\n",
              "          const docLinkHtml = 'Like what you see? Visit the ' +\n",
              "            '<a target=\"_blank\" href=https://colab.research.google.com/notebooks/data_table.ipynb>data table notebook</a>'\n",
              "            + ' to learn more about interactive tables.';\n",
              "          element.innerHTML = '';\n",
              "          dataTable['output_type'] = 'display_data';\n",
              "          await google.colab.output.renderOutput(dataTable, element);\n",
              "          const docLink = document.createElement('div');\n",
              "          docLink.innerHTML = docLinkHtml;\n",
              "          element.appendChild(docLink);\n",
              "        }\n",
              "      </script>\n",
              "    </div>\n",
              "  </div>\n",
              "  "
            ]
          },
          "metadata": {},
          "execution_count": 85
        }
      ],
      "source": [
        "evaluationDf = evaluationDf.append(evaluationMetrics('VGG11', vgg11Results), ignore_index=True)\n",
        "evaluationDf"
      ]
    },
    {
      "cell_type": "markdown",
      "metadata": {
        "id": "uzZ-EvQgf290"
      },
      "source": [
        "### GoogleNet pretrained model"
      ]
    },
    {
      "cell_type": "code",
      "execution_count": 74,
      "metadata": {
        "colab": {
          "referenced_widgets": [
            "a4fc92f161e34449ba3b9834a7dd0606",
            "b721f14459da41389854a53197c53515",
            "e0a4b0913dff4ae78c4c83f7a7084eec",
            "3dd692cc057946f7ac2bb880cf172746",
            "815ddef6cf614b35b165c2cb8e56d673",
            "6382a51c9104404fa22c89c416226351",
            "1537e19c10584418aaae7fa32f4f9389",
            "0156378303b34165a57cf3cee492d8a7",
            "b51f8c55cc0a49c28f7a1ea0bf1124d6",
            "6acde35de91747ae8affe20a179064d5",
            "70d12cb4e6b54565baef7a2213dd3c76"
          ],
          "base_uri": "https://localhost:8080/",
          "height": 84
        },
        "collapsed": true,
        "id": "kcDG0HSif10w",
        "outputId": "a36913b8-9123-4b2e-b9b6-9a3057ec7477"
      },
      "outputs": [
        {
          "output_type": "stream",
          "name": "stderr",
          "text": [
            "Using cache found in /root/.cache/torch/hub/pytorch_vision_v0.10.0\n",
            "Downloading: \"https://download.pytorch.org/models/googlenet-1378be20.pth\" to /root/.cache/torch/hub/checkpoints/googlenet-1378be20.pth\n"
          ]
        },
        {
          "output_type": "display_data",
          "data": {
            "text/plain": [
              "  0%|          | 0.00/49.7M [00:00<?, ?B/s]"
            ],
            "application/vnd.jupyter.widget-view+json": {
              "version_major": 2,
              "version_minor": 0,
              "model_id": "a4fc92f161e34449ba3b9834a7dd0606"
            }
          },
          "metadata": {}
        }
      ],
      "source": [
        "# load pretrained GoogleNet model\n",
        "googleNet = torch.hub.load('pytorch/vision:v0.10.0', 'googlenet', pretrained=True)\n",
        "# set all parameters to be fixed\n",
        "for parameter in googleNet.parameters():\n",
        "\tparameter.requires_grad = False\n",
        "# modify last layer to have required number of outputs\n",
        "googleNet.fc = nn.Linear(googleNet.fc.in_features, numClasses)\n",
        "# send model to gpu if available\n",
        "googleNet = googleNet.to(device)\n",
        "# initialise optimiser for training the output layer weights only\n",
        "optimiser = torch.optim.Adam(googleNet.fc.parameters(), lr=lr)"
      ]
    },
    {
      "cell_type": "markdown",
      "source": [
        "Training"
      ],
      "metadata": {
        "id": "PmNVr7ppWgfU"
      }
    },
    {
      "cell_type": "code",
      "source": [
        "# train model and store training history\n",
        "googleNetHistory = trainer(googleNet, 10)"
      ],
      "metadata": {
        "id": "P_F3m7ilWhG2",
        "colab": {
          "base_uri": "https://localhost:8080/"
        },
        "outputId": "64bcbedd-9bb2-4b00-a44f-ce6443952b11"
      },
      "execution_count": 75,
      "outputs": [
        {
          "output_type": "stream",
          "name": "stderr",
          "text": [
            "/usr/local/lib/python3.7/dist-packages/torch/nn/functional.py:780: UserWarning: Note that order of the arguments: ceil_mode and return_indices will changeto match the args list in nn.MaxPool2d in a future release.\n",
            "  warnings.warn(\"Note that order of the arguments: ceil_mode and return_indices will change\"\n"
          ]
        },
        {
          "output_type": "stream",
          "name": "stdout",
          "text": [
            "Epoch: 1. Time taken: 4mins19s\n",
            "Training loss: 1.16 --- Validation loss: 1.19 --- Training accuracy: 23.74% --- Validation accuracy: 11.71%\n",
            "Epoch: 2. Time taken: 4mins20s\n",
            "Training loss: 1.16 --- Validation loss: 1.19 --- Training accuracy: 23.76% --- Validation accuracy: 14.98%\n",
            "Epoch: 3. Time taken: 4mins18s\n",
            "Training loss: 1.16 --- Validation loss: 1.16 --- Training accuracy: 22.90% --- Validation accuracy: 19.35%\n",
            "Epoch: 4. Time taken: 4mins17s\n",
            "Training loss: 1.16 --- Validation loss: 1.16 --- Training accuracy: 23.02% --- Validation accuracy: 19.64%\n",
            "Epoch: 5. Time taken: 4mins16s\n",
            "Training loss: 1.16 --- Validation loss: 1.16 --- Training accuracy: 23.42% --- Validation accuracy: 20.24%\n",
            "Epoch: 6. Time taken: 4mins15s\n",
            "Training loss: 1.16 --- Validation loss: 1.16 --- Training accuracy: 23.84% --- Validation accuracy: 18.95%\n",
            "Epoch: 7. Time taken: 4mins14s\n",
            "Training loss: 1.16 --- Validation loss: 1.16 --- Training accuracy: 23.74% --- Validation accuracy: 19.94%\n",
            "Epoch: 8. Time taken: 4mins15s\n",
            "Training loss: 1.16 --- Validation loss: 1.16 --- Training accuracy: 23.86% --- Validation accuracy: 18.35%\n",
            "Epoch: 9. Time taken: 4mins17s\n",
            "Training loss: 1.16 --- Validation loss: 1.16 --- Training accuracy: 23.76% --- Validation accuracy: 19.05%\n",
            "Epoch: 10. Time taken: 4mins32s\n",
            "Training loss: 1.16 --- Validation loss: 1.16 --- Training accuracy: 23.64% --- Validation accuracy: 19.25%\n"
          ]
        }
      ]
    },
    {
      "cell_type": "code",
      "source": [
        "# create dataframe from results dictionary\n",
        "df = pd.DataFrame(googleNetHistory)\n",
        "df = df.reset_index()\n",
        "df = df.rename(columns={'index':'Epoch'})\n",
        "# change results to a long form for plotting\n",
        "dfLoss = df.rename(columns={'trainLoss':'Training',\t'validLoss':'Validation'})\n",
        "dfLoss = pd.melt(\n",
        "    dfLoss,\n",
        "    id_vars=['Epoch'],\n",
        "    value_vars=['Training', 'Validation'],\n",
        "    var_name='Split',\n",
        "    value_name='Loss',)\n",
        "\n",
        "dfAcc = df.rename(columns={'trainAccuracy':'Training',\t'validAccuracy':'Validation'})\n",
        "dfAcc = pd.melt(dfAcc,\n",
        "                 id_vars=['Epoch'],\n",
        "                 value_vars=['Training', 'Validation'],\n",
        "                var_name='Split',\n",
        "                 value_name='Accuracy (%)',)\n",
        "\n",
        "dfLoss = dfLoss.set_index(['Split', 'Epoch'])\n",
        "dfLong = dfAcc.copy()\n",
        "# join loss and accuracy long form dataframes back together\n",
        "dfLong = dfLong.join(dfLoss, on=['Split', 'Epoch'])"
      ],
      "metadata": {
        "id": "04zwXWN1WpoZ"
      },
      "execution_count": 101,
      "outputs": []
    },
    {
      "cell_type": "code",
      "source": [
        "# create training performance figure\n",
        "fig, axs = plt.subplots(1, 2, figsize=(8, 4))\n",
        "# plot loss\n",
        "sns.lineplot(ax=axs[0], data=dfLong, x='Epoch', y='Loss', hue='Split')\n",
        "# plot accuracy\n",
        "sns.lineplot(ax=axs[1], data=dfLong, x='Epoch', y='Accuracy (%)', hue='Split')\n",
        "axs[1].get_legend().remove()\n",
        "# add title\n",
        "fig.suptitle('GoogleNet training', fontsize=12)\n",
        "\n",
        "fig.savefig('googleNetTraining', bbox_inches='tight')\n",
        "plt.show()  "
      ],
      "metadata": {
        "id": "WImymvOfWyjo",
        "colab": {
          "base_uri": "https://localhost:8080/",
          "height": 308
        },
        "outputId": "9629549c-cef0-4cc7-ffac-9cd512ef1253"
      },
      "execution_count": 102,
      "outputs": [
        {
          "output_type": "display_data",
          "data": {
            "text/plain": [
              "<Figure size 576x288 with 2 Axes>"
            ],
            "image/png": "[encoded data removed]"
          },
          "metadata": {
            "needs_background": "light"
          }
        }
      ]
    },
    {
      "cell_type": "markdown",
      "source": [
        "Testing"
      ],
      "metadata": {
        "id": "sANgia5WW3GN"
      }
    },
    {
      "cell_type": "code",
      "source": [
        "# test model and store results\n",
        "googleNetResults = tester(googleNet)"
      ],
      "metadata": {
        "id": "6hJ5pC3HW3qz",
        "colab": {
          "base_uri": "https://localhost:8080/"
        },
        "outputId": "a43992e7-d837-4de4-dc28-98010034ee51"
      },
      "execution_count": 91,
      "outputs": [
        {
          "output_type": "stream",
          "name": "stderr",
          "text": [
            "/usr/local/lib/python3.7/dist-packages/torch/nn/functional.py:780: UserWarning: Note that order of the arguments: ceil_mode and return_indices will changeto match the args list in nn.MaxPool2d in a future release.\n",
            "  warnings.warn(\"Note that order of the arguments: ceil_mode and return_indices will change\"\n"
          ]
        }
      ]
    },
    {
      "cell_type": "markdown",
      "source": [
        "Evaluation"
      ],
      "metadata": {
        "id": "M5jBcEJFW_Tm"
      }
    },
    {
      "cell_type": "code",
      "source": [
        "# labelList = [key for key in labelMap.keys()]\n",
        "labelList"
      ],
      "metadata": {
        "colab": {
          "base_uri": "https://localhost:8080/"
        },
        "id": "g58OnOszLfLQ",
        "outputId": "6344625e-d939-47c1-b43f-f19c64fe02bd"
      },
      "execution_count": 93,
      "outputs": [
        {
          "output_type": "execute_result",
          "data": {
            "text/plain": [
              "['COVID19', 'NORMAL', 'PNEUMONIA']"
            ]
          },
          "metadata": {},
          "execution_count": 93
        }
      ]
    },
    {
      "cell_type": "code",
      "source": [
        "# create figure for confusion matrix\n",
        "fig, ax = plt.subplots(figsize=(4, 4))\n",
        "# create confusion matrix display\n",
        "gNetCM = ConfusionMatrixDisplay(    \n",
        "    confusion_matrix=confusion_matrix(googleNetResults[:,0],googleNetResults[:,1]),\n",
        "    display_labels=labelList)\n",
        "# plot confusion matrix\n",
        "gNetCM.plot(ax=ax,\n",
        "             colorbar=False,\n",
        "             cmap='cividis')\n",
        "\n",
        "# add title\n",
        "fig.suptitle('GoogleNet Confusion Matrix', fontsize=12)\n",
        "\n",
        "fig.savefig('googleNetConfMat', bbox_inches='tight')\n",
        "plt.show()"
      ],
      "metadata": {
        "id": "zwslcNdtXAXw",
        "colab": {
          "base_uri": "https://localhost:8080/",
          "height": 308
        },
        "outputId": "9486ed0d-1dbf-4517-c2dc-a286cc5236ea"
      },
      "execution_count": 103,
      "outputs": [
        {
          "output_type": "display_data",
          "data": {
            "text/plain": [
              "<Figure size 288x288 with 1 Axes>"
            ],
            "image/png": "[encoded data removed]"
          },
          "metadata": {
            "needs_background": "light"
          }
        }
      ]
    },
    {
      "cell_type": "code",
      "source": [
        "evaluationDf = evaluationDf.append(evaluationMetrics('GoogleNet', googleNetResults), ignore_index=True)\n",
        "evaluationDf"
      ],
      "metadata": {
        "colab": {
          "base_uri": "https://localhost:8080/",
          "height": 112
        },
        "id": "VQ65dIDcLlYJ",
        "outputId": "979ced07-b563-401b-e6cd-a3dba5c18ee5"
      },
      "execution_count": 94,
      "outputs": [
        {
          "output_type": "execute_result",
          "data": {
            "text/plain": [
              "       Model  Accuracy  Precision    Recall   F-Score\n",
              "0      VGG11  0.282900   0.355854  0.282900  0.293360\n",
              "1  GoogleNet  0.183609   0.499300  0.183609  0.209369"
            ],
            "text/html": [
              "\n",
              "  <div id=\"df-5ef13dcf-a458-4d1e-8514-bf02f5a1c24a\">\n",
              "    <div class=\"colab-df-container\">\n",
              "      <div>\n",
              "<style scoped>\n",
              "    .dataframe tbody tr th:only-of-type {\n",
              "        vertical-align: middle;\n",
              "    }\n",
              "\n",
              "    .dataframe tbody tr th {\n",
              "        vertical-align: top;\n",
              "    }\n",
              "\n",
              "    .dataframe thead th {\n",
              "        text-align: right;\n",
              "    }\n",
              "</style>\n",
              "<table border=\"1\" class=\"dataframe\">\n",
              "  <thead>\n",
              "    <tr style=\"text-align: right;\">\n",
              "      <th></th>\n",
              "      <th>Model</th>\n",
              "      <th>Accuracy</th>\n",
              "      <th>Precision</th>\n",
              "      <th>Recall</th>\n",
              "      <th>F-Score</th>\n",
              "    </tr>\n",
              "  </thead>\n",
              "  <tbody>\n",
              "    <tr>\n",
              "      <th>0</th>\n",
              "      <td>VGG11</td>\n",
              "      <td>0.282900</td>\n",
              "      <td>0.355854</td>\n",
              "      <td>0.282900</td>\n",
              "      <td>0.293360</td>\n",
              "    </tr>\n",
              "    <tr>\n",
              "      <th>1</th>\n",
              "      <td>GoogleNet</td>\n",
              "      <td>0.183609</td>\n",
              "      <td>0.499300</td>\n",
              "      <td>0.183609</td>\n",
              "      <td>0.209369</td>\n",
              "    </tr>\n",
              "  </tbody>\n",
              "</table>\n",
              "</div>\n",
              "      <button class=\"colab-df-convert\" onclick=\"convertToInteractive('df-5ef13dcf-a458-4d1e-8514-bf02f5a1c24a')\"\n",
              "              title=\"Convert this dataframe to an interactive table.\"\n",
              "              style=\"display:none;\">\n",
              "        \n",
              "  <svg xmlns=\"http://www.w3.org/2000/svg\" height=\"24px\"viewBox=\"0 0 24 24\"\n",
              "       width=\"24px\">\n",
              "    <path d=\"M0 0h24v24H0V0z\" fill=\"none\"/>\n",
              "    <path d=\"M18.56 5.44l.94 2.06.94-2.06 2.06-.94-2.06-.94-.94-2.06-.94 2.06-2.06.94zm-11 1L8.5 8.5l.94-2.06 2.06-.94-2.06-.94L8.5 2.5l-.94 2.06-2.06.94zm10 10l.94 2.06.94-2.06 2.06-.94-2.06-.94-.94-2.06-.94 2.06-2.06.94z\"/><path d=\"M17.41 7.96l-1.37-1.37c-.4-.4-.92-.59-1.43-.59-.52 0-1.04.2-1.43.59L10.3 9.45l-7.72 7.72c-.78.78-.78 2.05 0 2.83L4 21.41c.39.39.9.59 1.41.59.51 0 1.02-.2 1.41-.59l7.78-7.78 2.81-2.81c.8-.78.8-2.07 0-2.86zM5.41 20L4 18.59l7.72-7.72 1.47 1.35L5.41 20z\"/>\n",
              "  </svg>\n",
              "      </button>\n",
              "      \n",
              "  <style>\n",
              "    .colab-df-container {\n",
              "      display:flex;\n",
              "      flex-wrap:wrap;\n",
              "      gap: 12px;\n",
              "    }\n",
              "\n",
              "    .colab-df-convert {\n",
              "      background-color: #E8F0FE;\n",
              "      border: none;\n",
              "      border-radius: 50%;\n",
              "      cursor: pointer;\n",
              "      display: none;\n",
              "      fill: #1967D2;\n",
              "      height: 32px;\n",
              "      padding: 0 0 0 0;\n",
              "      width: 32px;\n",
              "    }\n",
              "\n",
              "    .colab-df-convert:hover {\n",
              "      background-color: #E2EBFA;\n",
              "      box-shadow: 0px 1px 2px rgba(60, 64, 67, 0.3), 0px 1px 3px 1px rgba(60, 64, 67, 0.15);\n",
              "      fill: #174EA6;\n",
              "    }\n",
              "\n",
              "    [theme=dark] .colab-df-convert {\n",
              "      background-color: #3B4455;\n",
              "      fill: #D2E3FC;\n",
              "    }\n",
              "\n",
              "    [theme=dark] .colab-df-convert:hover {\n",
              "      background-color: #434B5C;\n",
              "      box-shadow: 0px 1px 3px 1px rgba(0, 0, 0, 0.15);\n",
              "      filter: drop-shadow(0px 1px 2px rgba(0, 0, 0, 0.3));\n",
              "      fill: #FFFFFF;\n",
              "    }\n",
              "  </style>\n",
              "\n",
              "      <script>\n",
              "        const buttonEl =\n",
              "          document.querySelector('#df-5ef13dcf-a458-4d1e-8514-bf02f5a1c24a button.colab-df-convert');\n",
              "        buttonEl.style.display =\n",
              "          google.colab.kernel.accessAllowed ? 'block' : 'none';\n",
              "\n",
              "        async function convertToInteractive(key) {\n",
              "          const element = document.querySelector('#df-5ef13dcf-a458-4d1e-8514-bf02f5a1c24a');\n",
              "          const dataTable =\n",
              "            await google.colab.kernel.invokeFunction('convertToInteractive',\n",
              "                                                     [key], {});\n",
              "          if (!dataTable) return;\n",
              "\n",
              "          const docLinkHtml = 'Like what you see? Visit the ' +\n",
              "            '<a target=\"_blank\" href=https://colab.research.google.com/notebooks/data_table.ipynb>data table notebook</a>'\n",
              "            + ' to learn more about interactive tables.';\n",
              "          element.innerHTML = '';\n",
              "          dataTable['output_type'] = 'display_data';\n",
              "          await google.colab.output.renderOutput(dataTable, element);\n",
              "          const docLink = document.createElement('div');\n",
              "          docLink.innerHTML = docLinkHtml;\n",
              "          element.appendChild(docLink);\n",
              "        }\n",
              "      </script>\n",
              "    </div>\n",
              "  </div>\n",
              "  "
            ]
          },
          "metadata": {},
          "execution_count": 94
        }
      ]
    }
  ],
  "metadata": {
    "colab": {
      "collapsed_sections": [],
      "name": "COMP534-CA3.ipynb",
      "provenance": [],
      "include_colab_link": true
    },
    "kernelspec": {
      "display_name": "Python 3",
      "name": "python3"
    },
    "language_info": {
      "name": "python"
    },
    "widgets": {
      "application/vnd.jupyter.widget-state+json": {
        "a4fc92f161e34449ba3b9834a7dd0606": {
          "model_module": "@jupyter-widgets/controls",
          "model_name": "HBoxModel",
          "model_module_version": "1.5.0",
          "state": {
            "_dom_classes": [],
            "_model_module": "@jupyter-widgets/controls",
            "_model_module_version": "1.5.0",
            "_model_name": "HBoxModel",
            "_view_count": null,
            "_view_module": "@jupyter-widgets/controls",
            "_view_module_version": "1.5.0",
            "_view_name": "HBoxView",
            "box_style": "",
            "children": [
              "IPY_MODEL_b721f14459da41389854a53197c53515",
              "IPY_MODEL_e0a4b0913dff4ae78c4c83f7a7084eec",
              "IPY_MODEL_3dd692cc057946f7ac2bb880cf172746"
            ],
            "layout": "IPY_MODEL_815ddef6cf614b35b165c2cb8e56d673"
          }
        },
        "b721f14459da41389854a53197c53515": {
          "model_module": "@jupyter-widgets/controls",
          "model_name": "HTMLModel",
          "model_module_version": "1.5.0",
          "state": {
            "_dom_classes": [],
            "_model_module": "@jupyter-widgets/controls",
            "_model_module_version": "1.5.0",
            "_model_name": "HTMLModel",
            "_view_count": null,
            "_view_module": "@jupyter-widgets/controls",
            "_view_module_version": "1.5.0",
            "_view_name": "HTMLView",
            "description": "",
            "description_tooltip": null,
            "layout": "IPY_MODEL_6382a51c9104404fa22c89c416226351",
            "placeholder": "​",
            "style": "IPY_MODEL_1537e19c10584418aaae7fa32f4f9389",
            "value": "100%"
          }
        },
        "e0a4b0913dff4ae78c4c83f7a7084eec": {
          "model_module": "@jupyter-widgets/controls",
          "model_name": "FloatProgressModel",
          "model_module_version": "1.5.0",
          "state": {
            "_dom_classes": [],
            "_model_module": "@jupyter-widgets/controls",
            "_model_module_version": "1.5.0",
            "_model_name": "FloatProgressModel",
            "_view_count": null,
            "_view_module": "@jupyter-widgets/controls",
            "_view_module_version": "1.5.0",
            "_view_name": "ProgressView",
            "bar_style": "success",
            "description": "",
            "description_tooltip": null,
            "layout": "IPY_MODEL_0156378303b34165a57cf3cee492d8a7",
            "max": 52147035,
            "min": 0,
            "orientation": "horizontal",
            "style": "IPY_MODEL_b51f8c55cc0a49c28f7a1ea0bf1124d6",
            "value": 52147035
          }
        },
        "3dd692cc057946f7ac2bb880cf172746": {
          "model_module": "@jupyter-widgets/controls",
          "model_name": "HTMLModel",
          "model_module_version": "1.5.0",
          "state": {
            "_dom_classes": [],
            "_model_module": "@jupyter-widgets/controls",
            "_model_module_version": "1.5.0",
            "_model_name": "HTMLModel",
            "_view_count": null,
            "_view_module": "@jupyter-widgets/controls",
            "_view_module_version": "1.5.0",
            "_view_name": "HTMLView",
            "description": "",
            "description_tooltip": null,
            "layout": "IPY_MODEL_6acde35de91747ae8affe20a179064d5",
            "placeholder": "​",
            "style": "IPY_MODEL_70d12cb4e6b54565baef7a2213dd3c76",
            "value": " 49.7M/49.7M [00:00&lt;00:00, 107MB/s]"
          }
        },
        "815ddef6cf614b35b165c2cb8e56d673": {
          "model_module": "@jupyter-widgets/base",
          "model_name": "LayoutModel",
          "model_module_version": "1.2.0",
          "state": {
            "_model_module": "@jupyter-widgets/base",
            "_model_module_version": "1.2.0",
            "_model_name": "LayoutModel",
            "_view_count": null,
            "_view_module": "@jupyter-widgets/base",
            "_view_module_version": "1.2.0",
            "_view_name": "LayoutView",
            "align_content": null,
            "align_items": null,
            "align_self": null,
            "border": null,
            "bottom": null,
            "display": null,
            "flex": null,
            "flex_flow": null,
            "grid_area": null,
            "grid_auto_columns": null,
            "grid_auto_flow": null,
            "grid_auto_rows": null,
            "grid_column": null,
            "grid_gap": null,
            "grid_row": null,
            "grid_template_areas": null,
            "grid_template_columns": null,
            "grid_template_rows": null,
            "height": null,
            "justify_content": null,
            "justify_items": null,
            "left": null,
            "margin": null,
            "max_height": null,
            "max_width": null,
            "min_height": null,
            "min_width": null,
            "object_fit": null,
            "object_position": null,
            "order": null,
            "overflow": null,
            "overflow_x": null,
            "overflow_y": null,
            "padding": null,
            "right": null,
            "top": null,
            "visibility": null,
            "width": null
          }
        },
        "6382a51c9104404fa22c89c416226351": {
          "model_module": "@jupyter-widgets/base",
          "model_name": "LayoutModel",
          "model_module_version": "1.2.0",
          "state": {
            "_model_module": "@jupyter-widgets/base",
            "_model_module_version": "1.2.0",
            "_model_name": "LayoutModel",
            "_view_count": null,
            "_view_module": "@jupyter-widgets/base",
            "_view_module_version": "1.2.0",
            "_view_name": "LayoutView",
            "align_content": null,
            "align_items": null,
            "align_self": null,
            "border": null,
            "bottom": null,
            "display": null,
            "flex": null,
            "flex_flow": null,
            "grid_area": null,
            "grid_auto_columns": null,
            "grid_auto_flow": null,
            "grid_auto_rows": null,
            "grid_column": null,
            "grid_gap": null,
            "grid_row": null,
            "grid_template_areas": null,
            "grid_template_columns": null,
            "grid_template_rows": null,
            "height": null,
            "justify_content": null,
            "justify_items": null,
            "left": null,
            "margin": null,
            "max_height": null,
            "max_width": null,
            "min_height": null,
            "min_width": null,
            "object_fit": null,
            "object_position": null,
            "order": null,
            "overflow": null,
            "overflow_x": null,
            "overflow_y": null,
            "padding": null,
            "right": null,
            "top": null,
            "visibility": null,
            "width": null
          }
        },
        "1537e19c10584418aaae7fa32f4f9389": {
          "model_module": "@jupyter-widgets/controls",
          "model_name": "DescriptionStyleModel",
          "model_module_version": "1.5.0",
          "state": {
            "_model_module": "@jupyter-widgets/controls",
            "_model_module_version": "1.5.0",
            "_model_name": "DescriptionStyleModel",
            "_view_count": null,
            "_view_module": "@jupyter-widgets/base",
            "_view_module_version": "1.2.0",
            "_view_name": "StyleView",
            "description_width": ""
          }
        },
        "0156378303b34165a57cf3cee492d8a7": {
          "model_module": "@jupyter-widgets/base",
          "model_name": "LayoutModel",
          "model_module_version": "1.2.0",
          "state": {
            "_model_module": "@jupyter-widgets/base",
            "_model_module_version": "1.2.0",
            "_model_name": "LayoutModel",
            "_view_count": null,
            "_view_module": "@jupyter-widgets/base",
            "_view_module_version": "1.2.0",
            "_view_name": "LayoutView",
            "align_content": null,
            "align_items": null,
            "align_self": null,
            "border": null,
            "bottom": null,
            "display": null,
            "flex": null,
            "flex_flow": null,
            "grid_area": null,
            "grid_auto_columns": null,
            "grid_auto_flow": null,
            "grid_auto_rows": null,
            "grid_column": null,
            "grid_gap": null,
            "grid_row": null,
            "grid_template_areas": null,
            "grid_template_columns": null,
            "grid_template_rows": null,
            "height": null,
            "justify_content": null,
            "justify_items": null,
            "left": null,
            "margin": null,
            "max_height": null,
            "max_width": null,
            "min_height": null,
            "min_width": null,
            "object_fit": null,
            "object_position": null,
            "order": null,
            "overflow": null,
            "overflow_x": null,
            "overflow_y": null,
            "padding": null,
            "right": null,
            "top": null,
            "visibility": null,
            "width": null
          }
        },
        "b51f8c55cc0a49c28f7a1ea0bf1124d6": {
          "model_module": "@jupyter-widgets/controls",
          "model_name": "ProgressStyleModel",
          "model_module_version": "1.5.0",
          "state": {
            "_model_module": "@jupyter-widgets/controls",
            "_model_module_version": "1.5.0",
            "_model_name": "ProgressStyleModel",
            "_view_count": null,
            "_view_module": "@jupyter-widgets/base",
            "_view_module_version": "1.2.0",
            "_view_name": "StyleView",
            "bar_color": null,
            "description_width": ""
          }
        },
        "6acde35de91747ae8affe20a179064d5": {
          "model_module": "@jupyter-widgets/base",
          "model_name": "LayoutModel",
          "model_module_version": "1.2.0",
          "state": {
            "_model_module": "@jupyter-widgets/base",
            "_model_module_version": "1.2.0",
            "_model_name": "LayoutModel",
            "_view_count": null,
            "_view_module": "@jupyter-widgets/base",
            "_view_module_version": "1.2.0",
            "_view_name": "LayoutView",
            "align_content": null,
            "align_items": null,
            "align_self": null,
            "border": null,
            "bottom": null,
            "display": null,
            "flex": null,
            "flex_flow": null,
            "grid_area": null,
            "grid_auto_columns": null,
            "grid_auto_flow": null,
            "grid_auto_rows": null,
            "grid_column": null,
            "grid_gap": null,
            "grid_row": null,
            "grid_template_areas": null,
            "grid_template_columns": null,
            "grid_template_rows": null,
            "height": null,
            "justify_content": null,
            "justify_items": null,
            "left": null,
            "margin": null,
            "max_height": null,
            "max_width": null,
            "min_height": null,
            "min_width": null,
            "object_fit": null,
            "object_position": null,
            "order": null,
            "overflow": null,
            "overflow_x": null,
            "overflow_y": null,
            "padding": null,
            "right": null,
            "top": null,
            "visibility": null,
            "width": null
          }
        },
        "70d12cb4e6b54565baef7a2213dd3c76": {
          "model_module": "@jupyter-widgets/controls",
          "model_name": "DescriptionStyleModel",
          "model_module_version": "1.5.0",
          "state": {
            "_model_module": "@jupyter-widgets/controls",
            "_model_module_version": "1.5.0",
            "_model_name": "DescriptionStyleModel",
            "_view_count": null,
            "_view_module": "@jupyter-widgets/base",
            "_view_module_version": "1.2.0",
            "_view_name": "StyleView",
            "description_width": ""
          }
        }
      }
    },
    "accelerator": "GPU"
  },
  "nbformat": 4,
  "nbformat_minor": 0
}